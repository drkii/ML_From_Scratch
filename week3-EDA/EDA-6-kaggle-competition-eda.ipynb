{
 "cells": [
  {
   "cell_type": "markdown",
   "metadata": {},
   "source": [
    "# Summary"
   ]
  },
  {
   "cell_type": "markdown",
   "metadata": {},
   "source": [
    "課題の再提出をする。モデルの評価がきっちりできていなかったのでできるようになっている点がUpdateである。あとは個人的課題。\n",
    "\n",
    "## 個人課題\n",
    "\n",
    "前回は、取り組みはTrainデータをあまりいじらない方向で活動し、Logistics回帰のROCスコアは0.51, Gradient Boosting ClassifierのROCスコアが0.70であった。つまり闇雲に特徴料を打ち込むパターンで行った。その取り組みでの個人的な課題は、\n",
    "   - Kaggleとはいえ、信用スコアリングを相手にした課題なのに、説明変数と目的変数の説明ができないこと\n",
    "   - Kaggleでスコアにつなげられていないこと\n",
    "の二つだった。\n",
    "\n",
    "## 取り組み\n",
    "特に、今回はディフォルトを説明できるようになれないかと考え課題に取り組んだ。\n",
    "\n",
    "\n",
    "参考にする過去の論文（＊）のアプローチをベースに、特徴量をたった19個に絞り込み取り組んだ。Logistics回帰のROCスコアは0.55, Gradient Boosting ClassifierのROCスコアが0.73まで上がった。論文は、そもそも銀行マンが信用スコアリングをする、重視する特徴がいくつかあり、景気のインデックスや、地域差を考慮するとデフォルトを予測しやすくなったというものだった。\n",
    "\n",
    "今回の取り組みにより、一般的な特徴量がここでも説明変数になり得ているのではないかという勘所を得られたと考えている。\n",
    "\n",
    "銀行マンが重視する特徴は、以下であった。\n",
    "\n",
    "- 返済負担率\n",
    "- 借入時年齢\n",
    "- 勤続年数\n",
    "- 完済時年齢\n",
    "- 年収\n",
    "- 健康状態\n",
    "- 担保評価\n",
    "- 連帯保証\n",
    "- 雇用形態\n",
    "- 地域\n",
    "- 景気インデックス\n",
    "\n",
    "\n",
    "今回は上記に似た特徴量を選択して取り組んだ。\n",
    "直接的になかった特徴量は、今与えられている特徴を計算して割り出すアプローチにした。\n",
    "\n",
    "- 返済負担率 :AMT_INCOME_TOTALとAMT_ANNUITYとAMT_GOODS_PRICEから、自己資金率を作成\n",
    "- 借入時年齢 :与えられているがDaysだったので、年に直した。\n",
    "- 勤続年数   :与えられているがDaysだったので、年に直した。\n",
    "- 完済時年齢 :AMT_CREDITをAMT_INCOME_TOTALで割って出した（収入の25％を支払いに当てるとした）\n",
    "- 年収       :与えられている\n",
    "- 健康状態   :なし\n",
    "- 担保評価   :AMT_GOODS_PRICEを利用\n",
    "- 連帯保証   :なし\n",
    "- 雇用形態   :ORGANIZATION_TYPEとOCCUPATION_TYPEで代用\n",
    "- 地域     :REGION_POPULATIONという人口密集地域を指すデータをカテゴリカルデータにして代用\n",
    "- 景気インデックス：なし\n",
    "\n",
    "\n",
    "結果、参照した特徴量は以下の19である。\n",
    "\n",
    "'CODE_GENDER'\n",
    "'NAME_CONTRACT_TYPE',\n",
    "'Cap_Adeq_Ratio', \n",
    "'Acid_Ratio', \n",
    "'Age_of_Completion',\n",
    "'Years_Old', \n",
    "'Years_Employed',\n",
    "'Lifetime_employed_Ratio',\n",
    "'Period_of_Payment',\n",
    "'OCCUPATION_TYPE', \n",
    "'ORGANIZATION_TYPE',\n",
    "'NAME_INCOME_TYPE',\n",
    "'REGION_POPULATION', \n",
    "'REGION_RATING_CLIENT',\n",
    "'REGION_RATING_CLIENT_W_CITY', \n",
    "'EXT_SOURCE_1', \n",
    "'EXT_SOURCE_2', \n",
    "'EXT_SOURCE_3',\n",
    "\n",
    "\n",
    "\n",
    "## 論文\n",
    "https://www.terrapub.co.jp/journals/jjssj/pdf/4201/42010025.pdf。\n",
    "\n"
   ]
  },
  {
   "cell_type": "markdown",
   "metadata": {},
   "source": [
    "# Importする"
   ]
  },
  {
   "cell_type": "code",
   "execution_count": 395,
   "metadata": {},
   "outputs": [],
   "source": [
    "# importing modules to \n",
    "%matplotlib inline\n",
    "import numpy as np\n",
    "import matplotlib.pyplot as plt\n",
    "import seaborn as sns\n",
    "from matplotlib.colors import ListedColormap\n",
    "import pandas as pd\n",
    "from scipy.stats import norm, skew\n",
    "from sklearn import ensemble, metrics\n",
    "from sklearn import linear_model, preprocessing\n",
    "from sklearn.model_selection import cross_val_score, cross_val_predict\n",
    "#from sklearn.model_selection import GridSearchCV, KFold\n",
    "from sklearn.model_selection import ShuffleSplit\n",
    "from sklearn.kernel_ridge import KernelRidge\n",
    "from sklearn.preprocessing import LabelEncoder\n",
    "import xgboost as xgb"
   ]
  },
  {
   "cell_type": "markdown",
   "metadata": {},
   "source": [
    "# CSVの中身を引っ張りましょう"
   ]
  },
  {
   "cell_type": "code",
   "execution_count": 396,
   "metadata": {
    "scrolled": true
   },
   "outputs": [],
   "source": [
    "import pandas as pd\n",
    "train = pd.read_csv('./application_train.csv')\n",
    "test = pd.read_csv('./application_test.csv')\n",
    "\n"
   ]
  },
  {
   "cell_type": "markdown",
   "metadata": {},
   "source": [
    "# CSVの情報を知ります"
   ]
  },
  {
   "cell_type": "code",
   "execution_count": 397,
   "metadata": {
    "scrolled": true
   },
   "outputs": [
    {
     "name": "stdout",
     "output_type": "stream",
     "text": [
      "<class 'pandas.core.frame.DataFrame'>\n",
      "RangeIndex: 307511 entries, 0 to 307510\n",
      "Columns: 122 entries, SK_ID_CURR to AMT_REQ_CREDIT_BUREAU_YEAR\n",
      "dtypes: float64(65), int64(41), object(16)\n",
      "memory usage: 286.2+ MB\n"
     ]
    }
   ],
   "source": [
    "train.info()"
   ]
  },
  {
   "cell_type": "code",
   "execution_count": 425,
   "metadata": {},
   "outputs": [
    {
     "name": "stdout",
     "output_type": "stream",
     "text": [
      "<class 'pandas.core.frame.DataFrame'>\n",
      "Int64Index: 48744 entries, 307511 to 356254\n",
      "Columns: 115 entries, SK_ID_CURR to REGION_RATING_CLIENT_W_CITY_3\n",
      "dtypes: float64(10), int64(2), uint8(103)\n",
      "memory usage: 9.6 MB\n"
     ]
    }
   ],
   "source": [
    "test.info()"
   ]
  },
  {
   "cell_type": "markdown",
   "metadata": {},
   "source": [
    "# 前処理"
   ]
  },
  {
   "cell_type": "markdown",
   "metadata": {},
   "source": [
    "前処理の方針：Trainデータだけで122特徴量あり、またTestデータが別のIDで存在していると考えられたため、Mergeすることにして、トレーニングとテストで同じ条件で使えるデータを増やす。とくにテストデータでも同じ条件で使いたいため。"
   ]
  },
  {
   "cell_type": "code",
   "execution_count": 398,
   "metadata": {},
   "outputs": [
    {
     "data": {
      "text/plain": [
       "(356255, 122)"
      ]
     },
     "execution_count": 398,
     "metadata": {},
     "output_type": "execute_result"
    }
   ],
   "source": [
    "# reset_indexのなかのdrop=Trueを使うことで、前の特徴のNamingを踏襲する。\n",
    "train_test = train.append(test).reset_index(drop=True)\n",
    "train_test.shape"
   ]
  },
  {
   "cell_type": "code",
   "execution_count": 399,
   "metadata": {},
   "outputs": [
    {
     "data": {
      "text/html": [
       "<div>\n",
       "<table border=\"1\" class=\"dataframe\">\n",
       "  <thead>\n",
       "    <tr style=\"text-align: right;\">\n",
       "      <th></th>\n",
       "      <th>AMT_ANNUITY</th>\n",
       "      <th>AMT_CREDIT</th>\n",
       "      <th>AMT_GOODS_PRICE</th>\n",
       "      <th>AMT_INCOME_TOTAL</th>\n",
       "      <th>AMT_REQ_CREDIT_BUREAU_DAY</th>\n",
       "      <th>AMT_REQ_CREDIT_BUREAU_HOUR</th>\n",
       "      <th>AMT_REQ_CREDIT_BUREAU_MON</th>\n",
       "      <th>AMT_REQ_CREDIT_BUREAU_QRT</th>\n",
       "      <th>AMT_REQ_CREDIT_BUREAU_WEEK</th>\n",
       "      <th>AMT_REQ_CREDIT_BUREAU_YEAR</th>\n",
       "      <th>...</th>\n",
       "      <th>TARGET</th>\n",
       "      <th>TOTALAREA_MODE</th>\n",
       "      <th>WALLSMATERIAL_MODE</th>\n",
       "      <th>WEEKDAY_APPR_PROCESS_START</th>\n",
       "      <th>YEARS_BEGINEXPLUATATION_AVG</th>\n",
       "      <th>YEARS_BEGINEXPLUATATION_MEDI</th>\n",
       "      <th>YEARS_BEGINEXPLUATATION_MODE</th>\n",
       "      <th>YEARS_BUILD_AVG</th>\n",
       "      <th>YEARS_BUILD_MEDI</th>\n",
       "      <th>YEARS_BUILD_MODE</th>\n",
       "    </tr>\n",
       "  </thead>\n",
       "  <tbody>\n",
       "    <tr>\n",
       "      <th>0</th>\n",
       "      <td>24700.5</td>\n",
       "      <td>406597.5</td>\n",
       "      <td>351000.0</td>\n",
       "      <td>202500.0</td>\n",
       "      <td>0.0</td>\n",
       "      <td>0.0</td>\n",
       "      <td>0.0</td>\n",
       "      <td>0.0</td>\n",
       "      <td>0.0</td>\n",
       "      <td>1.0</td>\n",
       "      <td>...</td>\n",
       "      <td>1.0</td>\n",
       "      <td>0.0149</td>\n",
       "      <td>Stone, brick</td>\n",
       "      <td>WEDNESDAY</td>\n",
       "      <td>0.9722</td>\n",
       "      <td>0.9722</td>\n",
       "      <td>0.9722</td>\n",
       "      <td>0.6192</td>\n",
       "      <td>0.6243</td>\n",
       "      <td>0.6341</td>\n",
       "    </tr>\n",
       "    <tr>\n",
       "      <th>1</th>\n",
       "      <td>35698.5</td>\n",
       "      <td>1293502.5</td>\n",
       "      <td>1129500.0</td>\n",
       "      <td>270000.0</td>\n",
       "      <td>0.0</td>\n",
       "      <td>0.0</td>\n",
       "      <td>0.0</td>\n",
       "      <td>0.0</td>\n",
       "      <td>0.0</td>\n",
       "      <td>0.0</td>\n",
       "      <td>...</td>\n",
       "      <td>0.0</td>\n",
       "      <td>0.0714</td>\n",
       "      <td>Block</td>\n",
       "      <td>MONDAY</td>\n",
       "      <td>0.9851</td>\n",
       "      <td>0.9851</td>\n",
       "      <td>0.9851</td>\n",
       "      <td>0.7960</td>\n",
       "      <td>0.7987</td>\n",
       "      <td>0.8040</td>\n",
       "    </tr>\n",
       "    <tr>\n",
       "      <th>2</th>\n",
       "      <td>6750.0</td>\n",
       "      <td>135000.0</td>\n",
       "      <td>135000.0</td>\n",
       "      <td>67500.0</td>\n",
       "      <td>0.0</td>\n",
       "      <td>0.0</td>\n",
       "      <td>0.0</td>\n",
       "      <td>0.0</td>\n",
       "      <td>0.0</td>\n",
       "      <td>0.0</td>\n",
       "      <td>...</td>\n",
       "      <td>0.0</td>\n",
       "      <td>NaN</td>\n",
       "      <td>NaN</td>\n",
       "      <td>MONDAY</td>\n",
       "      <td>NaN</td>\n",
       "      <td>NaN</td>\n",
       "      <td>NaN</td>\n",
       "      <td>NaN</td>\n",
       "      <td>NaN</td>\n",
       "      <td>NaN</td>\n",
       "    </tr>\n",
       "    <tr>\n",
       "      <th>3</th>\n",
       "      <td>29686.5</td>\n",
       "      <td>312682.5</td>\n",
       "      <td>297000.0</td>\n",
       "      <td>135000.0</td>\n",
       "      <td>NaN</td>\n",
       "      <td>NaN</td>\n",
       "      <td>NaN</td>\n",
       "      <td>NaN</td>\n",
       "      <td>NaN</td>\n",
       "      <td>NaN</td>\n",
       "      <td>...</td>\n",
       "      <td>0.0</td>\n",
       "      <td>NaN</td>\n",
       "      <td>NaN</td>\n",
       "      <td>WEDNESDAY</td>\n",
       "      <td>NaN</td>\n",
       "      <td>NaN</td>\n",
       "      <td>NaN</td>\n",
       "      <td>NaN</td>\n",
       "      <td>NaN</td>\n",
       "      <td>NaN</td>\n",
       "    </tr>\n",
       "    <tr>\n",
       "      <th>4</th>\n",
       "      <td>21865.5</td>\n",
       "      <td>513000.0</td>\n",
       "      <td>513000.0</td>\n",
       "      <td>121500.0</td>\n",
       "      <td>0.0</td>\n",
       "      <td>0.0</td>\n",
       "      <td>0.0</td>\n",
       "      <td>0.0</td>\n",
       "      <td>0.0</td>\n",
       "      <td>0.0</td>\n",
       "      <td>...</td>\n",
       "      <td>0.0</td>\n",
       "      <td>NaN</td>\n",
       "      <td>NaN</td>\n",
       "      <td>THURSDAY</td>\n",
       "      <td>NaN</td>\n",
       "      <td>NaN</td>\n",
       "      <td>NaN</td>\n",
       "      <td>NaN</td>\n",
       "      <td>NaN</td>\n",
       "      <td>NaN</td>\n",
       "    </tr>\n",
       "  </tbody>\n",
       "</table>\n",
       "<p>5 rows × 122 columns</p>\n",
       "</div>"
      ],
      "text/plain": [
       "   AMT_ANNUITY  AMT_CREDIT  AMT_GOODS_PRICE  AMT_INCOME_TOTAL  \\\n",
       "0      24700.5    406597.5         351000.0          202500.0   \n",
       "1      35698.5   1293502.5        1129500.0          270000.0   \n",
       "2       6750.0    135000.0         135000.0           67500.0   \n",
       "3      29686.5    312682.5         297000.0          135000.0   \n",
       "4      21865.5    513000.0         513000.0          121500.0   \n",
       "\n",
       "   AMT_REQ_CREDIT_BUREAU_DAY  AMT_REQ_CREDIT_BUREAU_HOUR  \\\n",
       "0                        0.0                         0.0   \n",
       "1                        0.0                         0.0   \n",
       "2                        0.0                         0.0   \n",
       "3                        NaN                         NaN   \n",
       "4                        0.0                         0.0   \n",
       "\n",
       "   AMT_REQ_CREDIT_BUREAU_MON  AMT_REQ_CREDIT_BUREAU_QRT  \\\n",
       "0                        0.0                        0.0   \n",
       "1                        0.0                        0.0   \n",
       "2                        0.0                        0.0   \n",
       "3                        NaN                        NaN   \n",
       "4                        0.0                        0.0   \n",
       "\n",
       "   AMT_REQ_CREDIT_BUREAU_WEEK  AMT_REQ_CREDIT_BUREAU_YEAR        ...         \\\n",
       "0                         0.0                         1.0        ...          \n",
       "1                         0.0                         0.0        ...          \n",
       "2                         0.0                         0.0        ...          \n",
       "3                         NaN                         NaN        ...          \n",
       "4                         0.0                         0.0        ...          \n",
       "\n",
       "   TARGET  TOTALAREA_MODE  WALLSMATERIAL_MODE  WEEKDAY_APPR_PROCESS_START  \\\n",
       "0     1.0          0.0149        Stone, brick                   WEDNESDAY   \n",
       "1     0.0          0.0714               Block                      MONDAY   \n",
       "2     0.0             NaN                 NaN                      MONDAY   \n",
       "3     0.0             NaN                 NaN                   WEDNESDAY   \n",
       "4     0.0             NaN                 NaN                    THURSDAY   \n",
       "\n",
       "   YEARS_BEGINEXPLUATATION_AVG  YEARS_BEGINEXPLUATATION_MEDI  \\\n",
       "0                       0.9722                        0.9722   \n",
       "1                       0.9851                        0.9851   \n",
       "2                          NaN                           NaN   \n",
       "3                          NaN                           NaN   \n",
       "4                          NaN                           NaN   \n",
       "\n",
       "   YEARS_BEGINEXPLUATATION_MODE  YEARS_BUILD_AVG YEARS_BUILD_MEDI  \\\n",
       "0                        0.9722           0.6192           0.6243   \n",
       "1                        0.9851           0.7960           0.7987   \n",
       "2                           NaN              NaN              NaN   \n",
       "3                           NaN              NaN              NaN   \n",
       "4                           NaN              NaN              NaN   \n",
       "\n",
       "   YEARS_BUILD_MODE  \n",
       "0            0.6341  \n",
       "1            0.8040  \n",
       "2               NaN  \n",
       "3               NaN  \n",
       "4               NaN  \n",
       "\n",
       "[5 rows x 122 columns]"
      ]
     },
     "execution_count": 399,
     "metadata": {},
     "output_type": "execute_result"
    }
   ],
   "source": [
    "train_test.head()"
   ]
  },
  {
   "cell_type": "markdown",
   "metadata": {},
   "source": [
    "## 特徴量選択"
   ]
  },
  {
   "cell_type": "code",
   "execution_count": 400,
   "metadata": {
    "scrolled": true
   },
   "outputs": [
    {
     "data": {
      "text/html": [
       "<div>\n",
       "<table border=\"1\" class=\"dataframe\">\n",
       "  <thead>\n",
       "    <tr style=\"text-align: right;\">\n",
       "      <th></th>\n",
       "      <th>SK_ID_CURR</th>\n",
       "      <th>CODE_GENDER</th>\n",
       "      <th>NAME_CONTRACT_TYPE</th>\n",
       "      <th>AMT_INCOME_TOTAL</th>\n",
       "      <th>AMT_CREDIT</th>\n",
       "      <th>AMT_ANNUITY</th>\n",
       "      <th>AMT_GOODS_PRICE</th>\n",
       "      <th>DAYS_EMPLOYED</th>\n",
       "      <th>DAYS_BIRTH</th>\n",
       "      <th>OCCUPATION_TYPE</th>\n",
       "      <th>...</th>\n",
       "      <th>NAME_INCOME_TYPE</th>\n",
       "      <th>DAYS_REGISTRATION</th>\n",
       "      <th>DAYS_ID_PUBLISH</th>\n",
       "      <th>REGION_POPULATION_RELATIVE</th>\n",
       "      <th>REGION_RATING_CLIENT</th>\n",
       "      <th>REGION_RATING_CLIENT_W_CITY</th>\n",
       "      <th>EXT_SOURCE_1</th>\n",
       "      <th>EXT_SOURCE_2</th>\n",
       "      <th>EXT_SOURCE_3</th>\n",
       "      <th>TARGET</th>\n",
       "    </tr>\n",
       "  </thead>\n",
       "  <tbody>\n",
       "    <tr>\n",
       "      <th>0</th>\n",
       "      <td>100002</td>\n",
       "      <td>M</td>\n",
       "      <td>Cash loans</td>\n",
       "      <td>202500.0</td>\n",
       "      <td>406597.5</td>\n",
       "      <td>24700.5</td>\n",
       "      <td>351000.0</td>\n",
       "      <td>-637</td>\n",
       "      <td>-9461</td>\n",
       "      <td>Laborers</td>\n",
       "      <td>...</td>\n",
       "      <td>Working</td>\n",
       "      <td>-3648.0</td>\n",
       "      <td>-2120</td>\n",
       "      <td>0.018801</td>\n",
       "      <td>2</td>\n",
       "      <td>2</td>\n",
       "      <td>0.083037</td>\n",
       "      <td>0.262949</td>\n",
       "      <td>0.139376</td>\n",
       "      <td>1.0</td>\n",
       "    </tr>\n",
       "    <tr>\n",
       "      <th>1</th>\n",
       "      <td>100003</td>\n",
       "      <td>F</td>\n",
       "      <td>Cash loans</td>\n",
       "      <td>270000.0</td>\n",
       "      <td>1293502.5</td>\n",
       "      <td>35698.5</td>\n",
       "      <td>1129500.0</td>\n",
       "      <td>-1188</td>\n",
       "      <td>-16765</td>\n",
       "      <td>Core staff</td>\n",
       "      <td>...</td>\n",
       "      <td>State servant</td>\n",
       "      <td>-1186.0</td>\n",
       "      <td>-291</td>\n",
       "      <td>0.003541</td>\n",
       "      <td>1</td>\n",
       "      <td>1</td>\n",
       "      <td>0.311267</td>\n",
       "      <td>0.622246</td>\n",
       "      <td>NaN</td>\n",
       "      <td>0.0</td>\n",
       "    </tr>\n",
       "    <tr>\n",
       "      <th>2</th>\n",
       "      <td>100004</td>\n",
       "      <td>M</td>\n",
       "      <td>Revolving loans</td>\n",
       "      <td>67500.0</td>\n",
       "      <td>135000.0</td>\n",
       "      <td>6750.0</td>\n",
       "      <td>135000.0</td>\n",
       "      <td>-225</td>\n",
       "      <td>-19046</td>\n",
       "      <td>Laborers</td>\n",
       "      <td>...</td>\n",
       "      <td>Working</td>\n",
       "      <td>-4260.0</td>\n",
       "      <td>-2531</td>\n",
       "      <td>0.010032</td>\n",
       "      <td>2</td>\n",
       "      <td>2</td>\n",
       "      <td>NaN</td>\n",
       "      <td>0.555912</td>\n",
       "      <td>0.729567</td>\n",
       "      <td>0.0</td>\n",
       "    </tr>\n",
       "    <tr>\n",
       "      <th>3</th>\n",
       "      <td>100006</td>\n",
       "      <td>F</td>\n",
       "      <td>Cash loans</td>\n",
       "      <td>135000.0</td>\n",
       "      <td>312682.5</td>\n",
       "      <td>29686.5</td>\n",
       "      <td>297000.0</td>\n",
       "      <td>-3039</td>\n",
       "      <td>-19005</td>\n",
       "      <td>Laborers</td>\n",
       "      <td>...</td>\n",
       "      <td>Working</td>\n",
       "      <td>-9833.0</td>\n",
       "      <td>-2437</td>\n",
       "      <td>0.008019</td>\n",
       "      <td>2</td>\n",
       "      <td>2</td>\n",
       "      <td>NaN</td>\n",
       "      <td>0.650442</td>\n",
       "      <td>NaN</td>\n",
       "      <td>0.0</td>\n",
       "    </tr>\n",
       "    <tr>\n",
       "      <th>4</th>\n",
       "      <td>100007</td>\n",
       "      <td>M</td>\n",
       "      <td>Cash loans</td>\n",
       "      <td>121500.0</td>\n",
       "      <td>513000.0</td>\n",
       "      <td>21865.5</td>\n",
       "      <td>513000.0</td>\n",
       "      <td>-3038</td>\n",
       "      <td>-19932</td>\n",
       "      <td>Core staff</td>\n",
       "      <td>...</td>\n",
       "      <td>Working</td>\n",
       "      <td>-4311.0</td>\n",
       "      <td>-3458</td>\n",
       "      <td>0.028663</td>\n",
       "      <td>2</td>\n",
       "      <td>2</td>\n",
       "      <td>NaN</td>\n",
       "      <td>0.322738</td>\n",
       "      <td>NaN</td>\n",
       "      <td>0.0</td>\n",
       "    </tr>\n",
       "  </tbody>\n",
       "</table>\n",
       "<p>5 rows × 21 columns</p>\n",
       "</div>"
      ],
      "text/plain": [
       "   SK_ID_CURR CODE_GENDER NAME_CONTRACT_TYPE  AMT_INCOME_TOTAL  AMT_CREDIT  \\\n",
       "0      100002           M         Cash loans          202500.0    406597.5   \n",
       "1      100003           F         Cash loans          270000.0   1293502.5   \n",
       "2      100004           M    Revolving loans           67500.0    135000.0   \n",
       "3      100006           F         Cash loans          135000.0    312682.5   \n",
       "4      100007           M         Cash loans          121500.0    513000.0   \n",
       "\n",
       "   AMT_ANNUITY  AMT_GOODS_PRICE  DAYS_EMPLOYED  DAYS_BIRTH OCCUPATION_TYPE  \\\n",
       "0      24700.5         351000.0           -637       -9461        Laborers   \n",
       "1      35698.5        1129500.0          -1188      -16765      Core staff   \n",
       "2       6750.0         135000.0           -225      -19046        Laborers   \n",
       "3      29686.5         297000.0          -3039      -19005        Laborers   \n",
       "4      21865.5         513000.0          -3038      -19932      Core staff   \n",
       "\n",
       "    ...   NAME_INCOME_TYPE DAYS_REGISTRATION  DAYS_ID_PUBLISH  \\\n",
       "0   ...            Working           -3648.0            -2120   \n",
       "1   ...      State servant           -1186.0             -291   \n",
       "2   ...            Working           -4260.0            -2531   \n",
       "3   ...            Working           -9833.0            -2437   \n",
       "4   ...            Working           -4311.0            -3458   \n",
       "\n",
       "   REGION_POPULATION_RELATIVE  REGION_RATING_CLIENT  \\\n",
       "0                    0.018801                     2   \n",
       "1                    0.003541                     1   \n",
       "2                    0.010032                     2   \n",
       "3                    0.008019                     2   \n",
       "4                    0.028663                     2   \n",
       "\n",
       "   REGION_RATING_CLIENT_W_CITY  EXT_SOURCE_1  EXT_SOURCE_2  EXT_SOURCE_3  \\\n",
       "0                            2      0.083037      0.262949      0.139376   \n",
       "1                            1      0.311267      0.622246           NaN   \n",
       "2                            2           NaN      0.555912      0.729567   \n",
       "3                            2           NaN      0.650442           NaN   \n",
       "4                            2           NaN      0.322738           NaN   \n",
       "\n",
       "   TARGET  \n",
       "0     1.0  \n",
       "1     0.0  \n",
       "2     0.0  \n",
       "3     0.0  \n",
       "4     0.0  \n",
       "\n",
       "[5 rows x 21 columns]"
      ]
     },
     "execution_count": 400,
     "metadata": {},
     "output_type": "execute_result"
    }
   ],
   "source": [
    "train_test2 = train_test[['SK_ID_CURR', 'CODE_GENDER', 'NAME_CONTRACT_TYPE', 'AMT_INCOME_TOTAL', 'AMT_CREDIT', 'AMT_ANNUITY', 'AMT_GOODS_PRICE', 'DAYS_EMPLOYED', 'DAYS_BIRTH', 'OCCUPATION_TYPE', 'ORGANIZATION_TYPE', 'NAME_INCOME_TYPE', 'DAYS_REGISTRATION', 'DAYS_ID_PUBLISH', 'REGION_POPULATION_RELATIVE', 'REGION_RATING_CLIENT', 'REGION_RATING_CLIENT_W_CITY', 'EXT_SOURCE_1', 'EXT_SOURCE_2', 'EXT_SOURCE_3', 'TARGET']]\n",
    "train_test2.head()"
   ]
  },
  {
   "cell_type": "markdown",
   "metadata": {},
   "source": [
    "## 欠損をチェックしましょう"
   ]
  },
  {
   "cell_type": "code",
   "execution_count": 401,
   "metadata": {},
   "outputs": [
    {
     "data": {
      "text/plain": [
       "<matplotlib.axes._subplots.AxesSubplot at 0x13bbd3a58>"
      ]
     },
     "execution_count": 401,
     "metadata": {},
     "output_type": "execute_result"
    },
    {
     "data": {
      "image/png": "[encoded data removed]",
      "text/plain": [
       "<matplotlib.figure.Figure at 0x13b07acc0>"
      ]
     },
     "metadata": {},
     "output_type": "display_data"
    }
   ],
   "source": [
    "import missingno as msno\n",
    "msno.matrix(df=train_test2, figsize=(20,14), color=(0.5,0,0))"
   ]
  },
  {
   "cell_type": "code",
   "execution_count": 402,
   "metadata": {},
   "outputs": [
    {
     "name": "stdout",
     "output_type": "stream",
     "text": [
      "SK_ID_CURR                          0\n",
      "CODE_GENDER                         0\n",
      "NAME_CONTRACT_TYPE                  0\n",
      "AMT_INCOME_TOTAL                    0\n",
      "AMT_CREDIT                          0\n",
      "AMT_ANNUITY                        36\n",
      "AMT_GOODS_PRICE                   278\n",
      "DAYS_EMPLOYED                       0\n",
      "DAYS_BIRTH                          0\n",
      "OCCUPATION_TYPE                111996\n",
      "ORGANIZATION_TYPE                   0\n",
      "NAME_INCOME_TYPE                    0\n",
      "DAYS_REGISTRATION                   0\n",
      "DAYS_ID_PUBLISH                     0\n",
      "REGION_POPULATION_RELATIVE          0\n",
      "REGION_RATING_CLIENT                0\n",
      "REGION_RATING_CLIENT_W_CITY         0\n",
      "EXT_SOURCE_1                   193910\n",
      "EXT_SOURCE_2                      668\n",
      "EXT_SOURCE_3                    69633\n",
      "TARGET                          48744\n",
      "dtype: int64\n"
     ]
    }
   ],
   "source": [
    "print(train_test2.isnull().sum())"
   ]
  },
  {
   "cell_type": "markdown",
   "metadata": {},
   "source": [
    "# 欠損高いやつは0"
   ]
  },
  {
   "cell_type": "code",
   "execution_count": 403,
   "metadata": {},
   "outputs": [],
   "source": [
    "# fillna\n",
    "for c in ['OCCUPATION_TYPE', 'EXT_SOURCE_1', 'EXT_SOURCE_2', 'EXT_SOURCE_3']:\n",
    "    train_test[c].fillna('0', inplace=True)"
   ]
  },
  {
   "cell_type": "markdown",
   "metadata": {},
   "source": [
    "## AMT Annuity, AMT_Goods_PriceのNANのところに中央値を代入する"
   ]
  },
  {
   "cell_type": "code",
   "execution_count": 404,
   "metadata": {
    "scrolled": true
   },
   "outputs": [
    {
     "name": "stderr",
     "output_type": "stream",
     "text": [
      "/Users/szkhome/.pyenv/versions/anaconda3-4.3.0/lib/python3.6/site-packages/pandas/core/generic.py:3295: SettingWithCopyWarning: \n",
      "A value is trying to be set on a copy of a slice from a DataFrame\n",
      "\n",
      "See the caveats in the documentation: http://pandas.pydata.org/pandas-docs/stable/indexing.html#indexing-view-versus-copy\n",
      "  self._update_inplace(new_data)\n",
      "/Users/szkhome/.pyenv/versions/anaconda3-4.3.0/lib/python3.6/site-packages/ipykernel_launcher.py:4: SettingWithCopyWarning: \n",
      "A value is trying to be set on a copy of a slice from a DataFrame.\n",
      "Try using .loc[row_indexer,col_indexer] = value instead\n",
      "\n",
      "See the caveats in the documentation: http://pandas.pydata.org/pandas-docs/stable/indexing.html#indexing-view-versus-copy\n",
      "  after removing the cwd from sys.path.\n"
     ]
    }
   ],
   "source": [
    "for i, t in train_test2.loc[:, train_test2.columns != 'TARGET'].dtypes.iteritems():\n",
    "    if t == object:\n",
    "        train_test2[i].fillna(train_test2[i].mode()[0], inplace=True)\n",
    "        train_test2[i] = LabelEncoder().fit_transform(train_test2[i].astype(str))\n",
    "    else:\n",
    "        train_test2[i].fillna(train_test2[i].median(), inplace=True)"
   ]
  },
  {
   "cell_type": "markdown",
   "metadata": {},
   "source": [
    "## 再度目でもチェック"
   ]
  },
  {
   "cell_type": "code",
   "execution_count": 319,
   "metadata": {},
   "outputs": [
    {
     "data": {
      "text/plain": [
       "<matplotlib.axes._subplots.AxesSubplot at 0x154bf3f60>"
      ]
     },
     "execution_count": 319,
     "metadata": {},
     "output_type": "execute_result"
    },
    {
     "data": {
      "image/png": "[encoded data removed]",
      "text/plain": [
       "<matplotlib.figure.Figure at 0x13b0bfba8>"
      ]
     },
     "metadata": {},
     "output_type": "display_data"
    }
   ],
   "source": [
    "import missingno as msno\n",
    "msno.matrix(df=train_test2, figsize=(20,14), color=(0.5,0,0))"
   ]
  },
  {
   "cell_type": "markdown",
   "metadata": {},
   "source": [
    "# 特徴量の追加を図る(外れ値も外す）"
   ]
  },
  {
   "cell_type": "markdown",
   "metadata": {},
   "source": [
    "## capital adequacy ratio"
   ]
  },
  {
   "cell_type": "code",
   "execution_count": 407,
   "metadata": {},
   "outputs": [
    {
     "name": "stderr",
     "output_type": "stream",
     "text": [
      "/Users/szkhome/.pyenv/versions/anaconda3-4.3.0/lib/python3.6/site-packages/ipykernel_launcher.py:1: SettingWithCopyWarning: \n",
      "A value is trying to be set on a copy of a slice from a DataFrame.\n",
      "Try using .loc[row_indexer,col_indexer] = value instead\n",
      "\n",
      "See the caveats in the documentation: http://pandas.pydata.org/pandas-docs/stable/indexing.html#indexing-view-versus-copy\n",
      "  \"\"\"Entry point for launching an IPython kernel.\n"
     ]
    },
    {
     "data": {
      "text/plain": [
       "count    356255.000000\n",
       "mean          1.367983\n",
       "std           0.522405\n",
       "min           0.516667\n",
       "25%           1.128660\n",
       "50%           1.277186\n",
       "75%           1.493610\n",
       "max         208.857910\n",
       "Name: Cap_Adeq_Ratio, dtype: float64"
      ]
     },
     "execution_count": 407,
     "metadata": {},
     "output_type": "execute_result"
    }
   ],
   "source": [
    "train_test2['Cap_Adeq_Ratio'] = (train_test2['AMT_INCOME_TOTAL'] + train_test2['AMT_ANNUITY'] + train_test2['AMT_GOODS_PRICE'] ) / train_test2['AMT_CREDIT']\n",
    "train_test2['Cap_Adeq_Ratio'].describe()"
   ]
  },
  {
   "cell_type": "markdown",
   "metadata": {},
   "source": [
    "## acid ratio"
   ]
  },
  {
   "cell_type": "code",
   "execution_count": 408,
   "metadata": {},
   "outputs": [
    {
     "name": "stderr",
     "output_type": "stream",
     "text": [
      "/Users/szkhome/.pyenv/versions/anaconda3-4.3.0/lib/python3.6/site-packages/ipykernel_launcher.py:1: SettingWithCopyWarning: \n",
      "A value is trying to be set on a copy of a slice from a DataFrame.\n",
      "Try using .loc[row_indexer,col_indexer] = value instead\n",
      "\n",
      "See the caveats in the documentation: http://pandas.pydata.org/pandas-docs/stable/indexing.html#indexing-view-versus-copy\n",
      "  \"\"\"Entry point for launching an IPython kernel.\n"
     ]
    },
    {
     "data": {
      "text/plain": [
       "count    356255.000000\n",
       "mean          3.849476\n",
       "std           2.635035\n",
       "min           0.004808\n",
       "25%           2.000000\n",
       "50%           3.158857\n",
       "75%           5.000000\n",
       "max          84.736842\n",
       "Name: Acid_Ratio, dtype: float64"
      ]
     },
     "execution_count": 408,
     "metadata": {},
     "output_type": "execute_result"
    }
   ],
   "source": [
    "train_test2['Acid_Ratio'] = train_test2['AMT_CREDIT'] / train_test2['AMT_INCOME_TOTAL'] \n",
    "train_test2['Acid_Ratio'].describe()"
   ]
  },
  {
   "cell_type": "markdown",
   "metadata": {},
   "source": [
    "## Years_Employed"
   ]
  },
  {
   "cell_type": "code",
   "execution_count": 409,
   "metadata": {
    "scrolled": false
   },
   "outputs": [
    {
     "name": "stderr",
     "output_type": "stream",
     "text": [
      "/Users/szkhome/.pyenv/versions/anaconda3-4.3.0/lib/python3.6/site-packages/ipykernel_launcher.py:1: SettingWithCopyWarning: \n",
      "A value is trying to be set on a copy of a slice from a DataFrame.\n",
      "Try using .loc[row_indexer,col_indexer] = value instead\n",
      "\n",
      "See the caveats in the documentation: http://pandas.pydata.org/pandas-docs/stable/indexing.html#indexing-view-versus-copy\n",
      "  \"\"\"Entry point for launching an IPython kernel.\n"
     ]
    },
    {
     "data": {
      "text/plain": [
       "count    356255.000000\n",
       "mean       -176.272055\n",
       "std         388.363314\n",
       "min       -1001.000000\n",
       "25%           1.000000\n",
       "50%           3.000000\n",
       "75%           8.000000\n",
       "max          49.000000\n",
       "Name: Years_Employed, dtype: float64"
      ]
     },
     "execution_count": 409,
     "metadata": {},
     "output_type": "execute_result"
    }
   ],
   "source": [
    "train_test2['Years_Employed'] = round(train_test2['DAYS_EMPLOYED'] / -365)\n",
    "train_test2['Years_Employed'].describe()"
   ]
  },
  {
   "cell_type": "markdown",
   "metadata": {},
   "source": [
    "## Years_Old"
   ]
  },
  {
   "cell_type": "code",
   "execution_count": 410,
   "metadata": {
    "scrolled": true
   },
   "outputs": [
    {
     "name": "stderr",
     "output_type": "stream",
     "text": [
      "/Users/szkhome/.pyenv/versions/anaconda3-4.3.0/lib/python3.6/site-packages/ipykernel_launcher.py:1: SettingWithCopyWarning: \n",
      "A value is trying to be set on a copy of a slice from a DataFrame.\n",
      "Try using .loc[row_indexer,col_indexer] = value instead\n",
      "\n",
      "See the caveats in the documentation: http://pandas.pydata.org/pandas-docs/stable/indexing.html#indexing-view-versus-copy\n",
      "  \"\"\"Entry point for launching an IPython kernel.\n"
     ]
    },
    {
     "data": {
      "text/plain": [
       "count    356255.000000\n",
       "mean         43.949079\n",
       "std          11.949155\n",
       "min          20.000000\n",
       "25%          34.000000\n",
       "50%          43.000000\n",
       "75%          54.000000\n",
       "max          69.000000\n",
       "Name: Years_Old, dtype: float64"
      ]
     },
     "execution_count": 410,
     "metadata": {},
     "output_type": "execute_result"
    }
   ],
   "source": [
    "train_test2['Years_Old'] = round(train_test2['DAYS_BIRTH'] / -365)\n",
    "train_test2['Years_Old'].describe()"
   ]
  },
  {
   "cell_type": "markdown",
   "metadata": {},
   "source": [
    "## Lifetime_employed_Ratio"
   ]
  },
  {
   "cell_type": "code",
   "execution_count": 411,
   "metadata": {},
   "outputs": [
    {
     "name": "stderr",
     "output_type": "stream",
     "text": [
      "/Users/szkhome/.pyenv/versions/anaconda3-4.3.0/lib/python3.6/site-packages/ipykernel_launcher.py:1: SettingWithCopyWarning: \n",
      "A value is trying to be set on a copy of a slice from a DataFrame.\n",
      "Try using .loc[row_indexer,col_indexer] = value instead\n",
      "\n",
      "See the caveats in the documentation: http://pandas.pydata.org/pandas-docs/stable/indexing.html#indexing-view-versus-copy\n",
      "  \"\"\"Entry point for launching an IPython kernel.\n"
     ]
    },
    {
     "data": {
      "text/plain": [
       "count    356255.000000\n",
       "mean         -2.944224\n",
       "std           6.648823\n",
       "min         -47.666667\n",
       "25%           0.023810\n",
       "50%           0.089286\n",
       "75%           0.192308\n",
       "max           0.731343\n",
       "Name: Lifetime_employed_Ratio, dtype: float64"
      ]
     },
     "execution_count": 411,
     "metadata": {},
     "output_type": "execute_result"
    }
   ],
   "source": [
    "train_test2['Lifetime_employed_Ratio'] = train_test2['Years_Employed'] / train_test2['Years_Old'] \n",
    "train_test2['Lifetime_employed_Ratio'].describe()"
   ]
  },
  {
   "cell_type": "markdown",
   "metadata": {},
   "source": [
    "## Age_of_Completion(25% of income is credit payable)"
   ]
  },
  {
   "cell_type": "code",
   "execution_count": 412,
   "metadata": {},
   "outputs": [
    {
     "name": "stderr",
     "output_type": "stream",
     "text": [
      "/Users/szkhome/.pyenv/versions/anaconda3-4.3.0/lib/python3.6/site-packages/ipykernel_launcher.py:1: SettingWithCopyWarning: \n",
      "A value is trying to be set on a copy of a slice from a DataFrame.\n",
      "Try using .loc[row_indexer,col_indexer] = value instead\n",
      "\n",
      "See the caveats in the documentation: http://pandas.pydata.org/pandas-docs/stable/indexing.html#indexing-view-versus-copy\n",
      "  \"\"\"Entry point for launching an IPython kernel.\n"
     ]
    },
    {
     "data": {
      "text/plain": [
       "count    356255.000000\n",
       "mean         59.348026\n",
       "std          16.846198\n",
       "min          22.000000\n",
       "25%          46.000000\n",
       "50%          58.000000\n",
       "75%          71.000000\n",
       "max         398.000000\n",
       "Name: Age_of_Completion, dtype: float64"
      ]
     },
     "execution_count": 412,
     "metadata": {},
     "output_type": "execute_result"
    }
   ],
   "source": [
    "train_test2['Age_of_Completion'] = round(train_test2['Years_Old'] + (train_test2['AMT_CREDIT'] / (train_test2['AMT_INCOME_TOTAL'] /4)))\n",
    "train_test2['Age_of_Completion'].describe()"
   ]
  },
  {
   "cell_type": "markdown",
   "metadata": {},
   "source": [
    "## Period_of_Payment"
   ]
  },
  {
   "cell_type": "code",
   "execution_count": 413,
   "metadata": {},
   "outputs": [
    {
     "name": "stderr",
     "output_type": "stream",
     "text": [
      "/Users/szkhome/.pyenv/versions/anaconda3-4.3.0/lib/python3.6/site-packages/ipykernel_launcher.py:1: SettingWithCopyWarning: \n",
      "A value is trying to be set on a copy of a slice from a DataFrame.\n",
      "Try using .loc[row_indexer,col_indexer] = value instead\n",
      "\n",
      "See the caveats in the documentation: http://pandas.pydata.org/pandas-docs/stable/indexing.html#indexing-view-versus-copy\n",
      "  \"\"\"Entry point for launching an IPython kernel.\n"
     ]
    },
    {
     "data": {
      "text/plain": [
       "count    356255.000000\n",
       "mean         15.398947\n",
       "std          10.543643\n",
       "min           0.000000\n",
       "25%           8.000000\n",
       "50%          13.000000\n",
       "75%          20.000000\n",
       "max         339.000000\n",
       "Name: Period_of_Payment, dtype: float64"
      ]
     },
     "execution_count": 413,
     "metadata": {},
     "output_type": "execute_result"
    }
   ],
   "source": [
    "train_test2['Period_of_Payment'] = round(train_test2['Age_of_Completion'] - train_test2['Years_Old'])\n",
    "train_test2['Period_of_Payment'].describe()"
   ]
  },
  {
   "cell_type": "markdown",
   "metadata": {},
   "source": [
    "## Region_Populationデータをバンドのデータに変換"
   ]
  },
  {
   "cell_type": "code",
   "execution_count": 415,
   "metadata": {},
   "outputs": [
    {
     "name": "stderr",
     "output_type": "stream",
     "text": [
      "/Users/szkhome/.pyenv/versions/anaconda3-4.3.0/lib/python3.6/site-packages/ipykernel_launcher.py:3: SettingWithCopyWarning: \n",
      "A value is trying to be set on a copy of a slice from a DataFrame.\n",
      "Try using .loc[row_indexer,col_indexer] = value instead\n",
      "\n",
      "See the caveats in the documentation: http://pandas.pydata.org/pandas-docs/stable/indexing.html#indexing-view-versus-copy\n",
      "  This is separate from the ipykernel package so we can avoid doing imports until\n"
     ]
    },
    {
     "data": {
      "text/plain": [
       "count     356255\n",
       "unique         9\n",
       "top            3\n",
       "freq       68474\n",
       "Name: REGION_POPULATION, dtype: int64"
      ]
     },
     "execution_count": 415,
     "metadata": {},
     "output_type": "execute_result"
    }
   ],
   "source": [
    "r = [0, 0.005, 0.01, 0.015, 0.02, 0.025, 0.03, 0.035, 0.04, 0.045, 0.1]\n",
    "g = [0, 1, 2, 3, 4, 5, 6, 7, 8, 9]\n",
    "train_test2['REGION_POPULATION'] = pd.cut(train_test2['REGION_POPULATION_RELATIVE'], bins=r, labels=g)\n",
    "train_test2['REGION_POPULATION'].describe()"
   ]
  },
  {
   "cell_type": "code",
   "execution_count": 416,
   "metadata": {},
   "outputs": [
    {
     "data": {
      "text/html": [
       "<div>\n",
       "<table border=\"1\" class=\"dataframe\">\n",
       "  <thead>\n",
       "    <tr style=\"text-align: right;\">\n",
       "      <th></th>\n",
       "      <th>SK_ID_CURR</th>\n",
       "      <th>CODE_GENDER</th>\n",
       "      <th>NAME_CONTRACT_TYPE</th>\n",
       "      <th>AMT_INCOME_TOTAL</th>\n",
       "      <th>AMT_CREDIT</th>\n",
       "      <th>AMT_ANNUITY</th>\n",
       "      <th>AMT_GOODS_PRICE</th>\n",
       "      <th>DAYS_EMPLOYED</th>\n",
       "      <th>DAYS_BIRTH</th>\n",
       "      <th>OCCUPATION_TYPE</th>\n",
       "      <th>...</th>\n",
       "      <th>EXT_SOURCE_3</th>\n",
       "      <th>TARGET</th>\n",
       "      <th>Cap_Adeq_Ratio</th>\n",
       "      <th>Acid_Ratio</th>\n",
       "      <th>Years_Employed</th>\n",
       "      <th>Years_Old</th>\n",
       "      <th>Lifetime_employed_Ratio</th>\n",
       "      <th>Age_of_Completion</th>\n",
       "      <th>Period_of_Payment</th>\n",
       "      <th>REGION_POPULATION</th>\n",
       "    </tr>\n",
       "  </thead>\n",
       "  <tbody>\n",
       "    <tr>\n",
       "      <th>0</th>\n",
       "      <td>100002</td>\n",
       "      <td>1</td>\n",
       "      <td>0</td>\n",
       "      <td>202500.0</td>\n",
       "      <td>406597.5</td>\n",
       "      <td>24700.5</td>\n",
       "      <td>351000.0</td>\n",
       "      <td>-637</td>\n",
       "      <td>-9461</td>\n",
       "      <td>8</td>\n",
       "      <td>...</td>\n",
       "      <td>0.139376</td>\n",
       "      <td>1.0</td>\n",
       "      <td>1.422046</td>\n",
       "      <td>2.007889</td>\n",
       "      <td>2.0</td>\n",
       "      <td>26.0</td>\n",
       "      <td>0.076923</td>\n",
       "      <td>34.0</td>\n",
       "      <td>8.0</td>\n",
       "      <td>3</td>\n",
       "    </tr>\n",
       "    <tr>\n",
       "      <th>1</th>\n",
       "      <td>100003</td>\n",
       "      <td>0</td>\n",
       "      <td>0</td>\n",
       "      <td>270000.0</td>\n",
       "      <td>1293502.5</td>\n",
       "      <td>35698.5</td>\n",
       "      <td>1129500.0</td>\n",
       "      <td>-1188</td>\n",
       "      <td>-16765</td>\n",
       "      <td>3</td>\n",
       "      <td>...</td>\n",
       "      <td>0.533482</td>\n",
       "      <td>0.0</td>\n",
       "      <td>1.109544</td>\n",
       "      <td>4.790750</td>\n",
       "      <td>3.0</td>\n",
       "      <td>46.0</td>\n",
       "      <td>0.065217</td>\n",
       "      <td>65.0</td>\n",
       "      <td>19.0</td>\n",
       "      <td>0</td>\n",
       "    </tr>\n",
       "    <tr>\n",
       "      <th>2</th>\n",
       "      <td>100004</td>\n",
       "      <td>1</td>\n",
       "      <td>1</td>\n",
       "      <td>67500.0</td>\n",
       "      <td>135000.0</td>\n",
       "      <td>6750.0</td>\n",
       "      <td>135000.0</td>\n",
       "      <td>-225</td>\n",
       "      <td>-19046</td>\n",
       "      <td>8</td>\n",
       "      <td>...</td>\n",
       "      <td>0.729567</td>\n",
       "      <td>0.0</td>\n",
       "      <td>1.550000</td>\n",
       "      <td>2.000000</td>\n",
       "      <td>1.0</td>\n",
       "      <td>52.0</td>\n",
       "      <td>0.019231</td>\n",
       "      <td>60.0</td>\n",
       "      <td>8.0</td>\n",
       "      <td>2</td>\n",
       "    </tr>\n",
       "    <tr>\n",
       "      <th>3</th>\n",
       "      <td>100006</td>\n",
       "      <td>0</td>\n",
       "      <td>0</td>\n",
       "      <td>135000.0</td>\n",
       "      <td>312682.5</td>\n",
       "      <td>29686.5</td>\n",
       "      <td>297000.0</td>\n",
       "      <td>-3039</td>\n",
       "      <td>-19005</td>\n",
       "      <td>8</td>\n",
       "      <td>...</td>\n",
       "      <td>0.533482</td>\n",
       "      <td>0.0</td>\n",
       "      <td>1.476535</td>\n",
       "      <td>2.316167</td>\n",
       "      <td>8.0</td>\n",
       "      <td>52.0</td>\n",
       "      <td>0.153846</td>\n",
       "      <td>61.0</td>\n",
       "      <td>9.0</td>\n",
       "      <td>1</td>\n",
       "    </tr>\n",
       "    <tr>\n",
       "      <th>4</th>\n",
       "      <td>100007</td>\n",
       "      <td>1</td>\n",
       "      <td>0</td>\n",
       "      <td>121500.0</td>\n",
       "      <td>513000.0</td>\n",
       "      <td>21865.5</td>\n",
       "      <td>513000.0</td>\n",
       "      <td>-3038</td>\n",
       "      <td>-19932</td>\n",
       "      <td>3</td>\n",
       "      <td>...</td>\n",
       "      <td>0.533482</td>\n",
       "      <td>0.0</td>\n",
       "      <td>1.279465</td>\n",
       "      <td>4.222222</td>\n",
       "      <td>8.0</td>\n",
       "      <td>55.0</td>\n",
       "      <td>0.145455</td>\n",
       "      <td>72.0</td>\n",
       "      <td>17.0</td>\n",
       "      <td>5</td>\n",
       "    </tr>\n",
       "  </tbody>\n",
       "</table>\n",
       "<p>5 rows × 29 columns</p>\n",
       "</div>"
      ],
      "text/plain": [
       "   SK_ID_CURR  CODE_GENDER  NAME_CONTRACT_TYPE  AMT_INCOME_TOTAL  AMT_CREDIT  \\\n",
       "0      100002            1                   0          202500.0    406597.5   \n",
       "1      100003            0                   0          270000.0   1293502.5   \n",
       "2      100004            1                   1           67500.0    135000.0   \n",
       "3      100006            0                   0          135000.0    312682.5   \n",
       "4      100007            1                   0          121500.0    513000.0   \n",
       "\n",
       "   AMT_ANNUITY  AMT_GOODS_PRICE  DAYS_EMPLOYED  DAYS_BIRTH  OCCUPATION_TYPE  \\\n",
       "0      24700.5         351000.0           -637       -9461                8   \n",
       "1      35698.5        1129500.0          -1188      -16765                3   \n",
       "2       6750.0         135000.0           -225      -19046                8   \n",
       "3      29686.5         297000.0          -3039      -19005                8   \n",
       "4      21865.5         513000.0          -3038      -19932                3   \n",
       "\n",
       "         ...          EXT_SOURCE_3  TARGET  Cap_Adeq_Ratio  Acid_Ratio  \\\n",
       "0        ...              0.139376     1.0        1.422046    2.007889   \n",
       "1        ...              0.533482     0.0        1.109544    4.790750   \n",
       "2        ...              0.729567     0.0        1.550000    2.000000   \n",
       "3        ...              0.533482     0.0        1.476535    2.316167   \n",
       "4        ...              0.533482     0.0        1.279465    4.222222   \n",
       "\n",
       "   Years_Employed  Years_Old  Lifetime_employed_Ratio  Age_of_Completion  \\\n",
       "0             2.0       26.0                 0.076923               34.0   \n",
       "1             3.0       46.0                 0.065217               65.0   \n",
       "2             1.0       52.0                 0.019231               60.0   \n",
       "3             8.0       52.0                 0.153846               61.0   \n",
       "4             8.0       55.0                 0.145455               72.0   \n",
       "\n",
       "   Period_of_Payment  REGION_POPULATION  \n",
       "0                8.0                  3  \n",
       "1               19.0                  0  \n",
       "2                8.0                  2  \n",
       "3                9.0                  1  \n",
       "4               17.0                  5  \n",
       "\n",
       "[5 rows x 29 columns]"
      ]
     },
     "execution_count": 416,
     "metadata": {},
     "output_type": "execute_result"
    }
   ],
   "source": [
    "train_test2.head()"
   ]
  },
  {
   "cell_type": "markdown",
   "metadata": {},
   "source": [
    "# できた特徴量だけにする"
   ]
  },
  {
   "cell_type": "code",
   "execution_count": 417,
   "metadata": {},
   "outputs": [
    {
     "data": {
      "text/html": [
       "<div>\n",
       "<table border=\"1\" class=\"dataframe\">\n",
       "  <thead>\n",
       "    <tr style=\"text-align: right;\">\n",
       "      <th></th>\n",
       "      <th>SK_ID_CURR</th>\n",
       "      <th>CODE_GENDER</th>\n",
       "      <th>NAME_CONTRACT_TYPE</th>\n",
       "      <th>Cap_Adeq_Ratio</th>\n",
       "      <th>Acid_Ratio</th>\n",
       "      <th>Age_of_Completion</th>\n",
       "      <th>Years_Old</th>\n",
       "      <th>Years_Employed</th>\n",
       "      <th>Lifetime_employed_Ratio</th>\n",
       "      <th>Period_of_Payment</th>\n",
       "      <th>OCCUPATION_TYPE</th>\n",
       "      <th>ORGANIZATION_TYPE</th>\n",
       "      <th>NAME_INCOME_TYPE</th>\n",
       "      <th>REGION_POPULATION</th>\n",
       "      <th>REGION_RATING_CLIENT</th>\n",
       "      <th>REGION_RATING_CLIENT_W_CITY</th>\n",
       "      <th>EXT_SOURCE_1</th>\n",
       "      <th>EXT_SOURCE_2</th>\n",
       "      <th>EXT_SOURCE_3</th>\n",
       "      <th>TARGET</th>\n",
       "    </tr>\n",
       "  </thead>\n",
       "  <tbody>\n",
       "    <tr>\n",
       "      <th>0</th>\n",
       "      <td>100002</td>\n",
       "      <td>1</td>\n",
       "      <td>0</td>\n",
       "      <td>1.422046</td>\n",
       "      <td>2.007889</td>\n",
       "      <td>34.0</td>\n",
       "      <td>26.0</td>\n",
       "      <td>2.0</td>\n",
       "      <td>0.076923</td>\n",
       "      <td>8.0</td>\n",
       "      <td>8</td>\n",
       "      <td>5</td>\n",
       "      <td>7</td>\n",
       "      <td>3</td>\n",
       "      <td>2</td>\n",
       "      <td>2</td>\n",
       "      <td>0.083037</td>\n",
       "      <td>0.262949</td>\n",
       "      <td>0.139376</td>\n",
       "      <td>1.0</td>\n",
       "    </tr>\n",
       "    <tr>\n",
       "      <th>1</th>\n",
       "      <td>100003</td>\n",
       "      <td>0</td>\n",
       "      <td>0</td>\n",
       "      <td>1.109544</td>\n",
       "      <td>4.790750</td>\n",
       "      <td>65.0</td>\n",
       "      <td>46.0</td>\n",
       "      <td>3.0</td>\n",
       "      <td>0.065217</td>\n",
       "      <td>19.0</td>\n",
       "      <td>3</td>\n",
       "      <td>39</td>\n",
       "      <td>4</td>\n",
       "      <td>0</td>\n",
       "      <td>1</td>\n",
       "      <td>1</td>\n",
       "      <td>0.311267</td>\n",
       "      <td>0.622246</td>\n",
       "      <td>0.533482</td>\n",
       "      <td>0.0</td>\n",
       "    </tr>\n",
       "    <tr>\n",
       "      <th>2</th>\n",
       "      <td>100004</td>\n",
       "      <td>1</td>\n",
       "      <td>1</td>\n",
       "      <td>1.550000</td>\n",
       "      <td>2.000000</td>\n",
       "      <td>60.0</td>\n",
       "      <td>52.0</td>\n",
       "      <td>1.0</td>\n",
       "      <td>0.019231</td>\n",
       "      <td>8.0</td>\n",
       "      <td>8</td>\n",
       "      <td>11</td>\n",
       "      <td>7</td>\n",
       "      <td>2</td>\n",
       "      <td>2</td>\n",
       "      <td>2</td>\n",
       "      <td>0.506155</td>\n",
       "      <td>0.555912</td>\n",
       "      <td>0.729567</td>\n",
       "      <td>0.0</td>\n",
       "    </tr>\n",
       "    <tr>\n",
       "      <th>3</th>\n",
       "      <td>100006</td>\n",
       "      <td>0</td>\n",
       "      <td>0</td>\n",
       "      <td>1.476535</td>\n",
       "      <td>2.316167</td>\n",
       "      <td>61.0</td>\n",
       "      <td>52.0</td>\n",
       "      <td>8.0</td>\n",
       "      <td>0.153846</td>\n",
       "      <td>9.0</td>\n",
       "      <td>8</td>\n",
       "      <td>5</td>\n",
       "      <td>7</td>\n",
       "      <td>1</td>\n",
       "      <td>2</td>\n",
       "      <td>2</td>\n",
       "      <td>0.506155</td>\n",
       "      <td>0.650442</td>\n",
       "      <td>0.533482</td>\n",
       "      <td>0.0</td>\n",
       "    </tr>\n",
       "    <tr>\n",
       "      <th>4</th>\n",
       "      <td>100007</td>\n",
       "      <td>1</td>\n",
       "      <td>0</td>\n",
       "      <td>1.279465</td>\n",
       "      <td>4.222222</td>\n",
       "      <td>72.0</td>\n",
       "      <td>55.0</td>\n",
       "      <td>8.0</td>\n",
       "      <td>0.145455</td>\n",
       "      <td>17.0</td>\n",
       "      <td>3</td>\n",
       "      <td>37</td>\n",
       "      <td>7</td>\n",
       "      <td>5</td>\n",
       "      <td>2</td>\n",
       "      <td>2</td>\n",
       "      <td>0.506155</td>\n",
       "      <td>0.322738</td>\n",
       "      <td>0.533482</td>\n",
       "      <td>0.0</td>\n",
       "    </tr>\n",
       "  </tbody>\n",
       "</table>\n",
       "</div>"
      ],
      "text/plain": [
       "   SK_ID_CURR  CODE_GENDER  NAME_CONTRACT_TYPE  Cap_Adeq_Ratio  Acid_Ratio  \\\n",
       "0      100002            1                   0        1.422046    2.007889   \n",
       "1      100003            0                   0        1.109544    4.790750   \n",
       "2      100004            1                   1        1.550000    2.000000   \n",
       "3      100006            0                   0        1.476535    2.316167   \n",
       "4      100007            1                   0        1.279465    4.222222   \n",
       "\n",
       "   Age_of_Completion  Years_Old  Years_Employed  Lifetime_employed_Ratio  \\\n",
       "0               34.0       26.0             2.0                 0.076923   \n",
       "1               65.0       46.0             3.0                 0.065217   \n",
       "2               60.0       52.0             1.0                 0.019231   \n",
       "3               61.0       52.0             8.0                 0.153846   \n",
       "4               72.0       55.0             8.0                 0.145455   \n",
       "\n",
       "   Period_of_Payment  OCCUPATION_TYPE  ORGANIZATION_TYPE  NAME_INCOME_TYPE  \\\n",
       "0                8.0                8                  5                 7   \n",
       "1               19.0                3                 39                 4   \n",
       "2                8.0                8                 11                 7   \n",
       "3                9.0                8                  5                 7   \n",
       "4               17.0                3                 37                 7   \n",
       "\n",
       "  REGION_POPULATION  REGION_RATING_CLIENT  REGION_RATING_CLIENT_W_CITY  \\\n",
       "0                 3                     2                            2   \n",
       "1                 0                     1                            1   \n",
       "2                 2                     2                            2   \n",
       "3                 1                     2                            2   \n",
       "4                 5                     2                            2   \n",
       "\n",
       "   EXT_SOURCE_1  EXT_SOURCE_2  EXT_SOURCE_3  TARGET  \n",
       "0      0.083037      0.262949      0.139376     1.0  \n",
       "1      0.311267      0.622246      0.533482     0.0  \n",
       "2      0.506155      0.555912      0.729567     0.0  \n",
       "3      0.506155      0.650442      0.533482     0.0  \n",
       "4      0.506155      0.322738      0.533482     0.0  "
      ]
     },
     "execution_count": 417,
     "metadata": {},
     "output_type": "execute_result"
    }
   ],
   "source": [
    "train_test3 = train_test2[['SK_ID_CURR', 'CODE_GENDER', 'NAME_CONTRACT_TYPE', 'Cap_Adeq_Ratio', 'Acid_Ratio', 'Age_of_Completion', 'Years_Old', 'Years_Employed', 'Lifetime_employed_Ratio', 'Period_of_Payment', 'OCCUPATION_TYPE', 'ORGANIZATION_TYPE', 'NAME_INCOME_TYPE', 'REGION_POPULATION', 'REGION_RATING_CLIENT', 'REGION_RATING_CLIENT_W_CITY', 'EXT_SOURCE_1', 'EXT_SOURCE_2', 'EXT_SOURCE_3', 'TARGET']]\n",
    "train_test3.head()"
   ]
  },
  {
   "cell_type": "code",
   "execution_count": 418,
   "metadata": {},
   "outputs": [
    {
     "name": "stdout",
     "output_type": "stream",
     "text": [
      "<class 'pandas.core.frame.DataFrame'>\n",
      "RangeIndex: 356255 entries, 0 to 356254\n",
      "Data columns (total 20 columns):\n",
      "SK_ID_CURR                     356255 non-null int64\n",
      "CODE_GENDER                    356255 non-null int64\n",
      "NAME_CONTRACT_TYPE             356255 non-null int64\n",
      "Cap_Adeq_Ratio                 356255 non-null float64\n",
      "Acid_Ratio                     356255 non-null float64\n",
      "Age_of_Completion              356255 non-null float64\n",
      "Years_Old                      356255 non-null float64\n",
      "Years_Employed                 356255 non-null float64\n",
      "Lifetime_employed_Ratio        356255 non-null float64\n",
      "Period_of_Payment              356255 non-null float64\n",
      "OCCUPATION_TYPE                356255 non-null int64\n",
      "ORGANIZATION_TYPE              356255 non-null int64\n",
      "NAME_INCOME_TYPE               356255 non-null int64\n",
      "REGION_POPULATION              356255 non-null category\n",
      "REGION_RATING_CLIENT           356255 non-null int64\n",
      "REGION_RATING_CLIENT_W_CITY    356255 non-null int64\n",
      "EXT_SOURCE_1                   356255 non-null float64\n",
      "EXT_SOURCE_2                   356255 non-null float64\n",
      "EXT_SOURCE_3                   356255 non-null float64\n",
      "TARGET                         307511 non-null float64\n",
      "dtypes: category(1), float64(11), int64(8)\n",
      "memory usage: 52.0 MB\n"
     ]
    }
   ],
   "source": [
    "train_test3.info()"
   ]
  },
  {
   "cell_type": "markdown",
   "metadata": {},
   "source": [
    "## 数値データをカテゴリカルデータに変更する"
   ]
  },
  {
   "cell_type": "code",
   "execution_count": 419,
   "metadata": {},
   "outputs": [
    {
     "name": "stderr",
     "output_type": "stream",
     "text": [
      "/Users/szkhome/.pyenv/versions/anaconda3-4.3.0/lib/python3.6/site-packages/ipykernel_launcher.py:4: SettingWithCopyWarning: \n",
      "A value is trying to be set on a copy of a slice from a DataFrame.\n",
      "Try using .loc[row_indexer,col_indexer] = value instead\n",
      "\n",
      "See the caveats in the documentation: http://pandas.pydata.org/pandas-docs/stable/indexing.html#indexing-view-versus-copy\n",
      "  after removing the cwd from sys.path.\n"
     ]
    }
   ],
   "source": [
    "# to categorical feature\n",
    "cols = ['CODE_GENDER', 'NAME_CONTRACT_TYPE', 'OCCUPATION_TYPE', 'ORGANIZATION_TYPE', 'NAME_INCOME_TYPE', 'REGION_POPULATION', 'REGION_RATING_CLIENT', 'REGION_RATING_CLIENT_W_CITY' ]\n",
    "for c in cols:\n",
    "    train_test3[c] = train_test3[c].astype(str)"
   ]
  },
  {
   "cell_type": "markdown",
   "metadata": {},
   "source": [
    "## 再度欠損値のチェックをしましょう"
   ]
  },
  {
   "cell_type": "code",
   "execution_count": 420,
   "metadata": {
    "scrolled": true
   },
   "outputs": [
    {
     "data": {
      "text/plain": [
       "<matplotlib.axes._subplots.AxesSubplot at 0x186275ac8>"
      ]
     },
     "execution_count": 420,
     "metadata": {},
     "output_type": "execute_result"
    },
    {
     "data": {
      "image/png": "[encoded data removed]",
      "text/plain": [
       "<matplotlib.figure.Figure at 0x13942a710>"
      ]
     },
     "metadata": {},
     "output_type": "display_data"
    }
   ],
   "source": [
    "import missingno as msno\n",
    "msno.matrix(df=train_test3, figsize=(20,14), color=(0.5,0,0))"
   ]
  },
  {
   "cell_type": "markdown",
   "metadata": {},
   "source": [
    "#  エンコーディング：ラベルとワンホット"
   ]
  },
  {
   "cell_type": "markdown",
   "metadata": {},
   "source": [
    "## ラベルエンコーダー and ワンホットエンコーダー"
   ]
  },
  {
   "cell_type": "code",
   "execution_count": 421,
   "metadata": {
    "scrolled": false
   },
   "outputs": [
    {
     "name": "stderr",
     "output_type": "stream",
     "text": [
      "/Users/szkhome/.pyenv/versions/anaconda3-4.3.0/lib/python3.6/site-packages/ipykernel_launcher.py:12: SettingWithCopyWarning: \n",
      "A value is trying to be set on a copy of a slice from a DataFrame.\n",
      "Try using .loc[row_indexer,col_indexer] = value instead\n",
      "\n",
      "See the caveats in the documentation: http://pandas.pydata.org/pandas-docs/stable/indexing.html#indexing-view-versus-copy\n",
      "  if sys.path[0] == '':\n"
     ]
    },
    {
     "data": {
      "text/html": [
       "<div>\n",
       "<table border=\"1\" class=\"dataframe\">\n",
       "  <thead>\n",
       "    <tr style=\"text-align: right;\">\n",
       "      <th></th>\n",
       "      <th>SK_ID_CURR</th>\n",
       "      <th>NAME_CONTRACT_TYPE</th>\n",
       "      <th>Cap_Adeq_Ratio</th>\n",
       "      <th>Acid_Ratio</th>\n",
       "      <th>Age_of_Completion</th>\n",
       "      <th>Years_Old</th>\n",
       "      <th>Years_Employed</th>\n",
       "      <th>Lifetime_employed_Ratio</th>\n",
       "      <th>Period_of_Payment</th>\n",
       "      <th>EXT_SOURCE_1</th>\n",
       "      <th>...</th>\n",
       "      <th>REGION_POPULATION_6</th>\n",
       "      <th>REGION_POPULATION_7</th>\n",
       "      <th>REGION_POPULATION_9</th>\n",
       "      <th>REGION_RATING_CLIENT_1</th>\n",
       "      <th>REGION_RATING_CLIENT_2</th>\n",
       "      <th>REGION_RATING_CLIENT_3</th>\n",
       "      <th>REGION_RATING_CLIENT_W_CITY_-1</th>\n",
       "      <th>REGION_RATING_CLIENT_W_CITY_1</th>\n",
       "      <th>REGION_RATING_CLIENT_W_CITY_2</th>\n",
       "      <th>REGION_RATING_CLIENT_W_CITY_3</th>\n",
       "    </tr>\n",
       "  </thead>\n",
       "  <tbody>\n",
       "    <tr>\n",
       "      <th>0</th>\n",
       "      <td>100002</td>\n",
       "      <td>0</td>\n",
       "      <td>1.422046</td>\n",
       "      <td>2.007889</td>\n",
       "      <td>34.0</td>\n",
       "      <td>26.0</td>\n",
       "      <td>2.0</td>\n",
       "      <td>0.076923</td>\n",
       "      <td>8.0</td>\n",
       "      <td>0.083037</td>\n",
       "      <td>...</td>\n",
       "      <td>0</td>\n",
       "      <td>0</td>\n",
       "      <td>0</td>\n",
       "      <td>0</td>\n",
       "      <td>1</td>\n",
       "      <td>0</td>\n",
       "      <td>0</td>\n",
       "      <td>0</td>\n",
       "      <td>1</td>\n",
       "      <td>0</td>\n",
       "    </tr>\n",
       "    <tr>\n",
       "      <th>1</th>\n",
       "      <td>100003</td>\n",
       "      <td>0</td>\n",
       "      <td>1.109544</td>\n",
       "      <td>4.790750</td>\n",
       "      <td>65.0</td>\n",
       "      <td>46.0</td>\n",
       "      <td>3.0</td>\n",
       "      <td>0.065217</td>\n",
       "      <td>19.0</td>\n",
       "      <td>0.311267</td>\n",
       "      <td>...</td>\n",
       "      <td>0</td>\n",
       "      <td>0</td>\n",
       "      <td>0</td>\n",
       "      <td>1</td>\n",
       "      <td>0</td>\n",
       "      <td>0</td>\n",
       "      <td>0</td>\n",
       "      <td>1</td>\n",
       "      <td>0</td>\n",
       "      <td>0</td>\n",
       "    </tr>\n",
       "    <tr>\n",
       "      <th>2</th>\n",
       "      <td>100004</td>\n",
       "      <td>1</td>\n",
       "      <td>1.550000</td>\n",
       "      <td>2.000000</td>\n",
       "      <td>60.0</td>\n",
       "      <td>52.0</td>\n",
       "      <td>1.0</td>\n",
       "      <td>0.019231</td>\n",
       "      <td>8.0</td>\n",
       "      <td>0.506155</td>\n",
       "      <td>...</td>\n",
       "      <td>0</td>\n",
       "      <td>0</td>\n",
       "      <td>0</td>\n",
       "      <td>0</td>\n",
       "      <td>1</td>\n",
       "      <td>0</td>\n",
       "      <td>0</td>\n",
       "      <td>0</td>\n",
       "      <td>1</td>\n",
       "      <td>0</td>\n",
       "    </tr>\n",
       "    <tr>\n",
       "      <th>3</th>\n",
       "      <td>100006</td>\n",
       "      <td>0</td>\n",
       "      <td>1.476535</td>\n",
       "      <td>2.316167</td>\n",
       "      <td>61.0</td>\n",
       "      <td>52.0</td>\n",
       "      <td>8.0</td>\n",
       "      <td>0.153846</td>\n",
       "      <td>9.0</td>\n",
       "      <td>0.506155</td>\n",
       "      <td>...</td>\n",
       "      <td>0</td>\n",
       "      <td>0</td>\n",
       "      <td>0</td>\n",
       "      <td>0</td>\n",
       "      <td>1</td>\n",
       "      <td>0</td>\n",
       "      <td>0</td>\n",
       "      <td>0</td>\n",
       "      <td>1</td>\n",
       "      <td>0</td>\n",
       "    </tr>\n",
       "    <tr>\n",
       "      <th>4</th>\n",
       "      <td>100007</td>\n",
       "      <td>0</td>\n",
       "      <td>1.279465</td>\n",
       "      <td>4.222222</td>\n",
       "      <td>72.0</td>\n",
       "      <td>55.0</td>\n",
       "      <td>8.0</td>\n",
       "      <td>0.145455</td>\n",
       "      <td>17.0</td>\n",
       "      <td>0.506155</td>\n",
       "      <td>...</td>\n",
       "      <td>0</td>\n",
       "      <td>0</td>\n",
       "      <td>0</td>\n",
       "      <td>0</td>\n",
       "      <td>1</td>\n",
       "      <td>0</td>\n",
       "      <td>0</td>\n",
       "      <td>0</td>\n",
       "      <td>1</td>\n",
       "      <td>0</td>\n",
       "    </tr>\n",
       "    <tr>\n",
       "      <th>5</th>\n",
       "      <td>100008</td>\n",
       "      <td>0</td>\n",
       "      <td>1.184552</td>\n",
       "      <td>4.954500</td>\n",
       "      <td>66.0</td>\n",
       "      <td>46.0</td>\n",
       "      <td>4.0</td>\n",
       "      <td>0.086957</td>\n",
       "      <td>20.0</td>\n",
       "      <td>0.506155</td>\n",
       "      <td>...</td>\n",
       "      <td>0</td>\n",
       "      <td>1</td>\n",
       "      <td>0</td>\n",
       "      <td>0</td>\n",
       "      <td>1</td>\n",
       "      <td>0</td>\n",
       "      <td>0</td>\n",
       "      <td>0</td>\n",
       "      <td>1</td>\n",
       "      <td>0</td>\n",
       "    </tr>\n",
       "    <tr>\n",
       "      <th>6</th>\n",
       "      <td>100009</td>\n",
       "      <td>0</td>\n",
       "      <td>1.029842</td>\n",
       "      <td>9.127053</td>\n",
       "      <td>75.0</td>\n",
       "      <td>38.0</td>\n",
       "      <td>9.0</td>\n",
       "      <td>0.236842</td>\n",
       "      <td>37.0</td>\n",
       "      <td>0.774761</td>\n",
       "      <td>...</td>\n",
       "      <td>0</td>\n",
       "      <td>1</td>\n",
       "      <td>0</td>\n",
       "      <td>0</td>\n",
       "      <td>1</td>\n",
       "      <td>0</td>\n",
       "      <td>0</td>\n",
       "      <td>0</td>\n",
       "      <td>1</td>\n",
       "      <td>0</td>\n",
       "    </tr>\n",
       "    <tr>\n",
       "      <th>7</th>\n",
       "      <td>100010</td>\n",
       "      <td>0</td>\n",
       "      <td>1.262794</td>\n",
       "      <td>4.250000</td>\n",
       "      <td>69.0</td>\n",
       "      <td>52.0</td>\n",
       "      <td>1.0</td>\n",
       "      <td>0.019231</td>\n",
       "      <td>17.0</td>\n",
       "      <td>0.506155</td>\n",
       "      <td>...</td>\n",
       "      <td>0</td>\n",
       "      <td>0</td>\n",
       "      <td>0</td>\n",
       "      <td>0</td>\n",
       "      <td>0</td>\n",
       "      <td>1</td>\n",
       "      <td>0</td>\n",
       "      <td>0</td>\n",
       "      <td>0</td>\n",
       "      <td>1</td>\n",
       "    </tr>\n",
       "    <tr>\n",
       "      <th>8</th>\n",
       "      <td>100011</td>\n",
       "      <td>0</td>\n",
       "      <td>1.039443</td>\n",
       "      <td>9.063200</td>\n",
       "      <td>91.0</td>\n",
       "      <td>55.0</td>\n",
       "      <td>-1001.0</td>\n",
       "      <td>-18.200000</td>\n",
       "      <td>36.0</td>\n",
       "      <td>0.587334</td>\n",
       "      <td>...</td>\n",
       "      <td>0</td>\n",
       "      <td>0</td>\n",
       "      <td>0</td>\n",
       "      <td>0</td>\n",
       "      <td>1</td>\n",
       "      <td>0</td>\n",
       "      <td>0</td>\n",
       "      <td>0</td>\n",
       "      <td>1</td>\n",
       "      <td>0</td>\n",
       "    </tr>\n",
       "    <tr>\n",
       "      <th>9</th>\n",
       "      <td>100012</td>\n",
       "      <td>1</td>\n",
       "      <td>1.383333</td>\n",
       "      <td>3.000000</td>\n",
       "      <td>52.0</td>\n",
       "      <td>40.0</td>\n",
       "      <td>6.0</td>\n",
       "      <td>0.150000</td>\n",
       "      <td>12.0</td>\n",
       "      <td>0.506155</td>\n",
       "      <td>...</td>\n",
       "      <td>0</td>\n",
       "      <td>0</td>\n",
       "      <td>0</td>\n",
       "      <td>0</td>\n",
       "      <td>1</td>\n",
       "      <td>0</td>\n",
       "      <td>0</td>\n",
       "      <td>0</td>\n",
       "      <td>1</td>\n",
       "      <td>0</td>\n",
       "    </tr>\n",
       "  </tbody>\n",
       "</table>\n",
       "<p>10 rows × 116 columns</p>\n",
       "</div>"
      ],
      "text/plain": [
       "   SK_ID_CURR  NAME_CONTRACT_TYPE  Cap_Adeq_Ratio  Acid_Ratio  \\\n",
       "0      100002                   0        1.422046    2.007889   \n",
       "1      100003                   0        1.109544    4.790750   \n",
       "2      100004                   1        1.550000    2.000000   \n",
       "3      100006                   0        1.476535    2.316167   \n",
       "4      100007                   0        1.279465    4.222222   \n",
       "5      100008                   0        1.184552    4.954500   \n",
       "6      100009                   0        1.029842    9.127053   \n",
       "7      100010                   0        1.262794    4.250000   \n",
       "8      100011                   0        1.039443    9.063200   \n",
       "9      100012                   1        1.383333    3.000000   \n",
       "\n",
       "   Age_of_Completion  Years_Old  Years_Employed  Lifetime_employed_Ratio  \\\n",
       "0               34.0       26.0             2.0                 0.076923   \n",
       "1               65.0       46.0             3.0                 0.065217   \n",
       "2               60.0       52.0             1.0                 0.019231   \n",
       "3               61.0       52.0             8.0                 0.153846   \n",
       "4               72.0       55.0             8.0                 0.145455   \n",
       "5               66.0       46.0             4.0                 0.086957   \n",
       "6               75.0       38.0             9.0                 0.236842   \n",
       "7               69.0       52.0             1.0                 0.019231   \n",
       "8               91.0       55.0         -1001.0               -18.200000   \n",
       "9               52.0       40.0             6.0                 0.150000   \n",
       "\n",
       "   Period_of_Payment  EXT_SOURCE_1              ...                \\\n",
       "0                8.0      0.083037              ...                 \n",
       "1               19.0      0.311267              ...                 \n",
       "2                8.0      0.506155              ...                 \n",
       "3                9.0      0.506155              ...                 \n",
       "4               17.0      0.506155              ...                 \n",
       "5               20.0      0.506155              ...                 \n",
       "6               37.0      0.774761              ...                 \n",
       "7               17.0      0.506155              ...                 \n",
       "8               36.0      0.587334              ...                 \n",
       "9               12.0      0.506155              ...                 \n",
       "\n",
       "   REGION_POPULATION_6  REGION_POPULATION_7  REGION_POPULATION_9  \\\n",
       "0                    0                    0                    0   \n",
       "1                    0                    0                    0   \n",
       "2                    0                    0                    0   \n",
       "3                    0                    0                    0   \n",
       "4                    0                    0                    0   \n",
       "5                    0                    1                    0   \n",
       "6                    0                    1                    0   \n",
       "7                    0                    0                    0   \n",
       "8                    0                    0                    0   \n",
       "9                    0                    0                    0   \n",
       "\n",
       "   REGION_RATING_CLIENT_1  REGION_RATING_CLIENT_2  REGION_RATING_CLIENT_3  \\\n",
       "0                       0                       1                       0   \n",
       "1                       1                       0                       0   \n",
       "2                       0                       1                       0   \n",
       "3                       0                       1                       0   \n",
       "4                       0                       1                       0   \n",
       "5                       0                       1                       0   \n",
       "6                       0                       1                       0   \n",
       "7                       0                       0                       1   \n",
       "8                       0                       1                       0   \n",
       "9                       0                       1                       0   \n",
       "\n",
       "   REGION_RATING_CLIENT_W_CITY_-1  REGION_RATING_CLIENT_W_CITY_1  \\\n",
       "0                               0                              0   \n",
       "1                               0                              1   \n",
       "2                               0                              0   \n",
       "3                               0                              0   \n",
       "4                               0                              0   \n",
       "5                               0                              0   \n",
       "6                               0                              0   \n",
       "7                               0                              0   \n",
       "8                               0                              0   \n",
       "9                               0                              0   \n",
       "\n",
       "   REGION_RATING_CLIENT_W_CITY_2  REGION_RATING_CLIENT_W_CITY_3  \n",
       "0                              1                              0  \n",
       "1                              0                              0  \n",
       "2                              1                              0  \n",
       "3                              1                              0  \n",
       "4                              1                              0  \n",
       "5                              1                              0  \n",
       "6                              1                              0  \n",
       "7                              0                              1  \n",
       "8                              1                              0  \n",
       "9                              1                              0  \n",
       "\n",
       "[10 rows x 116 columns]"
      ]
     },
     "execution_count": 421,
     "metadata": {},
     "output_type": "execute_result"
    }
   ],
   "source": [
    "#　カラムの中を見て２変数だったらラベルエンコーダーにして&それ以外はワンホットエンコーダーする構文\n",
    "\n",
    "from sklearn import preprocessing\n",
    "\n",
    "train_test3_encoded = train_test3\n",
    "le = preprocessing.LabelEncoder()\n",
    "for col in train_test3:\n",
    "   if train_test3[col].dtype == \"object\":\n",
    "       if len(list(train_test3[col].unique())) <= 2:\n",
    "           le.fit(train_test3[col])\n",
    "           \n",
    "           train_test3_encoded[col] = le.transform(train_test3[col])\n",
    "        \n",
    "train_test3_encoded = pd.get_dummies(train_test3_encoded)\n",
    "#return df_train_\n",
    "train_test3_encoded.head(10)"
   ]
  },
  {
   "cell_type": "code",
   "execution_count": 422,
   "metadata": {},
   "outputs": [
    {
     "data": {
      "text/plain": [
       "<matplotlib.axes._subplots.AxesSubplot at 0x195705668>"
      ]
     },
     "execution_count": 422,
     "metadata": {},
     "output_type": "execute_result"
    },
    {
     "data": {
      "image/png": "[encoded data removed]",
      "text/plain": [
       "<matplotlib.figure.Figure at 0x13d3c5b38>"
      ]
     },
     "metadata": {},
     "output_type": "display_data"
    }
   ],
   "source": [
    "import missingno as msno\n",
    "msno.matrix(df=train_test3_encoded, figsize=(20,14), color=(0.5,0,0))"
   ]
  },
  {
   "cell_type": "markdown",
   "metadata": {},
   "source": [
    "# TrainとTestを分ける"
   ]
  },
  {
   "cell_type": "markdown",
   "metadata": {},
   "source": [
    "## notnullになっている部分をtrainとする"
   ]
  },
  {
   "cell_type": "code",
   "execution_count": 423,
   "metadata": {},
   "outputs": [
    {
     "data": {
      "text/plain": [
       "(307511, 116)"
      ]
     },
     "execution_count": 423,
     "metadata": {},
     "output_type": "execute_result"
    }
   ],
   "source": [
    "train = train_test3_encoded[train_test3_encoded['TARGET'].notnull()]\n",
    "train.shape"
   ]
  },
  {
   "cell_type": "markdown",
   "metadata": {},
   "source": [
    "## isnull になっている部分をtest として、そこから目的部分を取り除く"
   ]
  },
  {
   "cell_type": "code",
   "execution_count": 424,
   "metadata": {},
   "outputs": [
    {
     "data": {
      "text/plain": [
       "(48744, 115)"
      ]
     },
     "execution_count": 424,
     "metadata": {},
     "output_type": "execute_result"
    }
   ],
   "source": [
    "test = train_test3_encoded[train_test3_encoded['TARGET'].isnull()].drop('TARGET', axis=1)\n",
    "test.shape"
   ]
  },
  {
   "cell_type": "markdown",
   "metadata": {},
   "source": [
    "## 特徴量のカラム名で違いが存在するのが目的変数だけかをチェックする"
   ]
  },
  {
   "cell_type": "code",
   "execution_count": 427,
   "metadata": {},
   "outputs": [
    {
     "data": {
      "text/plain": [
       "{'TARGET'}"
      ]
     },
     "execution_count": 427,
     "metadata": {},
     "output_type": "execute_result"
    }
   ],
   "source": [
    "lost1 = set(train.columns) - set(test.columns)\n",
    "lost1"
   ]
  },
  {
   "cell_type": "code",
   "execution_count": 347,
   "metadata": {},
   "outputs": [
    {
     "name": "stdout",
     "output_type": "stream",
     "text": [
      "(250101, 107)\n"
     ]
    }
   ],
   "source": [
    "#ほかにある場合はdropすることになる\n",
    "#for c in lost1:\n",
    "#    #print(c)\n",
    "#    train = train.drop(c, axis=1)\n",
    "#print(train.shape)"
   ]
  },
  {
   "cell_type": "code",
   "execution_count": 428,
   "metadata": {},
   "outputs": [
    {
     "data": {
      "text/plain": [
       "set()"
      ]
     },
     "execution_count": 428,
     "metadata": {},
     "output_type": "execute_result"
    }
   ],
   "source": [
    "lost2 =  set(test.columns) - set(train.columns)\n",
    "lost2"
   ]
  },
  {
   "cell_type": "code",
   "execution_count": 349,
   "metadata": {},
   "outputs": [
    {
     "name": "stdout",
     "output_type": "stream",
     "text": [
      "(38973, 107)\n"
     ]
    }
   ],
   "source": [
    "# for c in test:\n",
    "#     #print(c)\n",
    "#     test = test.drop(c, axis=1)\n",
    "# print(test.shape)"
   ]
  },
  {
   "cell_type": "markdown",
   "metadata": {},
   "source": [
    "# 外れ値の研究（trainデータのみ）"
   ]
  },
  {
   "cell_type": "markdown",
   "metadata": {},
   "source": [
    "## 外れ値を消します（6シグマより上下にあるもの）"
   ]
  },
  {
   "cell_type": "markdown",
   "metadata": {},
   "source": [
    "### Cap_Adeq_Ratio"
   ]
  },
  {
   "cell_type": "code",
   "execution_count": 429,
   "metadata": {},
   "outputs": [
    {
     "data": {
      "text/plain": [
       "count    307511.000000\n",
       "mean          1.355067\n",
       "std           0.533410\n",
       "min           0.516667\n",
       "25%           1.120864\n",
       "50%           1.265427\n",
       "75%           1.477857\n",
       "max         208.857910\n",
       "Name: Cap_Adeq_Ratio, dtype: float64"
      ]
     },
     "execution_count": 429,
     "metadata": {},
     "output_type": "execute_result"
    }
   ],
   "source": [
    "train['Cap_Adeq_Ratio'].describe()"
   ]
  },
  {
   "cell_type": "code",
   "execution_count": 431,
   "metadata": {
    "scrolled": true
   },
   "outputs": [
    {
     "data": {
      "text/plain": [
       "count    305957.000000\n",
       "mean          1.341494\n",
       "std           0.324752\n",
       "min           0.516667\n",
       "25%           1.120285\n",
       "50%           1.263352\n",
       "75%           1.472462\n",
       "max           3.119971\n",
       "Name: Cap_Adeq_Ratio, dtype: float64"
      ]
     },
     "execution_count": 431,
     "metadata": {},
     "output_type": "execute_result"
    }
   ],
   "source": [
    "train = train[train['Cap_Adeq_Ratio'] < (0.53*6)]\n",
    "train['Cap_Adeq_Ratio'].describe()"
   ]
  },
  {
   "cell_type": "markdown",
   "metadata": {},
   "source": [
    "### Acid_Ratio"
   ]
  },
  {
   "cell_type": "code",
   "execution_count": 432,
   "metadata": {},
   "outputs": [
    {
     "data": {
      "text/plain": [
       "count    305957.000000\n",
       "mean          3.975334\n",
       "std           2.684824\n",
       "min           0.420200\n",
       "25%           2.037600\n",
       "50%           3.292000\n",
       "75%           5.178571\n",
       "max          84.736842\n",
       "Name: Acid_Ratio, dtype: float64"
      ]
     },
     "execution_count": 432,
     "metadata": {},
     "output_type": "execute_result"
    }
   ],
   "source": [
    "train['Acid_Ratio'].describe()"
   ]
  },
  {
   "cell_type": "code",
   "execution_count": 433,
   "metadata": {},
   "outputs": [
    {
     "data": {
      "text/plain": [
       "count    305049.000000\n",
       "mean          3.929251\n",
       "std           2.541809\n",
       "min           0.420200\n",
       "25%           2.034063\n",
       "50%           3.274537\n",
       "75%           5.147600\n",
       "max          16.064933\n",
       "Name: Acid_Ratio, dtype: float64"
      ]
     },
     "execution_count": 433,
     "metadata": {},
     "output_type": "execute_result"
    }
   ],
   "source": [
    "train = train[train['Acid_Ratio'] < (2.68*6)]\n",
    "train['Acid_Ratio'].describe()"
   ]
  },
  {
   "cell_type": "markdown",
   "metadata": {},
   "source": [
    "### Years_Employed"
   ]
  },
  {
   "cell_type": "code",
   "execution_count": 434,
   "metadata": {},
   "outputs": [
    {
     "data": {
      "text/plain": [
       "count    305049.000000\n",
       "mean       -174.331517\n",
       "std         386.715836\n",
       "min       -1001.000000\n",
       "25%           1.000000\n",
       "50%           3.000000\n",
       "75%           8.000000\n",
       "max          49.000000\n",
       "Name: Years_Employed, dtype: float64"
      ]
     },
     "execution_count": 434,
     "metadata": {},
     "output_type": "execute_result"
    }
   ],
   "source": [
    "train['Years_Employed'].describe()"
   ]
  },
  {
   "cell_type": "code",
   "execution_count": 437,
   "metadata": {},
   "outputs": [
    {
     "data": {
      "text/plain": [
       "count    250289.000000\n",
       "mean          6.532868\n",
       "std           6.414579\n",
       "min           0.000000\n",
       "25%           2.000000\n",
       "50%           5.000000\n",
       "75%           9.000000\n",
       "max          49.000000\n",
       "Name: Years_Employed, dtype: float64"
      ]
     },
     "execution_count": 437,
     "metadata": {},
     "output_type": "execute_result"
    }
   ],
   "source": [
    "train = train[train['Years_Employed'] > -100]\n",
    "train['Years_Employed'].describe()"
   ]
  },
  {
   "cell_type": "markdown",
   "metadata": {},
   "source": [
    "## 外れ値が取り除かれているか、目でも確認しておく。"
   ]
  },
  {
   "cell_type": "code",
   "execution_count": 438,
   "metadata": {},
   "outputs": [
    {
     "data": {
      "image/png": "[encoded data removed]",
      "text/plain": [
       "<matplotlib.figure.Figure at 0x1952d6898>"
      ]
     },
     "metadata": {},
     "output_type": "display_data"
    }
   ],
   "source": [
    "fig, axes = plt.subplots(ncols=2, nrows=5, figsize=(30, 60))\n",
    "axes = np.ravel(axes)\n",
    "col_name = corr_target_abs[1:].index\n",
    "for i in range(10):\n",
    "    train.plot.scatter(ax=axes[i], x=col_name[i], y='TARGET', c='Age_of_Completion', sharey=True, colorbar=False, cmap='ocean')"
   ]
  },
  {
   "cell_type": "markdown",
   "metadata": {},
   "source": [
    "# 学習の準備"
   ]
  },
  {
   "cell_type": "markdown",
   "metadata": {},
   "source": [
    "## trainデータを　XとyとX_testに分けます"
   ]
  },
  {
   "cell_type": "code",
   "execution_count": 439,
   "metadata": {},
   "outputs": [
    {
     "name": "stdout",
     "output_type": "stream",
     "text": [
      "(250289, 115) (250289,) (48744, 115)\n"
     ]
    }
   ],
   "source": [
    "X = train.drop(['TARGET'], axis=1)\n",
    "y = train['TARGET']\n",
    "X_test = test\n",
    "\n",
    "print(X.shape, y.shape, X_test.shape)"
   ]
  },
  {
   "cell_type": "markdown",
   "metadata": {},
   "source": [
    "#  学習"
   ]
  },
  {
   "cell_type": "markdown",
   "metadata": {},
   "source": [
    "## Logistics Regression"
   ]
  },
  {
   "cell_type": "code",
   "execution_count": 440,
   "metadata": {},
   "outputs": [
    {
     "data": {
      "text/plain": [
       "LogisticRegression(C=1.0, class_weight=None, dual=False, fit_intercept=True,\n",
       "          intercept_scaling=1, max_iter=100, multi_class='ovr', n_jobs=1,\n",
       "          penalty='l2', random_state=None, solver='liblinear', tol=0.0001,\n",
       "          verbose=0, warm_start=False)"
      ]
     },
     "execution_count": 440,
     "metadata": {},
     "output_type": "execute_result"
    }
   ],
   "source": [
    "# ロジスティック回帰\n",
    "from sklearn.linear_model import LogisticRegression\n",
    "lr = LogisticRegression() \n",
    "lr.fit(X, y)"
   ]
  },
  {
   "cell_type": "code",
   "execution_count": 441,
   "metadata": {},
   "outputs": [
    {
     "data": {
      "text/plain": [
       "array([ 0.08168402,  0.10726375,  0.08211275, ...,  0.06483366,\n",
       "        0.07503078,  0.07466307])"
      ]
     },
     "execution_count": 441,
     "metadata": {},
     "output_type": "execute_result"
    }
   ],
   "source": [
    "# Submissionを終わらせるためにX_testを使って予測する\n",
    "# ２行目だけを出すようにする\n",
    "\n",
    "lr_pred = lr.predict_proba(X_test)[:, 1]\n",
    "lr_pred"
   ]
  },
  {
   "cell_type": "code",
   "execution_count": 442,
   "metadata": {
    "scrolled": true
   },
   "outputs": [
    {
     "data": {
      "text/html": [
       "<div>\n",
       "<table border=\"1\" class=\"dataframe\">\n",
       "  <thead>\n",
       "    <tr style=\"text-align: right;\">\n",
       "      <th></th>\n",
       "      <th>SK_ID_CURR</th>\n",
       "      <th>TARGET</th>\n",
       "    </tr>\n",
       "  </thead>\n",
       "  <tbody>\n",
       "    <tr>\n",
       "      <th>307511</th>\n",
       "      <td>100001</td>\n",
       "      <td>0.081684</td>\n",
       "    </tr>\n",
       "    <tr>\n",
       "      <th>307512</th>\n",
       "      <td>100005</td>\n",
       "      <td>0.107264</td>\n",
       "    </tr>\n",
       "    <tr>\n",
       "      <th>307513</th>\n",
       "      <td>100013</td>\n",
       "      <td>0.082113</td>\n",
       "    </tr>\n",
       "    <tr>\n",
       "      <th>307514</th>\n",
       "      <td>100028</td>\n",
       "      <td>0.120588</td>\n",
       "    </tr>\n",
       "    <tr>\n",
       "      <th>307515</th>\n",
       "      <td>100038</td>\n",
       "      <td>0.144102</td>\n",
       "    </tr>\n",
       "    <tr>\n",
       "      <th>307516</th>\n",
       "      <td>100042</td>\n",
       "      <td>0.084511</td>\n",
       "    </tr>\n",
       "    <tr>\n",
       "      <th>307517</th>\n",
       "      <td>100057</td>\n",
       "      <td>0.114263</td>\n",
       "    </tr>\n",
       "    <tr>\n",
       "      <th>307518</th>\n",
       "      <td>100065</td>\n",
       "      <td>0.230672</td>\n",
       "    </tr>\n",
       "    <tr>\n",
       "      <th>307519</th>\n",
       "      <td>100066</td>\n",
       "      <td>0.178815</td>\n",
       "    </tr>\n",
       "    <tr>\n",
       "      <th>307520</th>\n",
       "      <td>100067</td>\n",
       "      <td>0.229221</td>\n",
       "    </tr>\n",
       "    <tr>\n",
       "      <th>307521</th>\n",
       "      <td>100074</td>\n",
       "      <td>0.595008</td>\n",
       "    </tr>\n",
       "    <tr>\n",
       "      <th>307522</th>\n",
       "      <td>100090</td>\n",
       "      <td>0.131430</td>\n",
       "    </tr>\n",
       "    <tr>\n",
       "      <th>307523</th>\n",
       "      <td>100091</td>\n",
       "      <td>0.183743</td>\n",
       "    </tr>\n",
       "    <tr>\n",
       "      <th>307524</th>\n",
       "      <td>100092</td>\n",
       "      <td>0.079845</td>\n",
       "    </tr>\n",
       "    <tr>\n",
       "      <th>307525</th>\n",
       "      <td>100106</td>\n",
       "      <td>0.194907</td>\n",
       "    </tr>\n",
       "    <tr>\n",
       "      <th>307526</th>\n",
       "      <td>100107</td>\n",
       "      <td>0.162741</td>\n",
       "    </tr>\n",
       "    <tr>\n",
       "      <th>307527</th>\n",
       "      <td>100109</td>\n",
       "      <td>0.096810</td>\n",
       "    </tr>\n",
       "    <tr>\n",
       "      <th>307528</th>\n",
       "      <td>100117</td>\n",
       "      <td>0.713187</td>\n",
       "    </tr>\n",
       "    <tr>\n",
       "      <th>307529</th>\n",
       "      <td>100128</td>\n",
       "      <td>0.192147</td>\n",
       "    </tr>\n",
       "    <tr>\n",
       "      <th>307530</th>\n",
       "      <td>100141</td>\n",
       "      <td>0.106572</td>\n",
       "    </tr>\n",
       "    <tr>\n",
       "      <th>307531</th>\n",
       "      <td>100150</td>\n",
       "      <td>0.191840</td>\n",
       "    </tr>\n",
       "    <tr>\n",
       "      <th>307532</th>\n",
       "      <td>100168</td>\n",
       "      <td>0.069450</td>\n",
       "    </tr>\n",
       "    <tr>\n",
       "      <th>307533</th>\n",
       "      <td>100169</td>\n",
       "      <td>0.741197</td>\n",
       "    </tr>\n",
       "    <tr>\n",
       "      <th>307534</th>\n",
       "      <td>100170</td>\n",
       "      <td>0.151662</td>\n",
       "    </tr>\n",
       "    <tr>\n",
       "      <th>307535</th>\n",
       "      <td>100171</td>\n",
       "      <td>0.142244</td>\n",
       "    </tr>\n",
       "    <tr>\n",
       "      <th>307536</th>\n",
       "      <td>100172</td>\n",
       "      <td>0.127435</td>\n",
       "    </tr>\n",
       "    <tr>\n",
       "      <th>307537</th>\n",
       "      <td>100184</td>\n",
       "      <td>0.794323</td>\n",
       "    </tr>\n",
       "    <tr>\n",
       "      <th>307538</th>\n",
       "      <td>100187</td>\n",
       "      <td>0.083070</td>\n",
       "    </tr>\n",
       "    <tr>\n",
       "      <th>307539</th>\n",
       "      <td>100212</td>\n",
       "      <td>0.104353</td>\n",
       "    </tr>\n",
       "    <tr>\n",
       "      <th>307540</th>\n",
       "      <td>100222</td>\n",
       "      <td>0.104121</td>\n",
       "    </tr>\n",
       "    <tr>\n",
       "      <th>...</th>\n",
       "      <td>...</td>\n",
       "      <td>...</td>\n",
       "    </tr>\n",
       "    <tr>\n",
       "      <th>356225</th>\n",
       "      <td>455963</td>\n",
       "      <td>0.091982</td>\n",
       "    </tr>\n",
       "    <tr>\n",
       "      <th>356226</th>\n",
       "      <td>455965</td>\n",
       "      <td>0.051910</td>\n",
       "    </tr>\n",
       "    <tr>\n",
       "      <th>356227</th>\n",
       "      <td>456007</td>\n",
       "      <td>0.080838</td>\n",
       "    </tr>\n",
       "    <tr>\n",
       "      <th>356228</th>\n",
       "      <td>456008</td>\n",
       "      <td>0.578457</td>\n",
       "    </tr>\n",
       "    <tr>\n",
       "      <th>356229</th>\n",
       "      <td>456009</td>\n",
       "      <td>0.074196</td>\n",
       "    </tr>\n",
       "    <tr>\n",
       "      <th>356230</th>\n",
       "      <td>456010</td>\n",
       "      <td>0.068756</td>\n",
       "    </tr>\n",
       "    <tr>\n",
       "      <th>356231</th>\n",
       "      <td>456011</td>\n",
       "      <td>0.081473</td>\n",
       "    </tr>\n",
       "    <tr>\n",
       "      <th>356232</th>\n",
       "      <td>456013</td>\n",
       "      <td>0.108259</td>\n",
       "    </tr>\n",
       "    <tr>\n",
       "      <th>356233</th>\n",
       "      <td>456028</td>\n",
       "      <td>0.068170</td>\n",
       "    </tr>\n",
       "    <tr>\n",
       "      <th>356234</th>\n",
       "      <td>456058</td>\n",
       "      <td>0.053373</td>\n",
       "    </tr>\n",
       "    <tr>\n",
       "      <th>356235</th>\n",
       "      <td>456111</td>\n",
       "      <td>0.051624</td>\n",
       "    </tr>\n",
       "    <tr>\n",
       "      <th>356236</th>\n",
       "      <td>456114</td>\n",
       "      <td>0.020235</td>\n",
       "    </tr>\n",
       "    <tr>\n",
       "      <th>356237</th>\n",
       "      <td>456115</td>\n",
       "      <td>0.046952</td>\n",
       "    </tr>\n",
       "    <tr>\n",
       "      <th>356238</th>\n",
       "      <td>456116</td>\n",
       "      <td>0.066938</td>\n",
       "    </tr>\n",
       "    <tr>\n",
       "      <th>356239</th>\n",
       "      <td>456119</td>\n",
       "      <td>0.630852</td>\n",
       "    </tr>\n",
       "    <tr>\n",
       "      <th>356240</th>\n",
       "      <td>456120</td>\n",
       "      <td>0.082383</td>\n",
       "    </tr>\n",
       "    <tr>\n",
       "      <th>356241</th>\n",
       "      <td>456122</td>\n",
       "      <td>0.057657</td>\n",
       "    </tr>\n",
       "    <tr>\n",
       "      <th>356242</th>\n",
       "      <td>456123</td>\n",
       "      <td>0.610870</td>\n",
       "    </tr>\n",
       "    <tr>\n",
       "      <th>356243</th>\n",
       "      <td>456166</td>\n",
       "      <td>0.051240</td>\n",
       "    </tr>\n",
       "    <tr>\n",
       "      <th>356244</th>\n",
       "      <td>456167</td>\n",
       "      <td>0.025725</td>\n",
       "    </tr>\n",
       "    <tr>\n",
       "      <th>356245</th>\n",
       "      <td>456168</td>\n",
       "      <td>0.065254</td>\n",
       "    </tr>\n",
       "    <tr>\n",
       "      <th>356246</th>\n",
       "      <td>456169</td>\n",
       "      <td>0.617144</td>\n",
       "    </tr>\n",
       "    <tr>\n",
       "      <th>356247</th>\n",
       "      <td>456170</td>\n",
       "      <td>0.595894</td>\n",
       "    </tr>\n",
       "    <tr>\n",
       "      <th>356248</th>\n",
       "      <td>456189</td>\n",
       "      <td>0.051394</td>\n",
       "    </tr>\n",
       "    <tr>\n",
       "      <th>356249</th>\n",
       "      <td>456202</td>\n",
       "      <td>0.093976</td>\n",
       "    </tr>\n",
       "    <tr>\n",
       "      <th>356250</th>\n",
       "      <td>456221</td>\n",
       "      <td>0.037461</td>\n",
       "    </tr>\n",
       "    <tr>\n",
       "      <th>356251</th>\n",
       "      <td>456222</td>\n",
       "      <td>0.079230</td>\n",
       "    </tr>\n",
       "    <tr>\n",
       "      <th>356252</th>\n",
       "      <td>456223</td>\n",
       "      <td>0.064834</td>\n",
       "    </tr>\n",
       "    <tr>\n",
       "      <th>356253</th>\n",
       "      <td>456224</td>\n",
       "      <td>0.075031</td>\n",
       "    </tr>\n",
       "    <tr>\n",
       "      <th>356254</th>\n",
       "      <td>456250</td>\n",
       "      <td>0.074663</td>\n",
       "    </tr>\n",
       "  </tbody>\n",
       "</table>\n",
       "<p>48744 rows × 2 columns</p>\n",
       "</div>"
      ],
      "text/plain": [
       "        SK_ID_CURR    TARGET\n",
       "307511      100001  0.081684\n",
       "307512      100005  0.107264\n",
       "307513      100013  0.082113\n",
       "307514      100028  0.120588\n",
       "307515      100038  0.144102\n",
       "307516      100042  0.084511\n",
       "307517      100057  0.114263\n",
       "307518      100065  0.230672\n",
       "307519      100066  0.178815\n",
       "307520      100067  0.229221\n",
       "307521      100074  0.595008\n",
       "307522      100090  0.131430\n",
       "307523      100091  0.183743\n",
       "307524      100092  0.079845\n",
       "307525      100106  0.194907\n",
       "307526      100107  0.162741\n",
       "307527      100109  0.096810\n",
       "307528      100117  0.713187\n",
       "307529      100128  0.192147\n",
       "307530      100141  0.106572\n",
       "307531      100150  0.191840\n",
       "307532      100168  0.069450\n",
       "307533      100169  0.741197\n",
       "307534      100170  0.151662\n",
       "307535      100171  0.142244\n",
       "307536      100172  0.127435\n",
       "307537      100184  0.794323\n",
       "307538      100187  0.083070\n",
       "307539      100212  0.104353\n",
       "307540      100222  0.104121\n",
       "...            ...       ...\n",
       "356225      455963  0.091982\n",
       "356226      455965  0.051910\n",
       "356227      456007  0.080838\n",
       "356228      456008  0.578457\n",
       "356229      456009  0.074196\n",
       "356230      456010  0.068756\n",
       "356231      456011  0.081473\n",
       "356232      456013  0.108259\n",
       "356233      456028  0.068170\n",
       "356234      456058  0.053373\n",
       "356235      456111  0.051624\n",
       "356236      456114  0.020235\n",
       "356237      456115  0.046952\n",
       "356238      456116  0.066938\n",
       "356239      456119  0.630852\n",
       "356240      456120  0.082383\n",
       "356241      456122  0.057657\n",
       "356242      456123  0.610870\n",
       "356243      456166  0.051240\n",
       "356244      456167  0.025725\n",
       "356245      456168  0.065254\n",
       "356246      456169  0.617144\n",
       "356247      456170  0.595894\n",
       "356248      456189  0.051394\n",
       "356249      456202  0.093976\n",
       "356250      456221  0.037461\n",
       "356251      456222  0.079230\n",
       "356252      456223  0.064834\n",
       "356253      456224  0.075031\n",
       "356254      456250  0.074663\n",
       "\n",
       "[48744 rows x 2 columns]"
      ]
     },
     "execution_count": 442,
     "metadata": {},
     "output_type": "execute_result"
    }
   ],
   "source": [
    "submission = pd.DataFrame({\n",
    "        \"SK_ID_CURR\": X_test[\"SK_ID_CURR\"],\n",
    "        \"TARGET\": lr_pred\n",
    "    })\n",
    "submission"
   ]
  },
  {
   "cell_type": "markdown",
   "metadata": {},
   "source": [
    "### local 評価"
   ]
  },
  {
   "cell_type": "code",
   "execution_count": 443,
   "metadata": {},
   "outputs": [],
   "source": [
    "from sklearn.model_selection import train_test_split\n",
    "X_train, X_train_test, y_train, y_train_test = train_test_split(X, y, test_size=0.3)"
   ]
  },
  {
   "cell_type": "code",
   "execution_count": 444,
   "metadata": {},
   "outputs": [
    {
     "data": {
      "text/plain": [
       "LogisticRegression(C=1.0, class_weight=None, dual=False, fit_intercept=True,\n",
       "          intercept_scaling=1, max_iter=100, multi_class='ovr', n_jobs=1,\n",
       "          penalty='l2', random_state=None, solver='liblinear', tol=0.0001,\n",
       "          verbose=0, warm_start=False)"
      ]
     },
     "execution_count": 444,
     "metadata": {},
     "output_type": "execute_result"
    }
   ],
   "source": [
    "# ロジスティック回帰\n",
    "from sklearn.linear_model import LogisticRegression\n",
    "lr = LogisticRegression() \n",
    "lr.fit(X_train, y_train)"
   ]
  },
  {
   "cell_type": "code",
   "execution_count": 445,
   "metadata": {},
   "outputs": [
    {
     "data": {
      "text/plain": [
       "0.91231504787779505"
      ]
     },
     "execution_count": 445,
     "metadata": {},
     "output_type": "execute_result"
    }
   ],
   "source": [
    "#ローカルでのスコア\n",
    "lr.score(X_train_test, y_train_test)"
   ]
  },
  {
   "cell_type": "code",
   "execution_count": 446,
   "metadata": {},
   "outputs": [
    {
     "data": {
      "text/plain": [
       "array([ 0.13664629,  0.10029433,  0.13726905, ...,  0.03558072,\n",
       "        0.09802479,  0.02641591])"
      ]
     },
     "execution_count": 446,
     "metadata": {},
     "output_type": "execute_result"
    }
   ],
   "source": [
    "lr_pred_loc = lr.predict_proba(X_train_test)[:, 1]\n",
    "lr_pred_loc"
   ]
  },
  {
   "cell_type": "code",
   "execution_count": 447,
   "metadata": {},
   "outputs": [
    {
     "data": {
      "text/plain": [
       "0.55886257848344978"
      ]
     },
     "execution_count": 447,
     "metadata": {},
     "output_type": "execute_result"
    }
   ],
   "source": [
    "from sklearn.metrics import roc_auc_score\n",
    "roc_auc_score(y_train_test, lr_pred_loc)"
   ]
  },
  {
   "cell_type": "code",
   "execution_count": 448,
   "metadata": {},
   "outputs": [
    {
     "data": {
      "image/png": "[encoded data removed]",
      "text/plain": [
       "<matplotlib.figure.Figure at 0x194b5cac8>"
      ]
     },
     "metadata": {},
     "output_type": "display_data"
    }
   ],
   "source": [
    "from sklearn import metrics\n",
    "import matplotlib.pyplot as plt\n",
    "import numpy as np\n",
    "\n",
    "# FPR, TPR(, しきい値) を算出\n",
    "fpr, tpr, thresholds = metrics.roc_curve(y_train_test, lr_pred_loc)\n",
    "\n",
    "# ついでにAUCも\n",
    "auc = metrics.auc(fpr, tpr)\n",
    "\n",
    "# ROC曲線をプロット\n",
    "plt.plot(fpr, tpr, label ='ROC curve (area = %.2f)'%auc)\n",
    "plt.legend()\n",
    "plt.title('ROC curve')\n",
    "plt.xlabel('False Positive Rate')\n",
    "plt.ylabel('True Positive Rate')\n",
    "plt.grid(True)"
   ]
  },
  {
   "cell_type": "markdown",
   "metadata": {},
   "source": [
    "## Gradient Boosting Classifier"
   ]
  },
  {
   "cell_type": "code",
   "execution_count": 449,
   "metadata": {},
   "outputs": [],
   "source": [
    "from sklearn.ensemble import GradientBoostingClassifier\n",
    "import numpy as np\n",
    "\n",
    "gbc = GradientBoostingClassifier(n_estimators=100, learning_rate=0.1,\n",
    "        max_depth=1).fit(X, y)\n"
   ]
  },
  {
   "cell_type": "code",
   "execution_count": 463,
   "metadata": {},
   "outputs": [
    {
     "data": {
      "text/plain": [
       "array([ 0.076911  ,  0.08673437,  0.03910053, ...,  0.05026871,\n",
       "        0.05495184,  0.13041993])"
      ]
     },
     "execution_count": 463,
     "metadata": {},
     "output_type": "execute_result"
    }
   ],
   "source": [
    "gbc_pred = gbc.predict_proba(X_test)[:, 1]\n",
    "gbc_pred"
   ]
  },
  {
   "cell_type": "code",
   "execution_count": 464,
   "metadata": {},
   "outputs": [
    {
     "data": {
      "text/html": [
       "<div>\n",
       "<table border=\"1\" class=\"dataframe\">\n",
       "  <thead>\n",
       "    <tr style=\"text-align: right;\">\n",
       "      <th></th>\n",
       "      <th>SK_ID_CURR</th>\n",
       "      <th>TARGET</th>\n",
       "    </tr>\n",
       "  </thead>\n",
       "  <tbody>\n",
       "    <tr>\n",
       "      <th>307511</th>\n",
       "      <td>100001</td>\n",
       "      <td>0.076911</td>\n",
       "    </tr>\n",
       "    <tr>\n",
       "      <th>307512</th>\n",
       "      <td>100005</td>\n",
       "      <td>0.086734</td>\n",
       "    </tr>\n",
       "    <tr>\n",
       "      <th>307513</th>\n",
       "      <td>100013</td>\n",
       "      <td>0.039101</td>\n",
       "    </tr>\n",
       "    <tr>\n",
       "      <th>307514</th>\n",
       "      <td>100028</td>\n",
       "      <td>0.045330</td>\n",
       "    </tr>\n",
       "    <tr>\n",
       "      <th>307515</th>\n",
       "      <td>100038</td>\n",
       "      <td>0.106515</td>\n",
       "    </tr>\n",
       "    <tr>\n",
       "      <th>307516</th>\n",
       "      <td>100042</td>\n",
       "      <td>0.059057</td>\n",
       "    </tr>\n",
       "    <tr>\n",
       "      <th>307517</th>\n",
       "      <td>100057</td>\n",
       "      <td>0.033831</td>\n",
       "    </tr>\n",
       "    <tr>\n",
       "      <th>307518</th>\n",
       "      <td>100065</td>\n",
       "      <td>0.075222</td>\n",
       "    </tr>\n",
       "    <tr>\n",
       "      <th>307519</th>\n",
       "      <td>100066</td>\n",
       "      <td>0.034669</td>\n",
       "    </tr>\n",
       "    <tr>\n",
       "      <th>307520</th>\n",
       "      <td>100067</td>\n",
       "      <td>0.151875</td>\n",
       "    </tr>\n",
       "    <tr>\n",
       "      <th>307521</th>\n",
       "      <td>100074</td>\n",
       "      <td>0.093712</td>\n",
       "    </tr>\n",
       "    <tr>\n",
       "      <th>307522</th>\n",
       "      <td>100090</td>\n",
       "      <td>0.059741</td>\n",
       "    </tr>\n",
       "    <tr>\n",
       "      <th>307523</th>\n",
       "      <td>100091</td>\n",
       "      <td>0.095521</td>\n",
       "    </tr>\n",
       "    <tr>\n",
       "      <th>307524</th>\n",
       "      <td>100092</td>\n",
       "      <td>0.103052</td>\n",
       "    </tr>\n",
       "    <tr>\n",
       "      <th>307525</th>\n",
       "      <td>100106</td>\n",
       "      <td>0.054787</td>\n",
       "    </tr>\n",
       "    <tr>\n",
       "      <th>307526</th>\n",
       "      <td>100107</td>\n",
       "      <td>0.107408</td>\n",
       "    </tr>\n",
       "    <tr>\n",
       "      <th>307527</th>\n",
       "      <td>100109</td>\n",
       "      <td>0.056224</td>\n",
       "    </tr>\n",
       "    <tr>\n",
       "      <th>307528</th>\n",
       "      <td>100117</td>\n",
       "      <td>0.036484</td>\n",
       "    </tr>\n",
       "    <tr>\n",
       "      <th>307529</th>\n",
       "      <td>100128</td>\n",
       "      <td>0.104602</td>\n",
       "    </tr>\n",
       "    <tr>\n",
       "      <th>307530</th>\n",
       "      <td>100141</td>\n",
       "      <td>0.041402</td>\n",
       "    </tr>\n",
       "    <tr>\n",
       "      <th>307531</th>\n",
       "      <td>100150</td>\n",
       "      <td>0.028416</td>\n",
       "    </tr>\n",
       "    <tr>\n",
       "      <th>307532</th>\n",
       "      <td>100168</td>\n",
       "      <td>0.031073</td>\n",
       "    </tr>\n",
       "    <tr>\n",
       "      <th>307533</th>\n",
       "      <td>100169</td>\n",
       "      <td>0.096464</td>\n",
       "    </tr>\n",
       "    <tr>\n",
       "      <th>307534</th>\n",
       "      <td>100170</td>\n",
       "      <td>0.069974</td>\n",
       "    </tr>\n",
       "    <tr>\n",
       "      <th>307535</th>\n",
       "      <td>100171</td>\n",
       "      <td>0.036897</td>\n",
       "    </tr>\n",
       "    <tr>\n",
       "      <th>307536</th>\n",
       "      <td>100172</td>\n",
       "      <td>0.112057</td>\n",
       "    </tr>\n",
       "    <tr>\n",
       "      <th>307537</th>\n",
       "      <td>100184</td>\n",
       "      <td>0.122610</td>\n",
       "    </tr>\n",
       "    <tr>\n",
       "      <th>307538</th>\n",
       "      <td>100187</td>\n",
       "      <td>0.072504</td>\n",
       "    </tr>\n",
       "    <tr>\n",
       "      <th>307539</th>\n",
       "      <td>100212</td>\n",
       "      <td>0.065088</td>\n",
       "    </tr>\n",
       "    <tr>\n",
       "      <th>307540</th>\n",
       "      <td>100222</td>\n",
       "      <td>0.082469</td>\n",
       "    </tr>\n",
       "    <tr>\n",
       "      <th>...</th>\n",
       "      <td>...</td>\n",
       "      <td>...</td>\n",
       "    </tr>\n",
       "    <tr>\n",
       "      <th>356225</th>\n",
       "      <td>455963</td>\n",
       "      <td>0.036323</td>\n",
       "    </tr>\n",
       "    <tr>\n",
       "      <th>356226</th>\n",
       "      <td>455965</td>\n",
       "      <td>0.030150</td>\n",
       "    </tr>\n",
       "    <tr>\n",
       "      <th>356227</th>\n",
       "      <td>456007</td>\n",
       "      <td>0.221161</td>\n",
       "    </tr>\n",
       "    <tr>\n",
       "      <th>356228</th>\n",
       "      <td>456008</td>\n",
       "      <td>0.056888</td>\n",
       "    </tr>\n",
       "    <tr>\n",
       "      <th>356229</th>\n",
       "      <td>456009</td>\n",
       "      <td>0.045113</td>\n",
       "    </tr>\n",
       "    <tr>\n",
       "      <th>356230</th>\n",
       "      <td>456010</td>\n",
       "      <td>0.080408</td>\n",
       "    </tr>\n",
       "    <tr>\n",
       "      <th>356231</th>\n",
       "      <td>456011</td>\n",
       "      <td>0.036263</td>\n",
       "    </tr>\n",
       "    <tr>\n",
       "      <th>356232</th>\n",
       "      <td>456013</td>\n",
       "      <td>0.073069</td>\n",
       "    </tr>\n",
       "    <tr>\n",
       "      <th>356233</th>\n",
       "      <td>456028</td>\n",
       "      <td>0.116549</td>\n",
       "    </tr>\n",
       "    <tr>\n",
       "      <th>356234</th>\n",
       "      <td>456058</td>\n",
       "      <td>0.141071</td>\n",
       "    </tr>\n",
       "    <tr>\n",
       "      <th>356235</th>\n",
       "      <td>456111</td>\n",
       "      <td>0.142470</td>\n",
       "    </tr>\n",
       "    <tr>\n",
       "      <th>356236</th>\n",
       "      <td>456114</td>\n",
       "      <td>0.078483</td>\n",
       "    </tr>\n",
       "    <tr>\n",
       "      <th>356237</th>\n",
       "      <td>456115</td>\n",
       "      <td>0.058481</td>\n",
       "    </tr>\n",
       "    <tr>\n",
       "      <th>356238</th>\n",
       "      <td>456116</td>\n",
       "      <td>0.041864</td>\n",
       "    </tr>\n",
       "    <tr>\n",
       "      <th>356239</th>\n",
       "      <td>456119</td>\n",
       "      <td>0.036445</td>\n",
       "    </tr>\n",
       "    <tr>\n",
       "      <th>356240</th>\n",
       "      <td>456120</td>\n",
       "      <td>0.073429</td>\n",
       "    </tr>\n",
       "    <tr>\n",
       "      <th>356241</th>\n",
       "      <td>456122</td>\n",
       "      <td>0.100144</td>\n",
       "    </tr>\n",
       "    <tr>\n",
       "      <th>356242</th>\n",
       "      <td>456123</td>\n",
       "      <td>0.042257</td>\n",
       "    </tr>\n",
       "    <tr>\n",
       "      <th>356243</th>\n",
       "      <td>456166</td>\n",
       "      <td>0.107732</td>\n",
       "    </tr>\n",
       "    <tr>\n",
       "      <th>356244</th>\n",
       "      <td>456167</td>\n",
       "      <td>0.062964</td>\n",
       "    </tr>\n",
       "    <tr>\n",
       "      <th>356245</th>\n",
       "      <td>456168</td>\n",
       "      <td>0.066042</td>\n",
       "    </tr>\n",
       "    <tr>\n",
       "      <th>356246</th>\n",
       "      <td>456169</td>\n",
       "      <td>0.080521</td>\n",
       "    </tr>\n",
       "    <tr>\n",
       "      <th>356247</th>\n",
       "      <td>456170</td>\n",
       "      <td>0.037920</td>\n",
       "    </tr>\n",
       "    <tr>\n",
       "      <th>356248</th>\n",
       "      <td>456189</td>\n",
       "      <td>0.086613</td>\n",
       "    </tr>\n",
       "    <tr>\n",
       "      <th>356249</th>\n",
       "      <td>456202</td>\n",
       "      <td>0.130456</td>\n",
       "    </tr>\n",
       "    <tr>\n",
       "      <th>356250</th>\n",
       "      <td>456221</td>\n",
       "      <td>0.039255</td>\n",
       "    </tr>\n",
       "    <tr>\n",
       "      <th>356251</th>\n",
       "      <td>456222</td>\n",
       "      <td>0.060475</td>\n",
       "    </tr>\n",
       "    <tr>\n",
       "      <th>356252</th>\n",
       "      <td>456223</td>\n",
       "      <td>0.050269</td>\n",
       "    </tr>\n",
       "    <tr>\n",
       "      <th>356253</th>\n",
       "      <td>456224</td>\n",
       "      <td>0.054952</td>\n",
       "    </tr>\n",
       "    <tr>\n",
       "      <th>356254</th>\n",
       "      <td>456250</td>\n",
       "      <td>0.130420</td>\n",
       "    </tr>\n",
       "  </tbody>\n",
       "</table>\n",
       "<p>48744 rows × 2 columns</p>\n",
       "</div>"
      ],
      "text/plain": [
       "        SK_ID_CURR    TARGET\n",
       "307511      100001  0.076911\n",
       "307512      100005  0.086734\n",
       "307513      100013  0.039101\n",
       "307514      100028  0.045330\n",
       "307515      100038  0.106515\n",
       "307516      100042  0.059057\n",
       "307517      100057  0.033831\n",
       "307518      100065  0.075222\n",
       "307519      100066  0.034669\n",
       "307520      100067  0.151875\n",
       "307521      100074  0.093712\n",
       "307522      100090  0.059741\n",
       "307523      100091  0.095521\n",
       "307524      100092  0.103052\n",
       "307525      100106  0.054787\n",
       "307526      100107  0.107408\n",
       "307527      100109  0.056224\n",
       "307528      100117  0.036484\n",
       "307529      100128  0.104602\n",
       "307530      100141  0.041402\n",
       "307531      100150  0.028416\n",
       "307532      100168  0.031073\n",
       "307533      100169  0.096464\n",
       "307534      100170  0.069974\n",
       "307535      100171  0.036897\n",
       "307536      100172  0.112057\n",
       "307537      100184  0.122610\n",
       "307538      100187  0.072504\n",
       "307539      100212  0.065088\n",
       "307540      100222  0.082469\n",
       "...            ...       ...\n",
       "356225      455963  0.036323\n",
       "356226      455965  0.030150\n",
       "356227      456007  0.221161\n",
       "356228      456008  0.056888\n",
       "356229      456009  0.045113\n",
       "356230      456010  0.080408\n",
       "356231      456011  0.036263\n",
       "356232      456013  0.073069\n",
       "356233      456028  0.116549\n",
       "356234      456058  0.141071\n",
       "356235      456111  0.142470\n",
       "356236      456114  0.078483\n",
       "356237      456115  0.058481\n",
       "356238      456116  0.041864\n",
       "356239      456119  0.036445\n",
       "356240      456120  0.073429\n",
       "356241      456122  0.100144\n",
       "356242      456123  0.042257\n",
       "356243      456166  0.107732\n",
       "356244      456167  0.062964\n",
       "356245      456168  0.066042\n",
       "356246      456169  0.080521\n",
       "356247      456170  0.037920\n",
       "356248      456189  0.086613\n",
       "356249      456202  0.130456\n",
       "356250      456221  0.039255\n",
       "356251      456222  0.060475\n",
       "356252      456223  0.050269\n",
       "356253      456224  0.054952\n",
       "356254      456250  0.130420\n",
       "\n",
       "[48744 rows x 2 columns]"
      ]
     },
     "execution_count": 464,
     "metadata": {},
     "output_type": "execute_result"
    }
   ],
   "source": [
    "submission_gbc = pd.DataFrame({\n",
    "        \"SK_ID_CURR\": X_test[\"SK_ID_CURR\"],\n",
    "        \"TARGET\": gbc_pred\n",
    "    })\n",
    "submission_gbc"
   ]
  },
  {
   "cell_type": "code",
   "execution_count": 465,
   "metadata": {},
   "outputs": [],
   "source": [
    "#CSVへ吐き出す\n",
    "submission_gbc.to_csv('submission_gbm.csv')"
   ]
  },
  {
   "cell_type": "markdown",
   "metadata": {
    "code_folding": []
   },
   "source": [
    "### local 評価"
   ]
  },
  {
   "cell_type": "code",
   "execution_count": 453,
   "metadata": {},
   "outputs": [],
   "source": [
    "from sklearn.model_selection import train_test_split\n",
    "X_train, X_train_test, y_train, y_train_test = train_test_split(X, y, test_size=0.3)"
   ]
  },
  {
   "cell_type": "code",
   "execution_count": 454,
   "metadata": {},
   "outputs": [],
   "source": [
    "from sklearn.ensemble import GradientBoostingClassifier\n",
    "import numpy as np\n",
    "\n",
    "gbc = GradientBoostingClassifier(n_estimators=100, learning_rate=0.1,\n",
    "        max_depth=1).fit(X_train, y_train)"
   ]
  },
  {
   "cell_type": "code",
   "execution_count": 455,
   "metadata": {},
   "outputs": [
    {
     "data": {
      "text/plain": [
       "0.91315407460678943"
      ]
     },
     "execution_count": 455,
     "metadata": {},
     "output_type": "execute_result"
    }
   ],
   "source": [
    "#ローカルでのスコア\n",
    "gbc.score(X_train_test, y_train_test)"
   ]
  },
  {
   "cell_type": "code",
   "execution_count": 456,
   "metadata": {},
   "outputs": [
    {
     "data": {
      "text/plain": [
       "array([ 0.24250041,  0.04507035,  0.06136326, ...,  0.04918448,\n",
       "        0.06606855,  0.03314358])"
      ]
     },
     "execution_count": 456,
     "metadata": {},
     "output_type": "execute_result"
    }
   ],
   "source": [
    "gbc_pred_loc = gbc.predict_proba(X_train_test)[:, 1]\n",
    "gbc_pred_loc"
   ]
  },
  {
   "cell_type": "code",
   "execution_count": 457,
   "metadata": {},
   "outputs": [
    {
     "data": {
      "text/plain": [
       "0.73139111484545971"
      ]
     },
     "execution_count": 457,
     "metadata": {},
     "output_type": "execute_result"
    }
   ],
   "source": [
    "from sklearn.metrics import roc_auc_score\n",
    "roc_auc_score(y_train_test, gbc_pred_loc)"
   ]
  },
  {
   "cell_type": "code",
   "execution_count": 458,
   "metadata": {
    "scrolled": true
   },
   "outputs": [
    {
     "data": {
      "image/png": "[encoded data removed]",
      "text/plain": [
       "<matplotlib.figure.Figure at 0x1952f1c50>"
      ]
     },
     "metadata": {},
     "output_type": "display_data"
    }
   ],
   "source": [
    "from sklearn import metrics\n",
    "import matplotlib.pyplot as plt\n",
    "import numpy as np\n",
    "\n",
    "# FPR, TPR(, しきい値) を算出\n",
    "fpr, tpr, thresholds = metrics.roc_curve(y_train_test, gbc_pred_loc)\n",
    "\n",
    "# ついでにAUCも\n",
    "auc = metrics.auc(fpr, tpr)\n",
    "\n",
    "# ROC曲線をプロット\n",
    "plt.plot(fpr, tpr, label ='ROC curve (area = %.2f)'%auc)\n",
    "plt.legend()\n",
    "plt.title('ROC curve')\n",
    "plt.xlabel('False Positive Rate')\n",
    "plt.ylabel('True Positive Rate')\n",
    "plt.grid(True)"
   ]
  },
  {
   "cell_type": "markdown",
   "metadata": {},
   "source": [
    "## Naive Bayes"
   ]
  },
  {
   "cell_type": "code",
   "execution_count": null,
   "metadata": {},
   "outputs": [],
   "source": [
    "import numpy as np\n",
    "from sklearn.naive_bayes import GaussianNB # ガウシアン\n",
    "# 正規分布を仮定したベイズ分類\n",
    "gnb = GaussianNB() \n",
    "gnb.fit(X, y) # 学習をする\n"
   ]
  },
  {
   "cell_type": "code",
   "execution_count": null,
   "metadata": {},
   "outputs": [],
   "source": [
    "gnb_pred = gnb.predict_proba(X_test)[:, 1]\n",
    "gnb_pred"
   ]
  },
  {
   "cell_type": "code",
   "execution_count": null,
   "metadata": {},
   "outputs": [],
   "source": [
    "submission_gnb = pd.DataFrame({\n",
    "        \"SK_ID_CURR\": X_test[\"SK_ID_CURR\"],\n",
    "        \"TARGET\": gnb_pred\n",
    "    })\n",
    "submission_gnb"
   ]
  },
  {
   "cell_type": "code",
   "execution_count": null,
   "metadata": {},
   "outputs": [],
   "source": [
    "#CSVへ吐き出す\n",
    "submission_gnb.to_csv('submission_gnb.csv')"
   ]
  },
  {
   "cell_type": "markdown",
   "metadata": {},
   "source": [
    "### local 評価"
   ]
  },
  {
   "cell_type": "code",
   "execution_count": null,
   "metadata": {},
   "outputs": [],
   "source": [
    "from sklearn.model_selection import train_test_split\n",
    "X_train, X_train_test, y_train, y_train_test = train_test_split(X, y, test_size=0.3)"
   ]
  },
  {
   "cell_type": "code",
   "execution_count": null,
   "metadata": {},
   "outputs": [],
   "source": [
    "import numpy as np\n",
    "from sklearn.naive_bayes import GaussianNB # ガウシアン\n",
    "# 正規分布を仮定したベイズ分類\n",
    "gnb = GaussianNB() \n",
    "gnb.fit(X_train, y_train) # 学習をする"
   ]
  },
  {
   "cell_type": "code",
   "execution_count": null,
   "metadata": {},
   "outputs": [],
   "source": [
    "#ローカルでのスコア\n",
    "gnb.score(X_train_test, y_train_test)"
   ]
  },
  {
   "cell_type": "code",
   "execution_count": null,
   "metadata": {},
   "outputs": [],
   "source": [
    "gnb_pred_loc = gnb.predict_proba(X_train_test)[:, 1]\n",
    "gnb_pred_loc"
   ]
  },
  {
   "cell_type": "code",
   "execution_count": null,
   "metadata": {},
   "outputs": [],
   "source": [
    "from sklearn.metrics import roc_auc_score\n",
    "roc_auc_score(y_train_test, gnb_pred_loc)"
   ]
  },
  {
   "cell_type": "code",
   "execution_count": null,
   "metadata": {},
   "outputs": [],
   "source": [
    "from sklearn import metrics\n",
    "import matplotlib.pyplot as plt\n",
    "import numpy as np\n",
    "\n",
    "# FPR, TPR(, しきい値) を算出\n",
    "fpr, tpr, thresholds = metrics.roc_curve(y_train_test, gnb_pred_loc)\n",
    "\n",
    "# ついでにAUCも\n",
    "auc = metrics.auc(fpr, tpr)\n",
    "\n",
    "# ROC曲線をプロット\n",
    "plt.plot(fpr, tpr, label ='ROC curve (area = %.2f)'%auc)\n",
    "plt.legend()\n",
    "plt.title('ROC curve')\n",
    "plt.xlabel('False Positive Rate')\n",
    "plt.ylabel('True Positive Rate')\n",
    "plt.grid(True)"
   ]
  }
 ],
 "metadata": {
  "kernelspec": {
   "display_name": "Python 3",
   "language": "python",
   "name": "python3"
  },
  "language_info": {
   "codemirror_mode": {
    "name": "ipython",
    "version": 3
   },
   "file_extension": ".py",
   "mimetype": "text/x-python",
   "name": "python",
   "nbconvert_exporter": "python",
   "pygments_lexer": "ipython3",
   "version": "3.6.0"
  },
  "latex_envs": {
   "LaTeX_envs_menu_present": true,
   "autoclose": false,
   "autocomplete": true,
   "bibliofile": "biblio.bib",
   "cite_by": "apalike",
   "current_citInitial": 1,
   "eqLabelWithNumbers": true,
   "eqNumInitial": 1,
   "hotkeys": {
    "equation": "Ctrl-E",
    "itemize": "Ctrl-I"
   },
   "labels_anchors": false,
   "latex_user_defs": false,
   "report_style_numbering": false,
   "user_envs_cfg": false
  },
  "toc": {
   "base_numbering": 1,
   "nav_menu": {},
   "number_sections": true,
   "sideBar": true,
   "skip_h1_title": false,
   "title_cell": "Table of Contents",
   "title_sidebar": "Contents",
   "toc_cell": false,
   "toc_position": {
    "height": "calc(100% - 180px)",
    "left": "10px",
    "top": "150px",
    "width": "165px"
   },
   "toc_section_display": true,
   "toc_window_display": true
  }
 },
 "nbformat": 4,
 "nbformat_minor": 2
}
