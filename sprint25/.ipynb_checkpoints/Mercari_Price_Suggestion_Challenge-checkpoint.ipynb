{
 "cells": [
  {
   "cell_type": "markdown",
   "metadata": {},
   "source": [
    "# importする"
   ]
  },
  {
   "cell_type": "code",
   "execution_count": 151,
   "metadata": {},
   "outputs": [],
   "source": [
    "import pandas as pd\n",
    "import numpy as np\n",
    "import matplotlib.pyplot as plt\n",
    "import seaborn as sns"
   ]
  },
  {
   "cell_type": "code",
   "execution_count": 152,
   "metadata": {},
   "outputs": [
    {
     "name": "stdout",
     "output_type": "stream",
     "text": [
      "300features_40minwords_10context\r\n",
      "Mercari_Price_Suggestion_Challenge.ipynb\r\n",
      "\u001b[34m_finish\u001b[m\u001b[m\r\n",
      "one_word\r\n",
      "sample_submission.csv\r\n",
      "\u001b[31msample_submission_stg2.csv\u001b[m\u001b[m\r\n",
      "submit_rf_base.csv\r\n",
      "test.tsv\r\n",
      "\u001b[31mtest_stg2.tsv\u001b[m\u001b[m\r\n",
      "train.tsv\r\n"
     ]
    }
   ],
   "source": [
    "!ls"
   ]
  },
  {
   "cell_type": "code",
   "execution_count": 153,
   "metadata": {},
   "outputs": [],
   "source": [
    "sample_submission = pd.read_csv('sample_submission.csv')\n",
    "sample_submission_stg2 = pd.read_csv('sample_submission_stg2.csv')\n",
    "train = pd.read_csv('train.tsv', delimiter='\\t' )\n",
    "test = pd.read_csv('test.tsv', delimiter='\\t' )\n",
    "test_stg2 = pd.read_csv('test_stg2.tsv', delimiter='\\t' )"
   ]
  },
  {
   "cell_type": "code",
   "execution_count": 154,
   "metadata": {},
   "outputs": [
    {
     "data": {
      "text/plain": [
       "((693359, 2), (1482535, 8), (693359, 7))"
      ]
     },
     "execution_count": 154,
     "metadata": {},
     "output_type": "execute_result"
    }
   ],
   "source": [
    "sample_submission.shape, train.shape, test.shape"
   ]
  },
  {
   "cell_type": "code",
   "execution_count": 155,
   "metadata": {},
   "outputs": [
    {
     "data": {
      "text/html": [
       "<div>\n",
       "<table border=\"1\" class=\"dataframe\">\n",
       "  <thead>\n",
       "    <tr style=\"text-align: right;\">\n",
       "      <th></th>\n",
       "      <th>test_id</th>\n",
       "      <th>price</th>\n",
       "    </tr>\n",
       "  </thead>\n",
       "  <tbody>\n",
       "    <tr>\n",
       "      <th>0</th>\n",
       "      <td>0</td>\n",
       "      <td>26.738</td>\n",
       "    </tr>\n",
       "    <tr>\n",
       "      <th>1</th>\n",
       "      <td>1</td>\n",
       "      <td>26.738</td>\n",
       "    </tr>\n",
       "    <tr>\n",
       "      <th>2</th>\n",
       "      <td>2</td>\n",
       "      <td>26.738</td>\n",
       "    </tr>\n",
       "    <tr>\n",
       "      <th>3</th>\n",
       "      <td>3</td>\n",
       "      <td>26.738</td>\n",
       "    </tr>\n",
       "    <tr>\n",
       "      <th>4</th>\n",
       "      <td>4</td>\n",
       "      <td>26.738</td>\n",
       "    </tr>\n",
       "  </tbody>\n",
       "</table>\n",
       "</div>"
      ],
      "text/plain": [
       "   test_id   price\n",
       "0        0  26.738\n",
       "1        1  26.738\n",
       "2        2  26.738\n",
       "3        3  26.738\n",
       "4        4  26.738"
      ]
     },
     "execution_count": 155,
     "metadata": {},
     "output_type": "execute_result"
    }
   ],
   "source": [
    "sample_submission.head()"
   ]
  },
  {
   "cell_type": "raw",
   "metadata": {},
   "source": [
    "sample_submission_stg2.head()"
   ]
  },
  {
   "cell_type": "markdown",
   "metadata": {},
   "source": [
    "## まず中身を眺める"
   ]
  },
  {
   "cell_type": "code",
   "execution_count": 156,
   "metadata": {
    "scrolled": true
   },
   "outputs": [
    {
     "data": {
      "text/html": [
       "<div>\n",
       "<table border=\"1\" class=\"dataframe\">\n",
       "  <thead>\n",
       "    <tr style=\"text-align: right;\">\n",
       "      <th></th>\n",
       "      <th>train_id</th>\n",
       "      <th>name</th>\n",
       "      <th>item_condition_id</th>\n",
       "      <th>category_name</th>\n",
       "      <th>brand_name</th>\n",
       "      <th>price</th>\n",
       "      <th>shipping</th>\n",
       "      <th>item_description</th>\n",
       "    </tr>\n",
       "  </thead>\n",
       "  <tbody>\n",
       "    <tr>\n",
       "      <th>0</th>\n",
       "      <td>0</td>\n",
       "      <td>MLB Cincinnati Reds T Shirt Size XL</td>\n",
       "      <td>3</td>\n",
       "      <td>Men/Tops/T-shirts</td>\n",
       "      <td>NaN</td>\n",
       "      <td>10.0</td>\n",
       "      <td>1</td>\n",
       "      <td>No description yet</td>\n",
       "    </tr>\n",
       "    <tr>\n",
       "      <th>1</th>\n",
       "      <td>1</td>\n",
       "      <td>Razer BlackWidow Chroma Keyboard</td>\n",
       "      <td>3</td>\n",
       "      <td>Electronics/Computers &amp; Tablets/Components &amp; P...</td>\n",
       "      <td>Razer</td>\n",
       "      <td>52.0</td>\n",
       "      <td>0</td>\n",
       "      <td>This keyboard is in great condition and works ...</td>\n",
       "    </tr>\n",
       "    <tr>\n",
       "      <th>2</th>\n",
       "      <td>2</td>\n",
       "      <td>AVA-VIV Blouse</td>\n",
       "      <td>1</td>\n",
       "      <td>Women/Tops &amp; Blouses/Blouse</td>\n",
       "      <td>Target</td>\n",
       "      <td>10.0</td>\n",
       "      <td>1</td>\n",
       "      <td>Adorable top with a hint of lace and a key hol...</td>\n",
       "    </tr>\n",
       "    <tr>\n",
       "      <th>3</th>\n",
       "      <td>3</td>\n",
       "      <td>Leather Horse Statues</td>\n",
       "      <td>1</td>\n",
       "      <td>Home/Home Décor/Home Décor Accents</td>\n",
       "      <td>NaN</td>\n",
       "      <td>35.0</td>\n",
       "      <td>1</td>\n",
       "      <td>New with tags. Leather horses. Retail for [rm]...</td>\n",
       "    </tr>\n",
       "    <tr>\n",
       "      <th>4</th>\n",
       "      <td>4</td>\n",
       "      <td>24K GOLD plated rose</td>\n",
       "      <td>1</td>\n",
       "      <td>Women/Jewelry/Necklaces</td>\n",
       "      <td>NaN</td>\n",
       "      <td>44.0</td>\n",
       "      <td>0</td>\n",
       "      <td>Complete with certificate of authenticity</td>\n",
       "    </tr>\n",
       "    <tr>\n",
       "      <th>5</th>\n",
       "      <td>5</td>\n",
       "      <td>Bundled items requested for Ruie</td>\n",
       "      <td>3</td>\n",
       "      <td>Women/Other/Other</td>\n",
       "      <td>NaN</td>\n",
       "      <td>59.0</td>\n",
       "      <td>0</td>\n",
       "      <td>Banana republic bottoms, Candies skirt with ma...</td>\n",
       "    </tr>\n",
       "    <tr>\n",
       "      <th>6</th>\n",
       "      <td>6</td>\n",
       "      <td>Acacia pacific tides santorini top</td>\n",
       "      <td>3</td>\n",
       "      <td>Women/Swimwear/Two-Piece</td>\n",
       "      <td>Acacia Swimwear</td>\n",
       "      <td>64.0</td>\n",
       "      <td>0</td>\n",
       "      <td>Size small but straps slightly shortened to fi...</td>\n",
       "    </tr>\n",
       "    <tr>\n",
       "      <th>7</th>\n",
       "      <td>7</td>\n",
       "      <td>Girls cheer and tumbling bundle of 7</td>\n",
       "      <td>3</td>\n",
       "      <td>Sports &amp; Outdoors/Apparel/Girls</td>\n",
       "      <td>Soffe</td>\n",
       "      <td>6.0</td>\n",
       "      <td>1</td>\n",
       "      <td>You get three pairs of Sophie cheer shorts siz...</td>\n",
       "    </tr>\n",
       "    <tr>\n",
       "      <th>8</th>\n",
       "      <td>8</td>\n",
       "      <td>Girls Nike Pro shorts</td>\n",
       "      <td>3</td>\n",
       "      <td>Sports &amp; Outdoors/Apparel/Girls</td>\n",
       "      <td>Nike</td>\n",
       "      <td>19.0</td>\n",
       "      <td>0</td>\n",
       "      <td>Girls Size small Plus green. Three shorts total.</td>\n",
       "    </tr>\n",
       "    <tr>\n",
       "      <th>9</th>\n",
       "      <td>9</td>\n",
       "      <td>Porcelain clown doll checker pants VTG</td>\n",
       "      <td>3</td>\n",
       "      <td>Vintage &amp; Collectibles/Collectibles/Doll</td>\n",
       "      <td>NaN</td>\n",
       "      <td>8.0</td>\n",
       "      <td>0</td>\n",
       "      <td>I realized his pants are on backwards after th...</td>\n",
       "    </tr>\n",
       "    <tr>\n",
       "      <th>10</th>\n",
       "      <td>10</td>\n",
       "      <td>Smashbox primer</td>\n",
       "      <td>2</td>\n",
       "      <td>Beauty/Makeup/Face</td>\n",
       "      <td>Smashbox</td>\n",
       "      <td>8.0</td>\n",
       "      <td>1</td>\n",
       "      <td>0.25 oz Full size is 1oz for [rm] in Sephora</td>\n",
       "    </tr>\n",
       "    <tr>\n",
       "      <th>11</th>\n",
       "      <td>11</td>\n",
       "      <td>New vs pi k body mists</td>\n",
       "      <td>1</td>\n",
       "      <td>Beauty/Fragrance/Women</td>\n",
       "      <td>Victoria's Secret</td>\n",
       "      <td>34.0</td>\n",
       "      <td>0</td>\n",
       "      <td>(5) new vs pink body mists (2.5 oz each) Fresh...</td>\n",
       "    </tr>\n",
       "    <tr>\n",
       "      <th>12</th>\n",
       "      <td>12</td>\n",
       "      <td>Black Skater dress</td>\n",
       "      <td>2</td>\n",
       "      <td>Women/Dresses/Above Knee, Mini</td>\n",
       "      <td>rue</td>\n",
       "      <td>16.0</td>\n",
       "      <td>0</td>\n",
       "      <td>Xl, great condition</td>\n",
       "    </tr>\n",
       "    <tr>\n",
       "      <th>13</th>\n",
       "      <td>13</td>\n",
       "      <td>Sharpener and eraser</td>\n",
       "      <td>1</td>\n",
       "      <td>Other/Office supplies/School Supplies</td>\n",
       "      <td>Scholastic</td>\n",
       "      <td>4.0</td>\n",
       "      <td>1</td>\n",
       "      <td>No description yet</td>\n",
       "    </tr>\n",
       "    <tr>\n",
       "      <th>14</th>\n",
       "      <td>14</td>\n",
       "      <td>HOLD for Dogs2016 Minnetonka boots</td>\n",
       "      <td>3</td>\n",
       "      <td>Women/Shoes/Boots</td>\n",
       "      <td>UGG Australia</td>\n",
       "      <td>43.0</td>\n",
       "      <td>0</td>\n",
       "      <td>Authentic. Suede fringe boots. Great condition...</td>\n",
       "    </tr>\n",
       "    <tr>\n",
       "      <th>15</th>\n",
       "      <td>15</td>\n",
       "      <td>Sephora tarte birthday gift</td>\n",
       "      <td>1</td>\n",
       "      <td>Beauty/Makeup/Makeup Sets</td>\n",
       "      <td>Tarte</td>\n",
       "      <td>11.0</td>\n",
       "      <td>1</td>\n",
       "      <td>Brand new. Deluxe travel size products. Contai...</td>\n",
       "    </tr>\n",
       "    <tr>\n",
       "      <th>16</th>\n",
       "      <td>16</td>\n",
       "      <td>Glitter Eyeshadow</td>\n",
       "      <td>1</td>\n",
       "      <td>Beauty/Makeup/Eyes</td>\n",
       "      <td>Wet n Wild</td>\n",
       "      <td>6.0</td>\n",
       "      <td>1</td>\n",
       "      <td>2 glitter eyeshadows; one in Brass and one in ...</td>\n",
       "    </tr>\n",
       "    <tr>\n",
       "      <th>17</th>\n",
       "      <td>17</td>\n",
       "      <td>New: Baby K'tan active baby carrier</td>\n",
       "      <td>1</td>\n",
       "      <td>Kids/Gear/Backpacks &amp; Carriers</td>\n",
       "      <td>NaN</td>\n",
       "      <td>29.0</td>\n",
       "      <td>1</td>\n",
       "      <td>Brand new in box Size: Medium Color: Coral Ret...</td>\n",
       "    </tr>\n",
       "    <tr>\n",
       "      <th>18</th>\n",
       "      <td>18</td>\n",
       "      <td>Too Faced Limited \"Merry Macaroons\"</td>\n",
       "      <td>1</td>\n",
       "      <td>Beauty/Makeup/Makeup Palettes</td>\n",
       "      <td>Too Faced</td>\n",
       "      <td>25.0</td>\n",
       "      <td>1</td>\n",
       "      <td>This AUTHENTIC pallete by Too Faced is brand n...</td>\n",
       "    </tr>\n",
       "    <tr>\n",
       "      <th>19</th>\n",
       "      <td>19</td>\n",
       "      <td>Cream/ Beige Front Cross Shirt</td>\n",
       "      <td>2</td>\n",
       "      <td>Women/Tops &amp; Blouses/Blouse</td>\n",
       "      <td>Anthropologie</td>\n",
       "      <td>27.0</td>\n",
       "      <td>0</td>\n",
       "      <td>Fancy, dressy or casual! Dress it up or down 1...</td>\n",
       "    </tr>\n",
       "  </tbody>\n",
       "</table>\n",
       "</div>"
      ],
      "text/plain": [
       "    train_id                                    name  item_condition_id  \\\n",
       "0          0     MLB Cincinnati Reds T Shirt Size XL                  3   \n",
       "1          1        Razer BlackWidow Chroma Keyboard                  3   \n",
       "2          2                          AVA-VIV Blouse                  1   \n",
       "3          3                   Leather Horse Statues                  1   \n",
       "4          4                    24K GOLD plated rose                  1   \n",
       "5          5        Bundled items requested for Ruie                  3   \n",
       "6          6      Acacia pacific tides santorini top                  3   \n",
       "7          7    Girls cheer and tumbling bundle of 7                  3   \n",
       "8          8                   Girls Nike Pro shorts                  3   \n",
       "9          9  Porcelain clown doll checker pants VTG                  3   \n",
       "10        10                         Smashbox primer                  2   \n",
       "11        11                  New vs pi k body mists                  1   \n",
       "12        12                      Black Skater dress                  2   \n",
       "13        13                    Sharpener and eraser                  1   \n",
       "14        14      HOLD for Dogs2016 Minnetonka boots                  3   \n",
       "15        15             Sephora tarte birthday gift                  1   \n",
       "16        16                       Glitter Eyeshadow                  1   \n",
       "17        17     New: Baby K'tan active baby carrier                  1   \n",
       "18        18     Too Faced Limited \"Merry Macaroons\"                  1   \n",
       "19        19          Cream/ Beige Front Cross Shirt                  2   \n",
       "\n",
       "                                        category_name         brand_name  \\\n",
       "0                                   Men/Tops/T-shirts                NaN   \n",
       "1   Electronics/Computers & Tablets/Components & P...              Razer   \n",
       "2                         Women/Tops & Blouses/Blouse             Target   \n",
       "3                  Home/Home Décor/Home Décor Accents                NaN   \n",
       "4                             Women/Jewelry/Necklaces                NaN   \n",
       "5                                   Women/Other/Other                NaN   \n",
       "6                            Women/Swimwear/Two-Piece    Acacia Swimwear   \n",
       "7                     Sports & Outdoors/Apparel/Girls              Soffe   \n",
       "8                     Sports & Outdoors/Apparel/Girls               Nike   \n",
       "9            Vintage & Collectibles/Collectibles/Doll                NaN   \n",
       "10                                 Beauty/Makeup/Face           Smashbox   \n",
       "11                             Beauty/Fragrance/Women  Victoria's Secret   \n",
       "12                     Women/Dresses/Above Knee, Mini                rue   \n",
       "13              Other/Office supplies/School Supplies         Scholastic   \n",
       "14                                  Women/Shoes/Boots      UGG Australia   \n",
       "15                          Beauty/Makeup/Makeup Sets              Tarte   \n",
       "16                                 Beauty/Makeup/Eyes         Wet n Wild   \n",
       "17                     Kids/Gear/Backpacks & Carriers                NaN   \n",
       "18                      Beauty/Makeup/Makeup Palettes          Too Faced   \n",
       "19                        Women/Tops & Blouses/Blouse      Anthropologie   \n",
       "\n",
       "    price  shipping                                   item_description  \n",
       "0    10.0         1                                 No description yet  \n",
       "1    52.0         0  This keyboard is in great condition and works ...  \n",
       "2    10.0         1  Adorable top with a hint of lace and a key hol...  \n",
       "3    35.0         1  New with tags. Leather horses. Retail for [rm]...  \n",
       "4    44.0         0          Complete with certificate of authenticity  \n",
       "5    59.0         0  Banana republic bottoms, Candies skirt with ma...  \n",
       "6    64.0         0  Size small but straps slightly shortened to fi...  \n",
       "7     6.0         1  You get three pairs of Sophie cheer shorts siz...  \n",
       "8    19.0         0   Girls Size small Plus green. Three shorts total.  \n",
       "9     8.0         0  I realized his pants are on backwards after th...  \n",
       "10    8.0         1       0.25 oz Full size is 1oz for [rm] in Sephora  \n",
       "11   34.0         0  (5) new vs pink body mists (2.5 oz each) Fresh...  \n",
       "12   16.0         0                                Xl, great condition  \n",
       "13    4.0         1                                 No description yet  \n",
       "14   43.0         0  Authentic. Suede fringe boots. Great condition...  \n",
       "15   11.0         1  Brand new. Deluxe travel size products. Contai...  \n",
       "16    6.0         1  2 glitter eyeshadows; one in Brass and one in ...  \n",
       "17   29.0         1  Brand new in box Size: Medium Color: Coral Ret...  \n",
       "18   25.0         1  This AUTHENTIC pallete by Too Faced is brand n...  \n",
       "19   27.0         0  Fancy, dressy or casual! Dress it up or down 1...  "
      ]
     },
     "execution_count": 156,
     "metadata": {},
     "output_type": "execute_result"
    }
   ],
   "source": [
    "train.head(20)"
   ]
  },
  {
   "cell_type": "markdown",
   "metadata": {},
   "source": [
    "## infoをみる"
   ]
  },
  {
   "cell_type": "code",
   "execution_count": 157,
   "metadata": {},
   "outputs": [
    {
     "name": "stdout",
     "output_type": "stream",
     "text": [
      "<class 'pandas.core.frame.DataFrame'>\n",
      "RangeIndex: 1482535 entries, 0 to 1482534\n",
      "Data columns (total 8 columns):\n",
      "train_id             1482535 non-null int64\n",
      "name                 1482535 non-null object\n",
      "item_condition_id    1482535 non-null int64\n",
      "category_name        1476208 non-null object\n",
      "brand_name           849853 non-null object\n",
      "price                1482535 non-null float64\n",
      "shipping             1482535 non-null int64\n",
      "item_description     1482531 non-null object\n",
      "dtypes: float64(1), int64(3), object(4)\n",
      "memory usage: 90.5+ MB\n"
     ]
    }
   ],
   "source": [
    "train.info()"
   ]
  },
  {
   "cell_type": "code",
   "execution_count": 158,
   "metadata": {
    "scrolled": true
   },
   "outputs": [
    {
     "data": {
      "text/plain": [
       "train_id             False\n",
       "name                 False\n",
       "item_condition_id    False\n",
       "category_name         True\n",
       "brand_name            True\n",
       "price                False\n",
       "shipping             False\n",
       "item_description      True\n",
       "dtype: bool"
      ]
     },
     "execution_count": 158,
     "metadata": {},
     "output_type": "execute_result"
    }
   ],
   "source": [
    "train.isnull().any()"
   ]
  },
  {
   "cell_type": "markdown",
   "metadata": {},
   "source": [
    "## 欠損だけ処理する"
   ]
  },
  {
   "cell_type": "code",
   "execution_count": 159,
   "metadata": {},
   "outputs": [],
   "source": [
    "def fill_missing_data(data):\n",
    "    data.category_name.fillna(value = \"Other/Other/Other\", inplace = True)\n",
    "    data.brand_name.fillna(value = \"Unknown\", inplace = True)\n",
    "    data.item_description.fillna(value = \"No description yet\", inplace = True)\n",
    "    return data\n",
    "\n",
    "train = fill_missing_data(train)"
   ]
  },
  {
   "cell_type": "markdown",
   "metadata": {},
   "source": [
    "## Numerical Featureだけ、中身をチェックする"
   ]
  },
  {
   "cell_type": "code",
   "execution_count": 160,
   "metadata": {},
   "outputs": [
    {
     "data": {
      "text/html": [
       "<div>\n",
       "<table border=\"1\" class=\"dataframe\">\n",
       "  <thead>\n",
       "    <tr style=\"text-align: right;\">\n",
       "      <th></th>\n",
       "      <th>train_id</th>\n",
       "      <th>item_condition_id</th>\n",
       "      <th>price</th>\n",
       "      <th>shipping</th>\n",
       "    </tr>\n",
       "  </thead>\n",
       "  <tbody>\n",
       "    <tr>\n",
       "      <th>count</th>\n",
       "      <td>1.482535e+06</td>\n",
       "      <td>1.482535e+06</td>\n",
       "      <td>1.482535e+06</td>\n",
       "      <td>1.482535e+06</td>\n",
       "    </tr>\n",
       "    <tr>\n",
       "      <th>mean</th>\n",
       "      <td>7.412670e+05</td>\n",
       "      <td>1.907380e+00</td>\n",
       "      <td>2.673752e+01</td>\n",
       "      <td>4.472744e-01</td>\n",
       "    </tr>\n",
       "    <tr>\n",
       "      <th>std</th>\n",
       "      <td>4.279711e+05</td>\n",
       "      <td>9.031586e-01</td>\n",
       "      <td>3.858607e+01</td>\n",
       "      <td>4.972124e-01</td>\n",
       "    </tr>\n",
       "    <tr>\n",
       "      <th>min</th>\n",
       "      <td>0.000000e+00</td>\n",
       "      <td>1.000000e+00</td>\n",
       "      <td>0.000000e+00</td>\n",
       "      <td>0.000000e+00</td>\n",
       "    </tr>\n",
       "    <tr>\n",
       "      <th>25%</th>\n",
       "      <td>3.706335e+05</td>\n",
       "      <td>1.000000e+00</td>\n",
       "      <td>1.000000e+01</td>\n",
       "      <td>0.000000e+00</td>\n",
       "    </tr>\n",
       "    <tr>\n",
       "      <th>50%</th>\n",
       "      <td>7.412670e+05</td>\n",
       "      <td>2.000000e+00</td>\n",
       "      <td>1.700000e+01</td>\n",
       "      <td>0.000000e+00</td>\n",
       "    </tr>\n",
       "    <tr>\n",
       "      <th>75%</th>\n",
       "      <td>1.111900e+06</td>\n",
       "      <td>3.000000e+00</td>\n",
       "      <td>2.900000e+01</td>\n",
       "      <td>1.000000e+00</td>\n",
       "    </tr>\n",
       "    <tr>\n",
       "      <th>max</th>\n",
       "      <td>1.482534e+06</td>\n",
       "      <td>5.000000e+00</td>\n",
       "      <td>2.009000e+03</td>\n",
       "      <td>1.000000e+00</td>\n",
       "    </tr>\n",
       "  </tbody>\n",
       "</table>\n",
       "</div>"
      ],
      "text/plain": [
       "           train_id  item_condition_id         price      shipping\n",
       "count  1.482535e+06       1.482535e+06  1.482535e+06  1.482535e+06\n",
       "mean   7.412670e+05       1.907380e+00  2.673752e+01  4.472744e-01\n",
       "std    4.279711e+05       9.031586e-01  3.858607e+01  4.972124e-01\n",
       "min    0.000000e+00       1.000000e+00  0.000000e+00  0.000000e+00\n",
       "25%    3.706335e+05       1.000000e+00  1.000000e+01  0.000000e+00\n",
       "50%    7.412670e+05       2.000000e+00  1.700000e+01  0.000000e+00\n",
       "75%    1.111900e+06       3.000000e+00  2.900000e+01  1.000000e+00\n",
       "max    1.482534e+06       5.000000e+00  2.009000e+03  1.000000e+00"
      ]
     },
     "execution_count": 160,
     "metadata": {},
     "output_type": "execute_result"
    }
   ],
   "source": [
    "train.describe()"
   ]
  },
  {
   "cell_type": "code",
   "execution_count": 161,
   "metadata": {},
   "outputs": [
    {
     "data": {
      "text/html": [
       "<div>\n",
       "<table border=\"1\" class=\"dataframe\">\n",
       "  <thead>\n",
       "    <tr style=\"text-align: right;\">\n",
       "      <th></th>\n",
       "      <th>train_id</th>\n",
       "      <th>name</th>\n",
       "      <th>item_condition_id</th>\n",
       "      <th>category_name</th>\n",
       "      <th>brand_name</th>\n",
       "      <th>price</th>\n",
       "      <th>shipping</th>\n",
       "      <th>item_description</th>\n",
       "    </tr>\n",
       "  </thead>\n",
       "  <tbody>\n",
       "    <tr>\n",
       "      <th>0</th>\n",
       "      <td>0</td>\n",
       "      <td>MLB Cincinnati Reds T Shirt Size XL</td>\n",
       "      <td>3</td>\n",
       "      <td>Men/Tops/T-shirts</td>\n",
       "      <td>Unknown</td>\n",
       "      <td>10.0</td>\n",
       "      <td>1</td>\n",
       "      <td>No description yet</td>\n",
       "    </tr>\n",
       "    <tr>\n",
       "      <th>1</th>\n",
       "      <td>1</td>\n",
       "      <td>Razer BlackWidow Chroma Keyboard</td>\n",
       "      <td>3</td>\n",
       "      <td>Electronics/Computers &amp; Tablets/Components &amp; P...</td>\n",
       "      <td>Razer</td>\n",
       "      <td>52.0</td>\n",
       "      <td>0</td>\n",
       "      <td>This keyboard is in great condition and works ...</td>\n",
       "    </tr>\n",
       "    <tr>\n",
       "      <th>2</th>\n",
       "      <td>2</td>\n",
       "      <td>AVA-VIV Blouse</td>\n",
       "      <td>1</td>\n",
       "      <td>Women/Tops &amp; Blouses/Blouse</td>\n",
       "      <td>Target</td>\n",
       "      <td>10.0</td>\n",
       "      <td>1</td>\n",
       "      <td>Adorable top with a hint of lace and a key hol...</td>\n",
       "    </tr>\n",
       "    <tr>\n",
       "      <th>3</th>\n",
       "      <td>3</td>\n",
       "      <td>Leather Horse Statues</td>\n",
       "      <td>1</td>\n",
       "      <td>Home/Home Décor/Home Décor Accents</td>\n",
       "      <td>Unknown</td>\n",
       "      <td>35.0</td>\n",
       "      <td>1</td>\n",
       "      <td>New with tags. Leather horses. Retail for [rm]...</td>\n",
       "    </tr>\n",
       "    <tr>\n",
       "      <th>4</th>\n",
       "      <td>4</td>\n",
       "      <td>24K GOLD plated rose</td>\n",
       "      <td>1</td>\n",
       "      <td>Women/Jewelry/Necklaces</td>\n",
       "      <td>Unknown</td>\n",
       "      <td>44.0</td>\n",
       "      <td>0</td>\n",
       "      <td>Complete with certificate of authenticity</td>\n",
       "    </tr>\n",
       "    <tr>\n",
       "      <th>5</th>\n",
       "      <td>5</td>\n",
       "      <td>Bundled items requested for Ruie</td>\n",
       "      <td>3</td>\n",
       "      <td>Women/Other/Other</td>\n",
       "      <td>Unknown</td>\n",
       "      <td>59.0</td>\n",
       "      <td>0</td>\n",
       "      <td>Banana republic bottoms, Candies skirt with ma...</td>\n",
       "    </tr>\n",
       "    <tr>\n",
       "      <th>6</th>\n",
       "      <td>6</td>\n",
       "      <td>Acacia pacific tides santorini top</td>\n",
       "      <td>3</td>\n",
       "      <td>Women/Swimwear/Two-Piece</td>\n",
       "      <td>Acacia Swimwear</td>\n",
       "      <td>64.0</td>\n",
       "      <td>0</td>\n",
       "      <td>Size small but straps slightly shortened to fi...</td>\n",
       "    </tr>\n",
       "    <tr>\n",
       "      <th>7</th>\n",
       "      <td>7</td>\n",
       "      <td>Girls cheer and tumbling bundle of 7</td>\n",
       "      <td>3</td>\n",
       "      <td>Sports &amp; Outdoors/Apparel/Girls</td>\n",
       "      <td>Soffe</td>\n",
       "      <td>6.0</td>\n",
       "      <td>1</td>\n",
       "      <td>You get three pairs of Sophie cheer shorts siz...</td>\n",
       "    </tr>\n",
       "    <tr>\n",
       "      <th>8</th>\n",
       "      <td>8</td>\n",
       "      <td>Girls Nike Pro shorts</td>\n",
       "      <td>3</td>\n",
       "      <td>Sports &amp; Outdoors/Apparel/Girls</td>\n",
       "      <td>Nike</td>\n",
       "      <td>19.0</td>\n",
       "      <td>0</td>\n",
       "      <td>Girls Size small Plus green. Three shorts total.</td>\n",
       "    </tr>\n",
       "    <tr>\n",
       "      <th>9</th>\n",
       "      <td>9</td>\n",
       "      <td>Porcelain clown doll checker pants VTG</td>\n",
       "      <td>3</td>\n",
       "      <td>Vintage &amp; Collectibles/Collectibles/Doll</td>\n",
       "      <td>Unknown</td>\n",
       "      <td>8.0</td>\n",
       "      <td>0</td>\n",
       "      <td>I realized his pants are on backwards after th...</td>\n",
       "    </tr>\n",
       "    <tr>\n",
       "      <th>10</th>\n",
       "      <td>10</td>\n",
       "      <td>Smashbox primer</td>\n",
       "      <td>2</td>\n",
       "      <td>Beauty/Makeup/Face</td>\n",
       "      <td>Smashbox</td>\n",
       "      <td>8.0</td>\n",
       "      <td>1</td>\n",
       "      <td>0.25 oz Full size is 1oz for [rm] in Sephora</td>\n",
       "    </tr>\n",
       "    <tr>\n",
       "      <th>11</th>\n",
       "      <td>11</td>\n",
       "      <td>New vs pi k body mists</td>\n",
       "      <td>1</td>\n",
       "      <td>Beauty/Fragrance/Women</td>\n",
       "      <td>Victoria's Secret</td>\n",
       "      <td>34.0</td>\n",
       "      <td>0</td>\n",
       "      <td>(5) new vs pink body mists (2.5 oz each) Fresh...</td>\n",
       "    </tr>\n",
       "    <tr>\n",
       "      <th>12</th>\n",
       "      <td>12</td>\n",
       "      <td>Black Skater dress</td>\n",
       "      <td>2</td>\n",
       "      <td>Women/Dresses/Above Knee, Mini</td>\n",
       "      <td>rue</td>\n",
       "      <td>16.0</td>\n",
       "      <td>0</td>\n",
       "      <td>Xl, great condition</td>\n",
       "    </tr>\n",
       "    <tr>\n",
       "      <th>13</th>\n",
       "      <td>13</td>\n",
       "      <td>Sharpener and eraser</td>\n",
       "      <td>1</td>\n",
       "      <td>Other/Office supplies/School Supplies</td>\n",
       "      <td>Scholastic</td>\n",
       "      <td>4.0</td>\n",
       "      <td>1</td>\n",
       "      <td>No description yet</td>\n",
       "    </tr>\n",
       "    <tr>\n",
       "      <th>14</th>\n",
       "      <td>14</td>\n",
       "      <td>HOLD for Dogs2016 Minnetonka boots</td>\n",
       "      <td>3</td>\n",
       "      <td>Women/Shoes/Boots</td>\n",
       "      <td>UGG Australia</td>\n",
       "      <td>43.0</td>\n",
       "      <td>0</td>\n",
       "      <td>Authentic. Suede fringe boots. Great condition...</td>\n",
       "    </tr>\n",
       "    <tr>\n",
       "      <th>15</th>\n",
       "      <td>15</td>\n",
       "      <td>Sephora tarte birthday gift</td>\n",
       "      <td>1</td>\n",
       "      <td>Beauty/Makeup/Makeup Sets</td>\n",
       "      <td>Tarte</td>\n",
       "      <td>11.0</td>\n",
       "      <td>1</td>\n",
       "      <td>Brand new. Deluxe travel size products. Contai...</td>\n",
       "    </tr>\n",
       "    <tr>\n",
       "      <th>16</th>\n",
       "      <td>16</td>\n",
       "      <td>Glitter Eyeshadow</td>\n",
       "      <td>1</td>\n",
       "      <td>Beauty/Makeup/Eyes</td>\n",
       "      <td>Wet n Wild</td>\n",
       "      <td>6.0</td>\n",
       "      <td>1</td>\n",
       "      <td>2 glitter eyeshadows; one in Brass and one in ...</td>\n",
       "    </tr>\n",
       "    <tr>\n",
       "      <th>17</th>\n",
       "      <td>17</td>\n",
       "      <td>New: Baby K'tan active baby carrier</td>\n",
       "      <td>1</td>\n",
       "      <td>Kids/Gear/Backpacks &amp; Carriers</td>\n",
       "      <td>Unknown</td>\n",
       "      <td>29.0</td>\n",
       "      <td>1</td>\n",
       "      <td>Brand new in box Size: Medium Color: Coral Ret...</td>\n",
       "    </tr>\n",
       "    <tr>\n",
       "      <th>18</th>\n",
       "      <td>18</td>\n",
       "      <td>Too Faced Limited \"Merry Macaroons\"</td>\n",
       "      <td>1</td>\n",
       "      <td>Beauty/Makeup/Makeup Palettes</td>\n",
       "      <td>Too Faced</td>\n",
       "      <td>25.0</td>\n",
       "      <td>1</td>\n",
       "      <td>This AUTHENTIC pallete by Too Faced is brand n...</td>\n",
       "    </tr>\n",
       "    <tr>\n",
       "      <th>19</th>\n",
       "      <td>19</td>\n",
       "      <td>Cream/ Beige Front Cross Shirt</td>\n",
       "      <td>2</td>\n",
       "      <td>Women/Tops &amp; Blouses/Blouse</td>\n",
       "      <td>Anthropologie</td>\n",
       "      <td>27.0</td>\n",
       "      <td>0</td>\n",
       "      <td>Fancy, dressy or casual! Dress it up or down 1...</td>\n",
       "    </tr>\n",
       "  </tbody>\n",
       "</table>\n",
       "</div>"
      ],
      "text/plain": [
       "    train_id                                    name  item_condition_id  \\\n",
       "0          0     MLB Cincinnati Reds T Shirt Size XL                  3   \n",
       "1          1        Razer BlackWidow Chroma Keyboard                  3   \n",
       "2          2                          AVA-VIV Blouse                  1   \n",
       "3          3                   Leather Horse Statues                  1   \n",
       "4          4                    24K GOLD plated rose                  1   \n",
       "5          5        Bundled items requested for Ruie                  3   \n",
       "6          6      Acacia pacific tides santorini top                  3   \n",
       "7          7    Girls cheer and tumbling bundle of 7                  3   \n",
       "8          8                   Girls Nike Pro shorts                  3   \n",
       "9          9  Porcelain clown doll checker pants VTG                  3   \n",
       "10        10                         Smashbox primer                  2   \n",
       "11        11                  New vs pi k body mists                  1   \n",
       "12        12                      Black Skater dress                  2   \n",
       "13        13                    Sharpener and eraser                  1   \n",
       "14        14      HOLD for Dogs2016 Minnetonka boots                  3   \n",
       "15        15             Sephora tarte birthday gift                  1   \n",
       "16        16                       Glitter Eyeshadow                  1   \n",
       "17        17     New: Baby K'tan active baby carrier                  1   \n",
       "18        18     Too Faced Limited \"Merry Macaroons\"                  1   \n",
       "19        19          Cream/ Beige Front Cross Shirt                  2   \n",
       "\n",
       "                                        category_name         brand_name  \\\n",
       "0                                   Men/Tops/T-shirts            Unknown   \n",
       "1   Electronics/Computers & Tablets/Components & P...              Razer   \n",
       "2                         Women/Tops & Blouses/Blouse             Target   \n",
       "3                  Home/Home Décor/Home Décor Accents            Unknown   \n",
       "4                             Women/Jewelry/Necklaces            Unknown   \n",
       "5                                   Women/Other/Other            Unknown   \n",
       "6                            Women/Swimwear/Two-Piece    Acacia Swimwear   \n",
       "7                     Sports & Outdoors/Apparel/Girls              Soffe   \n",
       "8                     Sports & Outdoors/Apparel/Girls               Nike   \n",
       "9            Vintage & Collectibles/Collectibles/Doll            Unknown   \n",
       "10                                 Beauty/Makeup/Face           Smashbox   \n",
       "11                             Beauty/Fragrance/Women  Victoria's Secret   \n",
       "12                     Women/Dresses/Above Knee, Mini                rue   \n",
       "13              Other/Office supplies/School Supplies         Scholastic   \n",
       "14                                  Women/Shoes/Boots      UGG Australia   \n",
       "15                          Beauty/Makeup/Makeup Sets              Tarte   \n",
       "16                                 Beauty/Makeup/Eyes         Wet n Wild   \n",
       "17                     Kids/Gear/Backpacks & Carriers            Unknown   \n",
       "18                      Beauty/Makeup/Makeup Palettes          Too Faced   \n",
       "19                        Women/Tops & Blouses/Blouse      Anthropologie   \n",
       "\n",
       "    price  shipping                                   item_description  \n",
       "0    10.0         1                                 No description yet  \n",
       "1    52.0         0  This keyboard is in great condition and works ...  \n",
       "2    10.0         1  Adorable top with a hint of lace and a key hol...  \n",
       "3    35.0         1  New with tags. Leather horses. Retail for [rm]...  \n",
       "4    44.0         0          Complete with certificate of authenticity  \n",
       "5    59.0         0  Banana republic bottoms, Candies skirt with ma...  \n",
       "6    64.0         0  Size small but straps slightly shortened to fi...  \n",
       "7     6.0         1  You get three pairs of Sophie cheer shorts siz...  \n",
       "8    19.0         0   Girls Size small Plus green. Three shorts total.  \n",
       "9     8.0         0  I realized his pants are on backwards after th...  \n",
       "10    8.0         1       0.25 oz Full size is 1oz for [rm] in Sephora  \n",
       "11   34.0         0  (5) new vs pink body mists (2.5 oz each) Fresh...  \n",
       "12   16.0         0                                Xl, great condition  \n",
       "13    4.0         1                                 No description yet  \n",
       "14   43.0         0  Authentic. Suede fringe boots. Great condition...  \n",
       "15   11.0         1  Brand new. Deluxe travel size products. Contai...  \n",
       "16    6.0         1  2 glitter eyeshadows; one in Brass and one in ...  \n",
       "17   29.0         1  Brand new in box Size: Medium Color: Coral Ret...  \n",
       "18   25.0         1  This AUTHENTIC pallete by Too Faced is brand n...  \n",
       "19   27.0         0  Fancy, dressy or casual! Dress it up or down 1...  "
      ]
     },
     "execution_count": 161,
     "metadata": {},
     "output_type": "execute_result"
    }
   ],
   "source": [
    "train.head(20)"
   ]
  },
  {
   "cell_type": "markdown",
   "metadata": {},
   "source": [
    "# EDA"
   ]
  },
  {
   "cell_type": "markdown",
   "metadata": {},
   "source": [
    "## 価格分布で整理"
   ]
  },
  {
   "cell_type": "code",
   "execution_count": 162,
   "metadata": {},
   "outputs": [
    {
     "data": {
      "text/plain": [
       "count    1.482535e+06\n",
       "mean     2.673752e+01\n",
       "std      3.858607e+01\n",
       "min      0.000000e+00\n",
       "25%      1.000000e+01\n",
       "50%      1.700000e+01\n",
       "75%      2.900000e+01\n",
       "max      2.009000e+03\n",
       "Name: price, dtype: float64"
      ]
     },
     "execution_count": 162,
     "metadata": {},
     "output_type": "execute_result"
    }
   ],
   "source": [
    "train.price.describe()"
   ]
  },
  {
   "cell_type": "code",
   "execution_count": 163,
   "metadata": {
    "scrolled": true
   },
   "outputs": [
    {
     "data": {
      "image/png": "[encoded data removed]",
      "text/plain": [
       "<Figure size 1080x720 with 2 Axes>"
      ]
     },
     "metadata": {},
     "output_type": "display_data"
    }
   ],
   "source": [
    "fig, ax = plt.subplots(2, 1, figsize = (15, 10))\n",
    "sns.boxplot(train.price, showfliers = False, ax = ax[0])\n",
    "ax[1].hist(train.price, bins = 50, range = [0, 300], label = \"price\")\n",
    "ax[1].set_title(\"Price Distribution (Training)\", fontsize = 20)\n",
    "ax[1].set_xlabel(\"Price\", fontsize = 15)\n",
    "ax[1].set_ylabel(\"Samples\", fontsize = 15)\n",
    "plt.show()"
   ]
  },
  {
   "cell_type": "code",
   "execution_count": 164,
   "metadata": {},
   "outputs": [
    {
     "data": {
      "image/png": "[encoded data removed]",
      "text/plain": [
       "<Figure size 1080x576 with 1 Axes>"
      ]
     },
     "metadata": {},
     "output_type": "display_data"
    }
   ],
   "source": [
    "plt.figure(figsize = (15, 8))\n",
    "plt.hist(train[train.shipping == 1].price, bins = 50, range = [0, 300], alpha = 0.5, label = \"seller futan\")\n",
    "plt.hist(train[train.shipping == 0].price, bins = 50, range = [0, 300], alpha = 0.5, label = \"buyer futan\")\n",
    "plt.legend(fontsize = 10)\n",
    "plt.show()"
   ]
  },
  {
   "cell_type": "code",
   "execution_count": 165,
   "metadata": {},
   "outputs": [
    {
     "data": {
      "image/png": "[encoded data removed]",
      "text/plain": [
       "<Figure size 1080x720 with 2 Axes>"
      ]
     },
     "metadata": {},
     "output_type": "display_data"
    }
   ],
   "source": [
    "train[\"log_price\"] = np.log(train[\"price\"] + 1)\n",
    "fig, ax = plt.subplots(2, 1, figsize = (15, 10))\n",
    "sns.boxplot(train.log_price, ax = ax[0])\n",
    "ax[1].hist(train.log_price, bins = 50)\n",
    "ax[1].set_title(\"Log Price Distribution (Training)\", fontsize = 20)\n",
    "ax[1].set_xlabel(\"Log Price\", fontsize = 15)\n",
    "ax[1].set_ylabel(\"Samples\", fontsize = 15)\n",
    "plt.show()"
   ]
  },
  {
   "cell_type": "code",
   "execution_count": 166,
   "metadata": {
    "scrolled": true
   },
   "outputs": [
    {
     "data": {
      "image/png": "[encoded data removed]",
      "text/plain": [
       "<Figure size 1080x576 with 1 Axes>"
      ]
     },
     "metadata": {},
     "output_type": "display_data"
    }
   ],
   "source": [
    "plt.figure(figsize = (15, 8))\n",
    "plt.hist(train[train.shipping == 1].log_price, bins = 50, alpha = 0.5, label = \"seller futan\")\n",
    "plt.hist(train[train.shipping == 0].log_price, bins = 50, alpha = 0.5, label = \"buyer futan\")\n",
    "plt.legend(fontsize = 10)\n",
    "plt.show()"
   ]
  },
  {
   "cell_type": "code",
   "execution_count": 167,
   "metadata": {},
   "outputs": [
    {
     "data": {
      "text/plain": [
       "874"
      ]
     },
     "execution_count": 167,
     "metadata": {},
     "output_type": "execute_result"
    }
   ],
   "source": [
    "## 0円の出品の数\n",
    "\n",
    "train[train[\"price\"] == 0].price.size"
   ]
  },
  {
   "cell_type": "markdown",
   "metadata": {},
   "source": [
    "## Brand視点で整理"
   ]
  },
  {
   "cell_type": "code",
   "execution_count": 168,
   "metadata": {
    "scrolled": true
   },
   "outputs": [
    {
     "data": {
      "text/plain": [
       "4810"
      ]
     },
     "execution_count": 168,
     "metadata": {},
     "output_type": "execute_result"
    }
   ],
   "source": [
    "## ブランドの数\n",
    "\n",
    "train[\"brand_name\"].value_counts().size"
   ]
  },
  {
   "cell_type": "markdown",
   "metadata": {},
   "source": [
    "## とりあえずTop10 Brand"
   ]
  },
  {
   "cell_type": "code",
   "execution_count": 19,
   "metadata": {},
   "outputs": [],
   "source": [
    "brands=train[\"brand_name\"].value_counts()"
   ]
  },
  {
   "cell_type": "code",
   "execution_count": 20,
   "metadata": {
    "scrolled": false
   },
   "outputs": [
    {
     "data": {
      "image/png": "[encoded data removed]",
      "text/plain": [
       "<Figure size 720x720 with 1 Axes>"
      ]
     },
     "metadata": {},
     "output_type": "display_data"
    }
   ],
   "source": [
    "plt.figure(figsize = (10, 10))\n",
    "sns.barplot(brands[1:11].values, brands[1:11].index)\n",
    "plt.title(\"Top 10 known brand in store\")\n",
    "plt.show()"
   ]
  },
  {
   "cell_type": "markdown",
   "metadata": {},
   "source": [
    "## ブランド別平均単価"
   ]
  },
  {
   "cell_type": "code",
   "execution_count": 21,
   "metadata": {
    "scrolled": true
   },
   "outputs": [
    {
     "name": "stdout",
     "output_type": "stream",
     "text": [
      "mean price by brands brand_name\n",
      "Demdaco             429.000000\n",
      "Proenza Schouler    413.250000\n",
      "Auto Meter          344.000000\n",
      "Oris                300.000000\n",
      "MCM Worldwide       289.173913\n",
      "Longines            254.000000\n",
      "Vitamix             253.111111\n",
      "Blendtec            251.800000\n",
      "David Yurman        248.611570\n",
      "Celine              238.780822\n",
      "Name: price, dtype: float64\n"
     ]
    }
   ],
   "source": [
    "brand_mean_price = train.groupby([\"brand_name\"], as_index = True).price.mean().sort_values(ascending = False)\n",
    "print(\"mean price by brands\", brand_mean_price[:10])"
   ]
  },
  {
   "cell_type": "markdown",
   "metadata": {},
   "source": [
    "## ブランド別単価の標準偏差"
   ]
  },
  {
   "cell_type": "code",
   "execution_count": 22,
   "metadata": {},
   "outputs": [
    {
     "name": "stdout",
     "output_type": "stream",
     "text": [
      "std price by brands brand_name\n",
      "Demdaco               592.555483\n",
      "Proenza Schouler      420.369183\n",
      "MCM Worldwide         351.470773\n",
      "Saint Laurent         339.769830\n",
      "Celine                339.356795\n",
      "Louis Vuitton         247.801644\n",
      "Goyard                242.051339\n",
      "Sanyo                 226.328216\n",
      "MICHELE               224.704134\n",
      "Valentino Garavani    222.253909\n",
      "Name: price, dtype: float64\n"
     ]
    }
   ],
   "source": [
    "brand_std_price = train.groupby([\"brand_name\"], as_index = True).price.std().sort_values(ascending = False)\n",
    "print(\"std price by brands\", brand_std_price[:10])"
   ]
  },
  {
   "cell_type": "markdown",
   "metadata": {},
   "source": [
    "## ブランド別単価の中央値"
   ]
  },
  {
   "cell_type": "code",
   "execution_count": 23,
   "metadata": {
    "scrolled": true
   },
   "outputs": [
    {
     "name": "stdout",
     "output_type": "stream",
     "text": [
      "median price by brands brand_name\n",
      "Demdaco                429.0\n",
      "Auto Meter             344.0\n",
      "Proenza Schouler       315.5\n",
      "Oris                   300.0\n",
      "Longines               254.0\n",
      "Blendtec               250.0\n",
      "Dainese                230.0\n",
      "Frédérique Constant    224.0\n",
      "David Yurman           220.0\n",
      "Vitamix                205.0\n",
      "Name: price, dtype: float64\n"
     ]
    }
   ],
   "source": [
    "brand_median_price = train.groupby([\"brand_name\"]).price.median().sort_values(ascending = False)\n",
    "print(\"median price by brands\", brand_median_price[:10])"
   ]
  },
  {
   "cell_type": "markdown",
   "metadata": {},
   "source": [
    "## unknownの記述統計量"
   ]
  },
  {
   "cell_type": "code",
   "execution_count": 24,
   "metadata": {
    "scrolled": false
   },
   "outputs": [
    {
     "data": {
      "text/plain": [
       "count    632682.000000\n",
       "mean         21.133453\n",
       "std          27.361260\n",
       "min           0.000000\n",
       "25%           9.000000\n",
       "50%          14.000000\n",
       "75%          24.000000\n",
       "max        2000.000000\n",
       "Name: price, dtype: float64"
      ]
     },
     "execution_count": 24,
     "metadata": {},
     "output_type": "execute_result"
    }
   ],
   "source": [
    "train[train[\"brand_name\"] == \"Unknown\"].price.describe()"
   ]
  },
  {
   "cell_type": "markdown",
   "metadata": {},
   "source": [
    "## PINKの記述統計量"
   ]
  },
  {
   "cell_type": "code",
   "execution_count": 25,
   "metadata": {
    "scrolled": true
   },
   "outputs": [
    {
     "data": {
      "text/plain": [
       "count    54088.000000\n",
       "mean        26.341314\n",
       "std         23.633983\n",
       "min          0.000000\n",
       "25%         14.000000\n",
       "50%         20.000000\n",
       "75%         31.000000\n",
       "max        798.000000\n",
       "Name: price, dtype: float64"
      ]
     },
     "execution_count": 25,
     "metadata": {},
     "output_type": "execute_result"
    }
   ],
   "source": [
    "train[train[\"brand_name\"] == \"PINK\"].price.describe()"
   ]
  },
  {
   "cell_type": "markdown",
   "metadata": {},
   "source": [
    "## Nikeの記述統計量"
   ]
  },
  {
   "cell_type": "code",
   "execution_count": 26,
   "metadata": {
    "scrolled": true
   },
   "outputs": [
    {
     "data": {
      "text/plain": [
       "count    54043.000000\n",
       "mean        30.760265\n",
       "std         26.336649\n",
       "min          0.000000\n",
       "25%         14.000000\n",
       "50%         22.000000\n",
       "75%         38.000000\n",
       "max        459.000000\n",
       "Name: price, dtype: float64"
      ]
     },
     "execution_count": 26,
     "metadata": {},
     "output_type": "execute_result"
    }
   ],
   "source": [
    "train[train[\"brand_name\"] == \"Nike\"].price.describe()"
   ]
  },
  {
   "cell_type": "markdown",
   "metadata": {},
   "source": [
    "## Victoria's Secretの記述統計量"
   ]
  },
  {
   "cell_type": "code",
   "execution_count": 27,
   "metadata": {
    "scrolled": true
   },
   "outputs": [
    {
     "data": {
      "text/plain": [
       "count    48036.000000\n",
       "mean        23.214287\n",
       "std         21.079616\n",
       "min          0.000000\n",
       "25%         13.000000\n",
       "50%         19.000000\n",
       "75%         27.000000\n",
       "max       1400.000000\n",
       "Name: price, dtype: float64"
      ]
     },
     "execution_count": 27,
     "metadata": {},
     "output_type": "execute_result"
    }
   ],
   "source": [
    "train[train[\"brand_name\"] == \"Victoria's Secret\"].price.describe()"
   ]
  },
  {
   "cell_type": "markdown",
   "metadata": {},
   "source": [
    "## LuLaRoeの記述統計量"
   ]
  },
  {
   "cell_type": "code",
   "execution_count": 28,
   "metadata": {
    "scrolled": true
   },
   "outputs": [
    {
     "data": {
      "text/plain": [
       "count    31024.000000\n",
       "mean        33.667967\n",
       "std         19.721633\n",
       "min          0.000000\n",
       "25%         21.000000\n",
       "50%         29.000000\n",
       "75%         40.000000\n",
       "max        350.000000\n",
       "Name: price, dtype: float64"
      ]
     },
     "execution_count": 28,
     "metadata": {},
     "output_type": "execute_result"
    }
   ],
   "source": [
    "train[train[\"brand_name\"] == \"LuLaRoe\"].price.describe()"
   ]
  },
  {
   "cell_type": "markdown",
   "metadata": {},
   "source": [
    "## Appleの記述統計量"
   ]
  },
  {
   "cell_type": "code",
   "execution_count": 29,
   "metadata": {},
   "outputs": [
    {
     "data": {
      "text/plain": [
       "count    17322.000000\n",
       "mean        73.268618\n",
       "std        119.862148\n",
       "min          0.000000\n",
       "25%         11.000000\n",
       "50%         22.000000\n",
       "75%         85.000000\n",
       "max       1909.000000\n",
       "Name: price, dtype: float64"
      ]
     },
     "execution_count": 29,
     "metadata": {},
     "output_type": "execute_result"
    }
   ],
   "source": [
    "train[train[\"brand_name\"] == \"Apple\"].price.describe()"
   ]
  },
  {
   "cell_type": "code",
   "execution_count": 30,
   "metadata": {},
   "outputs": [
    {
     "name": "stdout",
     "output_type": "stream",
     "text": [
      "237 brands have free items\n"
     ]
    }
   ],
   "source": [
    "free_item = train[train.price == 0].brand_name\n",
    "print(free_item.unique().size, \"brands have free items\")"
   ]
  },
  {
   "cell_type": "code",
   "execution_count": 31,
   "metadata": {
    "scrolled": true
   },
   "outputs": [
    {
     "data": {
      "image/png": "[encoded data removed]",
      "text/plain": [
       "<Figure size 1080x576 with 2 Axes>"
      ]
     },
     "metadata": {},
     "output_type": "display_data"
    }
   ],
   "source": [
    "known_free_item = free_item.value_counts()[1:21]\n",
    "fig, ax = plt.subplots(1, 2, figsize = (15, 8))\n",
    "sns.countplot(train[train.price == 0].shipping, ax = ax[0])\n",
    "rects = ax[0].patches\n",
    "labels = train[train.price == 0].shipping.value_counts().values\n",
    "for rect, label in zip(rects, labels):\n",
    "    height = rect.get_height()\n",
    "    ax[0].text(rect.get_x() + rect.get_width()/2, height + 5, label, ha = \"center\", va = \"bottom\")\n",
    "ax[0].set_title(\"Free items' ihipping\")\n",
    "sns.barplot(known_free_item.values, known_free_item.index, ax = ax[1])\n",
    "ax[1].set_xlabel(\"count\")\n",
    "ax[1].set_title(\"Number of brands have free items\")\n",
    "plt.show()"
   ]
  },
  {
   "cell_type": "markdown",
   "metadata": {},
   "source": [
    "## Categoryで"
   ]
  },
  {
   "cell_type": "code",
   "execution_count": 32,
   "metadata": {},
   "outputs": [
    {
     "name": "stderr",
     "output_type": "stream",
     "text": [
      "/Users/szkhome/.pyenv/versions/anaconda3-4.3.0/lib/python3.6/site-packages/ipykernel_launcher.py:1: FutureWarning: currently extract(expand=None) means expand=False (return Index/Series/DataFrame) but in a future version of pandas this will be changed to expand=True (return DataFrame)\n",
      "  \"\"\"Entry point for launching an IPython kernel.\n",
      "/Users/szkhome/.pyenv/versions/anaconda3-4.3.0/lib/python3.6/site-packages/ipykernel_launcher.py:2: FutureWarning: currently extract(expand=None) means expand=False (return Index/Series/DataFrame) but in a future version of pandas this will be changed to expand=True (return DataFrame)\n",
      "  \n",
      "/Users/szkhome/.pyenv/versions/anaconda3-4.3.0/lib/python3.6/site-packages/ipykernel_launcher.py:3: FutureWarning: currently extract(expand=None) means expand=False (return Index/Series/DataFrame) but in a future version of pandas this will be changed to expand=True (return DataFrame)\n",
      "  This is separate from the ipykernel package so we can avoid doing imports until\n"
     ]
    }
   ],
   "source": [
    "train[\"main_cat\"] = train.category_name.str.extract(\"([^/]+)/[^/]+/[^/]+\")\n",
    "train[\"subcat1\"] = train.category_name.str.extract(\"[^/]+/([^/]+)/[^/]+\")\n",
    "train[\"subcat2\"] = train.category_name.str.extract(\"[^/]+/[^/]+/([^/]+)\")"
   ]
  },
  {
   "cell_type": "code",
   "execution_count": 33,
   "metadata": {
    "scrolled": false
   },
   "outputs": [
    {
     "data": {
      "image/png": "[encoded data removed]",
      "text/plain": [
       "<Figure size 1080x720 with 2 Axes>"
      ]
     },
     "metadata": {},
     "output_type": "display_data"
    }
   ],
   "source": [
    "category = train.main_cat\n",
    "order = sorted(category.unique())\n",
    "fig, ax = plt.subplots(1, 2, figsize = (15, 10))\n",
    "sns.boxplot(x = train.log_price, y = category, orient = \"h\", order = order, ax = ax[0])\n",
    "ax[0].set_title(\"Log Price Base On Main Subcategories\", fontsize = 20)\n",
    "ax[0].set_ylabel(\"Categories\", fontsize = 15)\n",
    "sns.barplot(category.value_counts().values, category.value_counts().index, order = order, ax = ax[1])\n",
    "ax[1].set_title(\"Number in eanch category\", fontsize = 20)\n",
    "plt.show()"
   ]
  },
  {
   "cell_type": "markdown",
   "metadata": {},
   "source": [
    "## TfidfVectorizerで"
   ]
  },
  {
   "cell_type": "code",
   "execution_count": 34,
   "metadata": {},
   "outputs": [],
   "source": [
    "from sklearn.feature_extraction.text import TfidfVectorizer\n",
    "import string \n",
    "\n",
    "def compute_tfidf(description):\n",
    "    description = str(description)\n",
    "    description.translate(string.punctuation)\n",
    "\n",
    "    tfidf_sum = 0\n",
    "    words_count = 0\n",
    "    for w in description.lower().split():\n",
    "        words_count += 1\n",
    "        if w in tfidf_dict:\n",
    "            tfidf_sum += tfidf_dict[w]\n",
    "    \n",
    "    if words_count > 0:\n",
    "        return tfidf_sum/words_count\n",
    "    else:\n",
    "        return 0\n",
    "    "
   ]
  },
  {
   "cell_type": "code",
   "execution_count": 35,
   "metadata": {},
   "outputs": [],
   "source": [
    "tfidf = TfidfVectorizer(\n",
    "    min_df = 5, strip_accents = \"unicode\", lowercase = True,\n",
    "    analyzer = \"word\", token_pattern = r\"\\w+\", ngram_range =(1, 3), use_idf = True, \n",
    "    smooth_idf = True, sublinear_tf = True, stop_words = \"english\")\n",
    "\n",
    "tfidf.fit_transform(train[\"item_description\"].apply(str))\n",
    "tfidf_dict = dict(zip(tfidf.get_feature_names(), tfidf.idf_))\n",
    "train[\"desc_tfidf\"] = train[\"item_description\"].apply(compute_tfidf)"
   ]
  },
  {
   "cell_type": "code",
   "execution_count": 40,
   "metadata": {
    "scrolled": false
   },
   "outputs": [
    {
     "data": {
      "image/png": "[encoded data removed]",
      "text/plain": [
       "<Figure size 1080x720 with 1 Axes>"
      ]
     },
     "metadata": {},
     "output_type": "display_data"
    }
   ],
   "source": [
    "plt.figure(figsize = (15, 10))\n",
    "plt.scatter(x = train.desc_tfidf, y = train.price, alpha = 0.1)\n",
    "plt.xlabel(\"TF-IDF\")\n",
    "plt.ylabel(\"Price\")\n",
    "plt.show()"
   ]
  },
  {
   "cell_type": "markdown",
   "metadata": {},
   "source": [
    "# trainのデータでFeature　Engineeringする"
   ]
  },
  {
   "cell_type": "code",
   "execution_count": 38,
   "metadata": {},
   "outputs": [],
   "source": [
    "train=train.drop(\"log_price\", axis=1)"
   ]
  },
  {
   "cell_type": "code",
   "execution_count": 39,
   "metadata": {},
   "outputs": [
    {
     "name": "stdout",
     "output_type": "stream",
     "text": [
      "<class 'pandas.core.frame.DataFrame'>\n",
      "RangeIndex: 1482535 entries, 0 to 1482534\n",
      "Data columns (total 12 columns):\n",
      "train_id             1482535 non-null int64\n",
      "name                 1482535 non-null object\n",
      "item_condition_id    1482535 non-null int64\n",
      "category_name        1482535 non-null object\n",
      "brand_name           1482535 non-null object\n",
      "price                1482535 non-null float64\n",
      "shipping             1482535 non-null int64\n",
      "item_description     1482535 non-null object\n",
      "main_cat             1482535 non-null object\n",
      "subcat1              1482535 non-null object\n",
      "subcat2              1482535 non-null object\n",
      "desc_tfidf           1482535 non-null float64\n",
      "dtypes: float64(2), int64(3), object(7)\n",
      "memory usage: 135.7+ MB\n"
     ]
    }
   ],
   "source": [
    "train.info()"
   ]
  },
  {
   "cell_type": "code",
   "execution_count": 41,
   "metadata": {
    "scrolled": false
   },
   "outputs": [
    {
     "data": {
      "text/html": [
       "<div>\n",
       "<table border=\"1\" class=\"dataframe\">\n",
       "  <thead>\n",
       "    <tr style=\"text-align: right;\">\n",
       "      <th></th>\n",
       "      <th>train_id</th>\n",
       "      <th>name</th>\n",
       "      <th>item_condition_id</th>\n",
       "      <th>category_name</th>\n",
       "      <th>brand_name</th>\n",
       "      <th>price</th>\n",
       "      <th>shipping</th>\n",
       "      <th>item_description</th>\n",
       "      <th>main_cat</th>\n",
       "      <th>subcat1</th>\n",
       "      <th>subcat2</th>\n",
       "      <th>desc_tfidf</th>\n",
       "    </tr>\n",
       "  </thead>\n",
       "  <tbody>\n",
       "    <tr>\n",
       "      <th>0</th>\n",
       "      <td>0</td>\n",
       "      <td>MLB Cincinnati Reds T Shirt Size XL</td>\n",
       "      <td>3</td>\n",
       "      <td>Men/Tops/T-shirts</td>\n",
       "      <td>Unknown</td>\n",
       "      <td>10.0</td>\n",
       "      <td>1</td>\n",
       "      <td>No description yet</td>\n",
       "      <td>Men</td>\n",
       "      <td>Tops</td>\n",
       "      <td>T-shirts</td>\n",
       "      <td>1.260701</td>\n",
       "    </tr>\n",
       "    <tr>\n",
       "      <th>1</th>\n",
       "      <td>1</td>\n",
       "      <td>Razer BlackWidow Chroma Keyboard</td>\n",
       "      <td>3</td>\n",
       "      <td>Electronics/Computers &amp; Tablets/Components &amp; P...</td>\n",
       "      <td>Razer</td>\n",
       "      <td>52.0</td>\n",
       "      <td>0</td>\n",
       "      <td>This keyboard is in great condition and works ...</td>\n",
       "      <td>Electronics</td>\n",
       "      <td>Computers &amp; Tablets</td>\n",
       "      <td>Components &amp; Parts</td>\n",
       "      <td>2.359801</td>\n",
       "    </tr>\n",
       "    <tr>\n",
       "      <th>2</th>\n",
       "      <td>2</td>\n",
       "      <td>AVA-VIV Blouse</td>\n",
       "      <td>1</td>\n",
       "      <td>Women/Tops &amp; Blouses/Blouse</td>\n",
       "      <td>Target</td>\n",
       "      <td>10.0</td>\n",
       "      <td>1</td>\n",
       "      <td>Adorable top with a hint of lace and a key hol...</td>\n",
       "      <td>Women</td>\n",
       "      <td>Tops &amp; Blouses</td>\n",
       "      <td>Blouse</td>\n",
       "      <td>1.965394</td>\n",
       "    </tr>\n",
       "    <tr>\n",
       "      <th>3</th>\n",
       "      <td>3</td>\n",
       "      <td>Leather Horse Statues</td>\n",
       "      <td>1</td>\n",
       "      <td>Home/Home Décor/Home Décor Accents</td>\n",
       "      <td>Unknown</td>\n",
       "      <td>35.0</td>\n",
       "      <td>1</td>\n",
       "      <td>New with tags. Leather horses. Retail for [rm]...</td>\n",
       "      <td>Home</td>\n",
       "      <td>Home Décor</td>\n",
       "      <td>Home Décor Accents</td>\n",
       "      <td>1.732991</td>\n",
       "    </tr>\n",
       "    <tr>\n",
       "      <th>4</th>\n",
       "      <td>4</td>\n",
       "      <td>24K GOLD plated rose</td>\n",
       "      <td>1</td>\n",
       "      <td>Women/Jewelry/Necklaces</td>\n",
       "      <td>Unknown</td>\n",
       "      <td>44.0</td>\n",
       "      <td>0</td>\n",
       "      <td>Complete with certificate of authenticity</td>\n",
       "      <td>Women</td>\n",
       "      <td>Jewelry</td>\n",
       "      <td>Necklaces</td>\n",
       "      <td>4.639038</td>\n",
       "    </tr>\n",
       "  </tbody>\n",
       "</table>\n",
       "</div>"
      ],
      "text/plain": [
       "   train_id                                 name  item_condition_id  \\\n",
       "0         0  MLB Cincinnati Reds T Shirt Size XL                  3   \n",
       "1         1     Razer BlackWidow Chroma Keyboard                  3   \n",
       "2         2                       AVA-VIV Blouse                  1   \n",
       "3         3                Leather Horse Statues                  1   \n",
       "4         4                 24K GOLD plated rose                  1   \n",
       "\n",
       "                                       category_name brand_name  price  \\\n",
       "0                                  Men/Tops/T-shirts    Unknown   10.0   \n",
       "1  Electronics/Computers & Tablets/Components & P...      Razer   52.0   \n",
       "2                        Women/Tops & Blouses/Blouse     Target   10.0   \n",
       "3                 Home/Home Décor/Home Décor Accents    Unknown   35.0   \n",
       "4                            Women/Jewelry/Necklaces    Unknown   44.0   \n",
       "\n",
       "   shipping                                   item_description     main_cat  \\\n",
       "0         1                                 No description yet          Men   \n",
       "1         0  This keyboard is in great condition and works ...  Electronics   \n",
       "2         1  Adorable top with a hint of lace and a key hol...        Women   \n",
       "3         1  New with tags. Leather horses. Retail for [rm]...         Home   \n",
       "4         0          Complete with certificate of authenticity        Women   \n",
       "\n",
       "               subcat1             subcat2  desc_tfidf  \n",
       "0                 Tops            T-shirts    1.260701  \n",
       "1  Computers & Tablets  Components & Parts    2.359801  \n",
       "2       Tops & Blouses              Blouse    1.965394  \n",
       "3           Home Décor  Home Décor Accents    1.732991  \n",
       "4              Jewelry           Necklaces    4.639038  "
      ]
     },
     "execution_count": 41,
     "metadata": {},
     "output_type": "execute_result"
    }
   ],
   "source": [
    "train.head()"
   ]
  },
  {
   "cell_type": "markdown",
   "metadata": {},
   "source": [
    "## ３Category（main_cat, subcat1, subcat2）に、mean, std, min, maxを追加する"
   ]
  },
  {
   "cell_type": "code",
   "execution_count": 42,
   "metadata": {},
   "outputs": [],
   "source": [
    "mean_grouped=train.groupby(['main_cat', 'subcat1', 'subcat2']).mean().price"
   ]
  },
  {
   "cell_type": "code",
   "execution_count": 43,
   "metadata": {},
   "outputs": [],
   "source": [
    "std_grouped=train.groupby(['main_cat', 'subcat1', 'subcat2']).std().price"
   ]
  },
  {
   "cell_type": "code",
   "execution_count": 47,
   "metadata": {},
   "outputs": [],
   "source": [
    "min_grouped=train.groupby(['main_cat', 'subcat1', 'subcat2']).min().price"
   ]
  },
  {
   "cell_type": "code",
   "execution_count": 48,
   "metadata": {},
   "outputs": [],
   "source": [
    "max_grouped=train.groupby(['main_cat', 'subcat1', 'subcat2']).max().price"
   ]
  },
  {
   "cell_type": "code",
   "execution_count": 50,
   "metadata": {},
   "outputs": [
    {
     "data": {
      "text/html": [
       "<div>\n",
       "<table border=\"1\" class=\"dataframe\">\n",
       "  <thead>\n",
       "    <tr style=\"text-align: right;\">\n",
       "      <th></th>\n",
       "      <th>main_cat</th>\n",
       "      <th>subcat1</th>\n",
       "      <th>subcat2</th>\n",
       "      <th>cate_price_mean</th>\n",
       "    </tr>\n",
       "  </thead>\n",
       "  <tbody>\n",
       "    <tr>\n",
       "      <th>0</th>\n",
       "      <td>Beauty</td>\n",
       "      <td>Bath &amp; Body</td>\n",
       "      <td>Bath</td>\n",
       "      <td>18.481878</td>\n",
       "    </tr>\n",
       "    <tr>\n",
       "      <th>1</th>\n",
       "      <td>Beauty</td>\n",
       "      <td>Bath &amp; Body</td>\n",
       "      <td>Bathing Accessories</td>\n",
       "      <td>21.882530</td>\n",
       "    </tr>\n",
       "    <tr>\n",
       "      <th>2</th>\n",
       "      <td>Beauty</td>\n",
       "      <td>Bath &amp; Body</td>\n",
       "      <td>Cleansers</td>\n",
       "      <td>13.564315</td>\n",
       "    </tr>\n",
       "    <tr>\n",
       "      <th>3</th>\n",
       "      <td>Beauty</td>\n",
       "      <td>Bath &amp; Body</td>\n",
       "      <td>Other</td>\n",
       "      <td>20.469388</td>\n",
       "    </tr>\n",
       "    <tr>\n",
       "      <th>4</th>\n",
       "      <td>Beauty</td>\n",
       "      <td>Bath &amp; Body</td>\n",
       "      <td>Scrubs &amp; Body Treatments</td>\n",
       "      <td>24.640394</td>\n",
       "    </tr>\n",
       "  </tbody>\n",
       "</table>\n",
       "</div>"
      ],
      "text/plain": [
       "  main_cat      subcat1                   subcat2  cate_price_mean\n",
       "0   Beauty  Bath & Body                      Bath        18.481878\n",
       "1   Beauty  Bath & Body       Bathing Accessories        21.882530\n",
       "2   Beauty  Bath & Body                 Cleansers        13.564315\n",
       "3   Beauty  Bath & Body                     Other        20.469388\n",
       "4   Beauty  Bath & Body  Scrubs & Body Treatments        24.640394"
      ]
     },
     "execution_count": 50,
     "metadata": {},
     "output_type": "execute_result"
    }
   ],
   "source": [
    "mean_grouped = pd.DataFrame(mean_grouped)\n",
    "mean_grouped = mean_grouped.rename(columns={'price': 'cate_price_mean'})\n",
    "mean_grouped = mean_grouped.reset_index()\n",
    "mean_grouped.head()"
   ]
  },
  {
   "cell_type": "code",
   "execution_count": 51,
   "metadata": {},
   "outputs": [
    {
     "data": {
      "text/html": [
       "<div>\n",
       "<table border=\"1\" class=\"dataframe\">\n",
       "  <thead>\n",
       "    <tr style=\"text-align: right;\">\n",
       "      <th></th>\n",
       "      <th>main_cat</th>\n",
       "      <th>subcat1</th>\n",
       "      <th>subcat2</th>\n",
       "      <th>cate_price_std</th>\n",
       "    </tr>\n",
       "  </thead>\n",
       "  <tbody>\n",
       "    <tr>\n",
       "      <th>0</th>\n",
       "      <td>Beauty</td>\n",
       "      <td>Bath &amp; Body</td>\n",
       "      <td>Bath</td>\n",
       "      <td>18.189663</td>\n",
       "    </tr>\n",
       "    <tr>\n",
       "      <th>1</th>\n",
       "      <td>Beauty</td>\n",
       "      <td>Bath &amp; Body</td>\n",
       "      <td>Bathing Accessories</td>\n",
       "      <td>12.634822</td>\n",
       "    </tr>\n",
       "    <tr>\n",
       "      <th>2</th>\n",
       "      <td>Beauty</td>\n",
       "      <td>Bath &amp; Body</td>\n",
       "      <td>Cleansers</td>\n",
       "      <td>13.369652</td>\n",
       "    </tr>\n",
       "    <tr>\n",
       "      <th>3</th>\n",
       "      <td>Beauty</td>\n",
       "      <td>Bath &amp; Body</td>\n",
       "      <td>Other</td>\n",
       "      <td>19.923933</td>\n",
       "    </tr>\n",
       "    <tr>\n",
       "      <th>4</th>\n",
       "      <td>Beauty</td>\n",
       "      <td>Bath &amp; Body</td>\n",
       "      <td>Scrubs &amp; Body Treatments</td>\n",
       "      <td>21.703671</td>\n",
       "    </tr>\n",
       "  </tbody>\n",
       "</table>\n",
       "</div>"
      ],
      "text/plain": [
       "  main_cat      subcat1                   subcat2  cate_price_std\n",
       "0   Beauty  Bath & Body                      Bath       18.189663\n",
       "1   Beauty  Bath & Body       Bathing Accessories       12.634822\n",
       "2   Beauty  Bath & Body                 Cleansers       13.369652\n",
       "3   Beauty  Bath & Body                     Other       19.923933\n",
       "4   Beauty  Bath & Body  Scrubs & Body Treatments       21.703671"
      ]
     },
     "execution_count": 51,
     "metadata": {},
     "output_type": "execute_result"
    }
   ],
   "source": [
    "std_grouped = pd.DataFrame(std_grouped)\n",
    "std_grouped = std_grouped.rename(columns={'price': 'cate_price_std'})\n",
    "std_grouped = std_grouped.reset_index()\n",
    "std_grouped.head()"
   ]
  },
  {
   "cell_type": "code",
   "execution_count": 52,
   "metadata": {},
   "outputs": [
    {
     "data": {
      "text/html": [
       "<div>\n",
       "<table border=\"1\" class=\"dataframe\">\n",
       "  <thead>\n",
       "    <tr style=\"text-align: right;\">\n",
       "      <th></th>\n",
       "      <th>main_cat</th>\n",
       "      <th>subcat1</th>\n",
       "      <th>subcat2</th>\n",
       "      <th>cate_price_min</th>\n",
       "    </tr>\n",
       "  </thead>\n",
       "  <tbody>\n",
       "    <tr>\n",
       "      <th>0</th>\n",
       "      <td>Beauty</td>\n",
       "      <td>Bath &amp; Body</td>\n",
       "      <td>Bath</td>\n",
       "      <td>0.0</td>\n",
       "    </tr>\n",
       "    <tr>\n",
       "      <th>1</th>\n",
       "      <td>Beauty</td>\n",
       "      <td>Bath &amp; Body</td>\n",
       "      <td>Bathing Accessories</td>\n",
       "      <td>3.0</td>\n",
       "    </tr>\n",
       "    <tr>\n",
       "      <th>2</th>\n",
       "      <td>Beauty</td>\n",
       "      <td>Bath &amp; Body</td>\n",
       "      <td>Cleansers</td>\n",
       "      <td>3.0</td>\n",
       "    </tr>\n",
       "    <tr>\n",
       "      <th>3</th>\n",
       "      <td>Beauty</td>\n",
       "      <td>Bath &amp; Body</td>\n",
       "      <td>Other</td>\n",
       "      <td>3.0</td>\n",
       "    </tr>\n",
       "    <tr>\n",
       "      <th>4</th>\n",
       "      <td>Beauty</td>\n",
       "      <td>Bath &amp; Body</td>\n",
       "      <td>Scrubs &amp; Body Treatments</td>\n",
       "      <td>3.0</td>\n",
       "    </tr>\n",
       "  </tbody>\n",
       "</table>\n",
       "</div>"
      ],
      "text/plain": [
       "  main_cat      subcat1                   subcat2  cate_price_min\n",
       "0   Beauty  Bath & Body                      Bath             0.0\n",
       "1   Beauty  Bath & Body       Bathing Accessories             3.0\n",
       "2   Beauty  Bath & Body                 Cleansers             3.0\n",
       "3   Beauty  Bath & Body                     Other             3.0\n",
       "4   Beauty  Bath & Body  Scrubs & Body Treatments             3.0"
      ]
     },
     "execution_count": 52,
     "metadata": {},
     "output_type": "execute_result"
    }
   ],
   "source": [
    "min_grouped = pd.DataFrame(min_grouped)\n",
    "min_grouped = min_grouped.rename(columns={'price': 'cate_price_min'})\n",
    "min_grouped = min_grouped.reset_index()\n",
    "min_grouped.head()"
   ]
  },
  {
   "cell_type": "code",
   "execution_count": 53,
   "metadata": {},
   "outputs": [
    {
     "data": {
      "text/html": [
       "<div>\n",
       "<table border=\"1\" class=\"dataframe\">\n",
       "  <thead>\n",
       "    <tr style=\"text-align: right;\">\n",
       "      <th></th>\n",
       "      <th>main_cat</th>\n",
       "      <th>subcat1</th>\n",
       "      <th>subcat2</th>\n",
       "      <th>cate_price_max</th>\n",
       "    </tr>\n",
       "  </thead>\n",
       "  <tbody>\n",
       "    <tr>\n",
       "      <th>0</th>\n",
       "      <td>Beauty</td>\n",
       "      <td>Bath &amp; Body</td>\n",
       "      <td>Bath</td>\n",
       "      <td>565.0</td>\n",
       "    </tr>\n",
       "    <tr>\n",
       "      <th>1</th>\n",
       "      <td>Beauty</td>\n",
       "      <td>Bath &amp; Body</td>\n",
       "      <td>Bathing Accessories</td>\n",
       "      <td>75.0</td>\n",
       "    </tr>\n",
       "    <tr>\n",
       "      <th>2</th>\n",
       "      <td>Beauty</td>\n",
       "      <td>Bath &amp; Body</td>\n",
       "      <td>Cleansers</td>\n",
       "      <td>209.0</td>\n",
       "    </tr>\n",
       "    <tr>\n",
       "      <th>3</th>\n",
       "      <td>Beauty</td>\n",
       "      <td>Bath &amp; Body</td>\n",
       "      <td>Other</td>\n",
       "      <td>168.0</td>\n",
       "    </tr>\n",
       "    <tr>\n",
       "      <th>4</th>\n",
       "      <td>Beauty</td>\n",
       "      <td>Bath &amp; Body</td>\n",
       "      <td>Scrubs &amp; Body Treatments</td>\n",
       "      <td>200.0</td>\n",
       "    </tr>\n",
       "  </tbody>\n",
       "</table>\n",
       "</div>"
      ],
      "text/plain": [
       "  main_cat      subcat1                   subcat2  cate_price_max\n",
       "0   Beauty  Bath & Body                      Bath           565.0\n",
       "1   Beauty  Bath & Body       Bathing Accessories            75.0\n",
       "2   Beauty  Bath & Body                 Cleansers           209.0\n",
       "3   Beauty  Bath & Body                     Other           168.0\n",
       "4   Beauty  Bath & Body  Scrubs & Body Treatments           200.0"
      ]
     },
     "execution_count": 53,
     "metadata": {},
     "output_type": "execute_result"
    }
   ],
   "source": [
    "max_grouped = pd.DataFrame(max_grouped)\n",
    "max_grouped = max_grouped.rename(columns={'price': 'cate_price_max'})\n",
    "max_grouped = max_grouped.reset_index()\n",
    "max_grouped.head()"
   ]
  },
  {
   "cell_type": "code",
   "execution_count": 54,
   "metadata": {},
   "outputs": [],
   "source": [
    "train=pd.merge(train, mean_grouped, on=['main_cat', 'subcat1', 'subcat2'])\n",
    "train=pd.merge(train, std_grouped, on=['main_cat', 'subcat1', 'subcat2'])\n",
    "train=pd.merge(train, min_grouped, on=['main_cat', 'subcat1', 'subcat2'])\n",
    "train=pd.merge(train, max_grouped, on=['main_cat', 'subcat1', 'subcat2'])"
   ]
  },
  {
   "cell_type": "code",
   "execution_count": 55,
   "metadata": {
    "scrolled": true
   },
   "outputs": [
    {
     "data": {
      "text/html": [
       "<div>\n",
       "<table border=\"1\" class=\"dataframe\">\n",
       "  <thead>\n",
       "    <tr style=\"text-align: right;\">\n",
       "      <th></th>\n",
       "      <th>train_id</th>\n",
       "      <th>name</th>\n",
       "      <th>item_condition_id</th>\n",
       "      <th>category_name</th>\n",
       "      <th>brand_name</th>\n",
       "      <th>price</th>\n",
       "      <th>shipping</th>\n",
       "      <th>item_description</th>\n",
       "      <th>main_cat</th>\n",
       "      <th>subcat1</th>\n",
       "      <th>subcat2</th>\n",
       "      <th>desc_tfidf</th>\n",
       "      <th>cate_price_mean</th>\n",
       "      <th>cate_price_std</th>\n",
       "      <th>cate_price_min</th>\n",
       "      <th>cate_price_max</th>\n",
       "    </tr>\n",
       "  </thead>\n",
       "  <tbody>\n",
       "    <tr>\n",
       "      <th>0</th>\n",
       "      <td>0</td>\n",
       "      <td>MLB Cincinnati Reds T Shirt Size XL</td>\n",
       "      <td>3</td>\n",
       "      <td>Men/Tops/T-shirts</td>\n",
       "      <td>Unknown</td>\n",
       "      <td>10.0</td>\n",
       "      <td>1</td>\n",
       "      <td>No description yet</td>\n",
       "      <td>Men</td>\n",
       "      <td>Tops</td>\n",
       "      <td>T-shirts</td>\n",
       "      <td>1.260701</td>\n",
       "      <td>18.352495</td>\n",
       "      <td>16.307762</td>\n",
       "      <td>0.0</td>\n",
       "      <td>309.0</td>\n",
       "    </tr>\n",
       "    <tr>\n",
       "      <th>1</th>\n",
       "      <td>78</td>\n",
       "      <td>Trump Shirt</td>\n",
       "      <td>3</td>\n",
       "      <td>Men/Tops/T-shirts</td>\n",
       "      <td>Unknown</td>\n",
       "      <td>9.0</td>\n",
       "      <td>0</td>\n",
       "      <td>Worn once; will be washed before sent</td>\n",
       "      <td>Men</td>\n",
       "      <td>Tops</td>\n",
       "      <td>T-shirts</td>\n",
       "      <td>2.241640</td>\n",
       "      <td>18.352495</td>\n",
       "      <td>16.307762</td>\n",
       "      <td>0.0</td>\n",
       "      <td>309.0</td>\n",
       "    </tr>\n",
       "    <tr>\n",
       "      <th>2</th>\n",
       "      <td>151</td>\n",
       "      <td>Nike men's dri-fit sleeveless shirt tee</td>\n",
       "      <td>3</td>\n",
       "      <td>Men/Tops/T-shirts</td>\n",
       "      <td>Nike</td>\n",
       "      <td>14.0</td>\n",
       "      <td>0</td>\n",
       "      <td>This is a men's Nike dri-fit shirt which is bl...</td>\n",
       "      <td>Men</td>\n",
       "      <td>Tops</td>\n",
       "      <td>T-shirts</td>\n",
       "      <td>1.725030</td>\n",
       "      <td>18.352495</td>\n",
       "      <td>16.307762</td>\n",
       "      <td>0.0</td>\n",
       "      <td>309.0</td>\n",
       "    </tr>\n",
       "    <tr>\n",
       "      <th>3</th>\n",
       "      <td>350</td>\n",
       "      <td>Stussy vintage dot Ragland LARGE</td>\n",
       "      <td>1</td>\n",
       "      <td>Men/Tops/T-shirts</td>\n",
       "      <td>Unknown</td>\n",
       "      <td>33.0</td>\n",
       "      <td>0</td>\n",
       "      <td>Brand new with tags white/burgundy</td>\n",
       "      <td>Men</td>\n",
       "      <td>Tops</td>\n",
       "      <td>T-shirts</td>\n",
       "      <td>1.728612</td>\n",
       "      <td>18.352495</td>\n",
       "      <td>16.307762</td>\n",
       "      <td>0.0</td>\n",
       "      <td>309.0</td>\n",
       "    </tr>\n",
       "    <tr>\n",
       "      <th>4</th>\n",
       "      <td>352</td>\n",
       "      <td>2-Mens XXL Cruise Ship T-Shirts NWOT</td>\n",
       "      <td>2</td>\n",
       "      <td>Men/Tops/T-shirts</td>\n",
       "      <td>Unknown</td>\n",
       "      <td>9.0</td>\n",
       "      <td>0</td>\n",
       "      <td>2-Mens XXL Cruise Ship T-Shirts. Grey-Royal Ca...</td>\n",
       "      <td>Men</td>\n",
       "      <td>Tops</td>\n",
       "      <td>T-shirts</td>\n",
       "      <td>2.737699</td>\n",
       "      <td>18.352495</td>\n",
       "      <td>16.307762</td>\n",
       "      <td>0.0</td>\n",
       "      <td>309.0</td>\n",
       "    </tr>\n",
       "  </tbody>\n",
       "</table>\n",
       "</div>"
      ],
      "text/plain": [
       "   train_id                                     name  item_condition_id  \\\n",
       "0         0      MLB Cincinnati Reds T Shirt Size XL                  3   \n",
       "1        78                              Trump Shirt                  3   \n",
       "2       151  Nike men's dri-fit sleeveless shirt tee                  3   \n",
       "3       350         Stussy vintage dot Ragland LARGE                  1   \n",
       "4       352     2-Mens XXL Cruise Ship T-Shirts NWOT                  2   \n",
       "\n",
       "       category_name brand_name  price  shipping  \\\n",
       "0  Men/Tops/T-shirts    Unknown   10.0         1   \n",
       "1  Men/Tops/T-shirts    Unknown    9.0         0   \n",
       "2  Men/Tops/T-shirts       Nike   14.0         0   \n",
       "3  Men/Tops/T-shirts    Unknown   33.0         0   \n",
       "4  Men/Tops/T-shirts    Unknown    9.0         0   \n",
       "\n",
       "                                    item_description main_cat subcat1  \\\n",
       "0                                 No description yet      Men    Tops   \n",
       "1              Worn once; will be washed before sent      Men    Tops   \n",
       "2  This is a men's Nike dri-fit shirt which is bl...      Men    Tops   \n",
       "3                 Brand new with tags white/burgundy      Men    Tops   \n",
       "4  2-Mens XXL Cruise Ship T-Shirts. Grey-Royal Ca...      Men    Tops   \n",
       "\n",
       "    subcat2  desc_tfidf  cate_price_mean  cate_price_std  cate_price_min  \\\n",
       "0  T-shirts    1.260701        18.352495       16.307762             0.0   \n",
       "1  T-shirts    2.241640        18.352495       16.307762             0.0   \n",
       "2  T-shirts    1.725030        18.352495       16.307762             0.0   \n",
       "3  T-shirts    1.728612        18.352495       16.307762             0.0   \n",
       "4  T-shirts    2.737699        18.352495       16.307762             0.0   \n",
       "\n",
       "   cate_price_max  \n",
       "0           309.0  \n",
       "1           309.0  \n",
       "2           309.0  \n",
       "3           309.0  \n",
       "4           309.0  "
      ]
     },
     "execution_count": 55,
     "metadata": {},
     "output_type": "execute_result"
    }
   ],
   "source": [
    "train.head()"
   ]
  },
  {
   "cell_type": "markdown",
   "metadata": {},
   "source": [
    "## brand_nameで、mean, std, min, maxを追加する"
   ]
  },
  {
   "cell_type": "code",
   "execution_count": 56,
   "metadata": {},
   "outputs": [],
   "source": [
    "mean_brand_name=train.groupby(['brand_name']).mean().price"
   ]
  },
  {
   "cell_type": "code",
   "execution_count": 57,
   "metadata": {},
   "outputs": [],
   "source": [
    "std_brand_name=train.groupby(['brand_name']).std().price"
   ]
  },
  {
   "cell_type": "code",
   "execution_count": 58,
   "metadata": {},
   "outputs": [],
   "source": [
    "min_brand_name=train.groupby(['brand_name']).min().price"
   ]
  },
  {
   "cell_type": "code",
   "execution_count": 59,
   "metadata": {},
   "outputs": [],
   "source": [
    "max_brand_name=train.groupby(['brand_name']).max().price"
   ]
  },
  {
   "cell_type": "code",
   "execution_count": 60,
   "metadata": {},
   "outputs": [
    {
     "data": {
      "text/html": [
       "<div>\n",
       "<table border=\"1\" class=\"dataframe\">\n",
       "  <thead>\n",
       "    <tr style=\"text-align: right;\">\n",
       "      <th></th>\n",
       "      <th>brand_name</th>\n",
       "      <th>brand_mean</th>\n",
       "    </tr>\n",
       "  </thead>\n",
       "  <tbody>\n",
       "    <tr>\n",
       "      <th>0</th>\n",
       "      <td>!iT Jeans</td>\n",
       "      <td>16.000000</td>\n",
       "    </tr>\n",
       "    <tr>\n",
       "      <th>1</th>\n",
       "      <td>% Pure</td>\n",
       "      <td>16.344262</td>\n",
       "    </tr>\n",
       "    <tr>\n",
       "      <th>2</th>\n",
       "      <td>10.Deep</td>\n",
       "      <td>17.333333</td>\n",
       "    </tr>\n",
       "    <tr>\n",
       "      <th>3</th>\n",
       "      <td>191 Unlimited</td>\n",
       "      <td>36.000000</td>\n",
       "    </tr>\n",
       "    <tr>\n",
       "      <th>4</th>\n",
       "      <td>1byone</td>\n",
       "      <td>51.000000</td>\n",
       "    </tr>\n",
       "  </tbody>\n",
       "</table>\n",
       "</div>"
      ],
      "text/plain": [
       "      brand_name  brand_mean\n",
       "0      !iT Jeans   16.000000\n",
       "1         % Pure   16.344262\n",
       "2        10.Deep   17.333333\n",
       "3  191 Unlimited   36.000000\n",
       "4         1byone   51.000000"
      ]
     },
     "execution_count": 60,
     "metadata": {},
     "output_type": "execute_result"
    }
   ],
   "source": [
    "mean_brand_name = pd.DataFrame(mean_brand_name)\n",
    "mean_brand_name = mean_brand_name.rename(columns={'price': 'brand_mean'})\n",
    "mean_brand_name = mean_brand_name.reset_index()\n",
    "mean_brand_name.head()"
   ]
  },
  {
   "cell_type": "code",
   "execution_count": 61,
   "metadata": {},
   "outputs": [
    {
     "data": {
      "text/html": [
       "<div>\n",
       "<table border=\"1\" class=\"dataframe\">\n",
       "  <thead>\n",
       "    <tr style=\"text-align: right;\">\n",
       "      <th></th>\n",
       "      <th>brand_name</th>\n",
       "      <th>brand_std</th>\n",
       "    </tr>\n",
       "  </thead>\n",
       "  <tbody>\n",
       "    <tr>\n",
       "      <th>0</th>\n",
       "      <td>!iT Jeans</td>\n",
       "      <td>NaN</td>\n",
       "    </tr>\n",
       "    <tr>\n",
       "      <th>1</th>\n",
       "      <td>% Pure</td>\n",
       "      <td>9.318235</td>\n",
       "    </tr>\n",
       "    <tr>\n",
       "      <th>2</th>\n",
       "      <td>10.Deep</td>\n",
       "      <td>3.214550</td>\n",
       "    </tr>\n",
       "    <tr>\n",
       "      <th>3</th>\n",
       "      <td>191 Unlimited</td>\n",
       "      <td>NaN</td>\n",
       "    </tr>\n",
       "    <tr>\n",
       "      <th>4</th>\n",
       "      <td>1byone</td>\n",
       "      <td>NaN</td>\n",
       "    </tr>\n",
       "  </tbody>\n",
       "</table>\n",
       "</div>"
      ],
      "text/plain": [
       "      brand_name  brand_std\n",
       "0      !iT Jeans        NaN\n",
       "1         % Pure   9.318235\n",
       "2        10.Deep   3.214550\n",
       "3  191 Unlimited        NaN\n",
       "4         1byone        NaN"
      ]
     },
     "execution_count": 61,
     "metadata": {},
     "output_type": "execute_result"
    }
   ],
   "source": [
    "std_brand_name = pd.DataFrame(std_brand_name)\n",
    "std_brand_name = std_brand_name.rename(columns={'price': 'brand_std'})\n",
    "std_brand_name = std_brand_name.reset_index()\n",
    "std_brand_name.head()"
   ]
  },
  {
   "cell_type": "code",
   "execution_count": 62,
   "metadata": {},
   "outputs": [
    {
     "data": {
      "text/html": [
       "<div>\n",
       "<table border=\"1\" class=\"dataframe\">\n",
       "  <thead>\n",
       "    <tr style=\"text-align: right;\">\n",
       "      <th></th>\n",
       "      <th>brand_name</th>\n",
       "      <th>brand_min</th>\n",
       "    </tr>\n",
       "  </thead>\n",
       "  <tbody>\n",
       "    <tr>\n",
       "      <th>0</th>\n",
       "      <td>!iT Jeans</td>\n",
       "      <td>16.0</td>\n",
       "    </tr>\n",
       "    <tr>\n",
       "      <th>1</th>\n",
       "      <td>% Pure</td>\n",
       "      <td>5.0</td>\n",
       "    </tr>\n",
       "    <tr>\n",
       "      <th>2</th>\n",
       "      <td>10.Deep</td>\n",
       "      <td>15.0</td>\n",
       "    </tr>\n",
       "    <tr>\n",
       "      <th>3</th>\n",
       "      <td>191 Unlimited</td>\n",
       "      <td>36.0</td>\n",
       "    </tr>\n",
       "    <tr>\n",
       "      <th>4</th>\n",
       "      <td>1byone</td>\n",
       "      <td>51.0</td>\n",
       "    </tr>\n",
       "  </tbody>\n",
       "</table>\n",
       "</div>"
      ],
      "text/plain": [
       "      brand_name  brand_min\n",
       "0      !iT Jeans       16.0\n",
       "1         % Pure        5.0\n",
       "2        10.Deep       15.0\n",
       "3  191 Unlimited       36.0\n",
       "4         1byone       51.0"
      ]
     },
     "execution_count": 62,
     "metadata": {},
     "output_type": "execute_result"
    }
   ],
   "source": [
    "min_brand_name = pd.DataFrame(min_brand_name)\n",
    "min_brand_name = min_brand_name.rename(columns={'price': 'brand_min'})\n",
    "min_brand_name = min_brand_name.reset_index()\n",
    "min_brand_name.head()"
   ]
  },
  {
   "cell_type": "code",
   "execution_count": 63,
   "metadata": {},
   "outputs": [
    {
     "data": {
      "text/html": [
       "<div>\n",
       "<table border=\"1\" class=\"dataframe\">\n",
       "  <thead>\n",
       "    <tr style=\"text-align: right;\">\n",
       "      <th></th>\n",
       "      <th>brand_name</th>\n",
       "      <th>brand_max</th>\n",
       "    </tr>\n",
       "  </thead>\n",
       "  <tbody>\n",
       "    <tr>\n",
       "      <th>0</th>\n",
       "      <td>!iT Jeans</td>\n",
       "      <td>16.0</td>\n",
       "    </tr>\n",
       "    <tr>\n",
       "      <th>1</th>\n",
       "      <td>% Pure</td>\n",
       "      <td>59.0</td>\n",
       "    </tr>\n",
       "    <tr>\n",
       "      <th>2</th>\n",
       "      <td>10.Deep</td>\n",
       "      <td>21.0</td>\n",
       "    </tr>\n",
       "    <tr>\n",
       "      <th>3</th>\n",
       "      <td>191 Unlimited</td>\n",
       "      <td>36.0</td>\n",
       "    </tr>\n",
       "    <tr>\n",
       "      <th>4</th>\n",
       "      <td>1byone</td>\n",
       "      <td>51.0</td>\n",
       "    </tr>\n",
       "  </tbody>\n",
       "</table>\n",
       "</div>"
      ],
      "text/plain": [
       "      brand_name  brand_max\n",
       "0      !iT Jeans       16.0\n",
       "1         % Pure       59.0\n",
       "2        10.Deep       21.0\n",
       "3  191 Unlimited       36.0\n",
       "4         1byone       51.0"
      ]
     },
     "execution_count": 63,
     "metadata": {},
     "output_type": "execute_result"
    }
   ],
   "source": [
    "max_brand_name = pd.DataFrame(max_brand_name)\n",
    "max_brand_name = max_brand_name.rename(columns={'price': 'brand_max'})\n",
    "max_brand_name = max_brand_name.reset_index()\n",
    "max_brand_name.head()"
   ]
  },
  {
   "cell_type": "code",
   "execution_count": 64,
   "metadata": {},
   "outputs": [],
   "source": [
    "train=pd.merge(train, mean_brand_name, on=['brand_name'])\n",
    "train=pd.merge(train, std_brand_name, on=['brand_name'])\n",
    "train=pd.merge(train, min_brand_name, on=['brand_name'])\n",
    "train=pd.merge(train, max_brand_name, on=['brand_name'])\n",
    "\n",
    "\n",
    "\n"
   ]
  },
  {
   "cell_type": "markdown",
   "metadata": {},
   "source": [
    "## 欠損チェックして０を入れておく"
   ]
  },
  {
   "cell_type": "code",
   "execution_count": 66,
   "metadata": {},
   "outputs": [
    {
     "name": "stdout",
     "output_type": "stream",
     "text": [
      "<class 'pandas.core.frame.DataFrame'>\n",
      "Int64Index: 1482535 entries, 0 to 1482534\n",
      "Data columns (total 20 columns):\n",
      "train_id             1482535 non-null int64\n",
      "name                 1482535 non-null object\n",
      "item_condition_id    1482535 non-null int64\n",
      "category_name        1482535 non-null object\n",
      "brand_name           1482535 non-null object\n",
      "price                1482535 non-null float64\n",
      "shipping             1482535 non-null int64\n",
      "item_description     1482535 non-null object\n",
      "main_cat             1482535 non-null object\n",
      "subcat1              1482535 non-null object\n",
      "subcat2              1482535 non-null object\n",
      "desc_tfidf           1482535 non-null float64\n",
      "cate_price_mean      1482535 non-null float64\n",
      "cate_price_std       1482451 non-null float64\n",
      "cate_price_min       1482535 non-null float64\n",
      "cate_price_max       1482535 non-null float64\n",
      "brand_mean           1482535 non-null float64\n",
      "brand_std            1481292 non-null float64\n",
      "brand_min            1482535 non-null float64\n",
      "brand_max            1482535 non-null float64\n",
      "dtypes: float64(10), int64(3), object(7)\n",
      "memory usage: 237.5+ MB\n"
     ]
    }
   ],
   "source": [
    "train.info()"
   ]
  },
  {
   "cell_type": "code",
   "execution_count": 67,
   "metadata": {},
   "outputs": [],
   "source": [
    "#naを０で埋める\n",
    "train=train.fillna(0)"
   ]
  },
  {
   "cell_type": "code",
   "execution_count": 69,
   "metadata": {},
   "outputs": [
    {
     "data": {
      "text/html": [
       "<div>\n",
       "<table border=\"1\" class=\"dataframe\">\n",
       "  <thead>\n",
       "    <tr style=\"text-align: right;\">\n",
       "      <th></th>\n",
       "      <th>train_id</th>\n",
       "      <th>name</th>\n",
       "      <th>item_condition_id</th>\n",
       "      <th>category_name</th>\n",
       "      <th>brand_name</th>\n",
       "      <th>price</th>\n",
       "      <th>shipping</th>\n",
       "      <th>item_description</th>\n",
       "      <th>main_cat</th>\n",
       "      <th>subcat1</th>\n",
       "      <th>subcat2</th>\n",
       "      <th>desc_tfidf</th>\n",
       "      <th>cate_price_mean</th>\n",
       "      <th>cate_price_std</th>\n",
       "      <th>cate_price_min</th>\n",
       "      <th>cate_price_max</th>\n",
       "      <th>brand_mean</th>\n",
       "      <th>brand_std</th>\n",
       "      <th>brand_min</th>\n",
       "      <th>brand_max</th>\n",
       "    </tr>\n",
       "  </thead>\n",
       "  <tbody>\n",
       "    <tr>\n",
       "      <th>0</th>\n",
       "      <td>0</td>\n",
       "      <td>MLB Cincinnati Reds T Shirt Size XL</td>\n",
       "      <td>3</td>\n",
       "      <td>Men/Tops/T-shirts</td>\n",
       "      <td>Unknown</td>\n",
       "      <td>10.0</td>\n",
       "      <td>1</td>\n",
       "      <td>No description yet</td>\n",
       "      <td>Men</td>\n",
       "      <td>Tops</td>\n",
       "      <td>T-shirts</td>\n",
       "      <td>1.260701</td>\n",
       "      <td>18.352495</td>\n",
       "      <td>16.307762</td>\n",
       "      <td>0.0</td>\n",
       "      <td>309.0</td>\n",
       "      <td>21.133453</td>\n",
       "      <td>27.36126</td>\n",
       "      <td>0.0</td>\n",
       "      <td>2000.0</td>\n",
       "    </tr>\n",
       "    <tr>\n",
       "      <th>1</th>\n",
       "      <td>78</td>\n",
       "      <td>Trump Shirt</td>\n",
       "      <td>3</td>\n",
       "      <td>Men/Tops/T-shirts</td>\n",
       "      <td>Unknown</td>\n",
       "      <td>9.0</td>\n",
       "      <td>0</td>\n",
       "      <td>Worn once; will be washed before sent</td>\n",
       "      <td>Men</td>\n",
       "      <td>Tops</td>\n",
       "      <td>T-shirts</td>\n",
       "      <td>2.241640</td>\n",
       "      <td>18.352495</td>\n",
       "      <td>16.307762</td>\n",
       "      <td>0.0</td>\n",
       "      <td>309.0</td>\n",
       "      <td>21.133453</td>\n",
       "      <td>27.36126</td>\n",
       "      <td>0.0</td>\n",
       "      <td>2000.0</td>\n",
       "    </tr>\n",
       "    <tr>\n",
       "      <th>2</th>\n",
       "      <td>350</td>\n",
       "      <td>Stussy vintage dot Ragland LARGE</td>\n",
       "      <td>1</td>\n",
       "      <td>Men/Tops/T-shirts</td>\n",
       "      <td>Unknown</td>\n",
       "      <td>33.0</td>\n",
       "      <td>0</td>\n",
       "      <td>Brand new with tags white/burgundy</td>\n",
       "      <td>Men</td>\n",
       "      <td>Tops</td>\n",
       "      <td>T-shirts</td>\n",
       "      <td>1.728612</td>\n",
       "      <td>18.352495</td>\n",
       "      <td>16.307762</td>\n",
       "      <td>0.0</td>\n",
       "      <td>309.0</td>\n",
       "      <td>21.133453</td>\n",
       "      <td>27.36126</td>\n",
       "      <td>0.0</td>\n",
       "      <td>2000.0</td>\n",
       "    </tr>\n",
       "    <tr>\n",
       "      <th>3</th>\n",
       "      <td>352</td>\n",
       "      <td>2-Mens XXL Cruise Ship T-Shirts NWOT</td>\n",
       "      <td>2</td>\n",
       "      <td>Men/Tops/T-shirts</td>\n",
       "      <td>Unknown</td>\n",
       "      <td>9.0</td>\n",
       "      <td>0</td>\n",
       "      <td>2-Mens XXL Cruise Ship T-Shirts. Grey-Royal Ca...</td>\n",
       "      <td>Men</td>\n",
       "      <td>Tops</td>\n",
       "      <td>T-shirts</td>\n",
       "      <td>2.737699</td>\n",
       "      <td>18.352495</td>\n",
       "      <td>16.307762</td>\n",
       "      <td>0.0</td>\n",
       "      <td>309.0</td>\n",
       "      <td>21.133453</td>\n",
       "      <td>27.36126</td>\n",
       "      <td>0.0</td>\n",
       "      <td>2000.0</td>\n",
       "    </tr>\n",
       "    <tr>\n",
       "      <th>4</th>\n",
       "      <td>432</td>\n",
       "      <td>'Garbage\" tee</td>\n",
       "      <td>3</td>\n",
       "      <td>Men/Tops/T-shirts</td>\n",
       "      <td>Unknown</td>\n",
       "      <td>7.0</td>\n",
       "      <td>1</td>\n",
       "      <td>A black tee with white screen print g and garb...</td>\n",
       "      <td>Men</td>\n",
       "      <td>Tops</td>\n",
       "      <td>T-shirts</td>\n",
       "      <td>4.199589</td>\n",
       "      <td>18.352495</td>\n",
       "      <td>16.307762</td>\n",
       "      <td>0.0</td>\n",
       "      <td>309.0</td>\n",
       "      <td>21.133453</td>\n",
       "      <td>27.36126</td>\n",
       "      <td>0.0</td>\n",
       "      <td>2000.0</td>\n",
       "    </tr>\n",
       "  </tbody>\n",
       "</table>\n",
       "</div>"
      ],
      "text/plain": [
       "   train_id                                  name  item_condition_id  \\\n",
       "0         0   MLB Cincinnati Reds T Shirt Size XL                  3   \n",
       "1        78                           Trump Shirt                  3   \n",
       "2       350      Stussy vintage dot Ragland LARGE                  1   \n",
       "3       352  2-Mens XXL Cruise Ship T-Shirts NWOT                  2   \n",
       "4       432                         'Garbage\" tee                  3   \n",
       "\n",
       "       category_name brand_name  price  shipping  \\\n",
       "0  Men/Tops/T-shirts    Unknown   10.0         1   \n",
       "1  Men/Tops/T-shirts    Unknown    9.0         0   \n",
       "2  Men/Tops/T-shirts    Unknown   33.0         0   \n",
       "3  Men/Tops/T-shirts    Unknown    9.0         0   \n",
       "4  Men/Tops/T-shirts    Unknown    7.0         1   \n",
       "\n",
       "                                    item_description main_cat subcat1  \\\n",
       "0                                 No description yet      Men    Tops   \n",
       "1              Worn once; will be washed before sent      Men    Tops   \n",
       "2                 Brand new with tags white/burgundy      Men    Tops   \n",
       "3  2-Mens XXL Cruise Ship T-Shirts. Grey-Royal Ca...      Men    Tops   \n",
       "4  A black tee with white screen print g and garb...      Men    Tops   \n",
       "\n",
       "    subcat2  desc_tfidf  cate_price_mean  cate_price_std  cate_price_min  \\\n",
       "0  T-shirts    1.260701        18.352495       16.307762             0.0   \n",
       "1  T-shirts    2.241640        18.352495       16.307762             0.0   \n",
       "2  T-shirts    1.728612        18.352495       16.307762             0.0   \n",
       "3  T-shirts    2.737699        18.352495       16.307762             0.0   \n",
       "4  T-shirts    4.199589        18.352495       16.307762             0.0   \n",
       "\n",
       "   cate_price_max  brand_mean  brand_std  brand_min  brand_max  \n",
       "0           309.0   21.133453   27.36126        0.0     2000.0  \n",
       "1           309.0   21.133453   27.36126        0.0     2000.0  \n",
       "2           309.0   21.133453   27.36126        0.0     2000.0  \n",
       "3           309.0   21.133453   27.36126        0.0     2000.0  \n",
       "4           309.0   21.133453   27.36126        0.0     2000.0  "
      ]
     },
     "execution_count": 69,
     "metadata": {},
     "output_type": "execute_result"
    }
   ],
   "source": [
    "train.head()"
   ]
  },
  {
   "cell_type": "markdown",
   "metadata": {},
   "source": [
    "# Train and Testを作る"
   ]
  },
  {
   "cell_type": "code",
   "execution_count": 70,
   "metadata": {},
   "outputs": [
    {
     "name": "stderr",
     "output_type": "stream",
     "text": [
      "/Users/szkhome/.pyenv/versions/anaconda3-4.3.0/lib/python3.6/site-packages/ipykernel_launcher.py:3: FutureWarning: currently extract(expand=None) means expand=False (return Index/Series/DataFrame) but in a future version of pandas this will be changed to expand=True (return DataFrame)\n",
      "  This is separate from the ipykernel package so we can avoid doing imports until\n",
      "/Users/szkhome/.pyenv/versions/anaconda3-4.3.0/lib/python3.6/site-packages/ipykernel_launcher.py:4: FutureWarning: currently extract(expand=None) means expand=False (return Index/Series/DataFrame) but in a future version of pandas this will be changed to expand=True (return DataFrame)\n",
      "  after removing the cwd from sys.path.\n",
      "/Users/szkhome/.pyenv/versions/anaconda3-4.3.0/lib/python3.6/site-packages/ipykernel_launcher.py:5: FutureWarning: currently extract(expand=None) means expand=False (return Index/Series/DataFrame) but in a future version of pandas this will be changed to expand=True (return DataFrame)\n",
      "  \"\"\"\n"
     ]
    }
   ],
   "source": [
    "# Testの前処理をすます\n",
    "test = fill_missing_data(test)\n",
    "test[\"main_cat\"] = test.category_name.str.extract(\"([^/]+)/[^/]+/[^/]+\")\n",
    "test[\"subcat1\"] = test.category_name.str.extract(\"[^/]+/([^/]+)/[^/]+\")\n",
    "test[\"subcat2\"] = test.category_name.str.extract(\"[^/]+/[^/]+/([^/]+)\")"
   ]
  },
  {
   "cell_type": "code",
   "execution_count": 71,
   "metadata": {},
   "outputs": [],
   "source": [
    "tfidf.fit_transform(test[\"item_description\"].apply(str))\n",
    "tfidf_dict = dict(zip(tfidf.get_feature_names(), tfidf.idf_))\n",
    "test[\"desc_tfidf\"] = test[\"item_description\"].apply(compute_tfidf)"
   ]
  },
  {
   "cell_type": "code",
   "execution_count": 72,
   "metadata": {},
   "outputs": [],
   "source": [
    "test=pd.merge(test, mean_grouped, on=['main_cat', 'subcat1', 'subcat2'])\n",
    "test=pd.merge(test, std_grouped, on=['main_cat', 'subcat1', 'subcat2'])\n",
    "test=pd.merge(test, min_grouped, on=['main_cat', 'subcat1', 'subcat2'])\n",
    "test=pd.merge(test, max_grouped, on=['main_cat', 'subcat1', 'subcat2'])"
   ]
  },
  {
   "cell_type": "code",
   "execution_count": 73,
   "metadata": {},
   "outputs": [],
   "source": [
    "test=pd.merge(test, mean_brand_name, on=['brand_name'])\n",
    "test=pd.merge(test, std_brand_name, on=['brand_name'])\n",
    "test=pd.merge(test, min_brand_name, on=['brand_name'])\n",
    "test=pd.merge(test, max_brand_name, on=['brand_name'])"
   ]
  },
  {
   "cell_type": "code",
   "execution_count": 74,
   "metadata": {},
   "outputs": [
    {
     "name": "stdout",
     "output_type": "stream",
     "text": [
      "<class 'pandas.core.frame.DataFrame'>\n",
      "Int64Index: 692741 entries, 0 to 692740\n",
      "Data columns (total 19 columns):\n",
      "test_id              692741 non-null int64\n",
      "name                 692741 non-null object\n",
      "item_condition_id    692741 non-null int64\n",
      "category_name        692741 non-null object\n",
      "brand_name           692741 non-null object\n",
      "shipping             692741 non-null int64\n",
      "item_description     692741 non-null object\n",
      "main_cat             692741 non-null object\n",
      "subcat1              692741 non-null object\n",
      "subcat2              692741 non-null object\n",
      "desc_tfidf           692741 non-null float64\n",
      "cate_price_mean      692741 non-null float64\n",
      "cate_price_std       692686 non-null float64\n",
      "cate_price_min       692741 non-null float64\n",
      "cate_price_max       692741 non-null float64\n",
      "brand_mean           692741 non-null float64\n",
      "brand_std            692236 non-null float64\n",
      "brand_min            692741 non-null float64\n",
      "brand_max            692741 non-null float64\n",
      "dtypes: float64(9), int64(3), object(7)\n",
      "memory usage: 105.7+ MB\n"
     ]
    }
   ],
   "source": [
    "test.info()"
   ]
  },
  {
   "cell_type": "code",
   "execution_count": 75,
   "metadata": {
    "scrolled": true
   },
   "outputs": [
    {
     "name": "stdout",
     "output_type": "stream",
     "text": [
      "<class 'pandas.core.frame.DataFrame'>\n",
      "Int64Index: 692741 entries, 0 to 692740\n",
      "Data columns (total 19 columns):\n",
      "test_id              692741 non-null int64\n",
      "name                 692741 non-null object\n",
      "item_condition_id    692741 non-null int64\n",
      "category_name        692741 non-null object\n",
      "brand_name           692741 non-null object\n",
      "shipping             692741 non-null int64\n",
      "item_description     692741 non-null object\n",
      "main_cat             692741 non-null object\n",
      "subcat1              692741 non-null object\n",
      "subcat2              692741 non-null object\n",
      "desc_tfidf           692741 non-null float64\n",
      "cate_price_mean      692741 non-null float64\n",
      "cate_price_std       692741 non-null float64\n",
      "cate_price_min       692741 non-null float64\n",
      "cate_price_max       692741 non-null float64\n",
      "brand_mean           692741 non-null float64\n",
      "brand_std            692741 non-null float64\n",
      "brand_min            692741 non-null float64\n",
      "brand_max            692741 non-null float64\n",
      "dtypes: float64(9), int64(3), object(7)\n",
      "memory usage: 105.7+ MB\n"
     ]
    }
   ],
   "source": [
    "#naを０で埋める\n",
    "test=test.fillna(0)\n",
    "test.info()"
   ]
  },
  {
   "cell_type": "markdown",
   "metadata": {},
   "source": [
    "## categorical featureに変更する"
   ]
  },
  {
   "cell_type": "code",
   "execution_count": 76,
   "metadata": {},
   "outputs": [],
   "source": [
    "# to categorical feature\n",
    "cols = ['name', 'category_name', 'brand_name', 'item_description', 'main_cat', 'subcat1', 'subcat2']\n",
    "for d in cols:\n",
    "    train[d] = train[d].astype('category')"
   ]
  },
  {
   "cell_type": "code",
   "execution_count": 77,
   "metadata": {},
   "outputs": [],
   "source": [
    "# to categorical feature\n",
    "cols = ['name', 'category_name', 'brand_name', 'item_description', 'main_cat', 'subcat1', 'subcat2']\n",
    "for d in cols:\n",
    "    test[d] = test[d].astype('category')"
   ]
  },
  {
   "cell_type": "markdown",
   "metadata": {},
   "source": [
    "## train testを作る"
   ]
  },
  {
   "cell_type": "code",
   "execution_count": 82,
   "metadata": {},
   "outputs": [],
   "source": [
    "y = train['price']\n",
    "X = train.drop('price', axis=1)"
   ]
  },
  {
   "cell_type": "code",
   "execution_count": 84,
   "metadata": {},
   "outputs": [],
   "source": [
    "from sklearn.model_selection import train_test_split\n",
    "\n",
    "X_train , X_test , y_train , y_test = train_test_split(X, y, test_size=0.2, random_state=1)"
   ]
  },
  {
   "cell_type": "markdown",
   "metadata": {},
   "source": [
    "# 学習"
   ]
  },
  {
   "cell_type": "code",
   "execution_count": 85,
   "metadata": {},
   "outputs": [
    {
     "data": {
      "text/plain": [
       "LGBMRegressor(boosting_type='gbdt', class_weight=None, colsample_bytree=1.0,\n",
       "       learning_rate=0.01, max_depth=-1, min_child_samples=20,\n",
       "       min_child_weight=0.001, min_split_gain=0.0, n_estimators=10000,\n",
       "       n_jobs=-1, num_leaves=60, objective='regression', random_state=None,\n",
       "       reg_alpha=0.0, reg_lambda=0.0, silent=True, subsample=1.0,\n",
       "       subsample_for_bin=200000, subsample_freq=0)"
      ]
     },
     "execution_count": 85,
     "metadata": {},
     "output_type": "execute_result"
    }
   ],
   "source": [
    "# parameter tuning of lightgbm\n",
    "# start at default setting\n",
    "import lightgbm as lgb\n",
    "regg = lgb.LGBMRegressor(\n",
    "    objective='regression', # 回帰\n",
    "    num_leaves=60, \n",
    "    learning_rate=0.01,\n",
    "    n_estimators=10000)\n",
    "\n",
    "# trainさせる\n",
    "regg.fit(X_train, y_train)"
   ]
  },
  {
   "cell_type": "markdown",
   "metadata": {},
   "source": [
    "## 仮RSMLEを求める"
   ]
  },
  {
   "cell_type": "code",
   "execution_count": 87,
   "metadata": {},
   "outputs": [
    {
     "name": "stdout",
     "output_type": "stream",
     "text": [
      "0.5808091570554138\n"
     ]
    }
   ],
   "source": [
    "from sklearn.metrics import mean_squared_log_error\n",
    "from sklearn.metrics import make_scorer\n",
    "from math import sqrt\n",
    "\n",
    "y_predict = regg.predict(X_test)\n",
    "# 0以下の値は0に変換する\n",
    "y_predict[y_predict<0] = 0\n",
    "\n",
    "rmsle = np.sqrt(mean_squared_log_error(y_test, y_predict))\n",
    "print(rmsle)"
   ]
  },
  {
   "cell_type": "code",
   "execution_count": 93,
   "metadata": {
    "scrolled": true
   },
   "outputs": [
    {
     "data": {
      "image/png": "[encoded data removed]",
      "text/plain": [
       "<Figure size 864x432 with 1 Axes>"
      ]
     },
     "metadata": {},
     "output_type": "display_data"
    }
   ],
   "source": [
    "lgb.plot_importance(regg, figsize=(12, 6))\n",
    "plt.show()"
   ]
  },
  {
   "cell_type": "code",
   "execution_count": 97,
   "metadata": {
    "scrolled": true
   },
   "outputs": [
    {
     "data": {
      "text/plain": [
       "GridSearchCV(cv=5, error_score='raise',\n",
       "       estimator=LGBMRegressor(boosting_type='gbdt', class_weight=None, colsample_bytree=1.0,\n",
       "       learning_rate=0.1, max_depth=-1, min_child_samples=20,\n",
       "       min_child_weight=0.001, min_split_gain=0.0, n_estimators=100,\n",
       "       n_jobs=-1, num_leaves=31, objective=None, random_state=None,\n",
       "       reg_alpha=0.0, reg_lambda=0.0, silent=True, subsample=1.0,\n",
       "       subsample_for_bin=200000, subsample_freq=0),\n",
       "       fit_params=None, iid=True, n_jobs=1,\n",
       "       param_grid={'learning_rate': [0.01, 0.1], 'min_child_samples': [10, 20, 40, 100]},\n",
       "       pre_dispatch='2*n_jobs', refit=True, return_train_score='warn',\n",
       "       scoring=None, verbose=0)"
      ]
     },
     "execution_count": 97,
     "metadata": {},
     "output_type": "execute_result"
    }
   ],
   "source": [
    "#グリッドサーチ\n",
    "from sklearn.model_selection import GridSearchCV\n",
    "\n",
    "parameters = {'learning_rate':[0.01, 0.1], 'min_child_samples':[10, 20, 40, 100]}\n",
    "regg = lgb.LGBMRegressor()\n",
    "\n",
    "regg_cv =GridSearchCV(regg, parameters, cv = 5)\n",
    "regg_cv.fit(X_train, y_train)"
   ]
  },
  {
   "cell_type": "code",
   "execution_count": 99,
   "metadata": {
    "scrolled": true
   },
   "outputs": [
    {
     "data": {
      "text/plain": [
       "LGBMRegressor(boosting_type='gbdt', class_weight=None, colsample_bytree=1.0,\n",
       "       learning_rate=0.1, max_depth=-1, min_child_samples=20,\n",
       "       min_child_weight=0.001, min_split_gain=0.0, n_estimators=100,\n",
       "       n_jobs=-1, num_leaves=31, objective=None, random_state=None,\n",
       "       reg_alpha=0.0, reg_lambda=0.0, silent=True, subsample=1.0,\n",
       "       subsample_for_bin=200000, subsample_freq=0)"
      ]
     },
     "execution_count": 99,
     "metadata": {},
     "output_type": "execute_result"
    }
   ],
   "source": [
    "regg = lgb.LGBMRegressor(boosting_type='gbdt', class_weight=None, colsample_bytree=1.0,\n",
    "       learning_rate=0.1, max_depth=-1, min_child_samples=20,\n",
    "       min_child_weight=0.001, min_split_gain=0.0, n_estimators=100,\n",
    "       n_jobs=-1, num_leaves=31, objective=None, random_state=None,\n",
    "       reg_alpha=0.0, reg_lambda=0.0, silent=True, subsample=1.0,\n",
    "       subsample_for_bin=200000, subsample_freq=0)\n",
    "\n",
    "# trainさせる\n",
    "regg.fit(X_train, y_train)"
   ]
  },
  {
   "cell_type": "code",
   "execution_count": 100,
   "metadata": {},
   "outputs": [
    {
     "name": "stdout",
     "output_type": "stream",
     "text": [
      "0.5888175805515115\n"
     ]
    }
   ],
   "source": [
    "y_predict = regg.predict(X_test)\n",
    "# 0以下の値は0に変換する\n",
    "y_predict[y_predict<0] = 0\n",
    "\n",
    "rmsle = np.sqrt(mean_squared_log_error(y_test, y_predict))\n",
    "print(rmsle)"
   ]
  },
  {
   "cell_type": "code",
   "execution_count": 101,
   "metadata": {},
   "outputs": [
    {
     "name": "stdout",
     "output_type": "stream",
     "text": [
      "0.41118241944848855\n"
     ]
    }
   ],
   "source": [
    "print(1-rmsle)"
   ]
  },
  {
   "cell_type": "code",
   "execution_count": 107,
   "metadata": {},
   "outputs": [],
   "source": [
    "# Numpy配列からpandasシリーズへ変換\n",
    "y_predict = pd.Series(np.exp(y_predict))\n",
    " \n",
    "# テストデータのIDと予測値を連結\n",
    "submit = pd.concat([y_test, y_predict], axis=1)\n",
    " \n",
    "# カラム名をメルカリの提出指定の名前をつける\n",
    "submit.columns = ['test_id', 'price']\n",
    " \n",
    "# 提出ファイルとしてCSVへ書き出し\n",
    "submit.to_csv('submit_rf_base.csv', index=False)\n",
    " \n"
   ]
  },
  {
   "cell_type": "markdown",
   "metadata": {},
   "source": [
    "# 以下：Product NameをWord2VecでVectorにする\n",
    "（今回はまだそれを点数につなげられていないが提出する）"
   ]
  },
  {
   "cell_type": "code",
   "execution_count": 104,
   "metadata": {},
   "outputs": [],
   "source": [
    "import gensim\n",
    "import pandas as pd\n",
    "import numpy as np\n",
    "from matplotlib import pyplot as plt\n",
    "from sklearn.decomposition import PCA\n",
    "\n",
    "%matplotlib inline"
   ]
  },
  {
   "cell_type": "code",
   "execution_count": 108,
   "metadata": {},
   "outputs": [],
   "source": [
    "import numpy as np\n",
    "import pandas as pd\n",
    "# BeautifulSoup is used to remove html tags from the text\n",
    "from bs4 import BeautifulSoup \n",
    "import re # For regular expressions"
   ]
  },
  {
   "cell_type": "code",
   "execution_count": 105,
   "metadata": {},
   "outputs": [
    {
     "data": {
      "text/plain": [
       "0     MLB Cincinnati Reds T Shirt Size XL\n",
       "1                             Trump Shirt\n",
       "2        Stussy vintage dot Ragland LARGE\n",
       "3    2-Mens XXL Cruise Ship T-Shirts NWOT\n",
       "4                           'Garbage\" tee\n",
       "Name: name, dtype: category\n",
       "Categories (1225273, object): [! 3 girls t shirts, ! 4 old baseball cards, ! ALPINESTAR MEN'S TEE SHIRT!, ! HOLD ! Distressed Jeans/ Shorts Bundle, ..., ️️️️Gray Fleece Lined Legging, （on sale）Xmas gift 2/set buddha keychain, ，Carolina Panthers #88 Greg Olsen jersey, ：）iPhone 6/6s RoseGold Mirror case]"
      ]
     },
     "execution_count": 105,
     "metadata": {},
     "output_type": "execute_result"
    }
   ],
   "source": [
    "product_name=train['name']\n",
    "product_name.head()"
   ]
  },
  {
   "cell_type": "code",
   "execution_count": 109,
   "metadata": {},
   "outputs": [],
   "source": [
    "# textをsequence of wordsにconvertする\n",
    "def review_wordlist(review, remove_stopwords=False):\n",
    "    # 1. Removing html tags\n",
    "    review_text = BeautifulSoup(review).get_text()\n",
    "    # 2. Removing non-letter.\n",
    "    review_text = re.sub(\"[^a-zA-Z]\",\" \",review_text)\n",
    "    # 3. Converting to lower case and splitting\n",
    "    words = review_text.lower().split()\n",
    "    # 4. Optionally remove stopwords\n",
    "    if remove_stopwords:\n",
    "        stops = set(stopwords.words(\"english\"))     \n",
    "        words = [w for w in words if not w in stops]\n",
    "    \n",
    "    return(words)"
   ]
  },
  {
   "cell_type": "code",
   "execution_count": 113,
   "metadata": {},
   "outputs": [],
   "source": [
    "# word2vec expects a list of lists.\n",
    "# Using punkt tokenizer for better splitting of a paragraph into sentences.\n",
    "\n",
    "import nltk.data\n",
    "#nltk.download('popular')\n",
    "\n",
    "tokenizer = nltk.data.load('/Users/szkhome/nltk_data/tokenizers/punkt/english.pickle')\n",
    "\n"
   ]
  },
  {
   "cell_type": "code",
   "execution_count": 114,
   "metadata": {},
   "outputs": [],
   "source": [
    "# 　Reviewならば文章に分割するやつ\n",
    "def review_sentences(review, tokenizer, remove_stopwords=False):\n",
    "    # 1. Using nltk tokenizer\n",
    "    raw_sentences = tokenizer.tokenize(review.strip())\n",
    "    sentences = []\n",
    "    # 2. Loop for each sentence\n",
    "    for raw_sentence in raw_sentences:\n",
    "        if len(raw_sentence)>0:\n",
    "            sentences.append(review_wordlist(raw_sentence,\\\n",
    "                                            remove_stopwords))\n",
    "\n",
    "    # This returns the list of lists\n",
    "    return sentences\n",
    "\n"
   ]
  },
  {
   "cell_type": "code",
   "execution_count": 116,
   "metadata": {},
   "outputs": [
    {
     "name": "stdout",
     "output_type": "stream",
     "text": [
      "training setから文章をparseしてます\n"
     ]
    },
    {
     "name": "stderr",
     "output_type": "stream",
     "text": [
      "/Users/szkhome/.pyenv/versions/anaconda3-4.3.0/lib/python3.6/site-packages/bs4/__init__.py:181: UserWarning: No parser was explicitly specified, so I'm using the best available HTML parser for this system (\"lxml\"). This usually isn't a problem, but if you run this code on another system, or in a different virtual environment, it may use a different parser and behave differently.\n",
      "\n",
      "The code that caused this warning is on line 193 of the file /Users/szkhome/.pyenv/versions/anaconda3-4.3.0/lib/python3.6/runpy.py. To get rid of this warning, change code that looks like this:\n",
      "\n",
      " BeautifulSoup([your markup])\n",
      "\n",
      "to this:\n",
      "\n",
      " BeautifulSoup([your markup], \"lxml\")\n",
      "\n",
      "  markup_type=markup_type))\n",
      "/Users/szkhome/.pyenv/versions/anaconda3-4.3.0/lib/python3.6/site-packages/bs4/__init__.py:219: UserWarning: \"b'.'\" looks like a filename, not markup. You shouldprobably open this file and pass the filehandle intoBeautiful Soup.\n",
      "  'Beautiful Soup.' % markup)\n",
      "/Users/szkhome/.pyenv/versions/anaconda3-4.3.0/lib/python3.6/site-packages/bs4/__init__.py:219: UserWarning: \"b'..'\" looks like a filename, not markup. You shouldprobably open this file and pass the filehandle intoBeautiful Soup.\n",
      "  'Beautiful Soup.' % markup)\n"
     ]
    }
   ],
   "source": [
    "sentences = []\n",
    "print(\"training setから文章をparseしてます\")\n",
    "for name in train[\"name\"]:\n",
    "    sentences += review_sentences(name, tokenizer)"
   ]
  },
  {
   "cell_type": "code",
   "execution_count": 117,
   "metadata": {},
   "outputs": [],
   "source": [
    "# Importing the built-in logging module\n",
    "import logging\n",
    "logging.basicConfig(format='%(asctime)s : %(levelname)s : %(message)s', level=logging.INFO)"
   ]
  },
  {
   "cell_type": "code",
   "execution_count": 118,
   "metadata": {},
   "outputs": [
    {
     "name": "stderr",
     "output_type": "stream",
     "text": [
      "2018-10-03 15:16:58,675 : WARNING : consider setting layer size to a multiple of 4 for greater performance\n",
      "2018-10-03 15:16:58,806 : INFO : collecting all words and their counts\n",
      "2018-10-03 15:16:58,807 : INFO : PROGRESS: at sentence #0, processed 0 words, keeping 0 word types\n",
      "2018-10-03 15:16:58,824 : INFO : PROGRESS: at sentence #10000, processed 43663 words, keeping 5246 word types\n",
      "2018-10-03 15:16:58,840 : INFO : PROGRESS: at sentence #20000, processed 82795 words, keeping 8225 word types\n",
      "2018-10-03 15:16:58,861 : INFO : PROGRESS: at sentence #30000, processed 121296 words, keeping 9922 word types\n",
      "2018-10-03 15:16:58,883 : INFO : PROGRESS: at sentence #40000, processed 159357 words, keeping 11933 word types\n"
     ]
    },
    {
     "name": "stdout",
     "output_type": "stream",
     "text": [
      "Training 中です....\n"
     ]
    },
    {
     "name": "stderr",
     "output_type": "stream",
     "text": [
      "2018-10-03 15:16:58,899 : INFO : PROGRESS: at sentence #50000, processed 199256 words, keeping 13813 word types\n",
      "2018-10-03 15:16:58,918 : INFO : PROGRESS: at sentence #60000, processed 240085 words, keeping 15397 word types\n",
      "2018-10-03 15:16:58,939 : INFO : PROGRESS: at sentence #70000, processed 279209 words, keeping 16322 word types\n",
      "2018-10-03 15:16:58,954 : INFO : PROGRESS: at sentence #80000, processed 317343 words, keeping 17557 word types\n",
      "2018-10-03 15:16:58,971 : INFO : PROGRESS: at sentence #90000, processed 356424 words, keeping 18559 word types\n",
      "2018-10-03 15:16:58,990 : INFO : PROGRESS: at sentence #100000, processed 396202 words, keeping 19351 word types\n",
      "2018-10-03 15:16:59,006 : INFO : PROGRESS: at sentence #110000, processed 437096 words, keeping 20210 word types\n",
      "2018-10-03 15:16:59,022 : INFO : PROGRESS: at sentence #120000, processed 478706 words, keeping 21299 word types\n",
      "2018-10-03 15:16:59,041 : INFO : PROGRESS: at sentence #130000, processed 521072 words, keeping 22438 word types\n",
      "2018-10-03 15:16:59,059 : INFO : PROGRESS: at sentence #140000, processed 571067 words, keeping 22831 word types\n",
      "2018-10-03 15:16:59,074 : INFO : PROGRESS: at sentence #150000, processed 618765 words, keeping 23317 word types\n",
      "2018-10-03 15:16:59,098 : INFO : PROGRESS: at sentence #160000, processed 663387 words, keeping 23785 word types\n",
      "2018-10-03 15:16:59,118 : INFO : PROGRESS: at sentence #170000, processed 708051 words, keeping 24158 word types\n",
      "2018-10-03 15:16:59,137 : INFO : PROGRESS: at sentence #180000, processed 752605 words, keeping 25037 word types\n",
      "2018-10-03 15:16:59,153 : INFO : PROGRESS: at sentence #190000, processed 794878 words, keeping 26475 word types\n",
      "2018-10-03 15:16:59,168 : INFO : PROGRESS: at sentence #200000, processed 834110 words, keeping 27646 word types\n",
      "2018-10-03 15:16:59,187 : INFO : PROGRESS: at sentence #210000, processed 875048 words, keeping 29258 word types\n",
      "2018-10-03 15:16:59,203 : INFO : PROGRESS: at sentence #220000, processed 918280 words, keeping 30090 word types\n",
      "2018-10-03 15:16:59,223 : INFO : PROGRESS: at sentence #230000, processed 958290 words, keeping 31071 word types\n",
      "2018-10-03 15:16:59,238 : INFO : PROGRESS: at sentence #240000, processed 998329 words, keeping 32185 word types\n",
      "2018-10-03 15:16:59,256 : INFO : PROGRESS: at sentence #250000, processed 1037326 words, keeping 33372 word types\n",
      "2018-10-03 15:16:59,273 : INFO : PROGRESS: at sentence #260000, processed 1078486 words, keeping 33997 word types\n",
      "2018-10-03 15:16:59,287 : INFO : PROGRESS: at sentence #270000, processed 1116468 words, keeping 34447 word types\n",
      "2018-10-03 15:16:59,306 : INFO : PROGRESS: at sentence #280000, processed 1153604 words, keeping 35816 word types\n",
      "2018-10-03 15:16:59,325 : INFO : PROGRESS: at sentence #290000, processed 1190930 words, keeping 37299 word types\n",
      "2018-10-03 15:16:59,347 : INFO : PROGRESS: at sentence #300000, processed 1232591 words, keeping 38210 word types\n",
      "2018-10-03 15:16:59,363 : INFO : PROGRESS: at sentence #310000, processed 1274496 words, keeping 38921 word types\n",
      "2018-10-03 15:16:59,379 : INFO : PROGRESS: at sentence #320000, processed 1314416 words, keeping 39788 word types\n",
      "2018-10-03 15:16:59,398 : INFO : PROGRESS: at sentence #330000, processed 1354921 words, keeping 40498 word types\n",
      "2018-10-03 15:16:59,416 : INFO : PROGRESS: at sentence #340000, processed 1393022 words, keeping 40899 word types\n",
      "2018-10-03 15:16:59,432 : INFO : PROGRESS: at sentence #350000, processed 1431749 words, keeping 41528 word types\n",
      "2018-10-03 15:16:59,454 : INFO : PROGRESS: at sentence #360000, processed 1470113 words, keeping 42206 word types\n",
      "2018-10-03 15:16:59,470 : INFO : PROGRESS: at sentence #370000, processed 1512320 words, keeping 42715 word types\n",
      "2018-10-03 15:16:59,487 : INFO : PROGRESS: at sentence #380000, processed 1553106 words, keeping 43397 word types\n",
      "2018-10-03 15:16:59,507 : INFO : PROGRESS: at sentence #390000, processed 1593298 words, keeping 44367 word types\n",
      "2018-10-03 15:16:59,525 : INFO : PROGRESS: at sentence #400000, processed 1633888 words, keeping 45342 word types\n",
      "2018-10-03 15:16:59,547 : INFO : PROGRESS: at sentence #410000, processed 1674345 words, keeping 46339 word types\n",
      "2018-10-03 15:16:59,566 : INFO : PROGRESS: at sentence #420000, processed 1716674 words, keeping 47018 word types\n",
      "2018-10-03 15:16:59,584 : INFO : PROGRESS: at sentence #430000, processed 1756142 words, keeping 47872 word types\n",
      "2018-10-03 15:16:59,600 : INFO : PROGRESS: at sentence #440000, processed 1796683 words, keeping 48433 word types\n",
      "2018-10-03 15:16:59,619 : INFO : PROGRESS: at sentence #450000, processed 1838605 words, keeping 49324 word types\n",
      "2018-10-03 15:16:59,637 : INFO : PROGRESS: at sentence #460000, processed 1880101 words, keeping 49920 word types\n",
      "2018-10-03 15:16:59,654 : INFO : PROGRESS: at sentence #470000, processed 1920820 words, keeping 50739 word types\n",
      "2018-10-03 15:16:59,671 : INFO : PROGRESS: at sentence #480000, processed 1960767 words, keeping 51457 word types\n",
      "2018-10-03 15:16:59,688 : INFO : PROGRESS: at sentence #490000, processed 2000751 words, keeping 52340 word types\n",
      "2018-10-03 15:16:59,704 : INFO : PROGRESS: at sentence #500000, processed 2043133 words, keeping 53272 word types\n",
      "2018-10-03 15:16:59,722 : INFO : PROGRESS: at sentence #510000, processed 2085194 words, keeping 53847 word types\n",
      "2018-10-03 15:16:59,737 : INFO : PROGRESS: at sentence #520000, processed 2127552 words, keeping 54396 word types\n",
      "2018-10-03 15:16:59,755 : INFO : PROGRESS: at sentence #530000, processed 2167966 words, keeping 55093 word types\n",
      "2018-10-03 15:16:59,771 : INFO : PROGRESS: at sentence #540000, processed 2208113 words, keeping 55874 word types\n",
      "2018-10-03 15:16:59,789 : INFO : PROGRESS: at sentence #550000, processed 2254375 words, keeping 56438 word types\n",
      "2018-10-03 15:16:59,805 : INFO : PROGRESS: at sentence #560000, processed 2295245 words, keeping 57017 word types\n",
      "2018-10-03 15:16:59,821 : INFO : PROGRESS: at sentence #570000, processed 2334951 words, keeping 57630 word types\n",
      "2018-10-03 15:16:59,837 : INFO : PROGRESS: at sentence #580000, processed 2377029 words, keeping 58597 word types\n",
      "2018-10-03 15:16:59,855 : INFO : PROGRESS: at sentence #590000, processed 2417907 words, keeping 59318 word types\n",
      "2018-10-03 15:16:59,876 : INFO : PROGRESS: at sentence #600000, processed 2458188 words, keeping 60272 word types\n",
      "2018-10-03 15:16:59,896 : INFO : PROGRESS: at sentence #610000, processed 2500917 words, keeping 60880 word types\n",
      "2018-10-03 15:16:59,911 : INFO : PROGRESS: at sentence #620000, processed 2541937 words, keeping 61603 word types\n",
      "2018-10-03 15:16:59,927 : INFO : PROGRESS: at sentence #630000, processed 2582211 words, keeping 62329 word types\n",
      "2018-10-03 15:16:59,946 : INFO : PROGRESS: at sentence #640000, processed 2622453 words, keeping 63248 word types\n",
      "2018-10-03 15:16:59,968 : INFO : PROGRESS: at sentence #650000, processed 2662821 words, keeping 64251 word types\n",
      "2018-10-03 15:16:59,983 : INFO : PROGRESS: at sentence #660000, processed 2704294 words, keeping 64772 word types\n",
      "2018-10-03 15:17:00,000 : INFO : PROGRESS: at sentence #670000, processed 2747455 words, keeping 64991 word types\n",
      "2018-10-03 15:17:00,020 : INFO : PROGRESS: at sentence #680000, processed 2787012 words, keeping 65205 word types\n",
      "2018-10-03 15:17:00,034 : INFO : PROGRESS: at sentence #690000, processed 2827166 words, keeping 65380 word types\n",
      "2018-10-03 15:17:00,050 : INFO : PROGRESS: at sentence #700000, processed 2870381 words, keeping 65622 word types\n",
      "2018-10-03 15:17:00,065 : INFO : PROGRESS: at sentence #710000, processed 2912544 words, keeping 65852 word types\n",
      "2018-10-03 15:17:00,084 : INFO : PROGRESS: at sentence #720000, processed 2954512 words, keeping 66267 word types\n",
      "2018-10-03 15:17:00,102 : INFO : PROGRESS: at sentence #730000, processed 2995640 words, keeping 66500 word types\n",
      "2018-10-03 15:17:00,116 : INFO : PROGRESS: at sentence #740000, processed 3035891 words, keeping 66731 word types\n",
      "2018-10-03 15:17:00,130 : INFO : PROGRESS: at sentence #750000, processed 3075507 words, keeping 67010 word types\n",
      "2018-10-03 15:17:00,144 : INFO : PROGRESS: at sentence #760000, processed 3113031 words, keeping 67157 word types\n",
      "2018-10-03 15:17:00,165 : INFO : PROGRESS: at sentence #770000, processed 3154225 words, keeping 67500 word types\n"
     ]
    },
    {
     "name": "stderr",
     "output_type": "stream",
     "text": [
      "2018-10-03 15:17:00,180 : INFO : PROGRESS: at sentence #780000, processed 3192831 words, keeping 67687 word types\n",
      "2018-10-03 15:17:00,194 : INFO : PROGRESS: at sentence #790000, processed 3229318 words, keeping 67836 word types\n",
      "2018-10-03 15:17:00,210 : INFO : PROGRESS: at sentence #800000, processed 3273699 words, keeping 68056 word types\n",
      "2018-10-03 15:17:00,225 : INFO : PROGRESS: at sentence #810000, processed 3316074 words, keeping 68292 word types\n",
      "2018-10-03 15:17:00,243 : INFO : PROGRESS: at sentence #820000, processed 3358506 words, keeping 68583 word types\n",
      "2018-10-03 15:17:00,258 : INFO : PROGRESS: at sentence #830000, processed 3399851 words, keeping 68765 word types\n",
      "2018-10-03 15:17:00,273 : INFO : PROGRESS: at sentence #840000, processed 3443166 words, keeping 69188 word types\n",
      "2018-10-03 15:17:00,288 : INFO : PROGRESS: at sentence #850000, processed 3484009 words, keeping 69538 word types\n",
      "2018-10-03 15:17:00,305 : INFO : PROGRESS: at sentence #860000, processed 3527331 words, keeping 69673 word types\n",
      "2018-10-03 15:17:00,321 : INFO : PROGRESS: at sentence #870000, processed 3568396 words, keeping 69774 word types\n",
      "2018-10-03 15:17:00,334 : INFO : PROGRESS: at sentence #880000, processed 3607980 words, keeping 69871 word types\n",
      "2018-10-03 15:17:00,353 : INFO : PROGRESS: at sentence #890000, processed 3651424 words, keeping 70144 word types\n",
      "2018-10-03 15:17:00,368 : INFO : PROGRESS: at sentence #900000, processed 3693442 words, keeping 70405 word types\n",
      "2018-10-03 15:17:00,386 : INFO : PROGRESS: at sentence #910000, processed 3740031 words, keeping 70639 word types\n",
      "2018-10-03 15:17:00,403 : INFO : PROGRESS: at sentence #920000, processed 3782382 words, keeping 70922 word types\n",
      "2018-10-03 15:17:00,421 : INFO : PROGRESS: at sentence #930000, processed 3824378 words, keeping 71185 word types\n",
      "2018-10-03 15:17:00,439 : INFO : PROGRESS: at sentence #940000, processed 3865599 words, keeping 71397 word types\n",
      "2018-10-03 15:17:00,458 : INFO : PROGRESS: at sentence #950000, processed 3906844 words, keeping 71782 word types\n",
      "2018-10-03 15:17:00,477 : INFO : PROGRESS: at sentence #960000, processed 3945589 words, keeping 72067 word types\n",
      "2018-10-03 15:17:00,489 : INFO : PROGRESS: at sentence #970000, processed 3987004 words, keeping 72308 word types\n",
      "2018-10-03 15:17:00,506 : INFO : PROGRESS: at sentence #980000, processed 4027559 words, keeping 72707 word types\n",
      "2018-10-03 15:17:00,524 : INFO : PROGRESS: at sentence #990000, processed 4069379 words, keeping 72916 word types\n",
      "2018-10-03 15:17:00,540 : INFO : PROGRESS: at sentence #1000000, processed 4113054 words, keeping 73098 word types\n",
      "2018-10-03 15:17:00,556 : INFO : PROGRESS: at sentence #1010000, processed 4161668 words, keeping 73243 word types\n",
      "2018-10-03 15:17:00,580 : INFO : PROGRESS: at sentence #1020000, processed 4208661 words, keeping 73391 word types\n",
      "2018-10-03 15:17:00,598 : INFO : PROGRESS: at sentence #1030000, processed 4255002 words, keeping 73519 word types\n",
      "2018-10-03 15:17:00,608 : INFO : PROGRESS: at sentence #1040000, processed 4303255 words, keeping 73671 word types\n",
      "2018-10-03 15:17:00,626 : INFO : PROGRESS: at sentence #1050000, processed 4347446 words, keeping 73816 word types\n",
      "2018-10-03 15:17:00,641 : INFO : PROGRESS: at sentence #1060000, processed 4389711 words, keeping 74153 word types\n",
      "2018-10-03 15:17:00,657 : INFO : PROGRESS: at sentence #1070000, processed 4433865 words, keeping 74584 word types\n",
      "2018-10-03 15:17:00,672 : INFO : PROGRESS: at sentence #1080000, processed 4476262 words, keeping 74934 word types\n",
      "2018-10-03 15:17:00,687 : INFO : PROGRESS: at sentence #1090000, processed 4516479 words, keeping 75234 word types\n",
      "2018-10-03 15:17:00,701 : INFO : PROGRESS: at sentence #1100000, processed 4559891 words, keeping 75395 word types\n",
      "2018-10-03 15:17:00,717 : INFO : PROGRESS: at sentence #1110000, processed 4600905 words, keeping 75667 word types\n",
      "2018-10-03 15:17:00,734 : INFO : PROGRESS: at sentence #1120000, processed 4639890 words, keeping 76041 word types\n",
      "2018-10-03 15:17:00,750 : INFO : PROGRESS: at sentence #1130000, processed 4681691 words, keeping 76434 word types\n",
      "2018-10-03 15:17:00,766 : INFO : PROGRESS: at sentence #1140000, processed 4723123 words, keeping 76662 word types\n",
      "2018-10-03 15:17:00,780 : INFO : PROGRESS: at sentence #1150000, processed 4771229 words, keeping 76858 word types\n",
      "2018-10-03 15:17:00,795 : INFO : PROGRESS: at sentence #1160000, processed 4821431 words, keeping 77013 word types\n",
      "2018-10-03 15:17:00,810 : INFO : PROGRESS: at sentence #1170000, processed 4870621 words, keeping 77162 word types\n",
      "2018-10-03 15:17:00,826 : INFO : PROGRESS: at sentence #1180000, processed 4919293 words, keeping 77344 word types\n",
      "2018-10-03 15:17:00,842 : INFO : PROGRESS: at sentence #1190000, processed 4967395 words, keeping 77502 word types\n",
      "2018-10-03 15:17:00,860 : INFO : PROGRESS: at sentence #1200000, processed 5008353 words, keeping 77693 word types\n",
      "2018-10-03 15:17:00,872 : INFO : PROGRESS: at sentence #1210000, processed 5051595 words, keeping 78017 word types\n",
      "2018-10-03 15:17:00,890 : INFO : PROGRESS: at sentence #1220000, processed 5094953 words, keeping 78332 word types\n",
      "2018-10-03 15:17:00,909 : INFO : PROGRESS: at sentence #1230000, processed 5136988 words, keeping 78627 word types\n",
      "2018-10-03 15:17:00,921 : INFO : PROGRESS: at sentence #1240000, processed 5172244 words, keeping 78830 word types\n",
      "2018-10-03 15:17:00,939 : INFO : PROGRESS: at sentence #1250000, processed 5213657 words, keeping 79217 word types\n",
      "2018-10-03 15:17:00,957 : INFO : PROGRESS: at sentence #1260000, processed 5253750 words, keeping 79661 word types\n",
      "2018-10-03 15:17:00,976 : INFO : PROGRESS: at sentence #1270000, processed 5298252 words, keeping 80056 word types\n",
      "2018-10-03 15:17:00,989 : INFO : PROGRESS: at sentence #1280000, processed 5341069 words, keeping 80487 word types\n",
      "2018-10-03 15:17:01,003 : INFO : PROGRESS: at sentence #1290000, processed 5385744 words, keeping 80945 word types\n",
      "2018-10-03 15:17:01,019 : INFO : PROGRESS: at sentence #1300000, processed 5428244 words, keeping 81319 word types\n",
      "2018-10-03 15:17:01,034 : INFO : PROGRESS: at sentence #1310000, processed 5471108 words, keeping 81683 word types\n",
      "2018-10-03 15:17:01,049 : INFO : PROGRESS: at sentence #1320000, processed 5514140 words, keeping 81974 word types\n",
      "2018-10-03 15:17:01,066 : INFO : PROGRESS: at sentence #1330000, processed 5552864 words, keeping 82269 word types\n",
      "2018-10-03 15:17:01,081 : INFO : PROGRESS: at sentence #1340000, processed 5591395 words, keeping 82572 word types\n",
      "2018-10-03 15:17:01,095 : INFO : PROGRESS: at sentence #1350000, processed 5632810 words, keeping 83089 word types\n",
      "2018-10-03 15:17:01,116 : INFO : PROGRESS: at sentence #1360000, processed 5674342 words, keeping 83465 word types\n",
      "2018-10-03 15:17:01,130 : INFO : PROGRESS: at sentence #1370000, processed 5717086 words, keeping 83878 word types\n",
      "2018-10-03 15:17:01,144 : INFO : PROGRESS: at sentence #1380000, processed 5762884 words, keeping 84247 word types\n",
      "2018-10-03 15:17:01,158 : INFO : PROGRESS: at sentence #1390000, processed 5805925 words, keeping 84708 word types\n",
      "2018-10-03 15:17:01,174 : INFO : PROGRESS: at sentence #1400000, processed 5849992 words, keeping 85004 word types\n",
      "2018-10-03 15:17:01,190 : INFO : PROGRESS: at sentence #1410000, processed 5895310 words, keeping 85330 word types\n",
      "2018-10-03 15:17:01,204 : INFO : PROGRESS: at sentence #1420000, processed 5933102 words, keeping 85720 word types\n",
      "2018-10-03 15:17:01,222 : INFO : PROGRESS: at sentence #1430000, processed 5976653 words, keeping 86101 word types\n",
      "2018-10-03 15:17:01,241 : INFO : PROGRESS: at sentence #1440000, processed 6017783 words, keeping 86471 word types\n",
      "2018-10-03 15:17:01,257 : INFO : PROGRESS: at sentence #1450000, processed 6058888 words, keeping 86852 word types\n",
      "2018-10-03 15:17:01,278 : INFO : PROGRESS: at sentence #1460000, processed 6101236 words, keeping 87390 word types\n",
      "2018-10-03 15:17:01,289 : INFO : PROGRESS: at sentence #1470000, processed 6142141 words, keeping 87827 word types\n",
      "2018-10-03 15:17:01,305 : INFO : PROGRESS: at sentence #1480000, processed 6181964 words, keeping 88109 word types\n",
      "2018-10-03 15:17:01,325 : INFO : PROGRESS: at sentence #1490000, processed 6223128 words, keeping 88586 word types\n"
     ]
    },
    {
     "name": "stderr",
     "output_type": "stream",
     "text": [
      "2018-10-03 15:17:01,345 : INFO : PROGRESS: at sentence #1500000, processed 6264317 words, keeping 89250 word types\n",
      "2018-10-03 15:17:01,359 : INFO : PROGRESS: at sentence #1510000, processed 6302818 words, keeping 89900 word types\n",
      "2018-10-03 15:17:01,377 : INFO : PROGRESS: at sentence #1520000, processed 6343447 words, keeping 90499 word types\n",
      "2018-10-03 15:17:01,383 : INFO : collected 90760 word types from a corpus of 6357185 raw words and 1523426 sentences\n",
      "2018-10-03 15:17:01,385 : INFO : Loading a fresh vocabulary\n",
      "2018-10-03 15:17:03,458 : INFO : min_count=1 retains 90760 unique words (100% of original 90760, drops 0)\n",
      "2018-10-03 15:17:03,459 : INFO : min_count=1 leaves 6357185 word corpus (100% of original 6357185, drops 0)\n",
      "2018-10-03 15:17:03,759 : INFO : deleting the raw counts dictionary of 90760 items\n",
      "2018-10-03 15:17:03,767 : INFO : sample=0.001 downsamples 48 most-common words\n",
      "2018-10-03 15:17:03,768 : INFO : downsampling leaves estimated 5668799 word corpus (89.2% of prior 6357185)\n",
      "2018-10-03 15:17:04,026 : INFO : estimated required memory for 90760 words and 30 dimensions: 67162400 bytes\n",
      "2018-10-03 15:17:04,027 : INFO : resetting layer weights\n",
      "2018-10-03 15:17:04,858 : INFO : training model with 4 workers on 90760 vocabulary and 30 features, using sg=0 hs=0 sample=0.001 negative=5 window=10\n",
      "2018-10-03 15:17:05,898 : INFO : EPOCH 1 - PROGRESS: at 15.29% examples, 854058 words/s, in_qsize 6, out_qsize 1\n",
      "2018-10-03 15:17:06,904 : INFO : EPOCH 1 - PROGRESS: at 35.89% examples, 1002594 words/s, in_qsize 7, out_qsize 0\n",
      "2018-10-03 15:17:07,907 : INFO : EPOCH 1 - PROGRESS: at 56.97% examples, 1057015 words/s, in_qsize 7, out_qsize 0\n",
      "2018-10-03 15:17:08,925 : INFO : EPOCH 1 - PROGRESS: at 77.32% examples, 1071614 words/s, in_qsize 6, out_qsize 1\n",
      "2018-10-03 15:17:09,925 : INFO : EPOCH 1 - PROGRESS: at 98.88% examples, 1113148 words/s, in_qsize 7, out_qsize 0\n",
      "2018-10-03 15:17:09,944 : INFO : worker thread finished; awaiting finish of 3 more threads\n",
      "2018-10-03 15:17:09,954 : INFO : worker thread finished; awaiting finish of 2 more threads\n",
      "2018-10-03 15:17:09,963 : INFO : worker thread finished; awaiting finish of 1 more threads\n",
      "2018-10-03 15:17:09,964 : INFO : worker thread finished; awaiting finish of 0 more threads\n",
      "2018-10-03 15:17:09,965 : INFO : EPOCH - 1 : training on 6357185 raw words (5668927 effective words) took 5.1s, 1117027 effective words/s\n",
      "2018-10-03 15:17:10,996 : INFO : EPOCH 2 - PROGRESS: at 20.76% examples, 1143815 words/s, in_qsize 7, out_qsize 0\n",
      "2018-10-03 15:17:11,998 : INFO : EPOCH 2 - PROGRESS: at 41.16% examples, 1152440 words/s, in_qsize 7, out_qsize 0\n",
      "2018-10-03 15:17:13,003 : INFO : EPOCH 2 - PROGRESS: at 63.08% examples, 1169677 words/s, in_qsize 7, out_qsize 0\n",
      "2018-10-03 15:17:14,008 : INFO : EPOCH 2 - PROGRESS: at 85.18% examples, 1188560 words/s, in_qsize 6, out_qsize 1\n",
      "2018-10-03 15:17:14,657 : INFO : worker thread finished; awaiting finish of 3 more threads\n",
      "2018-10-03 15:17:14,662 : INFO : worker thread finished; awaiting finish of 2 more threads\n",
      "2018-10-03 15:17:14,666 : INFO : worker thread finished; awaiting finish of 1 more threads\n",
      "2018-10-03 15:17:14,671 : INFO : worker thread finished; awaiting finish of 0 more threads\n",
      "2018-10-03 15:17:14,671 : INFO : EPOCH - 2 : training on 6357185 raw words (5668813 effective words) took 4.7s, 1208577 effective words/s\n",
      "2018-10-03 15:17:15,706 : INFO : EPOCH 3 - PROGRESS: at 20.28% examples, 1107261 words/s, in_qsize 7, out_qsize 3\n",
      "2018-10-03 15:17:16,712 : INFO : EPOCH 3 - PROGRESS: at 40.98% examples, 1140928 words/s, in_qsize 7, out_qsize 0\n",
      "2018-10-03 15:17:17,720 : INFO : EPOCH 3 - PROGRESS: at 62.09% examples, 1145762 words/s, in_qsize 7, out_qsize 0\n",
      "2018-10-03 15:17:18,737 : INFO : EPOCH 3 - PROGRESS: at 83.99% examples, 1161957 words/s, in_qsize 7, out_qsize 0\n",
      "2018-10-03 15:17:19,443 : INFO : worker thread finished; awaiting finish of 3 more threads\n",
      "2018-10-03 15:17:19,448 : INFO : worker thread finished; awaiting finish of 2 more threads\n",
      "2018-10-03 15:17:19,452 : INFO : worker thread finished; awaiting finish of 1 more threads\n",
      "2018-10-03 15:17:19,457 : INFO : worker thread finished; awaiting finish of 0 more threads\n",
      "2018-10-03 15:17:19,458 : INFO : EPOCH - 3 : training on 6357185 raw words (5668205 effective words) took 4.8s, 1186971 effective words/s\n",
      "2018-10-03 15:17:20,479 : INFO : EPOCH 4 - PROGRESS: at 20.93% examples, 1160798 words/s, in_qsize 7, out_qsize 0\n",
      "2018-10-03 15:17:21,480 : INFO : EPOCH 4 - PROGRESS: at 40.99% examples, 1152436 words/s, in_qsize 7, out_qsize 0\n",
      "2018-10-03 15:17:22,482 : INFO : EPOCH 4 - PROGRESS: at 62.90% examples, 1171049 words/s, in_qsize 7, out_qsize 0\n",
      "2018-10-03 15:17:23,485 : INFO : EPOCH 4 - PROGRESS: at 84.42% examples, 1180740 words/s, in_qsize 8, out_qsize 0\n",
      "2018-10-03 15:17:24,185 : INFO : worker thread finished; awaiting finish of 3 more threads\n",
      "2018-10-03 15:17:24,187 : INFO : worker thread finished; awaiting finish of 2 more threads\n",
      "2018-10-03 15:17:24,193 : INFO : worker thread finished; awaiting finish of 1 more threads\n",
      "2018-10-03 15:17:24,200 : INFO : worker thread finished; awaiting finish of 0 more threads\n",
      "2018-10-03 15:17:24,201 : INFO : EPOCH - 4 : training on 6357185 raw words (5668650 effective words) took 4.7s, 1198661 effective words/s\n",
      "2018-10-03 15:17:25,224 : INFO : EPOCH 5 - PROGRESS: at 20.76% examples, 1149352 words/s, in_qsize 7, out_qsize 0\n",
      "2018-10-03 15:17:26,228 : INFO : EPOCH 5 - PROGRESS: at 40.66% examples, 1140169 words/s, in_qsize 7, out_qsize 0\n",
      "2018-10-03 15:17:27,233 : INFO : EPOCH 5 - PROGRESS: at 61.62% examples, 1143759 words/s, in_qsize 7, out_qsize 0\n",
      "2018-10-03 15:17:28,238 : INFO : EPOCH 5 - PROGRESS: at 83.53% examples, 1163828 words/s, in_qsize 6, out_qsize 1\n",
      "2018-10-03 15:17:29,023 : INFO : worker thread finished; awaiting finish of 3 more threads\n",
      "2018-10-03 15:17:29,035 : INFO : worker thread finished; awaiting finish of 2 more threads\n",
      "2018-10-03 15:17:29,038 : INFO : worker thread finished; awaiting finish of 1 more threads\n",
      "2018-10-03 15:17:29,046 : INFO : worker thread finished; awaiting finish of 0 more threads\n",
      "2018-10-03 15:17:29,046 : INFO : EPOCH - 5 : training on 6357185 raw words (5667727 effective words) took 4.8s, 1173023 effective words/s\n",
      "2018-10-03 15:17:29,047 : INFO : training on a 31785925 raw words (28342322 effective words) took 24.2s, 1171735 effective words/s\n",
      "2018-10-03 15:17:29,048 : INFO : precomputing L2-norms of word weight vectors\n",
      "2018-10-03 15:17:29,805 : INFO : saving Word2Vec object under 300features_40minwords_10context, separately None\n",
      "2018-10-03 15:17:29,806 : INFO : not storing attribute vectors_norm\n",
      "2018-10-03 15:17:29,808 : INFO : not storing attribute cum_table\n",
      "2018-10-03 15:17:30,269 : INFO : saved 300features_40minwords_10context\n"
     ]
    }
   ],
   "source": [
    "num_features = 30  # Word vector dimensionality\n",
    "min_word_count = 1 # Minimum word count\n",
    "num_workers = 4     # Number of parallel threads\n",
    "context = 10        # Context window size\n",
    "downsampling = 1e-3 # (0.001) Downsample setting for frequent words\n",
    "\n",
    "# Initializing the train model\n",
    "from gensim.models import word2vec\n",
    "print(\"Training 中です....\")\n",
    "model = word2vec.Word2Vec(sentences,\\\n",
    "                          workers=num_workers,\\\n",
    "                          size=num_features,\\\n",
    "                          min_count=min_word_count,\\\n",
    "                          window=context,\n",
    "                          sample=downsampling)\n",
    "\n",
    "# To make the model memory efficient\n",
    "model.init_sims(replace=True)\n",
    "\n",
    "# Saving the model for later use. Can be loaded using Word2Vec.load()\n",
    "model_name = \"300features_40minwords_10context\"\n",
    "model.save(model_name)"
   ]
  },
  {
   "cell_type": "code",
   "execution_count": 119,
   "metadata": {},
   "outputs": [
    {
     "name": "stderr",
     "output_type": "stream",
     "text": [
      "2018-10-03 15:17:30,277 : WARNING : vectors for words {'6'} are not present in the model, ignoring these words\n"
     ]
    },
    {
     "data": {
      "text/plain": [
       "'orange'"
      ]
     },
     "execution_count": 119,
     "metadata": {},
     "output_type": "execute_result"
    }
   ],
   "source": [
    "# テストする: おかしな言葉をこの中からお勧めする \n",
    "model.wv.doesnt_match(\"iphone apple 6 orange\".split())"
   ]
  },
  {
   "cell_type": "code",
   "execution_count": 130,
   "metadata": {},
   "outputs": [
    {
     "data": {
      "text/plain": [
       "[('alexa', 0.9029898047447205),\n",
       " ('kodi', 0.8610884547233582),\n",
       " ('loaded', 0.8506629467010498),\n",
       " ('firestick', 0.8484580516815186),\n",
       " ('kindle', 0.8459862470626831),\n",
       " ('paperwhite', 0.8220502138137817),\n",
       " ('echo', 0.8156774044036865),\n",
       " ('fully', 0.8106262683868408),\n",
       " ('fi', 0.7984487414360046),\n",
       " ('wi', 0.7830096483230591)]"
      ]
     },
     "execution_count": 130,
     "metadata": {},
     "output_type": "execute_result"
    }
   ],
   "source": [
    "#テストする：　似たような言葉をだす\n",
    "model.wv.most_similar(\"amazon\".split())"
   ]
  },
  {
   "cell_type": "code",
   "execution_count": 131,
   "metadata": {},
   "outputs": [
    {
     "name": "stdout",
     "output_type": "stream",
     "text": [
      "[-0.34719455  0.14637335 -0.45258108 -0.21541087 -0.09044632 -0.12930778\n",
      " -0.23748225  0.13257527 -0.07275877 -0.14488356 -0.28075743  0.10279118\n",
      "  0.01740548  0.05634356  0.09005193  0.21663907  0.15383804  0.2304457\n",
      "  0.02385601  0.0388369   0.15831132  0.12690006  0.12754332 -0.33241463\n",
      "  0.07518264  0.14790499  0.06920319  0.01568015 -0.20939207 -0.10266002]\n",
      "[('amazon', 1.0)]\n"
     ]
    },
    {
     "name": "stderr",
     "output_type": "stream",
     "text": [
      "/Users/szkhome/.pyenv/versions/anaconda3-4.3.0/lib/python3.6/site-packages/ipykernel_launcher.py:2: DeprecationWarning: Call to deprecated `most_similar` (Method will be removed in 4.0.0, use self.wv.most_similar() instead).\n",
      "  \n"
     ]
    }
   ],
   "source": [
    "vector = model.wv[\"amazon\"]\n",
    "word = model.most_similar( [ vector ], [], 1)\n",
    "print(vector)\n",
    "print(word)"
   ]
  },
  {
   "cell_type": "code",
   "execution_count": 134,
   "metadata": {},
   "outputs": [
    {
     "name": "stdout",
     "output_type": "stream",
     "text": [
      "[-0.34719455  0.14637335 -0.45258108 -0.21541087 -0.09044632 -0.12930778\n",
      " -0.23748225  0.13257527 -0.07275877 -0.14488356 -0.28075743  0.10279118\n",
      "  0.01740548  0.05634356  0.09005193  0.21663907  0.15383804  0.2304457\n",
      "  0.02385601  0.0388369   0.15831132  0.12690006  0.12754332 -0.33241463\n",
      "  0.07518264  0.14790499  0.06920319  0.01568015 -0.20939207 -0.10266002]\n",
      "[('amazon', 1.0), ('alexa', 0.9029898047447205), ('kodi', 0.8610884547233582), ('loaded', 0.8506629467010498), ('firestick', 0.8484580516815186)]\n"
     ]
    },
    {
     "name": "stderr",
     "output_type": "stream",
     "text": [
      "/Users/szkhome/.pyenv/versions/anaconda3-4.3.0/lib/python3.6/site-packages/ipykernel_launcher.py:3: DeprecationWarning: Call to deprecated `most_similar` (Method will be removed in 4.0.0, use self.wv.most_similar() instead).\n",
      "  This is separate from the ipykernel package so we can avoid doing imports until\n"
     ]
    }
   ],
   "source": [
    "#出力数を変更\n",
    "vector = model.wv[\"amazon\"]\n",
    "word = model.most_similar( [ vector ], [], 5)\n",
    "print(vector)\n",
    "print(word)"
   ]
  },
  {
   "cell_type": "code",
   "execution_count": 135,
   "metadata": {},
   "outputs": [
    {
     "name": "stderr",
     "output_type": "stream",
     "text": [
      "/Users/szkhome/.pyenv/versions/anaconda3-4.3.0/lib/python3.6/site-packages/ipykernel_launcher.py:2: DeprecationWarning: Call to deprecated `most_similar` (Method will be removed in 4.0.0, use self.wv.most_similar() instead).\n",
      "  \n"
     ]
    },
    {
     "data": {
      "text/plain": [
       "'amazon'"
      ]
     },
     "execution_count": 135,
     "metadata": {},
     "output_type": "execute_result"
    }
   ],
   "source": [
    "#単語のみを出力\n",
    "model.most_similar( [ vector ], [], 1)[0][0]"
   ]
  },
  {
   "cell_type": "markdown",
   "metadata": {},
   "source": [
    "# 残された課題"
   ]
  },
  {
   "cell_type": "code",
   "execution_count": null,
   "metadata": {},
   "outputs": [],
   "source": [
    "#さらに１）商品の価格を文章に取り入れられるようにするアイデアが値段と商品名のにたものを出せると考えたが、未実装\n",
    "#上記の時点で２）iphone [6]の型番が入っていないことになったのでそこも課題"
   ]
  }
 ],
 "metadata": {
  "kernelspec": {
   "display_name": "Python 3",
   "language": "python",
   "name": "python3"
  },
  "language_info": {
   "codemirror_mode": {
    "name": "ipython",
    "version": 3
   },
   "file_extension": ".py",
   "mimetype": "text/x-python",
   "name": "python",
   "nbconvert_exporter": "python",
   "pygments_lexer": "ipython3",
   "version": "3.6.6"
  },
  "latex_envs": {
   "LaTeX_envs_menu_present": true,
   "autoclose": false,
   "autocomplete": true,
   "bibliofile": "biblio.bib",
   "cite_by": "apalike",
   "current_citInitial": 1,
   "eqLabelWithNumbers": true,
   "eqNumInitial": 1,
   "hotkeys": {
    "equation": "Ctrl-E",
    "itemize": "Ctrl-I"
   },
   "labels_anchors": false,
   "latex_user_defs": false,
   "report_style_numbering": false,
   "user_envs_cfg": false
  },
  "toc": {
   "base_numbering": 1,
   "nav_menu": {},
   "number_sections": true,
   "sideBar": true,
   "skip_h1_title": false,
   "title_cell": "Table of Contents",
   "title_sidebar": "Contents",
   "toc_cell": false,
   "toc_position": {
    "height": "calc(100% - 180px)",
    "left": "10px",
    "top": "150px",
    "width": "341px"
   },
   "toc_section_display": true,
   "toc_window_display": true
  }
 },
 "nbformat": 4,
 "nbformat_minor": 2
}
