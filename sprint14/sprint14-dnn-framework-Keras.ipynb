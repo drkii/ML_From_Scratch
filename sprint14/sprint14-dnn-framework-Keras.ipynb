{
 "cells": [
  {
   "cell_type": "markdown",
   "metadata": {},
   "source": [
    "# Kerasを使った実装"
   ]
  },
  {
   "cell_type": "markdown",
   "metadata": {},
   "source": [
    "# Sequential APIを使った実装\n",
    "## モデル作成"
   ]
  },
  {
   "cell_type": "code",
   "execution_count": 1,
   "metadata": {},
   "outputs": [
    {
     "name": "stderr",
     "output_type": "stream",
     "text": [
      "Using TensorFlow backend.\n"
     ]
    }
   ],
   "source": [
    "from keras.models import Sequential\n",
    "from keras.layers import Dense, Activation\n",
    "from keras.layers import BatchNormalization\n",
    "from keras.layers import Dropout\n",
    "import matplotlib.pyplot as plt\n",
    "%matplotlib inline\n",
    "import numpy as np\n",
    "import pandas as pd\n",
    "from sklearn.model_selection import train_test_split"
   ]
  },
  {
   "cell_type": "code",
   "execution_count": 2,
   "metadata": {},
   "outputs": [],
   "source": [
    "model = Sequential([\n",
    "    Dense(100, input_shape=(784, )), # Affine層\n",
    "    BatchNormalization(),\n",
    "    Activation('relu'), # 活性化層\n",
    "    Dropout(0.2),\n",
    "    Dense(100), # Affine層\n",
    "    BatchNormalization(),\n",
    "    Activation('relu'), # 活性化層\n",
    "    Dropout(0.2),\n",
    "    Dense(100), # Affine層\n",
    "    BatchNormalization(),\n",
    "    Activation('relu'), # 活性化層\n",
    "    Dropout(0.2),\n",
    "    Dense(100), # Affine層\n",
    "    BatchNormalization(),\n",
    "    Activation('relu'), # 活性化層\n",
    "    Dropout(0.2),\n",
    "    Dense(100), # Affine層\n",
    "    BatchNormalization(),\n",
    "    Activation('relu'), # 活性化層\n",
    "    Dropout(0.2),\n",
    "    Dense(10), # Affine層\n",
    "    Activation('softmax'),\n",
    "])"
   ]
  },
  {
   "cell_type": "markdown",
   "metadata": {},
   "source": [
    "下記のように層を追加できる。\n",
    "\n",
    "model = Sequential()\n",
    "\n",
    "model.add(Dense(32, input_dim=784))\n",
    "\n",
    "model.add(Activation('relu'))"
   ]
  },
  {
   "cell_type": "markdown",
   "metadata": {},
   "source": [
    "## コンパイル（設定）¶"
   ]
  },
  {
   "cell_type": "code",
   "execution_count": 3,
   "metadata": {},
   "outputs": [],
   "source": [
    "# 学習方法の設定\n",
    "model.compile(optimizer='adagrad',\n",
    "              loss='categorical_crossentropy', # 多クラス分類\n",
    "              metrics=['accuracy']) # 正答率を指標にする"
   ]
  },
  {
   "cell_type": "code",
   "execution_count": 4,
   "metadata": {},
   "outputs": [
    {
     "name": "stdout",
     "output_type": "stream",
     "text": [
      "_________________________________________________________________\n",
      "Layer (type)                 Output Shape              Param #   \n",
      "=================================================================\n",
      "dense_1 (Dense)              (None, 100)               78500     \n",
      "_________________________________________________________________\n",
      "batch_normalization_1 (Batch (None, 100)               400       \n",
      "_________________________________________________________________\n",
      "activation_1 (Activation)    (None, 100)               0         \n",
      "_________________________________________________________________\n",
      "dropout_1 (Dropout)          (None, 100)               0         \n",
      "_________________________________________________________________\n",
      "dense_2 (Dense)              (None, 100)               10100     \n",
      "_________________________________________________________________\n",
      "batch_normalization_2 (Batch (None, 100)               400       \n",
      "_________________________________________________________________\n",
      "activation_2 (Activation)    (None, 100)               0         \n",
      "_________________________________________________________________\n",
      "dropout_2 (Dropout)          (None, 100)               0         \n",
      "_________________________________________________________________\n",
      "dense_3 (Dense)              (None, 100)               10100     \n",
      "_________________________________________________________________\n",
      "batch_normalization_3 (Batch (None, 100)               400       \n",
      "_________________________________________________________________\n",
      "activation_3 (Activation)    (None, 100)               0         \n",
      "_________________________________________________________________\n",
      "dropout_3 (Dropout)          (None, 100)               0         \n",
      "_________________________________________________________________\n",
      "dense_4 (Dense)              (None, 100)               10100     \n",
      "_________________________________________________________________\n",
      "batch_normalization_4 (Batch (None, 100)               400       \n",
      "_________________________________________________________________\n",
      "activation_4 (Activation)    (None, 100)               0         \n",
      "_________________________________________________________________\n",
      "dropout_4 (Dropout)          (None, 100)               0         \n",
      "_________________________________________________________________\n",
      "dense_5 (Dense)              (None, 100)               10100     \n",
      "_________________________________________________________________\n",
      "batch_normalization_5 (Batch (None, 100)               400       \n",
      "_________________________________________________________________\n",
      "activation_5 (Activation)    (None, 100)               0         \n",
      "_________________________________________________________________\n",
      "dropout_5 (Dropout)          (None, 100)               0         \n",
      "_________________________________________________________________\n",
      "dense_6 (Dense)              (None, 10)                1010      \n",
      "_________________________________________________________________\n",
      "activation_6 (Activation)    (None, 10)                0         \n",
      "=================================================================\n",
      "Total params: 121,910\n",
      "Trainable params: 120,910\n",
      "Non-trainable params: 1,000\n",
      "_________________________________________________________________\n"
     ]
    }
   ],
   "source": [
    "model.summary()"
   ]
  },
  {
   "cell_type": "markdown",
   "metadata": {},
   "source": [
    "## データの作成"
   ]
  },
  {
   "cell_type": "code",
   "execution_count": 5,
   "metadata": {},
   "outputs": [],
   "source": [
    "train_df = pd.read_csv(\"./input/train.csv\")\n",
    "x = train_df.drop('label', axis=1)\n",
    "y = pd.get_dummies(train_df['label'])\n",
    "x = np.array(x)\n",
    "y = np.array(y)\n",
    "\n",
    "# 訓練とテストデータに分割\n",
    "x_train, x_test, y_train, y_test = train_test_split(x, y, test_size=0.2, random_state=0)"
   ]
  },
  {
   "cell_type": "code",
   "execution_count": 6,
   "metadata": {},
   "outputs": [
    {
     "data": {
      "text/plain": [
       "(33600, 784)"
      ]
     },
     "execution_count": 6,
     "metadata": {},
     "output_type": "execute_result"
    }
   ],
   "source": [
    "x_train.shape"
   ]
  },
  {
   "cell_type": "code",
   "execution_count": 7,
   "metadata": {
    "scrolled": false
   },
   "outputs": [
    {
     "name": "stdout",
     "output_type": "stream",
     "text": [
      "Epoch 1/20\n",
      "33600/33600 [==============================] - 20s 583us/step - loss: 0.6172 - acc: 0.8153\n",
      "Epoch 2/20\n",
      "33600/33600 [==============================] - 18s 527us/step - loss: 0.3889 - acc: 0.8868\n",
      "Epoch 3/20\n",
      "33600/33600 [==============================] - 17s 516us/step - loss: 0.3380 - acc: 0.9018\n",
      "Epoch 4/20\n",
      "33600/33600 [==============================] - 17s 520us/step - loss: 0.3062 - acc: 0.9107\n",
      "Epoch 5/20\n",
      "33600/33600 [==============================] - 18s 540us/step - loss: 0.2842 - acc: 0.9154\n",
      "Epoch 6/20\n",
      "33600/33600 [==============================] - 17s 510us/step - loss: 0.2722 - acc: 0.9207\n",
      "Epoch 7/20\n",
      "33600/33600 [==============================] - 17s 508us/step - loss: 0.2528 - acc: 0.9242\n",
      "Epoch 8/20\n",
      "33600/33600 [==============================] - 18s 543us/step - loss: 0.2398 - acc: 0.9309\n",
      "Epoch 9/20\n",
      "33600/33600 [==============================] - 19s 565us/step - loss: 0.2323 - acc: 0.9315\n",
      "Epoch 10/20\n",
      "33600/33600 [==============================] - 19s 554us/step - loss: 0.2275 - acc: 0.9349\n",
      "Epoch 11/20\n",
      "33600/33600 [==============================] - 18s 532us/step - loss: 0.2265 - acc: 0.9331\n",
      "Epoch 12/20\n",
      "33600/33600 [==============================] - 18s 530us/step - loss: 0.2143 - acc: 0.9357\n",
      "Epoch 13/20\n",
      "33600/33600 [==============================] - 17s 506us/step - loss: 0.2131 - acc: 0.9378\n",
      "Epoch 14/20\n",
      "33600/33600 [==============================] - 17s 505us/step - loss: 0.2045 - acc: 0.9401\n",
      "Epoch 15/20\n",
      "33600/33600 [==============================] - 17s 504us/step - loss: 0.1952 - acc: 0.9414\n",
      "Epoch 16/20\n",
      "33600/33600 [==============================] - 18s 544us/step - loss: 0.1926 - acc: 0.9421\n",
      "Epoch 17/20\n",
      "33600/33600 [==============================] - 18s 542us/step - loss: 0.1841 - acc: 0.9453\n",
      "Epoch 18/20\n",
      "33600/33600 [==============================] - 19s 553us/step - loss: 0.1888 - acc: 0.9439\n",
      "Epoch 19/20\n",
      "33600/33600 [==============================] - 19s 576us/step - loss: 0.1802 - acc: 0.9467\n",
      "Epoch 20/20\n",
      "33600/33600 [==============================] - 20s 592us/step - loss: 0.1778 - acc: 0.9470\n",
      "Test loss: 0.10604579853603528\n",
      "Tst accracy: 0.9683333333333334\n"
     ]
    }
   ],
   "source": [
    "# 各イテレーションのバッチサイズを40で学習を行なう\n",
    "model.fit(x_train, y_train, epochs=20, batch_size=40)\n",
    "\n",
    "\n",
    "score = model.evaluate(x_test, y_test, verbose=0)\n",
    "print('Test loss:', score[0])\n",
    "print('Tst accracy:',score[1])"
   ]
  },
  {
   "cell_type": "code",
   "execution_count": null,
   "metadata": {},
   "outputs": [],
   "source": []
  },
  {
   "cell_type": "markdown",
   "metadata": {},
   "source": [
    "# Functional APIを使った実装"
   ]
  },
  {
   "cell_type": "markdown",
   "metadata": {},
   "source": [
    "下記の実装だとSequentialAPIと大差ないが、入力や出力を分岐、結合させることができるためより柔軟な制御ができる。"
   ]
  },
  {
   "cell_type": "code",
   "execution_count": 8,
   "metadata": {},
   "outputs": [
    {
     "name": "stdout",
     "output_type": "stream",
     "text": [
      "_________________________________________________________________\n",
      "Layer (type)                 Output Shape              Param #   \n",
      "=================================================================\n",
      "input_1 (InputLayer)         (None, 784)               0         \n",
      "_________________________________________________________________\n",
      "dense_7 (Dense)              (None, 100)               78500     \n",
      "_________________________________________________________________\n",
      "batch_normalization_6 (Batch (None, 100)               400       \n",
      "_________________________________________________________________\n",
      "dropout_6 (Dropout)          (None, 100)               0         \n",
      "_________________________________________________________________\n",
      "dense_8 (Dense)              (None, 100)               10100     \n",
      "_________________________________________________________________\n",
      "batch_normalization_7 (Batch (None, 100)               400       \n",
      "_________________________________________________________________\n",
      "dropout_7 (Dropout)          (None, 100)               0         \n",
      "_________________________________________________________________\n",
      "dense_9 (Dense)              (None, 100)               10100     \n",
      "_________________________________________________________________\n",
      "batch_normalization_8 (Batch (None, 100)               400       \n",
      "_________________________________________________________________\n",
      "dropout_8 (Dropout)          (None, 100)               0         \n",
      "_________________________________________________________________\n",
      "dense_10 (Dense)             (None, 100)               10100     \n",
      "_________________________________________________________________\n",
      "batch_normalization_9 (Batch (None, 100)               400       \n",
      "_________________________________________________________________\n",
      "dropout_9 (Dropout)          (None, 100)               0         \n",
      "_________________________________________________________________\n",
      "dense_11 (Dense)             (None, 100)               10100     \n",
      "_________________________________________________________________\n",
      "batch_normalization_10 (Batc (None, 100)               400       \n",
      "_________________________________________________________________\n",
      "dropout_10 (Dropout)         (None, 100)               0         \n",
      "_________________________________________________________________\n",
      "dense_12 (Dense)             (None, 100)               10100     \n",
      "_________________________________________________________________\n",
      "batch_normalization_11 (Batc (None, 100)               400       \n",
      "_________________________________________________________________\n",
      "dropout_11 (Dropout)         (None, 100)               0         \n",
      "_________________________________________________________________\n",
      "dense_13 (Dense)             (None, 10)                1010      \n",
      "=================================================================\n",
      "Total params: 132,410\n",
      "Trainable params: 131,210\n",
      "Non-trainable params: 1,200\n",
      "_________________________________________________________________\n",
      "Epoch 1/20\n",
      "33600/33600 [==============================] - 27s 814us/step - loss: 0.8375 - acc: 0.7361\n",
      "Epoch 2/20\n",
      "33600/33600 [==============================] - 25s 748us/step - loss: 0.3901 - acc: 0.8852\n",
      "Epoch 3/20\n",
      "33600/33600 [==============================] - 25s 739us/step - loss: 0.3103 - acc: 0.9107\n",
      "Epoch 4/20\n",
      "33600/33600 [==============================] - 28s 846us/step - loss: 0.2751 - acc: 0.9199\n",
      "Epoch 5/20\n",
      "33600/33600 [==============================] - 24s 701us/step - loss: 0.2457 - acc: 0.9301\n",
      "Epoch 6/20\n",
      "33600/33600 [==============================] - 22s 650us/step - loss: 0.2222 - acc: 0.9366\n",
      "Epoch 7/20\n",
      "33600/33600 [==============================] - 21s 637us/step - loss: 0.2042 - acc: 0.9409\n",
      "Epoch 8/20\n",
      "33600/33600 [==============================] - 21s 638us/step - loss: 0.1922 - acc: 0.9452\n",
      "Epoch 9/20\n",
      "33600/33600 [==============================] - 21s 639us/step - loss: 0.1811 - acc: 0.9486\n",
      "Epoch 10/20\n",
      "33600/33600 [==============================] - 21s 638us/step - loss: 0.1695 - acc: 0.9509\n",
      "Epoch 11/20\n",
      "33600/33600 [==============================] - 21s 639us/step - loss: 0.1600 - acc: 0.9537\n",
      "Epoch 12/20\n",
      "33600/33600 [==============================] - 21s 638us/step - loss: 0.1537 - acc: 0.9551\n",
      "Epoch 13/20\n",
      "33600/33600 [==============================] - 21s 640us/step - loss: 0.1490 - acc: 0.9566\n",
      "Epoch 14/20\n",
      "33600/33600 [==============================] - 22s 644us/step - loss: 0.1419 - acc: 0.9593\n",
      "Epoch 15/20\n",
      "33600/33600 [==============================] - 22s 641us/step - loss: 0.1361 - acc: 0.9603\n",
      "Epoch 16/20\n",
      "33600/33600 [==============================] - 22s 644us/step - loss: 0.1312 - acc: 0.9613\n",
      "Epoch 17/20\n",
      "33600/33600 [==============================] - 21s 639us/step - loss: 0.1333 - acc: 0.9607\n",
      "Epoch 18/20\n",
      "33600/33600 [==============================] - 22s 640us/step - loss: 0.1218 - acc: 0.9646\n",
      "Epoch 19/20\n",
      "33600/33600 [==============================] - 21s 639us/step - loss: 0.1175 - acc: 0.9657\n",
      "Epoch 20/20\n",
      "33600/33600 [==============================] - 21s 640us/step - loss: 0.1109 - acc: 0.9679\n",
      "_________________________________________________________________\n",
      "Layer (type)                 Output Shape              Param #   \n",
      "=================================================================\n",
      "input_1 (InputLayer)         (None, 784)               0         \n",
      "_________________________________________________________________\n",
      "dense_7 (Dense)              (None, 100)               78500     \n",
      "_________________________________________________________________\n",
      "batch_normalization_6 (Batch (None, 100)               400       \n",
      "_________________________________________________________________\n",
      "dropout_6 (Dropout)          (None, 100)               0         \n",
      "_________________________________________________________________\n",
      "dense_8 (Dense)              (None, 100)               10100     \n",
      "_________________________________________________________________\n",
      "batch_normalization_7 (Batch (None, 100)               400       \n",
      "_________________________________________________________________\n",
      "dropout_7 (Dropout)          (None, 100)               0         \n",
      "_________________________________________________________________\n",
      "dense_9 (Dense)              (None, 100)               10100     \n",
      "_________________________________________________________________\n",
      "batch_normalization_8 (Batch (None, 100)               400       \n",
      "_________________________________________________________________\n",
      "dropout_8 (Dropout)          (None, 100)               0         \n",
      "_________________________________________________________________\n",
      "dense_10 (Dense)             (None, 100)               10100     \n",
      "_________________________________________________________________\n",
      "batch_normalization_9 (Batch (None, 100)               400       \n",
      "_________________________________________________________________\n",
      "dropout_9 (Dropout)          (None, 100)               0         \n",
      "_________________________________________________________________\n",
      "dense_11 (Dense)             (None, 100)               10100     \n",
      "_________________________________________________________________\n",
      "batch_normalization_10 (Batc (None, 100)               400       \n",
      "_________________________________________________________________\n",
      "dropout_10 (Dropout)         (None, 100)               0         \n",
      "_________________________________________________________________\n",
      "dense_12 (Dense)             (None, 100)               10100     \n",
      "_________________________________________________________________\n",
      "batch_normalization_11 (Batc (None, 100)               400       \n",
      "_________________________________________________________________\n",
      "dropout_11 (Dropout)         (None, 100)               0         \n",
      "_________________________________________________________________\n",
      "dense_13 (Dense)             (None, 10)                1010      \n",
      "=================================================================\n",
      "Total params: 132,410\n",
      "Trainable params: 131,210\n",
      "Non-trainable params: 1,200\n",
      "_________________________________________________________________\n",
      "Test loss: 0.10519651010011634\n",
      "Test accuracy 0.9702380952380952\n"
     ]
    }
   ],
   "source": [
    "from keras.layers import Input, Dense\n",
    "from keras.models import Model\n",
    "\n",
    "\n",
    "# This returns a tensor\n",
    "inputs = Input(shape=(784,))\n",
    "\n",
    "# a layer instance is callable on a tensor, and returns a tensor\n",
    "x = Dense(100, activation='relu')(inputs)\n",
    "x = BatchNormalization()(x)\n",
    "x = Dropout(rate=0.2)(x)\n",
    "x = Dense(100, activation='relu')(x)\n",
    "x = BatchNormalization()(x)\n",
    "x = Dropout(rate=0.2)(x)\n",
    "x = Dense(100, activation='relu')(x)\n",
    "x = BatchNormalization()(x)\n",
    "x = Dropout(rate=0.2)(x)\n",
    "x = Dense(100, activation='relu')(x)\n",
    "x = BatchNormalization()(x)\n",
    "x = Dropout(rate=0.2)(x)\n",
    "x = Dense(100, activation='relu')(x)\n",
    "x = BatchNormalization()(x)\n",
    "x = Dropout(rate=0.2)(x)\n",
    "x = Dense(100, activation='relu')(x)\n",
    "x = BatchNormalization()(x)\n",
    "x = Dropout(rate=0.2)(x)\n",
    "# x = Dense(100, activation='relu')(x)\n",
    "predictions = Dense(10, activation='softmax')(x)\n",
    "\n",
    "# This creates a model that includes\n",
    "# the Input layer and three Dense layers\n",
    "model = Model(inputs=inputs, outputs=predictions)\n",
    "model.summary()\n",
    "\n",
    "\n",
    "model.compile(optimizer='adam',\n",
    "              loss='categorical_crossentropy',\n",
    "              metrics=['accuracy'])\n",
    "model.fit(x_train, y_train, epochs=20, batch_size=40)\n",
    "model.summary()\n",
    "score = model.evaluate(x_test, y_test, verbose=0)\n",
    "print('Test loss:', score[0])\n",
    "print('Test accuracy', score[1])"
   ]
  },
  {
   "cell_type": "code",
   "execution_count": null,
   "metadata": {},
   "outputs": [],
   "source": []
  },
  {
   "cell_type": "code",
   "execution_count": null,
   "metadata": {},
   "outputs": [],
   "source": []
  },
  {
   "cell_type": "code",
   "execution_count": null,
   "metadata": {},
   "outputs": [],
   "source": []
  },
  {
   "cell_type": "code",
   "execution_count": null,
   "metadata": {},
   "outputs": [],
   "source": []
  },
  {
   "cell_type": "code",
   "execution_count": null,
   "metadata": {},
   "outputs": [],
   "source": []
  }
 ],
 "metadata": {
  "kernelspec": {
   "display_name": "Python 3",
   "language": "python",
   "name": "python3"
  },
  "language_info": {
   "codemirror_mode": {
    "name": "ipython",
    "version": 3
   },
   "file_extension": ".py",
   "mimetype": "text/x-python",
   "name": "python",
   "nbconvert_exporter": "python",
   "pygments_lexer": "ipython3",
   "version": "3.6.0"
  },
  "latex_envs": {
   "LaTeX_envs_menu_present": true,
   "autoclose": false,
   "autocomplete": true,
   "bibliofile": "biblio.bib",
   "cite_by": "apalike",
   "current_citInitial": 1,
   "eqLabelWithNumbers": true,
   "eqNumInitial": 1,
   "hotkeys": {
    "equation": "Ctrl-E",
    "itemize": "Ctrl-I"
   },
   "labels_anchors": false,
   "latex_user_defs": false,
   "report_style_numbering": false,
   "user_envs_cfg": false
  },
  "toc": {
   "base_numbering": 1,
   "nav_menu": {},
   "number_sections": true,
   "sideBar": true,
   "skip_h1_title": false,
   "title_cell": "Table of Contents",
   "title_sidebar": "Contents",
   "toc_cell": false,
   "toc_position": {},
   "toc_section_display": true,
   "toc_window_display": true
  }
 },
 "nbformat": 4,
 "nbformat_minor": 2
}
