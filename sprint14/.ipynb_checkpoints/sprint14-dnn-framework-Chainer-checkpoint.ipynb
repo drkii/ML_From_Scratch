{
 "cells": [
  {
   "cell_type": "code",
   "execution_count": 1,
   "metadata": {},
   "outputs": [],
   "source": [
    "import matplotlib.pyplot as plt\n",
    "%matplotlib inline\n",
    "import numpy as np\n",
    "import pandas as pd\n",
    "from sklearn.model_selection import train_test_split"
   ]
  },
  {
   "cell_type": "code",
   "execution_count": 2,
   "metadata": {},
   "outputs": [],
   "source": [
    "train_df = pd.read_csv(\"./input/train.csv\")\n",
    "x = train_df.drop('label', axis=1)\n",
    "y = pd.get_dummies(train_df['label'])\n",
    "x = np.array(x)\n",
    "y = np.array(y)\n",
    "\n",
    "# 訓練とテストデータに分割\n",
    "x_train, x_test, y_train, y_test = train_test_split(x, y, test_size=0.2, random_state=0)"
   ]
  },
  {
   "cell_type": "code",
   "execution_count": 3,
   "metadata": {},
   "outputs": [],
   "source": [
    "import chainer\n",
    "from chainer import functions as F\n",
    "from chainer import links as L\n",
    "\n",
    "class Model(chainer.Chain):\n",
    "\n",
    "    def __init__(self, n_units, n_out):\n",
    "        super(Model, self).__init__()\n",
    "        with self.init_scope():\n",
    "            self.l1 = L.Linear(None, n_units)\n",
    "            self.l2 = L.Linear(n_units, n_units)\n",
    "            self.l3 = L.Linear(n_units, n_out)\n",
    "          \n",
    "    def __call__(self, x):\n",
    "        h1 = F.relu(self.l1(x))\n",
    "        h2 = F.relu(self.l2(h1))\n",
    "        z = F.relu(self.l3(h2))\n",
    "        return z\n",
    "\n",
    "#モデルのインスタンスの作成\n",
    "n_units = 200\n",
    "n_classes = 10\n",
    "model = L.Classifier(Model(n_units, n_classes))"
   ]
  },
  {
   "cell_type": "code",
   "execution_count": 4,
   "metadata": {},
   "outputs": [
    {
     "name": "stderr",
     "output_type": "stream",
     "text": [
      "Downloading from http://yann.lecun.com/exdb/mnist/train-images-idx3-ubyte.gz...\n",
      "Downloading from http://yann.lecun.com/exdb/mnist/train-labels-idx1-ubyte.gz...\n",
      "Downloading from http://yann.lecun.com/exdb/mnist/t10k-images-idx3-ubyte.gz...\n",
      "Downloading from http://yann.lecun.com/exdb/mnist/t10k-labels-idx1-ubyte.gz...\n"
     ]
    },
    {
     "name": "stdout",
     "output_type": "stream",
     "text": [
      "val_loss:0.5883 val_acc:0.7744\n",
      "val_loss:0.5540 val_acc:0.7804\n",
      "val_loss:0.5420 val_acc:0.7828\n",
      "val_loss:0.5372 val_acc:0.7847\n",
      "val_loss:0.5360 val_acc:0.7840\n",
      "val_loss:0.5267 val_acc:0.7841\n",
      "val_loss:0.5307 val_acc:0.7864\n",
      "val_loss:0.5270 val_acc:0.7874\n",
      "val_loss:0.5314 val_acc:0.7849\n",
      "val_loss:0.5389 val_acc:0.7847\n"
     ]
    }
   ],
   "source": [
    "import numpy as np\n",
    "from chainer.dataset import concat_examples\n",
    "from chainer.cuda import to_cpu\n",
    "from chainer import iterators\n",
    "from chainer import optimizers\n",
    "from chainer.datasets import mnist\n",
    "train,test = mnist.get_mnist(withlabel=True, ndim=1)\n",
    "batch_size = 128\n",
    "\n",
    "train_iter = iterators.SerialIterator(train, batch_size)\n",
    "test_iter = iterators.SerialIterator(test, batch_size,repeat=False,shuffle=False)\n",
    "optimizer = optimizers.Adam()\n",
    "optimizer.setup(model)\n",
    "epoch_num = 10\n",
    "\n",
    "i=0\n",
    "while train_iter.epoch < epoch_num:\n",
    "    i +=1\n",
    "    batch = train_iter.next()\n",
    "    x, y = concat_examples(batch)\n",
    "  #作成したモデルにデータを入力して、出力y_predを得るコード\n",
    "    y_pred = model.predictor(x)\n",
    "  #出力y_predと正解yからロスを計算するコード\n",
    "    loss = F.softmax_cross_entropy(y_pred, y)\n",
    "  #ロスのVariableのbackward()メソッドを呼ぶコード\n",
    "    model.cleargrads()\n",
    "    loss.backward()\n",
    "  #Optimizerのupdate()メソッドを呼ぶコード\n",
    "    optimizer.update()\n",
    "    \n",
    "    if train_iter.is_new_epoch:\n",
    "        \n",
    "        test_losses = []\n",
    "        test_accuracies = []\n",
    "        \n",
    "        while True:\n",
    "            test_batch = test_iter.next()\n",
    "            x_test, y_test = concat_examples(test_batch)\n",
    "            \n",
    "            y_test_pred = model.predictor(x_test)\n",
    "            \n",
    "            test_loss = F.softmax_cross_entropy(y_test_pred, y_test)\n",
    "            test_losses.append(test_loss.data)\n",
    "        \n",
    "            test_accuracy = F.accuracy(y_test_pred, y_test)\n",
    "            test_accuracies.append(test_accuracy.data)\n",
    "            \n",
    "            if test_iter.is_new_epoch:\n",
    "                test_iter.epoch = 0\n",
    "                test_iter.current_position = 0\n",
    "                test_iter.is_new_epoch = False\n",
    "                test_iter._pushed_position = None\n",
    "                break\n",
    "                \n",
    "        print('val_loss:{:.04f} val_acc:{:.04f}'.format(np.mean(test_losses),\\\n",
    "                                                        np.mean(test_accuracies)))"
   ]
  },
  {
   "cell_type": "code",
   "execution_count": null,
   "metadata": {},
   "outputs": [],
   "source": []
  },
  {
   "cell_type": "code",
   "execution_count": null,
   "metadata": {},
   "outputs": [],
   "source": []
  }
 ],
 "metadata": {
  "kernelspec": {
   "display_name": "Python 3",
   "language": "python",
   "name": "python3"
  },
  "language_info": {
   "codemirror_mode": {
    "name": "ipython",
    "version": 3
   },
   "file_extension": ".py",
   "mimetype": "text/x-python",
   "name": "python",
   "nbconvert_exporter": "python",
   "pygments_lexer": "ipython3",
   "version": "3.6.0"
  },
  "latex_envs": {
   "LaTeX_envs_menu_present": true,
   "autoclose": false,
   "autocomplete": true,
   "bibliofile": "biblio.bib",
   "cite_by": "apalike",
   "current_citInitial": 1,
   "eqLabelWithNumbers": true,
   "eqNumInitial": 1,
   "hotkeys": {
    "equation": "Ctrl-E",
    "itemize": "Ctrl-I"
   },
   "labels_anchors": false,
   "latex_user_defs": false,
   "report_style_numbering": false,
   "user_envs_cfg": false
  },
  "toc": {
   "base_numbering": 1,
   "nav_menu": {},
   "number_sections": true,
   "sideBar": true,
   "skip_h1_title": false,
   "title_cell": "Table of Contents",
   "title_sidebar": "Contents",
   "toc_cell": false,
   "toc_position": {},
   "toc_section_display": true,
   "toc_window_display": false
  }
 },
 "nbformat": 4,
 "nbformat_minor": 2
}
