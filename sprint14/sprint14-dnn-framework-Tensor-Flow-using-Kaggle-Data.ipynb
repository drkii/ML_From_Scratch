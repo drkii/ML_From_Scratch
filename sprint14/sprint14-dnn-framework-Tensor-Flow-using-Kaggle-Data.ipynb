{
 "cells": [
  {
   "cell_type": "markdown",
   "metadata": {},
   "source": [
    "# 確認項目\n",
    "- 様々な学習形式を実装する（ミニバッチ、バッチ、オンライン）\n",
    "- Validationデータを用いて、精度を確認する\n",
    "- 3~5層のDNNを実装する\n",
    "- BatchNormalizationやDropOutを用いて、過学習対策を行う\n",
    "- 様々な重み初期化を試す\n",
    "- tensorboardを用いて、デバッグする\n",
    "- tf debuggerを用いて、デバッグする"
   ]
  },
  {
   "cell_type": "code",
   "execution_count": 1,
   "metadata": {},
   "outputs": [
    {
     "name": "stdout",
     "output_type": "stream",
     "text": [
      "Train accuracy at step 0: 0.12\n",
      "Validation accuracy at step 0: 0.096666664\n",
      "Train accuracy at step 100: 0.82\n",
      "Validation accuracy at step 100: 0.8325397\n",
      "Train accuracy at step 200: 0.81\n",
      "Validation accuracy at step 200: 0.8687302\n",
      "Train accuracy at step 300: 0.87\n",
      "Validation accuracy at step 300: 0.88722223\n",
      "Train accuracy at step 400: 0.9\n",
      "Validation accuracy at step 400: 0.8963492\n",
      "Train accuracy at step 500: 0.9\n",
      "Validation accuracy at step 500: 0.90579367\n",
      "Train accuracy at step 600: 0.93\n",
      "Validation accuracy at step 600: 0.9116667\n",
      "Train accuracy at step 700: 0.91\n",
      "Validation accuracy at step 700: 0.9160317\n",
      "Train accuracy at step 800: 0.93\n",
      "Validation accuracy at step 800: 0.9193651\n",
      "Train accuracy at step 900: 0.95\n",
      "Validation accuracy at step 900: 0.92214286\n",
      "106.66985795501387\n"
     ]
    }
   ],
   "source": [
    "#Importします\n",
    "import numpy as np\n",
    "import tensorflow as tf\n",
    "import matplotlib.pyplot as plt\n",
    "import pandas as pd\n",
    "%matplotlib inline\n",
    "from sklearn.model_selection import train_test_split\n",
    "import time\n",
    "\n",
    "#時間測定はじめ\n",
    "start = time.perf_counter()\n",
    "\n",
    "#データセットを定義します\n",
    "train_df = pd.read_csv(\"./input/train.csv\")\n",
    "x = train_df.drop('label', axis=1)\n",
    "y = pd.get_dummies(train_df['label'])\n",
    "x = np.array(x)\n",
    "y = np.array(y)\n",
    "\n",
    "#検証のために最初にtrainとtest(検証データ）を分けておく\n",
    "x_train, x_test, y_train, y_test = train_test_split(x, y, test_size=0.3)\n",
    "\n",
    "#入力データxと正解出力データtを変数tf.placeholder()を使って定義していきます\n",
    "x = tf.placeholder(tf.float32, [None, 784], name='x')\n",
    "t = tf.placeholder(tf.float32, [None, 10], name='t')\n",
    "\n",
    "#重みとバイアス、Hidden層、モデルの出力を定義します\n",
    "W1 = tf.Variable(tf.random_normal([784, 512], mean=0.0, stddev=0.05), name='W1')\n",
    "b1 = tf.Variable(tf.zeros([512]), name='b1')\n",
    "n_norm = tf.layers.batch_normalization(tf.matmul(x, W1) + b1, training=True, name='n_norm')\n",
    "h = tf.nn.relu(n_norm, name = 'h')\n",
    "\n",
    "W2 = tf.Variable(tf.random_normal([512,10], mean=0.0, stddev=0.05), name='W2')\n",
    "b2 = tf.Variable(tf.zeros([10]), name='b2')\n",
    "y = tf.nn.softmax(tf.matmul(h, W2) + b2, name='y')\n",
    "\n",
    "\n",
    "#Withであとで呼び出せるようにしながら以下を定義\n",
    "#Cross_Entropy\n",
    "with tf.name_scope('cross_entropy'):\n",
    "    cross_entropy = tf.reduce_mean(-tf.reduce_sum(t * tf.log(y) + (1 - t) * tf.log(1 - y), reduction_indices=[1]))\n",
    "\n",
    "#accuracy\n",
    "with tf.name_scope('accuracy'):\n",
    "    correct_prediction = tf.equal(tf.argmax(y, 1), tf.argmax(t, 1))\n",
    "    accuracy = tf.reduce_mean(tf.cast(correct_prediction, tf.float32))\n",
    "    \n",
    "#train\n",
    "with tf.name_scope('train') as scope:\n",
    "    train_step = tf.train.GradientDescentOptimizer(0.01).minimize(cross_entropy)\n",
    "    acc_summary_train = tf.summary.scalar(\"train_acc\", accuracy)\n",
    "    loss_summary_train = tf.summary.scalar(\"cross_entropy_train\", cross_entropy)\n",
    "\n",
    "#validation\n",
    "with tf.name_scope(\"val\") as scope:\n",
    "    acc_summary_val = tf.summary.scalar(\"val_acc\", accuracy)\n",
    "    loss_summary_val = tf.summary.scalar(\"cross_entropy_val\", cross_entropy)\n",
    "\n",
    "    \n",
    "    \n",
    "# Tensor Boardへ出すヒストグラムサマリーを定義\n",
    "w1_hist = tf.summary.histogram(\"weights1\", W1)\n",
    "b1_hist = tf.summary.histogram(\"biases1\", b1)\n",
    "n_norm_hist = tf.summary.histogram(\"n_norm\", n_norm)\n",
    "h_hist = tf.summary.histogram(\"h\", h)\n",
    "w2_hist = tf.summary.histogram(\"weights2\", W2)\n",
    "b2_hist = tf.summary.histogram(\"biases2\", b2)\n",
    "y_hist = tf.summary.histogram(\"y\", y)\n",
    "\n",
    "# セッションを用いる\n",
    "sess = tf.Session()\n",
    "sess.run(tf.global_variables_initializer())\n",
    "\n",
    "#Tensor BoardにMNISTとして吐き出し準備する\n",
    "writer = tf.summary.FileWriter('Kaggle-MNIST', sess.graph)\n",
    "merged = tf.summary.merge_all()\n",
    "\n",
    "\n",
    "# 訓練\n",
    "for epoch in range(1000):\n",
    "    batch_size = 100\n",
    "    train_size = x_train.shape[0]\n",
    "    batch_mask = np.random.choice(train_size, batch_size)\n",
    "    x_batch = x_train[batch_mask]\n",
    "    y_batch = y_train[batch_mask]\n",
    "    sess.run(train_step, feed_dict={x:x_batch, t:y_batch})\n",
    "    \n",
    "    # 100回に1回をグラフにする\n",
    "    if epoch % 100==0:\n",
    "        train_list = [accuracy, acc_summary_train, loss_summary_train, w1_hist, b1_hist, n_norm_hist, h_hist, w2_hist, b2_hist, y_hist]\n",
    "        result = sess.run(train_list, feed_dict={x:x_batch, t:y_batch})\n",
    "        for j in range(1,len(result)):\n",
    "            writer.add_summary(result[j], epoch)\n",
    "        print(\"Train accuracy at step %s: %s\" % (epoch, result[0]))\n",
    "\n",
    "        val_list = [accuracy, acc_summary_val, loss_summary_val]\n",
    "        result = sess.run(val_list, feed_dict={x:x_test, t:y_test})\n",
    "        for j in range(1,len(result)):\n",
    "            writer.add_summary(result[j], epoch)\n",
    "\n",
    "        print(\"Validation accuracy at step %s: %s\" % (epoch, result[0]))\n",
    "\n",
    "#時間測定終わり\n",
    "finish = time.perf_counter()-start\n",
    "print(finish)"
   ]
  },
  {
   "cell_type": "markdown",
   "metadata": {},
   "source": [
    "# 説明問題\n",
    "以下の基本的な語彙について説明してください。\n",
    "- Tensor: Pythonでデータはオブジェクトで管理してきました。例えば、文字列型オブジェクト(“aaa”)、数値型オブジェクト(123)などです。TensorFlowでは、データは整数、浮動小数点数、または文字列オブジェクトとして格納されません。データは全てTensorに格納されます。Tensorとは簡単に言うと多次元配列のことを表します。\n",
    "\n",
    "- Placeholder: TensorFlowにおける変数です。tf.placeholder()で表していきます。この変数は値が入っておらず、ただの入れ物として機能します。最初に配列の形だけ定義しておいて後から値を入れて使います。値の変化に対応できるため、学習ごとに違う値が入る入力データや正解出力データなどに用いられます。\n",
    "\n",
    "- Variable: tf.placeholder()とは違い、値を入れるところを表します。モデルのパラメータ(重み、バイアス)に用いられます。\n",
    "\n",
    "- Session: TensorFlowはデータフローグラフを導入しています。実際にデータフローグラフで表された計算を実行させるものを、セッションと言います。"
   ]
  },
  {
   "cell_type": "markdown",
   "metadata": {},
   "source": [
    "# TensorBoardの使用"
   ]
  },
  {
   "cell_type": "code",
   "execution_count": 3,
   "metadata": {},
   "outputs": [
    {
     "data": {
      "text/plain": [
       "<matplotlib.image.AxesImage at 0x10973fe48>"
      ]
     },
     "execution_count": 3,
     "metadata": {},
     "output_type": "execute_result"
    },
    {
     "data": {
      "image/png": "[encoded data removed]",
      "text/plain": [
       "<matplotlib.figure.Figure at 0x1062149e8>"
      ]
     },
     "metadata": {},
     "output_type": "display_data"
    }
   ],
   "source": [
    "from matplotlib.pyplot import imshow\n",
    "import numpy as np\n",
    "from PIL import Image\n",
    "\n",
    "%matplotlib inline\n",
    "pil_im = Image.open(\"./tensorboad.png\", 'r')\n",
    "imshow(np.asarray(pil_im))"
   ]
  },
  {
   "cell_type": "markdown",
   "metadata": {},
   "source": [
    "# スクラッチとの実行時間の比較"
   ]
  },
  {
   "cell_type": "markdown",
   "metadata": {},
   "source": [
    "上記、出力情報内に、106.669857955。"
   ]
  },
  {
   "cell_type": "markdown",
   "metadata": {},
   "source": [
    "# Keras\n",
    "別のjupyter notebookをご参照ください。"
   ]
  },
  {
   "cell_type": "markdown",
   "metadata": {},
   "source": [
    "# Chainer\n",
    "別のjupyter notebookをご参照ください。"
   ]
  },
  {
   "cell_type": "markdown",
   "metadata": {},
   "source": [
    "# Pytorch\n",
    "別のjupyter notebookをご参照ください。"
   ]
  },
  {
   "cell_type": "markdown",
   "metadata": {},
   "source": [
    "# スクラッチの修正\n",
    "dropoutをif文内で実装"
   ]
  },
  {
   "cell_type": "markdown",
   "metadata": {},
   "source": [
    "# フレームワークの特徴の説明"
   ]
  },
  {
   "cell_type": "markdown",
   "metadata": {},
   "source": [
    "- TensorFlow: 圧倒的な利用者数でGoogleが実際にプロダクトを生む際に利用しているということで、爆発的に利用者が増えたようです。利用者も多く、スクラッチでの実装に比べ、関数などが用意されているため、より簡単に実装できると言えそうです。面白いのは、どんな計算も、TensorFlowは基本的に全ての計算処理を、計算グラフによって記述する点であると思います（例えば単なる足し算でも）。やはり慣れは必要ですが、数式に落とせるものを深層学習に持っていくのに便利なツールと言えそうです。\n",
    "\n",
    "- Keras: 層をただただ積み重ねていくだけという、とんでもなく簡単な実装が可能です。実装が簡単な一方、コードだけからは処理の中身を知ることはできません。従って、Kerasを使っていても、ディープラーニングそれ自体の理解には繋がりにくいとも言われています。\n",
    "\n",
    "- Chainer: 日本産のフレームワークです。利用者は非常に少ないですが、柔軟な計算グラフの構築が可能であることが、最も大きな特徴です。Chainerを皮切りに、この方式に則ったフレームワークも登場してきています（dynetやpytorch)\n",
    "\n",
    "- Pytorch: Define by Runで、利用者のコミュニティも拡大傾向、研究での利用例も増えてきているとのことで現在最も勢いのあるフレームワークと言えます。Chainerのメリットのほとんどを有するということでChainerに慣れた人も使いやすいです。"
   ]
  },
  {
   "cell_type": "code",
   "execution_count": null,
   "metadata": {},
   "outputs": [],
   "source": []
  }
 ],
 "metadata": {
  "kernelspec": {
   "display_name": "Python 3",
   "language": "python",
   "name": "python3"
  },
  "language_info": {
   "codemirror_mode": {
    "name": "ipython",
    "version": 3
   },
   "file_extension": ".py",
   "mimetype": "text/x-python",
   "name": "python",
   "nbconvert_exporter": "python",
   "pygments_lexer": "ipython3",
   "version": "3.6.0"
  },
  "latex_envs": {
   "LaTeX_envs_menu_present": true,
   "autoclose": false,
   "autocomplete": true,
   "bibliofile": "biblio.bib",
   "cite_by": "apalike",
   "current_citInitial": 1,
   "eqLabelWithNumbers": true,
   "eqNumInitial": 1,
   "hotkeys": {
    "equation": "Ctrl-E",
    "itemize": "Ctrl-I"
   },
   "labels_anchors": false,
   "latex_user_defs": false,
   "report_style_numbering": false,
   "user_envs_cfg": false
  },
  "toc": {
   "base_numbering": 1,
   "nav_menu": {},
   "number_sections": true,
   "sideBar": true,
   "skip_h1_title": false,
   "title_cell": "Table of Contents",
   "title_sidebar": "Contents",
   "toc_cell": false,
   "toc_position": {},
   "toc_section_display": true,
   "toc_window_display": false
  }
 },
 "nbformat": 4,
 "nbformat_minor": 2
}
