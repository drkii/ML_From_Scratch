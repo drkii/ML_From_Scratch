{
 "cells": [
  {
   "cell_type": "markdown",
   "metadata": {},
   "source": [
    "# sprint13-dnn-scratch"
   ]
  },
  {
   "cell_type": "markdown",
   "metadata": {},
   "source": [
    "# DNNとは"
   ]
  },
  {
   "cell_type": "markdown",
   "metadata": {},
   "source": [
    "DeepNeuralNetwork(DNN)とはニューラルネットワークを文字通りdeepに(深く)したものです。\n",
    "\n",
    "\n",
    "\n",
    "\n",
    "ニューラルネットワークが３層（入力層、隠れ層、出力層）だったのに対し、DNNは隠れ層が４つ以上のものを指します。\n",
    "非線形関数の層をより深く組み合わせていくことで認識精度が高まることが経験的に分かっています。\n",
    "一方で層を深くすることでメリットだけでなく勾配爆発/消失、過学習といった問題が発生する恐れもあります。\n",
    "\n",
    "- 勾配爆発・勾配消失\n",
    "  - バックプロパゲーションで勾配を求める際を考える。計算グラフで乗算ノードとなる層（全結合層、畳み込み層など）が複数層ある場合、勾配の値は基本的に-1から1の間の値を取るため前の層に行くほど小さくなってしまう。つまり前の層ほど学習スピードが遅くなってしまい層が深いネットワークでは勾配がほぼゼロになってしまい更新が行われなくなる問題が勾配消失と呼ぶ。 また逆に勾配が大きくなりすぎてパラメータが発散していくことを勾配爆発問題と呼ぶ。\n",
    "  \n",
    "- 過学習\n",
    "  - 層を深くすることで表現力が増すため、学習データに対する精度はどんどん上がっていきます。これが行き過ぎると学習データに最適化されすぎて未学習のデータに対する精度が下がってしまう。このように特定のデータにだけ性能が高く、汎化性能が落ちることを過学習と呼びます。\n",
    "\n",
    "\n",
    "DNNを構築する際は上記のような問題に対処できるような工夫（ReLUを使う、正則化項）や機能層（ドロップアウト、バッチノーマリゼーション）を採用する必要があります。"
   ]
  },
  {
   "cell_type": "markdown",
   "metadata": {},
   "source": [
    "# 784ピクセルの値（0-255）から数字（0-9）を分類する問題"
   ]
  },
  {
   "cell_type": "code",
   "execution_count": 253,
   "metadata": {},
   "outputs": [],
   "source": [
    "import matplotlib.pyplot as plt\n",
    "import numpy as np\n",
    "import pandas as pd\n",
    "import pandas as pd\n",
    "\n",
    "%matplotlib inline\n",
    "\n",
    "\n",
    "train_df = pd.read_csv(\"./input/train.csv\")\n",
    "X = train_df.drop('label', axis=1)\n",
    "y = pd.get_dummies(train_df['label'])\n",
    "X = np.array(X)\n",
    "y = np.array(y)"
   ]
  },
  {
   "cell_type": "code",
   "execution_count": 254,
   "metadata": {},
   "outputs": [
    {
     "data": {
      "text/plain": [
       "array([[0, 0, 0, ..., 0, 0, 0],\n",
       "       [0, 0, 0, ..., 0, 0, 0],\n",
       "       [0, 0, 0, ..., 0, 0, 0],\n",
       "       ...,\n",
       "       [0, 0, 0, ..., 0, 0, 0],\n",
       "       [0, 0, 0, ..., 0, 0, 0],\n",
       "       [0, 0, 0, ..., 0, 0, 0]])"
      ]
     },
     "execution_count": 254,
     "metadata": {},
     "output_type": "execute_result"
    }
   ],
   "source": [
    "X"
   ]
  },
  {
   "cell_type": "code",
   "execution_count": 255,
   "metadata": {
    "scrolled": false
   },
   "outputs": [
    {
     "data": {
      "text/plain": [
       "array([[0, 1, 0, ..., 0, 0, 0],\n",
       "       [1, 0, 0, ..., 0, 0, 0],\n",
       "       [0, 1, 0, ..., 0, 0, 0],\n",
       "       ...,\n",
       "       [0, 0, 0, ..., 1, 0, 0],\n",
       "       [0, 0, 0, ..., 0, 0, 0],\n",
       "       [0, 0, 0, ..., 0, 0, 1]], dtype=uint8)"
      ]
     },
     "execution_count": 255,
     "metadata": {},
     "output_type": "execute_result"
    }
   ],
   "source": [
    "y"
   ]
  },
  {
   "cell_type": "markdown",
   "metadata": {},
   "source": [
    "# 関数の実装:ソフトマックス関数"
   ]
  },
  {
   "cell_type": "code",
   "execution_count": 256,
   "metadata": {},
   "outputs": [],
   "source": [
    "def softmax(x):\n",
    "    return np.exp(x) / np.sum(np.exp(x), axis=1, keepdims=True)"
   ]
  },
  {
   "cell_type": "markdown",
   "metadata": {},
   "source": [
    "# コスト関数：交差エントロピー誤差"
   ]
  },
  {
   "cell_type": "code",
   "execution_count": 257,
   "metadata": {},
   "outputs": [],
   "source": [
    "def cross_entropy_error(y, y_pred):\n",
    "    \n",
    "    data_size = y.shape[0]\n",
    "\n",
    "    # クロスエントロピー誤差関数　y_predは０になりえるので -inf にならないためにすごく小さい補正値を入れる\n",
    "    cross_entorpy = -np.sum(y * np.log(y_pred + 1e-7))\n",
    "    \n",
    "    error = cross_entorpy  / data_size\n",
    "    return error"
   ]
  },
  {
   "cell_type": "code",
   "execution_count": 258,
   "metadata": {},
   "outputs": [],
   "source": [
    "class SoftmaxWithLoss:\n",
    "    def __init__(self):\n",
    "        self.loss = None # 損失関数\n",
    "        self.y = None       # softmaxの出力\n",
    "        self.t = None       # 教師データ（one-hot vector)\n",
    "        \n",
    "    def forward(self, x, t):\n",
    "        self.t = t\n",
    "        self.y = softmax(x)\n",
    "        self.loss = cross_entropy_error(self.y, self.t)\n",
    "        \n",
    "        return self.loss\n",
    "    \n",
    "    def backward(self, dout=1):\n",
    "        batch_size = self.t.shape[0]\n",
    "        dx = (self.y - self.t) / batch_size # delta3に相当\n",
    "        \n",
    "        return dx\n"
   ]
  },
  {
   "cell_type": "markdown",
   "metadata": {},
   "source": [
    "# アフィン変換層を実装する"
   ]
  },
  {
   "cell_type": "markdown",
   "metadata": {},
   "source": [
    "## Optimizer\n",
    "\n",
    "\n",
    "- SGD　（Stochastic Gradient Decent：確率的勾配降下法）\n",
    "\n",
    "Gradient Decentがバッチ処理ですべてのデータを使って更新を行っていました。\n",
    "データが大きくなったり、リアルタイムでデータが更新されるシステムに適さないこともあります。\n",
    "SGDは更新に使うデータ量を全データではなく１つからN個（ミニバッチと呼ばれるかたまり）で処理をする手法です。\n",
    "データの選択（ランダムか順番）やデータ数をいくつにするかはシステムによります。\n",
    "たとえば外れ値が多いデータはデータ数を１にするとそのデータに引っ張られて適切なパラメータにならないためN個のデータを使ったほうがよいでしょう。\n",
    "以下に説明するOptimizerはすべてSGDのやり方（処理数を絞る）を引き継いでおり、パラメータの更新式が異なります。\n",
    "\n",
    "\n",
    "- AdaGrad\n",
    "\n",
    "AdaGradはAdaptiveに由来し、下記のような式でパラメータを更新します。\n",
    "\n",
    "$h = h + \\frac{\\delta L}{\\delta W} \\cdot \\frac{\\delta L}{\\delta W}$\n",
    "\n",
    "$W = W - \\eta\\frac{1}{\\sqrt{h}}  \\frac{\\delta L}{\\delta W}$\n",
    "\n",
    "学習率をパラメータごと「適応的」に調整することで、勾配が大きいものは更新量は小さく、勾配が小さいものは更新量は大きくしていることが特徴です。\n",
    "\n",
    "\n",
    "- Adam\n",
    "\n",
    "Adamは上述のAdaGradとMomentumを融合したものです。\n",
    "Momentumはボールが地面を転がるときの空気抵抗や摩擦抵抗で徐々に減速していくようにパラメータを更新していくため、SGDよりジグザグ度合いが軽減されて結果的にすばやく収束することができます。\n",
    "更新式は下記のようになっており$\\alpha$は摩擦係数（速度を減衰させるもの）を表します。\n",
    "\n",
    "$v = \\alpha v -\\eta \\frac{\\delta L}{\\delta W}$\n",
    "\n",
    "$W = W + v$\n",
    "\n",
    "MomentumとAdaGradを組み合わせることで収束スピードも早く、各パラメータの更新量も細かく調整することができます。"
   ]
  },
  {
   "cell_type": "markdown",
   "metadata": {},
   "source": [
    "Affineレイヤの更新をSGD,AdaGrad,Adamと切り替えられるように実装しています"
   ]
  },
  {
   "cell_type": "code",
   "execution_count": 259,
   "metadata": {},
   "outputs": [],
   "source": [
    "class Affine:\n",
    "    def __init__(self, W, b, params= {}):\n",
    "        self.W = W\n",
    "        self.b = b\n",
    "        self.x = None\n",
    "        # パラメータの微分値\n",
    "        self.dW = None\n",
    "        self.db = None\n",
    "        # 更新式のスイッチング\n",
    "        self.lr = params['lr']\n",
    "        \n",
    "        # optimizeメソッドを\n",
    "        if params['optimizer']=='sgd':\n",
    "            self.optimize = self.update_sgd\n",
    "        elif params['optimizer'] == 'adagrad':\n",
    "            self.h = np.zeros_like(W)\n",
    "            self.optimize = self.update_adagrad\n",
    "        else: # params['optimizer'] == 'adam':\n",
    "            self.m = np.zeros_like(W)\n",
    "            self.v = np.zeros_like(W)\n",
    "            self.beta1 = 0.9\n",
    "            self.beta2 = 0.999\n",
    "            self.optimize = self.update_adam\n",
    "        \n",
    "    def forward(self, x):\n",
    "        self.x = x\n",
    "        out = np.dot(x, self.W) + self.b\n",
    "\n",
    "        return out\n",
    "    \n",
    "    def backward(self, dout=1):\n",
    "        dx = np.dot(dout, self.W.T)\n",
    "        self.dW = np.dot(self.x.T, dout)\n",
    "        self.db = np.sum(dout, axis=0)\n",
    "        \n",
    "        return dx\n",
    "    \n",
    "    def update_sgd(self):\n",
    "        self.W -= self.lr * self.dW\n",
    "        self.b -= self.lr * self.db\n",
    "    \n",
    "    # adagrad 少しずつ更新量が減っていく\n",
    "    def update_adagrad(self, lr = 0.01):\n",
    "        self.h += self.dW ** 2\n",
    "        self.W -= self.lr * self.dW / (np.sqrt(self.h) + 1e-7)\n",
    "        self.b -= self.lr * self.db\n",
    "        \n",
    "    \n",
    "    def update_adam(self, lr = 0.01):\n",
    "        self.m = self.beta1 * self.m + (1- self.beta1) * self.dW\n",
    "        self.v = self.beta2 * self.v + (1- self.beta2) * (self.dW * self.dW)\n",
    "        \n",
    "        m_hat = self.m / (1 - self.beta1)\n",
    "        v_hat = self.v / (1 - self.beta2)\n",
    "        \n",
    "        self.W -= self.lr * m_hat / (np.sqrt(v_hat) + 1e-8)\n",
    "        self.b -= self.lr * self.db"
   ]
  },
  {
   "cell_type": "markdown",
   "metadata": {},
   "source": [
    "# 活性化関数Class"
   ]
  },
  {
   "cell_type": "code",
   "execution_count": 260,
   "metadata": {},
   "outputs": [],
   "source": [
    "class Activation:\n",
    "\n",
    "    def __init__(self, params):\n",
    "        self.out = None\n",
    "        self.mask = None\n",
    "        # optimizeメソッドを\n",
    "        if params['act_func']=='tanh':\n",
    "            self.forward = self.forward_tanh\n",
    "            self.backward = self.backward_tanh\n",
    "        elif params['act_func'] == 'sigmoid':\n",
    "            self.forward = self.forward_sigmoid\n",
    "            self.backward = self.backward_sigmoid\n",
    "        else: # params['act_func'] == 'relu':\n",
    "            self.forward = self.forward_relu\n",
    "            self.backward = self.backward_relu\n",
    "     \n",
    "    def forward_relu(self, x):\n",
    "        self.mask = (x <= 0)\n",
    "        out = x.copy()\n",
    "        out[self.mask] = 0\n",
    "        \n",
    "        return out\n",
    "    \n",
    "    def backward_relu(self, dout):\n",
    "        dout[self.mask] = 0\n",
    "        dx = dout\n",
    "        \n",
    "        return dx\n",
    "\n",
    "    # tanh \n",
    "    def forward_tanh(self, x):\n",
    "        out = np.tanh(x)\n",
    "        self.out = out\n",
    "        \n",
    "        return out\n",
    "    \n",
    "    def backward_tanh(self, dout):\n",
    "        dx = dout * (1 - np.tanh(dout)**2)\n",
    "        \n",
    "        return dx\n",
    "    \n",
    "    # sigmoid関数\n",
    "    def forward_sigmoid(self, x):\n",
    "        out = 1 / (1 + np.exp(-x))\n",
    "        self.out = out\n",
    "        \n",
    "        return out\n",
    "    \n",
    "    def backward_sigmoid(self, dout):\n",
    "        dx = dout * (1.0 - self.out) * self.out\n",
    "        \n",
    "        return dx"
   ]
  },
  {
   "cell_type": "markdown",
   "metadata": {},
   "source": [
    "# Batch Normalization Class"
   ]
  },
  {
   "cell_type": "markdown",
   "metadata": {},
   "source": [
    "Batch Normalization層とはフィーチャースケーリングを行うことで\n",
    "効果として、以下が挙げられています。\n",
    "\n",
    "- 学習速度を早める\n",
    "- 初期値にそれほど依存しない\n",
    "- 過学習を抑制する"
   ]
  },
  {
   "cell_type": "code",
   "execution_count": 261,
   "metadata": {},
   "outputs": [],
   "source": [
    "class BatchNorm:\n",
    "    def __init__(self, params):\n",
    "        self.out = None\n",
    "        self.beta = 0.0\n",
    "        self.gamma = 1.0\n",
    "        self.lr = params['lr']\n",
    "        self.eps = 1e-8\n",
    "        self.dgamma = 0.0\n",
    "        self.dbeta = 0.0\n",
    "    \n",
    "\n",
    "    def forward(self, x):\n",
    "        data_size, input_size = x.shape\n",
    "        \n",
    "        # step1: 平均を求める\n",
    "        mu = np.mean(x, axis=0)\n",
    "        \n",
    "        # step2: 偏差\n",
    "        self.xmu = x - mu\n",
    "        \n",
    "        # step3 : 偏差の２乗\n",
    "        sq = self.xmu ** 2\n",
    "        \n",
    "        # step4 : 分散を求める\n",
    "        self.var = np.var(x, axis=0)\n",
    "        \n",
    "        # step5 : 分散のルートを取った値を求める\n",
    "        self.sqrtvar = np.sqrt(self.var + self.eps)\n",
    "        \n",
    "        # step6 : sqrtvarの逆数（invert）\n",
    "        self.ivar = 1.0/ self.sqrtvar\n",
    "        \n",
    "        # step7 : 標準化した値\n",
    "        self.xhat = self.xmu * self.ivar\n",
    "        \n",
    "        # step8\n",
    "        gammax = self.gamma * self.xhat\n",
    "        \n",
    "        # step9\n",
    "        out = gammax + self.beta\n",
    "        \n",
    "        return out\n",
    "\n",
    "    \n",
    "    def backward(self, dout=1):\n",
    "        \n",
    "        #get the dimensions of the input/output\n",
    "        N, D = dout.shape\n",
    "        \n",
    "        # step9\n",
    "        self.d_beta = np.sum(dout, axis=0)\n",
    "        dgammax = dout\n",
    "        \n",
    "        # step8\n",
    "        self.d_gamma = np.sum(dgammax*self.xhat, axis=0)\n",
    "        dxhat = self.d_gamma * self.gamma\n",
    "        \n",
    "        # step7\n",
    "        divar = np.sum(dxhat*self.xmu, axis=0)\n",
    "        dxmu1 = dxhat * self.ivar\n",
    "        \n",
    "        # step6\n",
    "        dsqrtvar = -1. /(self.sqrtvar**2) * divar\n",
    "        \n",
    "        # step5\n",
    "        dvar = 0.5 * 1. / np.sqrt(self.var+self.eps) * dsqrtvar\n",
    "        \n",
    "        # step4\n",
    "        dsq = 1. / N * np.ones((N, D)) * dvar\n",
    "        \n",
    "        # step3\n",
    "        dxmu2 = 2 * self.xmu * dsq\n",
    "        \n",
    "        # step2\n",
    "        dx1 = (dxmu1 + dxmu2)\n",
    "        dmu = -1 * np.sum(dxmu1 + dxmu2, axis=0)\n",
    "        \n",
    "        # step1\n",
    "        dx2 = 1. / N * np.ones((N, D)) * dmu\n",
    "        \n",
    "        # step0\n",
    "        dx = dx1 + dx2\n",
    "        \n",
    "        return dx\n",
    "    \n",
    "    \n",
    "    def optimize(self):\n",
    "        self.gamma -= self.lr * self.dgamma\n",
    "        self.beta -= self.lr * self.dbeta"
   ]
  },
  {
   "cell_type": "markdown",
   "metadata": {},
   "source": [
    "# Drop out Classの実装\n",
    "これまでの層は出力は必ず次の層の入力として使われていました。\n",
    "ドロップアウト層は確率的に出力をゼロにする、つまりノードを消失させます。\n",
    "これにより過学習を防ぎ、汎化性能を高めることができます。\n",
    "更新ごとに消失させるノードを変更できます。"
   ]
  },
  {
   "cell_type": "code",
   "execution_count": 262,
   "metadata": {},
   "outputs": [],
   "source": [
    "class Dropout:\n",
    "    def __init__(self, dropout_ratio=0.5):\n",
    "        self.dropout_ratio = dropout_ratio\n",
    "        self.mask = None\n",
    "    \n",
    "    def forward(self, x, train_flg=True):\n",
    "        if train_flg :\n",
    "            self.mask = np.random.rand(*x.shape) > self.dropout_ratio\n",
    "            return x * self.mask\n",
    "        else:\n",
    "            return x * (1 - self.dropout_ratio)\n",
    "    \n",
    "    def backward(self, dout):\n",
    "        return dout * self.mask"
   ]
  },
  {
   "cell_type": "markdown",
   "metadata": {},
   "source": [
    "# レイヤーClassの実装"
   ]
  },
  {
   "cell_type": "markdown",
   "metadata": {},
   "source": [
    "## 重みの初期化\n",
    "-ガウス初期化\n",
    "\n",
    "標準偏差１のガウス分布で初期化してしまうと各層での出力が1や０付近に分布することになり、 勾配消失・爆発の問題が発生しやすくなってしまいます。\n",
    "この問題を防ぐために平均０、標準偏差0.01のガウス分布で初期化したものがガウスの初期化です。\n",
    "ガウス分布での初期化はシンプルですが、もとの値が０．５付近に集中するため\n",
    "層を深くしても、同じような出力を出すため表現力という面で問題があります。\n",
    "\n",
    "\n",
    "- Xavier\n",
    "\n",
    "前層のノード数がnのとき${\\sqrt{\\frac {1}{n}}}$を標準偏差とするガウス分布に基づいて初期化するものです。\n",
    "この初期化でガウス初期化よりは広がりをもった分布になるため表現力を確保できているといえます。\n",
    "\n",
    "\n",
    "- He\n",
    "\n",
    "前層のノード数がnのとき${\\sqrt{\\frac {2}{n}}}$を標準偏差とするガウス分布に基づいて初期化するものです。\n",
    "Xavierと比較すると分子が２倍になっているだけで何が変わるのでしょうか？\n",
    "活性化関数がReLu関数を採用した場合、シグモイド関数やtanh関数は負の値にも分布しているのに対し、ReLu関数は正の値しか返しません。\n",
    "このためシグモイド関数やtanh関数と同じ広がりを持たせるために分布を２倍させているのです。\n",
    "一般的に活性化関数がシグモイド関数やtanh関数の場合はXavier、ReLu関数の場合はHeを使うのがベストプラクティスとして知られています。\n"
   ]
  },
  {
   "cell_type": "code",
   "execution_count": 298,
   "metadata": {},
   "outputs": [],
   "source": [
    "from collections import OrderedDict\n",
    "\n",
    "class Layers:\n",
    "    def __init__(self, params):\n",
    "        unit_size_list = [params['input_size']]\n",
    "        unit_size_list.extend(params['hidden_layer_list'])\n",
    "        unit_size_list.append(params['output_size'])\n",
    "        \n",
    "        self.params = {}\n",
    "        \n",
    "        # レイヤの生成\n",
    "        self.layers = OrderedDict()\n",
    "        \n",
    "        for i in range(1, len(unit_size_list)):\n",
    "            # 重みの初期化（gauss, xavier, He を選択できる）\n",
    "            init_W = np.random.randn(unit_size_list[i-1], unit_size_list[i])\n",
    "            init_b = np.zeros([1, unit_size_list[i]])\n",
    "            if params['init'] == 'gauss':\n",
    "                init_W *= 0.01\n",
    "            elif params['init'] == 'xavier':\n",
    "                init_W /= np.sqrt(unit_size_list[i-1])\n",
    "            else: # He\n",
    "                init_W = init_W / np.sqrt(unit_size_list[i-1]) * np.sqrt(2) \n",
    "                \n",
    "            # アフィン変換層（Wx + b）を追加する\n",
    "            self.layers['Affine' + str(i)] = Affine(init_W, init_b, params)\n",
    "            \n",
    "            # 最終層以外はバッチノーマリゼーション層と活性化関数層を追加する\n",
    "            if i < (len(unit_size_list)-1):\n",
    "                if params['batch_norm'] == True:\n",
    "                    self.layers['BatchNorm' + str(i)] = BatchNorm(params)\n",
    "                self.layers['Active' + str(i)] = Activation(params)\n",
    "                if params['dropout_ratio'] > .0:\n",
    "                    print(params['dropout_ratio'])\n",
    "                    self.layers['Dropout' + str(i)] = Dropout(dropout_ratio=params['dropout_ratio'])\n",
    "        \n",
    "        self.lastLayer = SoftmaxWithLoss()\n",
    "        \n",
    "        self.params['hidden_layer_num'] = len(unit_size_list)-1\n",
    "        \n",
    "    def predict(self, x):\n",
    "        # forwardを繰り返す\n",
    "        # ソフトマックスを通さなくても答えは出るのでこれで予測とする \n",
    "        # argmaxでラベルを取れる\n",
    "        for layer in self.layers.values():\n",
    "            x =layer.forward(x)\n",
    "        return x\n",
    "\n",
    "    \n",
    "    def accuracy(self, x, t):\n",
    "        # 正答率を小数点第二桁で出力する\n",
    "        y_pred = self.predict(x)\n",
    "        y_pred = np.argmax(y_pred, axis=1)\n",
    "        y_true = np.argmax(t, axis=1)\n",
    "        data_size = x.shape[0]\n",
    "\n",
    "        correct_count = np.sum([y_true == y_pred]) \n",
    "        score = correct_count / data_size * 100\n",
    "        return round(score, 2)\n",
    "    \n",
    "    \n",
    "    def loss(self, x, t):\n",
    "        y = self.predict(x)\n",
    "        return self.lastLayer.forward(y, t)\n",
    "    \n",
    "\n",
    "    def numerical_gradient(self, x, t):\n",
    "        loss_W = lambda W: self.loss(x, t)\n",
    "        \n",
    "        grads = {}\n",
    "        grads['W1'] = numerical_gradient(loss_W, self.layers['Affine1'].W)\n",
    "        grads['b1'] = numerical_gradient(loss_W, self.layers['Affine1'].b)\n",
    "        grads['W2'] = numerical_gradient(loss_W, self.layers['Affine2'].W)\n",
    "        grads['b2'] = numerical_gradient(loss_W, self.layers['Affine2'].b)\n",
    "        \n",
    "        print(\"Numerical: {}\".format(grads['W1']) )\n",
    "        print(\"OreOre   : {}\".format(self.layers['Affine1'].W))\n",
    "        \n",
    "        return grads\n",
    "    \n",
    "    \n",
    "    def optimize(self, x, t):\n",
    "        \n",
    "        # forward \n",
    "        self.loss(x, t)\n",
    "        \n",
    "        # backward\n",
    "        dout = self.lastLayer.backward(1)\n",
    "        layers = list(self.layers.values())\n",
    "        layers.reverse()\n",
    "        for layer in layers:\n",
    "            dout = layer.backward(dout)\n",
    "            \n",
    "        # optimizeメソッドがある層は更新を行う\n",
    "        # AffineとBatchNorm層のみ行う\n",
    "        for layer in self.layers.values():\n",
    "            if hasattr(layer, \"optimize\"):\n",
    "                layer.optimize()"
   ]
  },
  {
   "cell_type": "markdown",
   "metadata": {},
   "source": [
    "# DNN Classの実装"
   ]
  },
  {
   "cell_type": "code",
   "execution_count": 346,
   "metadata": {},
   "outputs": [],
   "source": [
    "from sklearn.model_selection import train_test_split\n",
    "\n",
    "\n",
    "class DNN:\n",
    "    def __init__(self, init='gauss', iteration = 500, lr = 0.05,  lam = 0.01, \n",
    "                 batch_mode = 'mini', act_func='relu',\n",
    "                 batch_size_rate = 0.01, hidden_layer_list = [5], optimizer='sgd',\n",
    "                 batch_norm=False, dropout_ratio = 0.0):\n",
    "\n",
    "\n",
    "        self.params = {}\n",
    "        self.params['iteration'] = iteration\n",
    "        self.params['init'] = init\n",
    "        self.params['lr'] = lr\n",
    "        self.params['lam'] = lam\n",
    "        self.params['batch_mode'] = batch_mode # データ数が決まったらそれに基づいて変更する\n",
    "        self.params['batch_size_rate'] = batch_size_rate # ミニバッチ法のときのみ使用する\n",
    "        self.params['hidden_layer_list'] = hidden_layer_list\n",
    "        self.params['optimizer'] = optimizer\n",
    "        self.params['batch_norm'] = batch_norm\n",
    "        self.params['dropout_ratio'] = dropout_ratio\n",
    "        self.params['act_func'] = act_func\n",
    "        \n",
    "    def train(self, X, y, params={}):\n",
    "        # 入力パラメータがあれば更新する\n",
    "        for key in params:\n",
    "                self.params[key] = params[key]\n",
    "        \n",
    "        # 正規化\n",
    "        #X = X / 255.0\n",
    "        \n",
    "        # 訓練とテストデータに分割\n",
    "        X_train, X_test, y_train, y_test = \\\n",
    "            train_test_split(X, y, test_size=0.2, random_state=0)\n",
    "\n",
    "        self.params['data_size'] = X_train.shape[0]\n",
    "        self.params['input_size'] = X_train.shape[1]\n",
    "        self.params['output_size'] = y_train.shape[1]\n",
    "\n",
    "        \n",
    "        # コストや正答率の学習曲線を引くためのリストを用意\n",
    "        past_train_costs = []\n",
    "        past_test_costs = []\n",
    "        past_train_accuracy = []\n",
    "        past_test_accuracy = []\n",
    "        \n",
    "        # 初期化\n",
    "        # 重み初期化\n",
    "        # バッチサイズの設定\n",
    "        if self.params['batch_mode'] == 'batch':\n",
    "            self.params['batch_size'] = self.params['data_size']\n",
    "        elif self.params['batch_mode'] == 'mini':\n",
    "            self.params['batch_size'] = int(self.params['data_size']  * self.params['batch_size_rate'] ) \n",
    "        else:\n",
    "            self.params['batch_size'] = 1\n",
    "        # 隠れ層やレイヤーインスタンス生成\n",
    "        self.params['layer'] = Layers(self.params)  \n",
    "        \n",
    "        # 何イテレーションで1エポックか\n",
    "        epoch_per_i = int(self.params['data_size'] / self.params['batch_size'])\n",
    "        \n",
    "        # batchnormalizationの層の組み方\n",
    "        print(\"data: {} batch : {}\".format(self.params['data_size'],self.params['batch_size']))\n",
    "        \n",
    "        \n",
    "        for i in range(self.params['iteration']):\n",
    "            \n",
    "            # 学習に使用するデータをサンプリング\n",
    "            choice_index = np.random.choice(self.params['data_size'], self.params['batch_size'])\n",
    "            X_batch, y_batch = X_train[choice_index], y_train[choice_index]\n",
    "            \n",
    "            # 誤差逆伝播法によって勾配を求め、値を更新\n",
    "            self.params['layer'].optimize(X_batch, y_batch)\n",
    "            \n",
    "            # 1エポックごとに正答率とコストを算出して保存する\n",
    "            if i % epoch_per_i == 0:              \n",
    "                past_train_accuracy.append(self.params['layer'].accuracy(X_train, y_train))\n",
    "                past_test_accuracy.append(self.params['layer'].accuracy(X_test, y_test))\n",
    "                \n",
    "                past_train_costs.append(self.params['layer'].loss(X_train, y_train))\n",
    "                past_test_costs.append(self.params['layer'].loss(X_test, y_test))\n",
    "            \n",
    "        return past_train_accuracy, past_test_accuracy, past_train_costs, past_test_costs \n",
    "    \n",
    "    def plot_learning_curve(self, X, y, metrics='acc', params={}): \n",
    "        past_train_accuracy, past_test_accuracy, past_train_costs, past_test_costs = self.train(X, y, params)\n",
    "        plt.figure(figsize=(6,4))\n",
    "        # count_epoch = self.params['iteration'] // self.params['data_size'] + 1\n",
    "        if metrics == 'cost':\n",
    "            plt.plot(past_train_costs, color='orange', label='train')\n",
    "            plt.plot(past_test_costs, color='lime', label='test')\n",
    "            plt.ylabel(\"cost\", fontsize=15)\n",
    "            print(\"last train cost is {}\".format(past_train_costs[-1]))\n",
    "            print(\"last test cost is {}\".format(past_test_costs[-1]))\n",
    "        else:\n",
    "            #plt.plot(np.array(past_train_accuracy), color='r')\n",
    "            plt.plot(past_train_accuracy, color='orange', label='train')\n",
    "            plt.plot(past_test_accuracy, color='lime', label='test')\n",
    "            plt.ylabel(\"accuracy\", fontsize=15)\n",
    "            print(\"last train accuracy is {}\".format(past_train_accuracy[-1]))\n",
    "            print(\"last test accuracy is {}\".format(past_test_accuracy[-1]))\n",
    "            plt.ylim(-0.5, 100.5)\n",
    "\n",
    "        plt.legend()\n",
    "        plt.title('Learning Curve', fontsize=20)\n",
    "        plt.xlabel(\"iteration[epoch]\", fontsize=15)\n",
    "        \n",
    "    # 現在のパラメータで予測値を確率かラベルで出力する。\n",
    "    def predict(self, X, probability=False):\n",
    "        predict = self.params['layer'].predict(X)\n",
    "        predict_proba = softmax(predict)\n",
    "        if probability== True:\n",
    "            return predict_proba\n",
    "        else:\n",
    "            return np.argmax(predict_proba, axis=1)"
   ]
  },
  {
   "cell_type": "markdown",
   "metadata": {},
   "source": [
    "# Train and Testの結果表示"
   ]
  },
  {
   "cell_type": "markdown",
   "metadata": {},
   "source": [
    "以下では、Train結果の表示を行うが、それぞれのパラメータごとに比較してみた。結果としては、三層か四層で、ユニット数をある程度大きな値を使って出力するユニットに持っていくほうが、高いことになった。\n",
    "\n",
    "中間層のユニットの数について。\n",
    "入力層と出力層の間に、たった1つの中間層を準備するだけで理論上は十分であるという考え方がありました。\n",
    "そのためにするべきことは「中間層のユニットの数を限りなく増やす」ことであるようです。\n",
    "そのため、中間層のユニットが限りなく多いとき、任意の関数が近似できることが知られています。すなわち、解きたい問題に対する如何なる分離超平面も表現することが可能ですということらしく、以下では、中間層のユニットを大きくすることで、結果が良くなったことが確認できました。\n",
    "\n"
   ]
  },
  {
   "cell_type": "markdown",
   "metadata": {},
   "source": [
    "## Iteration 200"
   ]
  },
  {
   "cell_type": "code",
   "execution_count": 368,
   "metadata": {},
   "outputs": [
    {
     "name": "stdout",
     "output_type": "stream",
     "text": [
      "data: 33600 batch : 336\n",
      "last train accuracy is 86.44\n",
      "last test accuracy is 86.49\n"
     ]
    },
    {
     "data": {
      "image/png": "[encoded data removed]",
      "text/plain": [
       "<matplotlib.figure.Figure at 0x1a183465f8>"
      ]
     },
     "metadata": {},
     "output_type": "display_data"
    }
   ],
   "source": [
    "model = DNN(iteration=200,\n",
    "                       optimizer='adam',\n",
    "                       hidden_layer_list =  [512, 512],\n",
    "                       batch_norm=True, \n",
    "                       dropout_ratio=0.0\n",
    "           )\n",
    "\n",
    "params = {'optimizer': 'adam',\n",
    "         'batch_mode' : 'mini',\n",
    "         'init': 'he',\n",
    "         'lr': 0.001}\n",
    "\n",
    "model.plot_learning_curve(X,y, 'acc', params)"
   ]
  },
  {
   "cell_type": "markdown",
   "metadata": {},
   "source": [
    "## Iteration 2000"
   ]
  },
  {
   "cell_type": "code",
   "execution_count": 369,
   "metadata": {
    "scrolled": true
   },
   "outputs": [
    {
     "name": "stdout",
     "output_type": "stream",
     "text": [
      "data: 33600 batch : 336\n",
      "last train accuracy is 93.55\n",
      "last test accuracy is 92.87\n"
     ]
    },
    {
     "data": {
      "image/png": "[encoded data removed]",
      "text/plain": [
       "<matplotlib.figure.Figure at 0x1a18320780>"
      ]
     },
     "metadata": {},
     "output_type": "display_data"
    }
   ],
   "source": [
    "model = DNN(iteration=2000,\n",
    "                       optimizer='adam',\n",
    "                       hidden_layer_list =  [512, 512],\n",
    "                       batch_norm=True, \n",
    "                       dropout_ratio=0.0\n",
    "           )\n",
    "\n",
    "params = {'optimizer': 'adam',\n",
    "         'batch_mode' : 'mini',\n",
    "         'init': 'he',\n",
    "         'lr': 0.001}\n",
    "\n",
    "model.plot_learning_curve(X,y, 'acc', params)"
   ]
  },
  {
   "cell_type": "markdown",
   "metadata": {},
   "source": [
    "## Iteration 20000"
   ]
  },
  {
   "cell_type": "code",
   "execution_count": 371,
   "metadata": {},
   "outputs": [
    {
     "name": "stdout",
     "output_type": "stream",
     "text": [
      "data: 33600 batch : 336\n",
      "last train accuracy is 96.95\n",
      "last test accuracy is 92.64\n"
     ]
    },
    {
     "data": {
      "image/png": "[encoded data removed]",
      "text/plain": [
       "<matplotlib.figure.Figure at 0x1a18200860>"
      ]
     },
     "metadata": {},
     "output_type": "display_data"
    }
   ],
   "source": [
    "model = DNN(iteration=20000,\n",
    "                       optimizer='adam',\n",
    "                       hidden_layer_list =  [512, 512],\n",
    "                       batch_norm=True, \n",
    "                       dropout_ratio=0.0\n",
    "           )\n",
    "\n",
    "params = {'optimizer': 'adam',\n",
    "         'batch_mode' : 'mini',\n",
    "         'init': 'he',\n",
    "         'lr': 0.007}\n",
    "\n",
    "model.plot_learning_curve(X,y, 'acc', params)"
   ]
  },
  {
   "cell_type": "markdown",
   "metadata": {},
   "source": [
    "# Dropout"
   ]
  },
  {
   "cell_type": "markdown",
   "metadata": {},
   "source": [
    "## Dropoutあり"
   ]
  },
  {
   "cell_type": "code",
   "execution_count": 372,
   "metadata": {},
   "outputs": [
    {
     "name": "stdout",
     "output_type": "stream",
     "text": [
      "0.2\n",
      "0.2\n",
      "data: 33600 batch : 336\n",
      "last train accuracy is 87.51\n",
      "last test accuracy is 87.0\n"
     ]
    },
    {
     "data": {
      "image/png": "[encoded data removed]",
      "text/plain": [
       "<matplotlib.figure.Figure at 0x1a18e98198>"
      ]
     },
     "metadata": {},
     "output_type": "display_data"
    }
   ],
   "source": [
    "model = DNN(iteration=2000,\n",
    "                       optimizer='adam',\n",
    "                       hidden_layer_list =  [512, 512],\n",
    "                       batch_norm=True, \n",
    "                       dropout_ratio=0.2\n",
    "           )\n",
    "\n",
    "params = {'optimizer': 'adam',\n",
    "         'batch_mode' : 'mini',\n",
    "         'init': 'he',\n",
    "         'lr': 0.001}\n",
    "\n",
    "model.plot_learning_curve(X,y, 'acc', params)"
   ]
  },
  {
   "cell_type": "markdown",
   "metadata": {},
   "source": [
    "# BatchNormalization層"
   ]
  },
  {
   "cell_type": "markdown",
   "metadata": {},
   "source": [
    "## BatchNormalization層なし"
   ]
  },
  {
   "cell_type": "code",
   "execution_count": 373,
   "metadata": {
    "scrolled": false
   },
   "outputs": [
    {
     "name": "stdout",
     "output_type": "stream",
     "text": [
      "data: 33600 batch : 336\n"
     ]
    },
    {
     "name": "stderr",
     "output_type": "stream",
     "text": [
      "/Users/szkhome/.pyenv/versions/anaconda3-4.3.0/lib/python3.6/site-packages/ipykernel_launcher.py:2: RuntimeWarning: invalid value encountered in true_divide\n",
      "  \n",
      "/Users/szkhome/.pyenv/versions/anaconda3-4.3.0/lib/python3.6/site-packages/ipykernel_launcher.py:23: RuntimeWarning: invalid value encountered in less_equal\n"
     ]
    },
    {
     "name": "stdout",
     "output_type": "stream",
     "text": [
      "last train accuracy is 9.88\n",
      "last test accuracy is 9.68\n"
     ]
    },
    {
     "data": {
      "image/png": "[encoded data removed]",
      "text/plain": [
       "<matplotlib.figure.Figure at 0x1a6c12ccf8>"
      ]
     },
     "metadata": {},
     "output_type": "display_data"
    }
   ],
   "source": [
    "model = DNN(iteration=2000,\n",
    "                       optimizer='adam',\n",
    "                       hidden_layer_list =  [512, 512],\n",
    "                       batch_norm=False, \n",
    "                       dropout_ratio=0.0\n",
    "           )\n",
    "\n",
    "params = {'optimizer': 'adam',\n",
    "         'batch_mode' : 'mini',\n",
    "         'init': 'he',\n",
    "         'lr': 0.001}\n",
    "\n",
    "model.plot_learning_curve(X,y, 'acc', params)"
   ]
  },
  {
   "cell_type": "markdown",
   "metadata": {},
   "source": [
    "# 層を深くする\n",
    "隠れ層の層数はhidden_layer_listで変更できるように実装した。\n",
    "層を３，４，５と増やした結果を描画している。\n",
    "今回は層を深くしたからと言って顕著な伸びは見られなかったが、\n",
    "より多クラスな分類をするときやより精度を出したい場合は有効だと思われる。\n"
   ]
  },
  {
   "cell_type": "markdown",
   "metadata": {},
   "source": [
    "## 3層"
   ]
  },
  {
   "cell_type": "code",
   "execution_count": 361,
   "metadata": {
    "scrolled": true
   },
   "outputs": [
    {
     "name": "stdout",
     "output_type": "stream",
     "text": [
      "data: 33600 batch : 336\n",
      "last train accuracy is 94.21\n",
      "last test accuracy is 93.58\n"
     ]
    },
    {
     "data": {
      "image/png": "[encoded data removed]",
      "text/plain": [
       "<matplotlib.figure.Figure at 0x1a181e4eb8>"
      ]
     },
     "metadata": {},
     "output_type": "display_data"
    }
   ],
   "source": [
    "model = DNN(iteration=2000,\n",
    "                       optimizer='adam',\n",
    "                       batch_mode='mini',\n",
    "                       hidden_layer_list = [512],\n",
    "                       batch_norm=True, \n",
    "                       dropout_ratio=0.0,\n",
    "                       init='he',\n",
    "                       lr=0.02\n",
    "           )\n",
    "\n",
    "params = {'optimizer': 'adam',\n",
    "         'batch_mode' : 'mini',\n",
    "         'init': 'he',\n",
    "         'lr': 0.001}\n",
    "\n",
    "model.plot_learning_curve(X,y, 'acc', params)"
   ]
  },
  {
   "cell_type": "markdown",
   "metadata": {},
   "source": [
    "## 4層"
   ]
  },
  {
   "cell_type": "code",
   "execution_count": 365,
   "metadata": {
    "scrolled": true
   },
   "outputs": [
    {
     "name": "stdout",
     "output_type": "stream",
     "text": [
      "data: 33600 batch : 336\n",
      "last train accuracy is 93.67\n",
      "last test accuracy is 92.39\n"
     ]
    },
    {
     "data": {
      "image/png": "[encoded data removed]",
      "text/plain": [
       "<matplotlib.figure.Figure at 0x1a162eba90>"
      ]
     },
     "metadata": {},
     "output_type": "display_data"
    }
   ],
   "source": [
    "model = DNN(iteration=2000,\n",
    "                       optimizer='adam',\n",
    "                       batch_mode='mini',\n",
    "                       hidden_layer_list = [512, 512],\n",
    "                       batch_norm=True, \n",
    "                       dropout_ratio=0.0,\n",
    "                       init='he',\n",
    "                       lr=0.02\n",
    "           )\n",
    "\n",
    "params = {'optimizer': 'adam',\n",
    "         'batch_mode' : 'mini',\n",
    "         'init': 'he',\n",
    "         'lr': 0.001}\n",
    "\n",
    "model.plot_learning_curve(X,y, 'acc', params)"
   ]
  },
  {
   "cell_type": "markdown",
   "metadata": {},
   "source": [
    "## 5層"
   ]
  },
  {
   "cell_type": "code",
   "execution_count": 366,
   "metadata": {},
   "outputs": [
    {
     "name": "stdout",
     "output_type": "stream",
     "text": [
      "data: 33600 batch : 336\n",
      "last train accuracy is 91.93\n",
      "last test accuracy is 90.87\n"
     ]
    },
    {
     "data": {
      "image/png": "[encoded data removed]",
      "text/plain": [
       "<matplotlib.figure.Figure at 0x1a163110b8>"
      ]
     },
     "metadata": {},
     "output_type": "display_data"
    }
   ],
   "source": [
    "model = DNN(iteration=2000,\n",
    "                       optimizer='adam',\n",
    "                       batch_mode='mini',\n",
    "                       hidden_layer_list = [512, 512, 512],\n",
    "                       batch_norm=True, \n",
    "                       dropout_ratio=0.0,\n",
    "                       init='he',\n",
    "                       lr=0.02\n",
    "           )\n",
    "\n",
    "params = {'optimizer': 'adam',\n",
    "         'batch_mode' : 'mini',\n",
    "         'init': 'he',\n",
    "         'lr': 0.001}\n",
    "\n",
    "model.plot_learning_curve(X,y, 'acc', params)"
   ]
  },
  {
   "cell_type": "markdown",
   "metadata": {},
   "source": [
    "# Optimizerの変更(SGD)"
   ]
  },
  {
   "cell_type": "code",
   "execution_count": 367,
   "metadata": {},
   "outputs": [
    {
     "name": "stdout",
     "output_type": "stream",
     "text": [
      "data: 33600 batch : 336\n",
      "last train accuracy is 76.38\n",
      "last test accuracy is 77.45\n"
     ]
    },
    {
     "data": {
      "image/png": "[encoded data removed]",
      "text/plain": [
       "<matplotlib.figure.Figure at 0x1a1690aa90>"
      ]
     },
     "metadata": {},
     "output_type": "display_data"
    }
   ],
   "source": [
    "model = DNN(iteration=2000,\n",
    "                       optimizer='sgd',\n",
    "                       batch_mode='mini',\n",
    "                       hidden_layer_list = [512],\n",
    "                       batch_norm=True, \n",
    "                       dropout_ratio=0.0,\n",
    "                       init='he',\n",
    "                       lr=0.02\n",
    "           )\n",
    "\n",
    "params = {'optimizer': 'sgd',\n",
    "         'batch_mode' : 'mini',\n",
    "         'init': 'he',\n",
    "         'lr': 0.001}\n",
    "\n",
    "model.plot_learning_curve(X,y, 'acc', params)"
   ]
  }
 ],
 "metadata": {
  "kernelspec": {
   "display_name": "Python 3",
   "language": "python",
   "name": "python3"
  },
  "language_info": {
   "codemirror_mode": {
    "name": "ipython",
    "version": 3
   },
   "file_extension": ".py",
   "mimetype": "text/x-python",
   "name": "python",
   "nbconvert_exporter": "python",
   "pygments_lexer": "ipython3",
   "version": "3.6.0"
  },
  "latex_envs": {
   "LaTeX_envs_menu_present": true,
   "autoclose": false,
   "autocomplete": true,
   "bibliofile": "biblio.bib",
   "cite_by": "apalike",
   "current_citInitial": 1,
   "eqLabelWithNumbers": true,
   "eqNumInitial": 1,
   "hotkeys": {
    "equation": "Ctrl-E",
    "itemize": "Ctrl-I"
   },
   "labels_anchors": false,
   "latex_user_defs": false,
   "report_style_numbering": false,
   "user_envs_cfg": false
  },
  "toc": {
   "base_numbering": 1,
   "nav_menu": {},
   "number_sections": true,
   "sideBar": true,
   "skip_h1_title": false,
   "title_cell": "Table of Contents",
   "title_sidebar": "Contents",
   "toc_cell": false,
   "toc_position": {
    "height": "calc(100% - 180px)",
    "left": "10px",
    "top": "150px",
    "width": "288px"
   },
   "toc_section_display": true,
   "toc_window_display": true
  }
 },
 "nbformat": 4,
 "nbformat_minor": 2
}
