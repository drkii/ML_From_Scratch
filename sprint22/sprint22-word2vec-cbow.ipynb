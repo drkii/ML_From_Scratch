{
 "cells": [
  {
   "cell_type": "markdown",
   "metadata": {},
   "source": [
    "# word2vecとは何か？"
   ]
  },
  {
   "cell_type": "markdown",
   "metadata": {},
   "source": [
    "word2vecを知りたいという時には、以下のキーワードが重要となると思います。\n",
    "\n",
    "<span class=\"burk\"><span class=\"mark\">「単語の意味より使われ方」、「ベクトル」、「頻度より近さ（近いと思われる確率）」。</span></span>\n",
    "\n",
    "\n",
    "私たちも、知らない言葉の意味を知りたいときは、周囲の言葉を見ます。\n",
    "\n",
    "しかし、機械にはそもそも「意味」を教えられません。そのため、単語の「使われ方」を認識させることはできることが想起されました。\n",
    "\n",
    "単語と単語のつながりをベクトルに変換できれば「使われ方」を機械に教えられます。\n",
    "\n",
    "\n",
    "\n",
    "「使われ方」から、単語を理解させるというときに大きく2つ考え方があるようです。Countベースと推論ベースです。Countベースはその名前の通り「頻度」をベースに考えます。推論ベースはその単語の周囲の使われ方から「近さ」を扱いっていると考えれば良さそうです。\n",
    "\n",
    "\n",
    "\n",
    "-  Count ベース：\n",
    "機械学習で自然言語を扱う上で、一番初めに学んだ考え方は、カウントベースと言い、周囲の単語の頻度によって、単語を選択できることがわかりました。頻度を扱うということは統計データを扱うことです。\n",
    "事前にコーパスと呼ばれるデータセットがある場合、より正確に、統計データを利用して単語を予測することができます。\n",
    "\n",
    "\n",
    "-  推論ベース：\n",
    "一方で、カウントベースには問題があります。事前にコーパスと言われるデータセットが用意されていないといけないことです。\n",
    "英語だけでも語彙数は１００万を超えると言われています。語彙数を１００万とした場合、１００万＊１００万の巨大な行列を計算することになります。\n",
    "それは現実的ではないと考えられたのです。カウントベースの手法は、学習データを一度にまとめて処理しますが、推論ベースでは、逐次的に処理します（ミニバッチ）。\n",
    "\n",
    "\n",
    "\n",
    "word2vecは、大量のテキストデータを解析し、各単語の意味をベクトル表現化する手法です。単語をベクトル化することで、\n",
    "\n",
    "- 単語同士の意味の近さを計算\n",
    "- 単語同士の意味を足したり引いたり\n",
    "\n",
    "ということが可能になります。\n",
    "\n",
    "例えば、word2vecにより『松本人志』、『浜田雅功』、『ボケ』、『ツッコミ』という言葉を以下のようにベクトル化できたりします。\n",
    "\n",
    "- 松本人志：\n",
    "(\n",
    "0.4\n",
    ",\n",
    "0.1\n",
    ",\n",
    "0.\n",
    "9\n",
    ",\n",
    "0.4\n",
    ")\n",
    "(\n",
    "0.4\n",
    ",\n",
    "0.1\n",
    ",\n",
    "0.\n",
    "9\n",
    ",\n",
    "0.4\n",
    ")\n",
    "\n",
    "\n",
    "- 浜田雅功：\n",
    "(\n",
    "0.5\n",
    ",\n",
    "0.2\n",
    ",\n",
    "0.\n",
    "3\n",
    ",\n",
    "0.4\n",
    ")\n",
    "(\n",
    "0.5\n",
    ",\n",
    "0.2\n",
    ",\n",
    "0.\n",
    "3\n",
    ",\n",
    "0.4\n",
    ")\n",
    "\n",
    "\n",
    "- ボケ　　：\n",
    "(\n",
    "0.1\n",
    ",\n",
    "0.0\n",
    ",\n",
    "0.\n",
    "8\n",
    ",\n",
    "0.2\n",
    ")\n",
    "(\n",
    "0.1\n",
    ",\n",
    "0.0\n",
    ",\n",
    "0.\n",
    "8\n",
    ",\n",
    "0.2\n",
    ")\n",
    "\n",
    "\n",
    "- ツッコミ：\n",
    "(\n",
    "0.2\n",
    ",\n",
    "0.1\n",
    ",\n",
    "0.\n",
    "2\n",
    ",\n",
    "0.3\n",
    ")\n",
    "(\n",
    "0.2\n",
    ",\n",
    "0.1\n",
    ",\n",
    "0.\n",
    "2\n",
    ",\n",
    "0.3\n",
    ")\n",
    "\n",
    "\n",
    "つまり、ベクトル表現にしてしまうことで以下のようなことも考えつきます。\n",
    "\n",
    "<span class=\"mark\">「『松本人志』、『浜田雅功』の距離を計算すると、結構近いところにありそうだ。したがって、二つの意味は近いのでは？」</span>\n",
    "\n",
    "などです。\n",
    "\n",
    "\n",
    "『松本人志』 - 『ボケ』 + 『ツッコミ』 ≒ 『浜田雅功』 になる。\n",
    "\n",
    "\n",
    "といった考察・計算ができます。\n",
    "\n",
    "\n"
   ]
  },
  {
   "cell_type": "markdown",
   "metadata": {},
   "source": [
    "# word2vecの二つのモデル"
   ]
  },
  {
   "cell_type": "markdown",
   "metadata": {},
   "source": [
    "上ではword2vecとは何か、何が嬉しいのかについて説明をしてみました。\n",
    "\n",
    "\n",
    "ベクトルに置きその言葉通しの近さを知ることで、「ソフトバンク」と「孫正義」の関係は「ユニクロ」にとっての何だろう？という問いに答えることができるようになるってことがわかりました。\n",
    "\n",
    "\n",
    "意味を教えていないのに、「使われ方の関係性」から、人間と同じように意味を捉えています。\n",
    "\n",
    "\n",
    "つまり、意味的な関係性においても効果を発揮していると言えます。\n",
    "\n",
    "\n",
    "\n",
    "\n",
    "一方で、構文上（シンタックス上）の違いにおいても効果があることがわかっています。\n",
    "\n",
    "\n",
    "例えば、「雨」と「小雨」の違いと「利口」と「小利口」の違いが同様の違いをもつこともベクトルで表現できるというのがすぐにわかるはずです。\n",
    "\n",
    "\n",
    "これは、低次元にベクトルを圧縮して、演算することをやっているのですが、これが出来て嬉しいことは何なのでしょうか。\n",
    "\n",
    "\n",
    "つまり、文の中で今まで学んだことのない単語が出ても、交換可能になるということを表しています。\n",
    "\n",
    "\n",
    "\n",
    "例えば、「このペットショップに◯のエサはありますか？」という文の◯に「犬」を入れても「猫」を入れてもおかしくはありません。\n",
    "\n",
    "\n",
    "例えば、「雨、小雨」という文があれば、「長州力、長州小力」と出させることもできるでしょう、、、。\n",
    "\n",
    "\n",
    "\n",
    "\n",
    "word2vecはベクトルに落とすことで、文中で交換可能になります。\n",
    "\n",
    "\n",
    "まとめますと、Neural Network のモデルを用いて単語のベクトル表現を学習することで、異なる単語間の類似度を計算できるのはもちろん、意味的な足し算引き算ができるようになったという点で画期的だと言われています。\n",
    "\n",
    "大きく2つの手法があります。\n",
    "\n",
    "## CBoW:\n",
    "\n",
    "CBoWは、Continuous Bag-of-Wordsの略のようです。文法と意味を学習していくことは、文脈中の単語から対象単語が現れる条件付き確率を最大化することができるはずです。\n",
    "\n",
    "つまり、前後の単語から対象単語を推測していくことになります。\n",
    "\n",
    "「ひとたびフルスピードで回り始めたなら、それを動かし続けるのに努力は必要ない。」\n",
    "\n",
    "という文を考えてみます。 「続ける」を対象単語とすると入力層は、周辺5単語の[ なら,、,それ ,を, 動かし, の, に, 努力, は, 必要]\n",
    "の単語リストそれぞれのone-hotベクトルを入力として、真ん中の「続ける」が来る確率を最大にするように学習させたい。\n",
    "\n",
    "\n",
    "\n",
    "## Skip-gram\n",
    "\n",
    "Skip-gramはCBoWの逆です。単語からその周辺単語を予測していきます。\n",
    "\n",
    "Skip-gramにとって意味・文法の獲得は、出力層における周辺単語予測のエラー率の合計を最小化することにあります。\n",
    "\n",
    "先ほどの例だと、「続ける」から[ なら,、,それ ,を, 動かし, の, に, 努力, は, 必要]を予測することです。\n",
    "\n",
    "\n"
   ]
  },
  {
   "cell_type": "markdown",
   "metadata": {},
   "source": [
    "# C-BOWのスクラッチ実装"
   ]
  },
  {
   "cell_type": "code",
   "execution_count": 1,
   "metadata": {},
   "outputs": [],
   "source": [
    "# coding: utf-8\n",
    "import sys\n",
    "sys.path.append('..')\n",
    "import numpy as np\n",
    "from pandas import read_csv\n",
    "import pickle"
   ]
  },
  {
   "cell_type": "markdown",
   "metadata": {},
   "source": [
    "## Useful.pyをimport する"
   ]
  },
  {
   "cell_type": "code",
   "execution_count": 2,
   "metadata": {},
   "outputs": [],
   "source": [
    "from suzaki.useful import preprocess, create_contexts_target, convert_one_hot"
   ]
  },
  {
   "cell_type": "markdown",
   "metadata": {},
   "source": [
    "## preprocessとは？（コーパスを作り、文章を入れておく関数）"
   ]
  },
  {
   "cell_type": "code",
   "execution_count": 3,
   "metadata": {},
   "outputs": [],
   "source": [
    "#  この関数はディレクトリから呼び出しているため、コードのみComment形式で掲載\n",
    "\n",
    "# def preprocess(text):\n",
    "#     text = text.lower()\n",
    "#     text = text.replace('.', ' .')\n",
    "#     words = text.split(' ')\n",
    "\n",
    "#     word_to_id = {}\n",
    "#     id_to_word = {}\n",
    "#     for word in words:\n",
    "#         if word not in word_to_id:\n",
    "#             new_id = len(word_to_id)\n",
    "#             word_to_id[word] = new_id\n",
    "#             id_to_word[new_id] = word\n",
    "\n",
    "#     corpus = np.array([word_to_id[w] for w in words])\n",
    "\n",
    "#     return corpus, word_to_id, id_to_word"
   ]
  },
  {
   "cell_type": "code",
   "execution_count": 4,
   "metadata": {},
   "outputs": [
    {
     "name": "stdout",
     "output_type": "stream",
     "text": [
      "[ 0  1  2  3  4  5  6  7  8  9 10 11 12 13 14 15 16 17 14 18 19  0 20 21\n",
      " 11 22 19 23  4 24 25 26 14 27 28 29 30  3 31 22 32 19  7  0 33  3 34  6\n",
      " 35 36 11 37 38 19 39 40 19 41 42 43 19 44 35 36 19]\n"
     ]
    }
   ],
   "source": [
    "text = 'I am honored to be with you today at your commencement from one of the finest universities in the world. I never graduated from college. Truth be told, this is the closest I’ve ever gotten to a college graduation. Today I want to tell you three stories from my life. That’s it. No big deal. Just three stories.'\n",
    "corpus , word_to_id, id_to_word = preprocess(text)\n",
    "print(corpus)"
   ]
  },
  {
   "cell_type": "markdown",
   "metadata": {},
   "source": [
    "## create_contexts_targetとは？(Target)"
   ]
  },
  {
   "cell_type": "code",
   "execution_count": 5,
   "metadata": {},
   "outputs": [],
   "source": [
    "#  この関数はディレクトリから呼び出しているため、コードのみComment形式で掲載\n",
    "\n",
    "# def create_contexts_target(corpus, sliding_window_size=1):\n",
    "\n",
    "#     target = corpus[sliding_window_size:-sliding_window_size]\n",
    "#     contexts = []\n",
    "\n",
    "#     for idx in range(sliding_window_size, len(corpus)-sliding_window_size):\n",
    "#         cs = []\n",
    "#         for t in range(-sliding_window_size, sliding_window_size + 1):\n",
    "#             if t == 0:\n",
    "#                 continue\n",
    "#             cs.append(corpus[idx + t])\n",
    "#         contexts.append(cs)\n",
    "\n",
    "#     return np.array(contexts), np.array(target)"
   ]
  },
  {
   "cell_type": "code",
   "execution_count": 6,
   "metadata": {},
   "outputs": [],
   "source": [
    "contexts, target = create_contexts_target(corpus, sliding_window_size=1)"
   ]
  },
  {
   "cell_type": "markdown",
   "metadata": {},
   "source": [
    "ところが、このデータはそもそもOne Hotにしないといけないので、OneHotします"
   ]
  },
  {
   "cell_type": "markdown",
   "metadata": {},
   "source": [
    "## create_contexts_targetとは？(One-Hotするやつ)"
   ]
  },
  {
   "cell_type": "code",
   "execution_count": 7,
   "metadata": {},
   "outputs": [
    {
     "data": {
      "text/plain": [
       "65"
      ]
     },
     "execution_count": 7,
     "metadata": {},
     "output_type": "execute_result"
    }
   ],
   "source": [
    "corpus.shape[0]"
   ]
  },
  {
   "cell_type": "code",
   "execution_count": 8,
   "metadata": {},
   "outputs": [],
   "source": [
    "#  この関数はディレクトリから呼び出しているため、コードのみComment形式で掲載\n",
    "\n",
    "# def convert_one_hot(corpus, vocab_size):\n",
    "#     N = corpus.shape[0]\n",
    "#     if corpus.ndim == 1:\n",
    "#         one_hot = np.zeros((N, vocab_size), dtype=np.int32)\n",
    "#         for idx, word_id in enumerate(corpus):\n",
    "#             one_hot[idx, word_id] = 1\n",
    "\n",
    "#     elif corpus.ndim == 2:\n",
    "#         C = corpus.shape[1]\n",
    "#         one_hot = np.zeros((N, C, vocab_size), dtype=np.int32)\n",
    "#         for idx_0, word_ids in enumerate(corpus):\n",
    "#             for idx_1, word_id in enumerate(word_ids):\n",
    "#                 one_hot[idx_0, idx_1, word_id] = 1\n",
    "\n",
    "#     return one_hot"
   ]
  },
  {
   "cell_type": "markdown",
   "metadata": {},
   "source": [
    "One-Hotの前にVocabサイズを定義します"
   ]
  },
  {
   "cell_type": "code",
   "execution_count": 9,
   "metadata": {},
   "outputs": [
    {
     "name": "stdout",
     "output_type": "stream",
     "text": [
      "45\n"
     ]
    }
   ],
   "source": [
    "vocab_size = len(word_to_id)\n",
    "print(vocab_size)"
   ]
  },
  {
   "cell_type": "code",
   "execution_count": 10,
   "metadata": {},
   "outputs": [
    {
     "name": "stdout",
     "output_type": "stream",
     "text": [
      "[[0 1 0 ... 0 0 0]\n",
      " [0 0 1 ... 0 0 0]\n",
      " [0 0 0 ... 0 0 0]\n",
      " ...\n",
      " [0 0 0 ... 0 0 1]\n",
      " [0 0 0 ... 0 0 0]\n",
      " [0 0 0 ... 0 0 0]]\n"
     ]
    }
   ],
   "source": [
    "target = convert_one_hot(target, vocab_size)\n",
    "print(target)"
   ]
  },
  {
   "cell_type": "code",
   "execution_count": 11,
   "metadata": {
    "scrolled": true
   },
   "outputs": [
    {
     "name": "stdout",
     "output_type": "stream",
     "text": [
      "[[[1 0 0 ... 0 0 0]\n",
      "  [0 0 1 ... 0 0 0]]\n",
      "\n",
      " [[0 1 0 ... 0 0 0]\n",
      "  [0 0 0 ... 0 0 0]]\n",
      "\n",
      " [[0 0 1 ... 0 0 0]\n",
      "  [0 0 0 ... 0 0 0]]\n",
      "\n",
      " ...\n",
      "\n",
      " [[0 0 0 ... 0 0 0]\n",
      "  [0 0 0 ... 0 0 0]]\n",
      "\n",
      " [[0 0 0 ... 0 0 1]\n",
      "  [0 0 0 ... 0 0 0]]\n",
      "\n",
      " [[0 0 0 ... 0 0 0]\n",
      "  [0 0 0 ... 0 0 0]]]\n"
     ]
    }
   ],
   "source": [
    "contexts = convert_one_hot(contexts, vocab_size)\n",
    "print(contexts)"
   ]
  },
  {
   "cell_type": "markdown",
   "metadata": {},
   "source": [
    "## Softmax, NpDotをimportします"
   ]
  },
  {
   "cell_type": "code",
   "execution_count": 12,
   "metadata": {},
   "outputs": [],
   "source": [
    "from suzaki.layers import SoftmaxWithLoss, NpDot, Embedding"
   ]
  },
  {
   "cell_type": "code",
   "execution_count": 13,
   "metadata": {},
   "outputs": [],
   "source": [
    "hidden_size = 3"
   ]
  },
  {
   "cell_type": "markdown",
   "metadata": {},
   "source": [
    "## NegativeSampling.pyをimportする"
   ]
  },
  {
   "cell_type": "code",
   "execution_count": 14,
   "metadata": {},
   "outputs": [],
   "source": [
    "from suzaki.NegativeSampling import NegativeSamplingLoss"
   ]
  },
  {
   "cell_type": "markdown",
   "metadata": {},
   "source": [
    "## CBOW 実装"
   ]
  },
  {
   "cell_type": "code",
   "execution_count": 15,
   "metadata": {},
   "outputs": [],
   "source": [
    "from suzaki.cbow import CBOW"
   ]
  },
  {
   "cell_type": "code",
   "execution_count": 16,
   "metadata": {},
   "outputs": [],
   "source": [
    "#この関数は実行時、ディレクトリから呼び出しているため、コードのみComment形式で掲載\n",
    "\n",
    "def __init__(vocab_size, hidden_size, window_size, corpus):\n",
    "    V, H = vocab_size, hidden_size\n",
    "\n",
    "    # 重みの初期化\n",
    "    W_in = 0.01 * np.random.randn(V, H)\n",
    "    W_out = 0.01 * np.random.randn(V, H)\n",
    "\n",
    "    # レイヤの生成\n",
    "    in_layers = []\n",
    "    for i in range(2 * window_size):\n",
    "        layer = Embedding(W_in)  # Embeddingレイヤを使用\n",
    "        in_layers.append(layer)\n",
    "    ns_loss = NegativeSamplingLoss(W_out, corpus, power=0.75, sample_size=5)\n",
    "\n",
    "    # すべての重みと勾配をリストにまとめる\n",
    "    layers = in_layers + [ns_loss]\n",
    "    params, grads = [], []\n",
    "    for layer in layers:\n",
    "        params += layer.params\n",
    "        grads += layer.grads\n",
    "\n",
    "    # メンバ変数に単語の分散表現を設定\n",
    "    word_vecs = W_in\n",
    "\n",
    "def forward(contexts, target):\n",
    "    h = 0\n",
    "    for i, layer in enumerate(in_layers):\n",
    "        h += layer.forward(contexts[:, i])\n",
    "    h *= 1 / len(in_layers)\n",
    "    loss = ns_loss.forward(h, target)\n",
    "    return loss\n",
    "\n",
    "def backward(dout=1):\n",
    "    dout = ns_loss.backward(dout)\n",
    "    dout *= 1 / len(in_layers)\n",
    "    for layer in in_layers:\n",
    "        layer.backward(dout)\n",
    "    return None"
   ]
  },
  {
   "cell_type": "markdown",
   "metadata": {},
   "source": [
    "## 学習(パラメータ、データ読み込み、Context and Target,  Model, 学習)"
   ]
  },
  {
   "cell_type": "code",
   "execution_count": 17,
   "metadata": {},
   "outputs": [],
   "source": [
    "from suzaki.trainer import Trainer\n",
    "from suzaki.optimizer import Adam\n",
    "from suzaki.cbow import CBOW"
   ]
  },
  {
   "cell_type": "code",
   "execution_count": 18,
   "metadata": {},
   "outputs": [],
   "source": [
    "# ハイパーパラメータの設定\n",
    "sliding_window_size = 1\n",
    "hidden_size = 3\n",
    "batch_size = 3\n",
    "max_epoch = 100"
   ]
  },
  {
   "cell_type": "code",
   "execution_count": 19,
   "metadata": {},
   "outputs": [
    {
     "name": "stdout",
     "output_type": "stream",
     "text": [
      "[ 0  1  2  3  4  5  6  7  8  9 10 11 12 13 14 15 16 17 14 18 19  0 20 21\n",
      " 11 22 19 23  4 24 25 26 14 27 28 29 30  3 31 22 32 19  7  0 33  3 34  6\n",
      " 35 36 11 37 38 19 39 40 19 41 42 43 19 44 35 36 19]\n"
     ]
    }
   ],
   "source": [
    "# データの読み込み\n",
    "text = 'I am honored to be with you today at your commencement from one of the finest universities in the world. I never graduated from college. Truth be told, this is the closest I’ve ever gotten to a college graduation. Today I want to tell you three stories from my life. That’s it. No big deal. Just three stories.'\n",
    "corpus , word_to_id, id_to_word = preprocess(text)\n",
    "print(corpus)"
   ]
  },
  {
   "cell_type": "code",
   "execution_count": 20,
   "metadata": {},
   "outputs": [],
   "source": [
    "#One-Hotの前にVocabサイズをとる\n",
    "vocab_size = len(word_to_id)"
   ]
  },
  {
   "cell_type": "code",
   "execution_count": 21,
   "metadata": {},
   "outputs": [],
   "source": [
    "#Context とtargetを作る\n",
    "contexts, target = create_contexts_target(corpus, sliding_window_size)"
   ]
  },
  {
   "cell_type": "code",
   "execution_count": 22,
   "metadata": {},
   "outputs": [],
   "source": [
    "# モデルの生成\n",
    "model = CBOW(vocab_size, hidden_size, sliding_window_size, corpus)\n",
    "optimizer = Adam()\n",
    "trainer = Trainer(model, optimizer)"
   ]
  },
  {
   "cell_type": "code",
   "execution_count": 23,
   "metadata": {},
   "outputs": [
    {
     "name": "stdout",
     "output_type": "stream",
     "text": [
      "| epoch 1 |  iter 1 / 21 | time 0[s] | loss 4.16\n",
      "| epoch 1 |  iter 21 / 21 | time 0[s] | loss 4.16\n",
      "| epoch 2 |  iter 1 / 21 | time 0[s] | loss 4.16\n",
      "| epoch 2 |  iter 21 / 21 | time 0[s] | loss 4.16\n",
      "| epoch 3 |  iter 1 / 21 | time 0[s] | loss 4.16\n",
      "| epoch 3 |  iter 21 / 21 | time 0[s] | loss 4.16\n",
      "| epoch 4 |  iter 1 / 21 | time 0[s] | loss 4.16\n",
      "| epoch 4 |  iter 21 / 21 | time 0[s] | loss 4.16\n",
      "| epoch 5 |  iter 1 / 21 | time 0[s] | loss 4.16\n",
      "| epoch 5 |  iter 21 / 21 | time 0[s] | loss 4.15\n",
      "| epoch 6 |  iter 1 / 21 | time 0[s] | loss 4.15\n",
      "| epoch 6 |  iter 21 / 21 | time 0[s] | loss 4.15\n",
      "| epoch 7 |  iter 1 / 21 | time 0[s] | loss 4.15\n",
      "| epoch 7 |  iter 21 / 21 | time 0[s] | loss 4.14\n",
      "| epoch 8 |  iter 1 / 21 | time 0[s] | loss 4.14\n",
      "| epoch 8 |  iter 21 / 21 | time 0[s] | loss 4.13\n",
      "| epoch 9 |  iter 1 / 21 | time 0[s] | loss 4.12\n",
      "| epoch 9 |  iter 21 / 21 | time 0[s] | loss 4.12\n",
      "| epoch 10 |  iter 1 / 21 | time 0[s] | loss 4.12\n",
      "| epoch 10 |  iter 21 / 21 | time 0[s] | loss 4.10\n",
      "| epoch 11 |  iter 1 / 21 | time 0[s] | loss 4.08\n",
      "| epoch 11 |  iter 21 / 21 | time 0[s] | loss 4.08\n",
      "| epoch 12 |  iter 1 / 21 | time 0[s] | loss 4.09\n",
      "| epoch 12 |  iter 21 / 21 | time 0[s] | loss 4.06\n",
      "| epoch 13 |  iter 1 / 21 | time 0[s] | loss 4.08\n",
      "| epoch 13 |  iter 21 / 21 | time 0[s] | loss 4.04\n",
      "| epoch 14 |  iter 1 / 21 | time 0[s] | loss 4.00\n",
      "| epoch 14 |  iter 21 / 21 | time 0[s] | loss 4.02\n",
      "| epoch 15 |  iter 1 / 21 | time 0[s] | loss 4.03\n",
      "| epoch 15 |  iter 21 / 21 | time 0[s] | loss 3.99\n",
      "| epoch 16 |  iter 1 / 21 | time 0[s] | loss 4.03\n",
      "| epoch 16 |  iter 21 / 21 | time 0[s] | loss 3.96\n",
      "| epoch 17 |  iter 1 / 21 | time 0[s] | loss 3.93\n",
      "| epoch 17 |  iter 21 / 21 | time 0[s] | loss 3.93\n",
      "| epoch 18 |  iter 1 / 21 | time 0[s] | loss 3.91\n",
      "| epoch 18 |  iter 21 / 21 | time 0[s] | loss 3.91\n",
      "| epoch 19 |  iter 1 / 21 | time 0[s] | loss 3.92\n",
      "| epoch 19 |  iter 21 / 21 | time 0[s] | loss 3.87\n",
      "| epoch 20 |  iter 1 / 21 | time 0[s] | loss 3.86\n",
      "| epoch 20 |  iter 21 / 21 | time 0[s] | loss 3.84\n",
      "| epoch 21 |  iter 1 / 21 | time 0[s] | loss 3.78\n",
      "| epoch 21 |  iter 21 / 21 | time 0[s] | loss 3.81\n",
      "| epoch 22 |  iter 1 / 21 | time 0[s] | loss 3.82\n",
      "| epoch 22 |  iter 21 / 21 | time 0[s] | loss 3.77\n",
      "| epoch 23 |  iter 1 / 21 | time 0[s] | loss 3.79\n",
      "| epoch 23 |  iter 21 / 21 | time 0[s] | loss 3.75\n",
      "| epoch 24 |  iter 1 / 21 | time 0[s] | loss 3.78\n",
      "| epoch 24 |  iter 21 / 21 | time 0[s] | loss 3.69\n",
      "| epoch 25 |  iter 1 / 21 | time 0[s] | loss 3.68\n",
      "| epoch 25 |  iter 21 / 21 | time 0[s] | loss 3.67\n",
      "| epoch 26 |  iter 1 / 21 | time 0[s] | loss 3.78\n",
      "| epoch 26 |  iter 21 / 21 | time 0[s] | loss 3.62\n",
      "| epoch 27 |  iter 1 / 21 | time 0[s] | loss 3.60\n",
      "| epoch 27 |  iter 21 / 21 | time 0[s] | loss 3.62\n",
      "| epoch 28 |  iter 1 / 21 | time 0[s] | loss 3.51\n",
      "| epoch 28 |  iter 21 / 21 | time 0[s] | loss 3.57\n",
      "| epoch 29 |  iter 1 / 21 | time 0[s] | loss 3.63\n",
      "| epoch 29 |  iter 21 / 21 | time 0[s] | loss 3.54\n",
      "| epoch 30 |  iter 1 / 21 | time 0[s] | loss 3.53\n",
      "| epoch 30 |  iter 21 / 21 | time 0[s] | loss 3.51\n",
      "| epoch 31 |  iter 1 / 21 | time 0[s] | loss 3.51\n",
      "| epoch 31 |  iter 21 / 21 | time 0[s] | loss 3.47\n",
      "| epoch 32 |  iter 1 / 21 | time 0[s] | loss 3.39\n",
      "| epoch 32 |  iter 21 / 21 | time 0[s] | loss 3.44\n",
      "| epoch 33 |  iter 1 / 21 | time 0[s] | loss 3.58\n",
      "| epoch 33 |  iter 21 / 21 | time 0[s] | loss 3.40\n",
      "| epoch 34 |  iter 1 / 21 | time 0[s] | loss 3.41\n",
      "| epoch 34 |  iter 21 / 21 | time 0[s] | loss 3.37\n",
      "| epoch 35 |  iter 1 / 21 | time 0[s] | loss 3.42\n",
      "| epoch 35 |  iter 21 / 21 | time 0[s] | loss 3.35\n",
      "| epoch 36 |  iter 1 / 21 | time 0[s] | loss 3.24\n",
      "| epoch 36 |  iter 21 / 21 | time 0[s] | loss 3.31\n",
      "| epoch 37 |  iter 1 / 21 | time 0[s] | loss 3.30\n",
      "| epoch 37 |  iter 21 / 21 | time 0[s] | loss 3.27\n",
      "| epoch 38 |  iter 1 / 21 | time 0[s] | loss 3.42\n",
      "| epoch 38 |  iter 21 / 21 | time 0[s] | loss 3.24\n",
      "| epoch 39 |  iter 1 / 21 | time 0[s] | loss 3.36\n",
      "| epoch 39 |  iter 21 / 21 | time 0[s] | loss 3.22\n",
      "| epoch 40 |  iter 1 / 21 | time 0[s] | loss 3.24\n",
      "| epoch 40 |  iter 21 / 21 | time 0[s] | loss 3.21\n",
      "| epoch 41 |  iter 1 / 21 | time 0[s] | loss 3.28\n",
      "| epoch 41 |  iter 21 / 21 | time 0[s] | loss 3.18\n",
      "| epoch 42 |  iter 1 / 21 | time 0[s] | loss 3.28\n",
      "| epoch 42 |  iter 21 / 21 | time 0[s] | loss 3.15\n",
      "| epoch 43 |  iter 1 / 21 | time 0[s] | loss 3.17\n",
      "| epoch 43 |  iter 21 / 21 | time 0[s] | loss 3.13\n",
      "| epoch 44 |  iter 1 / 21 | time 0[s] | loss 3.13\n",
      "| epoch 44 |  iter 21 / 21 | time 0[s] | loss 3.11\n",
      "| epoch 45 |  iter 1 / 21 | time 0[s] | loss 3.00\n",
      "| epoch 45 |  iter 21 / 21 | time 0[s] | loss 3.09\n",
      "| epoch 46 |  iter 1 / 21 | time 0[s] | loss 3.03\n",
      "| epoch 46 |  iter 21 / 21 | time 0[s] | loss 3.08\n",
      "| epoch 47 |  iter 1 / 21 | time 0[s] | loss 3.07\n",
      "| epoch 47 |  iter 21 / 21 | time 0[s] | loss 3.05\n",
      "| epoch 48 |  iter 1 / 21 | time 0[s] | loss 2.91\n",
      "| epoch 48 |  iter 21 / 21 | time 0[s] | loss 3.05\n",
      "| epoch 49 |  iter 1 / 21 | time 0[s] | loss 2.84\n",
      "| epoch 49 |  iter 21 / 21 | time 0[s] | loss 3.02\n",
      "| epoch 50 |  iter 1 / 21 | time 0[s] | loss 3.15\n",
      "| epoch 50 |  iter 21 / 21 | time 1[s] | loss 2.99\n",
      "| epoch 51 |  iter 1 / 21 | time 1[s] | loss 3.07\n",
      "| epoch 51 |  iter 21 / 21 | time 1[s] | loss 2.97\n",
      "| epoch 52 |  iter 1 / 21 | time 1[s] | loss 3.05\n",
      "| epoch 52 |  iter 21 / 21 | time 1[s] | loss 2.96\n",
      "| epoch 53 |  iter 1 / 21 | time 1[s] | loss 2.93\n",
      "| epoch 53 |  iter 21 / 21 | time 1[s] | loss 2.96\n",
      "| epoch 54 |  iter 1 / 21 | time 1[s] | loss 2.93\n",
      "| epoch 54 |  iter 21 / 21 | time 1[s] | loss 2.94\n",
      "| epoch 55 |  iter 1 / 21 | time 1[s] | loss 2.87\n",
      "| epoch 55 |  iter 21 / 21 | time 1[s] | loss 2.92\n",
      "| epoch 56 |  iter 1 / 21 | time 1[s] | loss 3.06\n",
      "| epoch 56 |  iter 21 / 21 | time 1[s] | loss 2.91\n",
      "| epoch 57 |  iter 1 / 21 | time 1[s] | loss 2.97\n",
      "| epoch 57 |  iter 21 / 21 | time 1[s] | loss 2.92\n",
      "| epoch 58 |  iter 1 / 21 | time 1[s] | loss 2.97\n",
      "| epoch 58 |  iter 21 / 21 | time 1[s] | loss 2.90\n",
      "| epoch 59 |  iter 1 / 21 | time 1[s] | loss 2.96\n",
      "| epoch 59 |  iter 21 / 21 | time 1[s] | loss 2.88\n",
      "| epoch 60 |  iter 1 / 21 | time 1[s] | loss 3.06\n",
      "| epoch 60 |  iter 21 / 21 | time 1[s] | loss 2.85\n",
      "| epoch 61 |  iter 1 / 21 | time 1[s] | loss 2.93\n",
      "| epoch 61 |  iter 21 / 21 | time 1[s] | loss 2.87\n",
      "| epoch 62 |  iter 1 / 21 | time 1[s] | loss 2.85\n",
      "| epoch 62 |  iter 21 / 21 | time 1[s] | loss 2.86\n",
      "| epoch 63 |  iter 1 / 21 | time 1[s] | loss 2.74\n",
      "| epoch 63 |  iter 21 / 21 | time 1[s] | loss 2.85\n",
      "| epoch 64 |  iter 1 / 21 | time 1[s] | loss 2.81\n",
      "| epoch 64 |  iter 21 / 21 | time 1[s] | loss 2.85\n",
      "| epoch 65 |  iter 1 / 21 | time 1[s] | loss 2.83\n",
      "| epoch 65 |  iter 21 / 21 | time 1[s] | loss 2.83\n",
      "| epoch 66 |  iter 1 / 21 | time 1[s] | loss 2.85\n",
      "| epoch 66 |  iter 21 / 21 | time 1[s] | loss 2.82\n",
      "| epoch 67 |  iter 1 / 21 | time 1[s] | loss 2.85\n",
      "| epoch 67 |  iter 21 / 21 | time 1[s] | loss 2.82\n",
      "| epoch 68 |  iter 1 / 21 | time 1[s] | loss 2.76\n",
      "| epoch 68 |  iter 21 / 21 | time 1[s] | loss 2.81\n",
      "| epoch 69 |  iter 1 / 21 | time 1[s] | loss 2.59\n",
      "| epoch 69 |  iter 21 / 21 | time 1[s] | loss 2.81\n",
      "| epoch 70 |  iter 1 / 21 | time 1[s] | loss 2.82\n",
      "| epoch 70 |  iter 21 / 21 | time 1[s] | loss 2.80\n",
      "| epoch 71 |  iter 1 / 21 | time 1[s] | loss 2.68\n",
      "| epoch 71 |  iter 21 / 21 | time 1[s] | loss 2.80\n",
      "| epoch 72 |  iter 1 / 21 | time 1[s] | loss 2.83\n",
      "| epoch 72 |  iter 21 / 21 | time 1[s] | loss 2.79\n",
      "| epoch 73 |  iter 1 / 21 | time 1[s] | loss 2.76\n",
      "| epoch 73 |  iter 21 / 21 | time 1[s] | loss 2.79\n",
      "| epoch 74 |  iter 1 / 21 | time 1[s] | loss 2.65\n",
      "| epoch 74 |  iter 21 / 21 | time 1[s] | loss 2.79\n",
      "| epoch 75 |  iter 1 / 21 | time 1[s] | loss 2.77\n",
      "| epoch 75 |  iter 21 / 21 | time 1[s] | loss 2.79\n",
      "| epoch 76 |  iter 1 / 21 | time 1[s] | loss 2.70\n",
      "| epoch 76 |  iter 21 / 21 | time 1[s] | loss 2.77\n",
      "| epoch 77 |  iter 1 / 21 | time 1[s] | loss 2.81\n",
      "| epoch 77 |  iter 21 / 21 | time 1[s] | loss 2.76\n",
      "| epoch 78 |  iter 1 / 21 | time 1[s] | loss 2.68\n",
      "| epoch 78 |  iter 21 / 21 | time 1[s] | loss 2.77\n",
      "| epoch 79 |  iter 1 / 21 | time 1[s] | loss 2.85\n",
      "| epoch 79 |  iter 21 / 21 | time 1[s] | loss 2.76\n",
      "| epoch 80 |  iter 1 / 21 | time 1[s] | loss 2.78\n",
      "| epoch 80 |  iter 21 / 21 | time 1[s] | loss 2.77\n",
      "| epoch 81 |  iter 1 / 21 | time 1[s] | loss 2.74\n",
      "| epoch 81 |  iter 21 / 21 | time 1[s] | loss 2.77\n",
      "| epoch 82 |  iter 1 / 21 | time 1[s] | loss 2.80\n",
      "| epoch 82 |  iter 21 / 21 | time 1[s] | loss 2.75\n",
      "| epoch 83 |  iter 1 / 21 | time 1[s] | loss 2.72\n",
      "| epoch 83 |  iter 21 / 21 | time 1[s] | loss 2.76\n",
      "| epoch 84 |  iter 1 / 21 | time 1[s] | loss 2.77\n",
      "| epoch 84 |  iter 21 / 21 | time 1[s] | loss 2.73\n",
      "| epoch 85 |  iter 1 / 21 | time 1[s] | loss 2.75\n",
      "| epoch 85 |  iter 21 / 21 | time 1[s] | loss 2.75\n",
      "| epoch 86 |  iter 1 / 21 | time 1[s] | loss 2.80\n",
      "| epoch 86 |  iter 21 / 21 | time 1[s] | loss 2.76\n",
      "| epoch 87 |  iter 1 / 21 | time 1[s] | loss 2.76\n",
      "| epoch 87 |  iter 21 / 21 | time 1[s] | loss 2.74\n",
      "| epoch 88 |  iter 1 / 21 | time 1[s] | loss 2.83\n",
      "| epoch 88 |  iter 21 / 21 | time 1[s] | loss 2.74\n",
      "| epoch 89 |  iter 1 / 21 | time 1[s] | loss 2.66\n",
      "| epoch 89 |  iter 21 / 21 | time 1[s] | loss 2.74\n",
      "| epoch 90 |  iter 1 / 21 | time 1[s] | loss 2.80\n"
     ]
    },
    {
     "name": "stdout",
     "output_type": "stream",
     "text": [
      "| epoch 90 |  iter 21 / 21 | time 1[s] | loss 2.73\n",
      "| epoch 91 |  iter 1 / 21 | time 1[s] | loss 2.75\n",
      "| epoch 91 |  iter 21 / 21 | time 1[s] | loss 2.74\n",
      "| epoch 92 |  iter 1 / 21 | time 1[s] | loss 2.68\n",
      "| epoch 92 |  iter 21 / 21 | time 1[s] | loss 2.73\n",
      "| epoch 93 |  iter 1 / 21 | time 1[s] | loss 2.81\n",
      "| epoch 93 |  iter 21 / 21 | time 1[s] | loss 2.74\n",
      "| epoch 94 |  iter 1 / 21 | time 1[s] | loss 2.72\n",
      "| epoch 94 |  iter 21 / 21 | time 2[s] | loss 2.73\n",
      "| epoch 95 |  iter 1 / 21 | time 2[s] | loss 2.64\n",
      "| epoch 95 |  iter 21 / 21 | time 2[s] | loss 2.75\n",
      "| epoch 96 |  iter 1 / 21 | time 2[s] | loss 2.68\n",
      "| epoch 96 |  iter 21 / 21 | time 2[s] | loss 2.73\n",
      "| epoch 97 |  iter 1 / 21 | time 2[s] | loss 2.66\n",
      "| epoch 97 |  iter 21 / 21 | time 2[s] | loss 2.72\n",
      "| epoch 98 |  iter 1 / 21 | time 2[s] | loss 2.72\n",
      "| epoch 98 |  iter 21 / 21 | time 2[s] | loss 2.73\n",
      "| epoch 99 |  iter 1 / 21 | time 2[s] | loss 2.84\n",
      "| epoch 99 |  iter 21 / 21 | time 2[s] | loss 2.72\n",
      "| epoch 100 |  iter 1 / 21 | time 2[s] | loss 2.80\n",
      "| epoch 100 |  iter 21 / 21 | time 2[s] | loss 2.72\n"
     ]
    },
    {
     "data": {
      "image/png": "[encoded data removed]",
      "text/plain": [
       "<matplotlib.figure.Figure at 0x11d2fecf8>"
      ]
     },
     "metadata": {},
     "output_type": "display_data"
    }
   ],
   "source": [
    "# 学習開始\n",
    "trainer.fit(contexts, target, max_epoch, batch_size)\n",
    "trainer.plot()\n",
    "\n",
    "# 後ほど利用できるように、必要なデータを保存\n",
    "word_vecs = model.word_vecs\n",
    "params = {}\n",
    "params['word_vecs'] = word_vecs.astype(np.float16)\n",
    "params['word_to_id'] = word_to_id\n",
    "params['id_to_word'] = id_to_word\n",
    "pkl_file = 'cbow_params.pkl' \n",
    "with open(pkl_file, 'wb') as f:\n",
    "    pickle.dump(params, f, -1)"
   ]
  },
  {
   "cell_type": "markdown",
   "metadata": {},
   "source": [
    "## （自習用） CBOW 実装前の理解のための実装"
   ]
  },
  {
   "cell_type": "code",
   "execution_count": null,
   "metadata": {},
   "outputs": [],
   "source": [
    "# #実装前の理解のための実装\n",
    "\n",
    "# c0 = np.array([[1,0,0,0,0,0,0,0]]) # Context data Input\n",
    "# c2 = np.array([[0,0,1,0,0,0,0,0]]) # Context data Input\n",
    "\n",
    "# #初期化した重み\n",
    "# W_in = np.random.randn(8, 3)\n",
    "# W_out = np.random.randn(3, 8)\n",
    "\n",
    "# #中間層にForwardPropする\n",
    "# h0 = np.dot(c0, W_in)\n",
    "# h1 = np.dot(c2, W_in)\n",
    "# h = 0.5 * (h0 + h1)\n",
    "# s = np.dot(h, W_out)\n",
    "\n",
    "# print(s)\n",
    "\n",
    "\n",
    "\n"
   ]
  },
  {
   "cell_type": "markdown",
   "metadata": {},
   "source": [
    "## （自習用）日本語"
   ]
  },
  {
   "cell_type": "code",
   "execution_count": null,
   "metadata": {},
   "outputs": [],
   "source": [
    "import re\n",
    "\n",
    "import MeCab\n",
    "tagger = MeCab.Tagger(\"-Owakati\")\n",
    "\n",
    "text = open('./sample.txt', 'r')\n",
    "\n",
    "# 改行をなくす\n",
    "kaisekiyou = text.read().split('¥n')\n",
    "string = ' '.join(kaisekiyou)\n",
    "mecab = tagger.parse(string)\n",
    "\n",
    "print(mecab)"
   ]
  },
  {
   "cell_type": "code",
   "execution_count": null,
   "metadata": {},
   "outputs": [],
   "source": []
  }
 ],
 "metadata": {
  "kernelspec": {
   "display_name": "Python 3",
   "language": "python",
   "name": "python3"
  },
  "language_info": {
   "codemirror_mode": {
    "name": "ipython",
    "version": 3
   },
   "file_extension": ".py",
   "mimetype": "text/x-python",
   "name": "python",
   "nbconvert_exporter": "python",
   "pygments_lexer": "ipython3",
   "version": "3.6.6"
  },
  "latex_envs": {
   "LaTeX_envs_menu_present": true,
   "autoclose": false,
   "autocomplete": true,
   "bibliofile": "biblio.bib",
   "cite_by": "apalike",
   "current_citInitial": 1,
   "eqLabelWithNumbers": true,
   "eqNumInitial": 1,
   "hotkeys": {
    "equation": "Ctrl-E",
    "itemize": "Ctrl-I"
   },
   "labels_anchors": false,
   "latex_user_defs": false,
   "report_style_numbering": false,
   "user_envs_cfg": false
  },
  "toc": {
   "base_numbering": 1,
   "nav_menu": {},
   "number_sections": true,
   "sideBar": true,
   "skip_h1_title": false,
   "title_cell": "Table of Contents",
   "title_sidebar": "Contents",
   "toc_cell": false,
   "toc_position": {
    "height": "calc(100% - 180px)",
    "left": "10px",
    "top": "150px",
    "width": "324px"
   },
   "toc_section_display": true,
   "toc_window_display": true
  }
 },
 "nbformat": 4,
 "nbformat_minor": 2
}
