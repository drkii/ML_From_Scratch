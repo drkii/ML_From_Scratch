{
 "cells": [
  {
   "cell_type": "markdown",
   "metadata": {},
   "source": [
    "# SVM From Scratch"
   ]
  },
  {
   "cell_type": "markdown",
   "metadata": {},
   "source": [
    "本SVMスクラッチは、２つのものを行うことで普段使う数式レベルからの理解に挑戦する。\n",
    "- ハードマージンSVM：数式のみで解き、得られたSVM式に、新たな情報が代入されたら正負を判定できるものにする\n",
    "- ソフトマージンSVM：実装を行う。特にコスト関数と、Gradient Decentを使って小さくなっていることを確認できることを目標とする\n",
    "\n",
    "\n",
    "ハードマージンSVMでは、実際にそう当てはまる事象がそう多くない。\n",
    "\n",
    "理由として全ての訓練事例が正確に分類されなければならないという制約を前提にしているからである。\n",
    "\n",
    "つまり、先の線形関数で分離できない場合は、制約を満たす解がそもそも存在しなくなってしまう。\n",
    "\n",
    "そのため、実装はより実践的で数式実装の訓練となるソフトマージンが選ばれた。\n",
    "\n"
   ]
  },
  {
   "cell_type": "code",
   "execution_count": 100,
   "metadata": {},
   "outputs": [],
   "source": [
    "import numpy as np\n",
    "import matplotlib.pyplot as plt\n"
   ]
  },
  {
   "cell_type": "markdown",
   "metadata": {},
   "source": [
    "# Dataset"
   ]
  },
  {
   "cell_type": "markdown",
   "metadata": {},
   "source": [
    "\n",
    "$ D={(x[0], -1), (x[1]) ,1)}$\n",
    "に対して、SVMを構築する。ただし、以下のデータセットが与えられている。"
   ]
  },
  {
   "cell_type": "code",
   "execution_count": 145,
   "metadata": {
    "scrolled": false
   },
   "outputs": [
    {
     "data": {
      "image/png": "[encoded data removed]",
      "text/plain": [
       "<matplotlib.figure.Figure at 0x1156f2b00>"
      ]
     },
     "metadata": {},
     "output_type": "display_data"
    }
   ],
   "source": [
    "#2個のSamples\n",
    "X=np.zeros((2,2))\n",
    "X[0]=[0,1]\n",
    "X[1]=[1,1]\n",
    "\n",
    "plt.figure(figsize =(12,8))\n",
    "plt.scatter(X[0], X[1], marker='o', s=50)\n",
    "plt.grid()\n",
    "plt.show()"
   ]
  },
  {
   "cell_type": "markdown",
   "metadata": {},
   "source": [
    "# 厳密制約：ハードマージンSVM"
   ]
  },
  {
   "cell_type": "markdown",
   "metadata": {},
   "source": [
    "## 求める式"
   ]
  },
  {
   "cell_type": "markdown",
   "metadata": {},
   "source": [
    "このハードマージンSVMにかく数式については解説はしていない\n",
    "\n",
    "\n",
    "「言語処理のための機械学習入門」の式を用いて、2値の2クラス分類を行うものである。\n",
    "\n",
    "\n",
    "y(i) = +1であるようなトレーニング事例については、\n",
    "\n",
    "wx(i) -b >= 1であればよく、\n",
    "\n",
    "y(i) = -1であるようなトレーニング事例については、\n",
    "\n",
    "wx(i) -b >= -1であればよい。\n",
    "\n",
    "\n",
    "この二つの条件はつぎのようにまとめて表せる\n",
    "\n",
    "\n",
    "y(i)(wx(i) -b) >=1\n",
    "\n",
    "\n",
    "このことより、求める対象の式\n",
    "\n",
    "f(x) = w*x-b\n",
    "\n",
    "\n",
    "と置くことができる"
   ]
  },
  {
   "cell_type": "markdown",
   "metadata": {},
   "source": [
    "## SVMの式から求められるものを先に計算する"
   ]
  },
  {
   "cell_type": "markdown",
   "metadata": {},
   "source": [
    "求める式を　f(x) = w*x-bと置くと、\n",
    "\n",
    "まず、以下であることがわかる\n",
    "\n",
    "\n",
    "$x[0]*x[0] = 1$\n",
    "\n",
    "\n",
    "$x[1]*x[1] = 2$\n",
    "\n",
    "\n",
    "$x[0]*x[1] = x[1]*x[0] = 1$"
   ]
  },
  {
   "cell_type": "markdown",
   "metadata": {},
   "source": [
    "## 不等式制約つき最適化問題を解く"
   ]
  },
  {
   "cell_type": "markdown",
   "metadata": {},
   "source": [
    "双対ラグランジュ関数を用いる。\n",
    "\n",
    "\n",
    "ラグランジュ乗数αi (>=0)を導入すると、ラグランジュ関数で表わせ、鞍点理論より、ラグランジュ関数を最大化するαiを求めればよいことがわかる\n",
    "\n",
    "\n",
    "ここでの最大化問題は、この関数においては、双対問題ともいわれ、それは双対ラグランジュ関数を解くことであるとのこと。\n",
    "\n",
    "\n",
    "つまり、ここではαが二つの最適化問題をとくことになり、双対ラグランジュ関数は以下となる。\n",
    "\n"
   ]
  },
  {
   "cell_type": "markdown",
   "metadata": {},
   "source": [
    "$L(w, b, α1, α2)$"
   ]
  },
  {
   "cell_type": "markdown",
   "metadata": {},
   "source": [
    "### 代入計算式"
   ]
  },
  {
   "cell_type": "markdown",
   "metadata": {},
   "source": [
    " -1/2{α1α1 * (-1) * (-1) * 1 + α2α2 * 1* 1* 2 + α1α2 * (-1)* (1)* 1 + α2α1* 1* (-1) * 1} + α1 + α2 "
   ]
  },
  {
   "cell_type": "markdown",
   "metadata": {},
   "source": [
    "### まとめると"
   ]
  },
  {
   "cell_type": "markdown",
   "metadata": {},
   "source": [
    "-1/2α1** 2 -α2** 2 + α1α2 + α1 +α2"
   ]
  },
  {
   "cell_type": "markdown",
   "metadata": {},
   "source": [
    "ここで、α1* (-1) + α2 *1 = 0より、"
   ]
  },
  {
   "cell_type": "markdown",
   "metadata": {},
   "source": [
    "$L(w, b, α1, α2)　= -1/2*α1**2 + 2α1$"
   ]
  },
  {
   "cell_type": "markdown",
   "metadata": {},
   "source": [
    "したがって、微分すると、"
   ]
  },
  {
   "cell_type": "markdown",
   "metadata": {},
   "source": [
    "-α1+2になるので"
   ]
  },
  {
   "cell_type": "markdown",
   "metadata": {},
   "source": [
    "これを０とすると、$α1 = α2 = 2$  が得られた。"
   ]
  },
  {
   "cell_type": "markdown",
   "metadata": {},
   "source": [
    "ここに、X[1]=[1,1]を用いて、"
   ]
  },
  {
   "cell_type": "markdown",
   "metadata": {},
   "source": [
    "b = 2 * (-1) * (0, 1) (1,1) +2 *1 *(1,1)(1,1) -1 =1"
   ]
  },
  {
   "cell_type": "markdown",
   "metadata": {},
   "source": [
    "分離平面は、bとして、１が得られた。"
   ]
  },
  {
   "cell_type": "markdown",
   "metadata": {},
   "source": [
    "ここでは、分離平面は、w*x = bとなる点xの集合となる。"
   ]
  },
  {
   "cell_type": "markdown",
   "metadata": {},
   "source": [
    "ここで、wも求めておく、"
   ]
  },
  {
   "cell_type": "markdown",
   "metadata": {},
   "source": [
    "w = 2*(-1)*(0,1) + 2 * 1 *(1,1) = (2,0)"
   ]
  },
  {
   "cell_type": "markdown",
   "metadata": {},
   "source": [
    "### 得られたSVM"
   ]
  },
  {
   "cell_type": "markdown",
   "metadata": {},
   "source": [
    "$f(x) = (2, 0)*x-1$"
   ]
  },
  {
   "cell_type": "markdown",
   "metadata": {},
   "source": [
    "が得られた。つまりこの式が０以上ならば正のクラスに、そうでなければ負のクラスに分類される。"
   ]
  },
  {
   "cell_type": "markdown",
   "metadata": {},
   "source": [
    "### このSVMの使い方"
   ]
  },
  {
   "cell_type": "markdown",
   "metadata": {},
   "source": [
    "x(1,0)を分類する場合、\n",
    "$f(x) = (2, 0)*(1, 0)-1 = 1 > 0$\n",
    "\n",
    "このx(1,0)は正の例となる。"
   ]
  },
  {
   "cell_type": "markdown",
   "metadata": {},
   "source": [
    "この例で得られたように、ハードマージンSVMは導出もそれほど難しくない。"
   ]
  },
  {
   "cell_type": "markdown",
   "metadata": {},
   "source": []
  },
  {
   "cell_type": "markdown",
   "metadata": {},
   "source": []
  },
  {
   "cell_type": "markdown",
   "metadata": {},
   "source": [
    "# 緩和制約：ソフトマージンSVM"
   ]
  },
  {
   "cell_type": "markdown",
   "metadata": {},
   "source": [
    "以上の導出したSVMでは、実際のデータにはなかなかうまく動かない。\n",
    "\n",
    "理由として全ての訓練事例が正確に分類されなければならないという制約を前提にしているからである。\n",
    "\n",
    "つまり、先の線形関数で分離できない場合は、制約を満たす解がそもそも存在しなくなってしまう。\n",
    "\n",
    "そこで、8/11の朝から学んだように、以下のようなソフトマージンSVMがあるので、こちらで実装する。\n",
    "\n",
    "http://cs231n.github.io/linear-classify/"
   ]
  },
  {
   "cell_type": "markdown",
   "metadata": {},
   "source": [
    "## 実装"
   ]
  },
  {
   "cell_type": "code",
   "execution_count": 250,
   "metadata": {},
   "outputs": [],
   "source": [
    "x = [[0,1],[1, 1]]"
   ]
  },
  {
   "cell_type": "code",
   "execution_count": 251,
   "metadata": {},
   "outputs": [
    {
     "data": {
      "text/plain": [
       "array([[0, 1],\n",
       "       [1, 1]])"
      ]
     },
     "execution_count": 251,
     "metadata": {},
     "output_type": "execute_result"
    }
   ],
   "source": [
    "x = np.array(x)\n",
    "x"
   ]
  },
  {
   "cell_type": "code",
   "execution_count": 252,
   "metadata": {},
   "outputs": [
    {
     "data": {
      "text/plain": [
       "array([[2, 4],\n",
       "       [1, 2]])"
      ]
     },
     "execution_count": 252,
     "metadata": {},
     "output_type": "execute_result"
    }
   ],
   "source": [
    "#2Dと２Classを前提にしているので、2行２列の重みがあると想定する。\n",
    "\n",
    "\n",
    "W = np.array([[2,4],[1,2]])\n",
    "W"
   ]
  },
  {
   "cell_type": "code",
   "execution_count": 253,
   "metadata": {},
   "outputs": [],
   "source": [
    "t = [-1, 1]"
   ]
  },
  {
   "cell_type": "code",
   "execution_count": 254,
   "metadata": {
    "scrolled": true
   },
   "outputs": [
    {
     "data": {
      "text/plain": [
       "array([[4, 6],\n",
       "       [2, 3]])"
      ]
     },
     "execution_count": 254,
     "metadata": {},
     "output_type": "execute_result"
    }
   ],
   "source": [
    "# s0, s1までだす=内積\n",
    "s = np.dot(W, x)\n",
    "s"
   ]
  },
  {
   "cell_type": "code",
   "execution_count": 234,
   "metadata": {},
   "outputs": [],
   "source": [
    "#適当にDeltaをとっておきます\n",
    "delta = 3"
   ]
  },
  {
   "cell_type": "markdown",
   "metadata": {},
   "source": [
    "## 関数　margin_sum"
   ]
  },
  {
   "cell_type": "code",
   "execution_count": 271,
   "metadata": {},
   "outputs": [],
   "source": [
    "def margin_sum(x, W, delta):\n",
    "    x = np.array(x)\n",
    "    W = np.array(W)\n",
    "    s = np.dot(W, x)\n",
    "    margin_sum = 0\n",
    "    for i in range(W.shape[0]):\n",
    "        if i == 1:\n",
    "            continue\n",
    "        margin = max(0, s[0][i] - s[0][1] + delta)\n",
    "        margin_sum += margin\n",
    "\n",
    "    return margin_sum"
   ]
  },
  {
   "cell_type": "code",
   "execution_count": 409,
   "metadata": {},
   "outputs": [],
   "source": [
    "X = np.array([[0,1],[1, 1]])\n",
    "W = np.array([[1,2],[-1,1]])\n",
    "delta = 1"
   ]
  },
  {
   "cell_type": "code",
   "execution_count": 410,
   "metadata": {},
   "outputs": [
    {
     "data": {
      "text/plain": [
       "0"
      ]
     },
     "execution_count": 410,
     "metadata": {},
     "output_type": "execute_result"
    }
   ],
   "source": [
    "margin_sum(x, W, delta)"
   ]
  },
  {
   "cell_type": "markdown",
   "metadata": {},
   "source": [
    "# Gradient Decent"
   ]
  },
  {
   "cell_type": "code",
   "execution_count": 411,
   "metadata": {},
   "outputs": [],
   "source": [
    "#X[0,:][:, np.newaxis].shape"
   ]
  },
  {
   "cell_type": "code",
   "execution_count": 425,
   "metadata": {},
   "outputs": [],
   "source": [
    "def svm_loss_naive(W, x, y, reg):\n",
    "    dW = np.zeros(W.shape) \n",
    "  \n",
    "    # ロスと勾配を計算 \n",
    "    num_classes = W.shape[1]\n",
    "    num_train = X.shape[0]\n",
    "    loss = 0.0\n",
    "    for i in range(num_train):\n",
    "        scores = X[i,:].dot(W)\n",
    "        #print(scores)\n",
    "        correct_class_score = scores[y[i]]\n",
    "        #print(correct_class_score)\n",
    "        for j in range(num_classes):\n",
    "            if j == y[i]:\n",
    "                continue\n",
    "            margin_sum = scores[j] - correct_class_score + 1 \n",
    "            if margin_sum > 0:\n",
    "                loss += margin_sum\n",
    "                #print(dW[:,y[i]].shape)\n",
    "                #print(X[i,:].shape)\n",
    "                dW[:,y[i]] -= X[i,:][:, np.newaxis]\n",
    "                dW[:,j] += X[i,:]\n",
    "\n",
    "    # Averaging over all examples\n",
    "    loss /= num_train\n",
    "    dW /= num_train\n",
    "\n",
    "    # Add regularization\n",
    "    loss += 0.5 * reg * np.sum(W * W)\n",
    "    dW += reg*W\n",
    "    # Wを新しくする\n",
    "    W = W - dW\n",
    "\n",
    "    return loss, dW, W"
   ]
  },
  {
   "cell_type": "code",
   "execution_count": 426,
   "metadata": {},
   "outputs": [],
   "source": [
    "reg = 0.01\n",
    "y = np.array([[-1],[1]])"
   ]
  },
  {
   "cell_type": "code",
   "execution_count": 427,
   "metadata": {
    "scrolled": false
   },
   "outputs": [
    {
     "data": {
      "text/plain": [
       "(array([0.535]), array([[ 0.01,  0.02],\n",
       "        [-0.01,  0.01]]), array([[ 0.99,  1.98],\n",
       "        [-0.99,  0.99]]))"
      ]
     },
     "execution_count": 427,
     "metadata": {},
     "output_type": "execute_result"
    }
   ],
   "source": [
    "svm_loss_naive(W, x, y, reg)"
   ]
  },
  {
   "cell_type": "code",
   "execution_count": null,
   "metadata": {},
   "outputs": [],
   "source": []
  }
 ],
 "metadata": {
  "kernelspec": {
   "display_name": "Python 3",
   "language": "python",
   "name": "python3"
  },
  "language_info": {
   "codemirror_mode": {
    "name": "ipython",
    "version": 3
   },
   "file_extension": ".py",
   "mimetype": "text/x-python",
   "name": "python",
   "nbconvert_exporter": "python",
   "pygments_lexer": "ipython3",
   "version": "3.6.0"
  },
  "latex_envs": {
   "LaTeX_envs_menu_present": true,
   "autoclose": false,
   "autocomplete": true,
   "bibliofile": "biblio.bib",
   "cite_by": "apalike",
   "current_citInitial": 1,
   "eqLabelWithNumbers": true,
   "eqNumInitial": 1,
   "hotkeys": {
    "equation": "Ctrl-E",
    "itemize": "Ctrl-I"
   },
   "labels_anchors": false,
   "latex_user_defs": false,
   "report_style_numbering": false,
   "user_envs_cfg": false
  },
  "toc": {
   "base_numbering": 1,
   "nav_menu": {},
   "number_sections": true,
   "sideBar": true,
   "skip_h1_title": false,
   "title_cell": "Table of Contents",
   "title_sidebar": "Contents",
   "toc_cell": false,
   "toc_position": {
    "height": "calc(100% - 180px)",
    "left": "10px",
    "top": "150px",
    "width": "202.796875px"
   },
   "toc_section_display": true,
   "toc_window_display": true
  }
 },
 "nbformat": 4,
 "nbformat_minor": 2
}
