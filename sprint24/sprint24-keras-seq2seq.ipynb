{
 "cells": [
  {
   "cell_type": "markdown",
   "metadata": {},
   "source": [
    "# 練習：Kerasで動かせるようにする（seq2seq）"
   ]
  },
  {
   "cell_type": "markdown",
   "metadata": {},
   "source": [
    "## Import"
   ]
  },
  {
   "cell_type": "code",
   "execution_count": 1,
   "metadata": {},
   "outputs": [
    {
     "name": "stderr",
     "output_type": "stream",
     "text": [
      "Using TensorFlow backend.\n"
     ]
    }
   ],
   "source": [
    "from seq2seq.models import SimpleSeq2Seq\n",
    "import numpy as np\n",
    "import matplotlib.pylab as plt"
   ]
  },
  {
   "cell_type": "markdown",
   "metadata": {},
   "source": [
    "## シンプルな Seq2Seq モデルを構築"
   ]
  },
  {
   "cell_type": "code",
   "execution_count": 2,
   "metadata": {},
   "outputs": [],
   "source": [
    "model = SimpleSeq2Seq(input_dim=1, hidden_dim=10, output_length=8, output_dim=1)"
   ]
  },
  {
   "cell_type": "markdown",
   "metadata": {},
   "source": [
    "## 学習の設定"
   ]
  },
  {
   "cell_type": "code",
   "execution_count": 3,
   "metadata": {},
   "outputs": [],
   "source": [
    "model.compile(loss='mse', optimizer='rmsprop')"
   ]
  },
  {
   "cell_type": "markdown",
   "metadata": {},
   "source": [
    "## データ作成"
   ]
  },
  {
   "cell_type": "code",
   "execution_count": 4,
   "metadata": {},
   "outputs": [],
   "source": [
    "# 入力：1000パターンの位相を持つ一次元のサイン波\n",
    "# 出力：各入力の逆位相のサイン波\n",
    "a = np.random.random(1000)\n",
    "x = np.array([np.sin([[p] for p in np.arange(0, 0.8, 0.1)] + aa) for aa in a])\n",
    "y = -x"
   ]
  },
  {
   "cell_type": "markdown",
   "metadata": {},
   "source": [
    "## 学習"
   ]
  },
  {
   "cell_type": "code",
   "execution_count": 5,
   "metadata": {},
   "outputs": [
    {
     "name": "stderr",
     "output_type": "stream",
     "text": [
      "/Users/szkhome/.pyenv/versions/anaconda3-4.3.0/lib/python3.6/site-packages/ipykernel_launcher.py:1: UserWarning: The `nb_epoch` argument in `fit` has been renamed `epochs`.\n",
      "  \"\"\"Entry point for launching an IPython kernel.\n"
     ]
    },
    {
     "name": "stdout",
     "output_type": "stream",
     "text": [
      "Epoch 1/5\n",
      "1000/1000 [==============================] - 3s 3ms/step - loss: 0.5298\n",
      "Epoch 2/5\n",
      "1000/1000 [==============================] - 1s 893us/step - loss: 0.5001\n",
      "Epoch 3/5\n",
      "1000/1000 [==============================] - 1s 859us/step - loss: 0.4634\n",
      "Epoch 4/5\n",
      "1000/1000 [==============================] - 1s 869us/step - loss: 0.4158\n",
      "Epoch 5/5\n",
      "1000/1000 [==============================] - 1s 1ms/step - loss: 0.3567\n"
     ]
    },
    {
     "data": {
      "text/plain": [
       "<keras.callbacks.History at 0xb2f5c7e10>"
      ]
     },
     "execution_count": 5,
     "metadata": {},
     "output_type": "execute_result"
    }
   ],
   "source": [
    "model.fit(x, y, nb_epoch=5, batch_size=32)"
   ]
  },
  {
   "cell_type": "markdown",
   "metadata": {},
   "source": [
    "## 未学習のデータでテスト"
   ]
  },
  {
   "cell_type": "code",
   "execution_count": 6,
   "metadata": {},
   "outputs": [
    {
     "name": "stdout",
     "output_type": "stream",
     "text": [
      "10/10 [==============================] - 0s 42ms/step\n",
      "0.29976776242256165\n"
     ]
    }
   ],
   "source": [
    "x_test = np.array([np.sin([[p] for p in np.arange(0, 0.8, 0.1)] + aa) for aa in np.arange(0, 1.0, 0.1)])\n",
    "y_test = -x_test\n",
    "print(model.evaluate(x_test, y_test, batch_size=32))"
   ]
  },
  {
   "cell_type": "markdown",
   "metadata": {},
   "source": [
    "## 未学習のデータで生成"
   ]
  },
  {
   "cell_type": "code",
   "execution_count": 7,
   "metadata": {},
   "outputs": [
    {
     "data": {
      "image/png": "[encoded data removed]",
      "text/plain": [
       "<matplotlib.figure.Figure at 0xb31f48630>"
      ]
     },
     "metadata": {},
     "output_type": "display_data"
    }
   ],
   "source": [
    "predicted = model.predict(x_test, batch_size=32)\n",
    "\n",
    "plt.plot(np.arange(0, 0.8, 0.1), [xx[0] for xx in x_test[9]])\n",
    "plt.plot(np.arange(0, 0.8, 0.1), [xx[0] for xx in predicted[9]])\n",
    "plt.show()"
   ]
  },
  {
   "cell_type": "markdown",
   "metadata": {},
   "source": [
    "# 本番：日付データセットをAttentionでやる\n",
    "global attentionという言葉があり、このリンクが勉強になる。https://www.slideshare.net/yutakikuchi927/deep-learning-nlp-attention"
   ]
  },
  {
   "cell_type": "markdown",
   "metadata": {},
   "source": [
    "## 日付データセットを用意する(世界中の日付の表し方trainとvalidationデータに)"
   ]
  },
  {
   "cell_type": "code",
   "execution_count": 16,
   "metadata": {},
   "outputs": [
    {
     "data": {
      "text/html": [
       "<div>\n",
       "<table border=\"1\" class=\"dataframe\">\n",
       "  <thead>\n",
       "    <tr style=\"text-align: right;\">\n",
       "      <th></th>\n",
       "      <th>12, sept 2010</th>\n",
       "      <th>2010-09-12</th>\n",
       "    </tr>\n",
       "  </thead>\n",
       "  <tbody>\n",
       "    <tr>\n",
       "      <th>0</th>\n",
       "      <td>DISEMBA 14 1992</td>\n",
       "      <td>1992-12-14</td>\n",
       "    </tr>\n",
       "    <tr>\n",
       "      <th>1</th>\n",
       "      <td>8 JUN 1999</td>\n",
       "      <td>1999-06-08</td>\n",
       "    </tr>\n",
       "    <tr>\n",
       "      <th>2</th>\n",
       "      <td>11.03.00</td>\n",
       "      <td>2000-03-11</td>\n",
       "    </tr>\n",
       "    <tr>\n",
       "      <th>3</th>\n",
       "      <td>16 June 1979</td>\n",
       "      <td>1979-06-16</td>\n",
       "    </tr>\n",
       "    <tr>\n",
       "      <th>4</th>\n",
       "      <td>лютага 1, 1988</td>\n",
       "      <td>1988-02-01</td>\n",
       "    </tr>\n",
       "    <tr>\n",
       "      <th>5</th>\n",
       "      <td>19.06.91</td>\n",
       "      <td>1991-06-19</td>\n",
       "    </tr>\n",
       "    <tr>\n",
       "      <th>6</th>\n",
       "      <td>12 јанвар 1981</td>\n",
       "      <td>1981-01-12</td>\n",
       "    </tr>\n",
       "    <tr>\n",
       "      <th>7</th>\n",
       "      <td>30 Mpandula, 2015</td>\n",
       "      <td>2015-09-30</td>\n",
       "    </tr>\n",
       "    <tr>\n",
       "      <th>8</th>\n",
       "      <td>8 juil. 1996</td>\n",
       "      <td>1996-07-08</td>\n",
       "    </tr>\n",
       "    <tr>\n",
       "      <th>9</th>\n",
       "      <td>27 ژوئن 2017</td>\n",
       "      <td>2017-06-27</td>\n",
       "    </tr>\n",
       "  </tbody>\n",
       "</table>\n",
       "</div>"
      ],
      "text/plain": [
       "       12, sept 2010  2010-09-12\n",
       "0    DISEMBA 14 1992  1992-12-14\n",
       "1         8 JUN 1999  1999-06-08\n",
       "2           11.03.00  2000-03-11\n",
       "3       16 June 1979  1979-06-16\n",
       "4     лютага 1, 1988  1988-02-01\n",
       "5           19.06.91  1991-06-19\n",
       "6     12 јанвар 1981  1981-01-12\n",
       "7  30 Mpandula, 2015  2015-09-30\n",
       "8       8 juil. 1996  1996-07-08\n",
       "9       27 ژوئن 2017  2017-06-27"
      ]
     },
     "execution_count": 16,
     "metadata": {},
     "output_type": "execute_result"
    }
   ],
   "source": [
    "import pandas as pd\n",
    "\n",
    "# CSV ファイルを読み込み\n",
    "train = pd.read_csv(\"./data/training.csv\")\n",
    "train.head(10)"
   ]
  },
  {
   "cell_type": "code",
   "execution_count": 17,
   "metadata": {},
   "outputs": [
    {
     "data": {
      "text/html": [
       "<div>\n",
       "<table border=\"1\" class=\"dataframe\">\n",
       "  <thead>\n",
       "    <tr style=\"text-align: right;\">\n",
       "      <th></th>\n",
       "      <th>22, XNT 2017</th>\n",
       "      <th>2017-07-22</th>\n",
       "    </tr>\n",
       "  </thead>\n",
       "  <tbody>\n",
       "    <tr>\n",
       "      <th>0</th>\n",
       "      <td>13/5/1974</td>\n",
       "      <td>1974-05-13</td>\n",
       "    </tr>\n",
       "    <tr>\n",
       "      <th>1</th>\n",
       "      <td>sierpnia 10 1988</td>\n",
       "      <td>1988-08-10</td>\n",
       "    </tr>\n",
       "    <tr>\n",
       "      <th>2</th>\n",
       "      <td>14 mei 2002</td>\n",
       "      <td>2002-05-14</td>\n",
       "    </tr>\n",
       "    <tr>\n",
       "      <th>3</th>\n",
       "      <td>14 02 10</td>\n",
       "      <td>2010-02-14</td>\n",
       "    </tr>\n",
       "    <tr>\n",
       "      <th>4</th>\n",
       "      <td>06 Lush 2012</td>\n",
       "      <td>2012-08-06</td>\n",
       "    </tr>\n",
       "    <tr>\n",
       "      <th>5</th>\n",
       "      <td>22, जून 1982</td>\n",
       "      <td>1982-06-22</td>\n",
       "    </tr>\n",
       "    <tr>\n",
       "      <th>6</th>\n",
       "      <td>02 Oct 1974</td>\n",
       "      <td>1974-10-02</td>\n",
       "    </tr>\n",
       "    <tr>\n",
       "      <th>7</th>\n",
       "      <td>1971年2月15日</td>\n",
       "      <td>1971-02-15</td>\n",
       "    </tr>\n",
       "    <tr>\n",
       "      <th>8</th>\n",
       "      <td>23 ଅକ୍ଟୋବର, 1996</td>\n",
       "      <td>1996-10-23</td>\n",
       "    </tr>\n",
       "    <tr>\n",
       "      <th>9</th>\n",
       "      <td>March 21 1988</td>\n",
       "      <td>1988-03-21</td>\n",
       "    </tr>\n",
       "  </tbody>\n",
       "</table>\n",
       "</div>"
      ],
      "text/plain": [
       "       22, XNT 2017  2017-07-22\n",
       "0         13/5/1974  1974-05-13\n",
       "1  sierpnia 10 1988  1988-08-10\n",
       "2       14 mei 2002  2002-05-14\n",
       "3          14 02 10  2010-02-14\n",
       "4      06 Lush 2012  2012-08-06\n",
       "5      22, जून 1982  1982-06-22\n",
       "6       02 Oct 1974  1974-10-02\n",
       "7        1971年2月15日  1971-02-15\n",
       "8  23 ଅକ୍ଟୋବର, 1996  1996-10-23\n",
       "9     March 21 1988  1988-03-21"
      ]
     },
     "execution_count": 17,
     "metadata": {},
     "output_type": "execute_result"
    }
   ],
   "source": [
    "# CSV ファイルを読み込み\n",
    "validation = pd.read_csv(\"./data/validation.csv\")\n",
    "validation.head(10)"
   ]
  },
  {
   "cell_type": "markdown",
   "metadata": {},
   "source": [
    "## KerasでAttentionを実装する"
   ]
  },
  {
   "cell_type": "code",
   "execution_count": 21,
   "metadata": {},
   "outputs": [
    {
     "name": "stdout",
     "output_type": "stream",
     "text": [
      "inputs shape: (?, ?, 512)\n",
      "_________________________________________________________________\n",
      "Layer (type)                 Output Shape              Param #   \n",
      "=================================================================\n",
      "input_44 (InputLayer)        (None, 100)               0         \n",
      "_________________________________________________________________\n",
      "OneHot (Embedding)           (None, 100, 105)          11025     \n",
      "_________________________________________________________________\n",
      "bidirectional_1 (Bidirection (None, 100, 512)          741376    \n",
      "_________________________________________________________________\n",
      "attention_decoder_1 (Attenti (None, 100, 6)            928042    \n",
      "=================================================================\n",
      "Total params: 1,680,443\n",
      "Trainable params: 1,669,418\n",
      "Non-trainable params: 11,025\n",
      "_________________________________________________________________\n"
     ]
    }
   ],
   "source": [
    "import numpy as np\n",
    "import os\n",
    "from keras.models import Model\n",
    "from keras.layers import Dense, Embedding, Activation, Permute\n",
    "from keras.layers import Input, Flatten, Dropout\n",
    "from keras.layers.recurrent import LSTM\n",
    "from keras.layers.wrappers import TimeDistributed, Bidirectional\n",
    "from models.custom_recurrents import AttentionDecoder #Attention 部分らしい\n",
    "\n",
    "\n",
    "def simpleNMT(pad_length=100, #input sequenceの長さサイズ\n",
    "              n_chars=105,#Vocabの中の文字の数\n",
    "              n_labels=6,#可能性のあるラベリング種数\n",
    "              embedding_learnable=False,\n",
    "              encoder_units=256,\n",
    "              decoder_units=256,\n",
    "              trainable=True,\n",
    "              return_probabilities=False):\n",
    "\n",
    "    input_ = Input(shape=(pad_length,), dtype='float32')\n",
    "    input_embed = Embedding(n_chars, n_chars,\n",
    "                            input_length=pad_length,\n",
    "                            trainable=embedding_learnable,\n",
    "                            weights=[np.eye(n_chars)],\n",
    "                            name='OneHot')(input_)\n",
    "\n",
    "    rnn_encoded = Bidirectional(LSTM(encoder_units, return_sequences=True),\n",
    "                                name='bidirectional_1',\n",
    "                                merge_mode='concat',\n",
    "                                trainable=trainable)(input_embed)\n",
    "\n",
    "    y_hat = AttentionDecoder(decoder_units,\n",
    "                             name='attention_decoder_1',\n",
    "                             output_dim=n_labels,\n",
    "                             return_probabilities=return_probabilities,\n",
    "                             trainable=trainable)(rnn_encoded)\n",
    "\n",
    "    model = Model(inputs=input_, outputs=y_hat)\n",
    "\n",
    "    return model\n",
    "\n",
    "\n",
    "if __name__ == '__main__':\n",
    "    model = simpleNMT()\n",
    "    model.summary()\n"
   ]
  },
  {
   "cell_type": "markdown",
   "metadata": {},
   "source": [
    "## 訓練する"
   ]
  },
  {
   "cell_type": "code",
   "execution_count": 23,
   "metadata": {},
   "outputs": [],
   "source": [
    "import os\n",
    "import argparse\n",
    "\n",
    "from keras.callbacks import ModelCheckpoint\n",
    "\n",
    "from models.NMT import simpleNMT\n",
    "from data.reader import Data, Vocabulary\n",
    "from utils.metrics import all_acc\n",
    "from utils.examples import run_examples"
   ]
  },
  {
   "cell_type": "code",
   "execution_count": 26,
   "metadata": {},
   "outputs": [],
   "source": [
    "cp = ModelCheckpoint(\"./weights/NMT.{epoch:02d}-{val_loss:.2f}.hdf5\",\n",
    "                     monitor='val_loss',\n",
    "                     verbose=0,\n",
    "                     save_best_only=True,\n",
    "                     save_weights_only=True,\n",
    "                     mode='auto')\n",
    "\n",
    "# create a directory if it doesn't already exist\n",
    "if not os.path.exists('./weights'):\n",
    "    os.makedirs('./weights/')"
   ]
  },
  {
   "cell_type": "code",
   "execution_count": 35,
   "metadata": {},
   "outputs": [],
   "source": [
    "# Dataset functions\n",
    "input_vocab = Vocabulary('./data/human_vocab.json', padding=50)\n",
    "output_vocab = Vocabulary('./data/machine_vocab.json', padding=50)\n",
    "\n"
   ]
  },
  {
   "cell_type": "code",
   "execution_count": 36,
   "metadata": {},
   "outputs": [],
   "source": [
    "training_data='./data/training.csv'\n",
    "validation_data='./data/validation.csv'\n"
   ]
  },
  {
   "cell_type": "code",
   "execution_count": 37,
   "metadata": {},
   "outputs": [
    {
     "name": "stdout",
     "output_type": "stream",
     "text": [
      "Datasets Loaded.\n",
      "Compiling Model.\n"
     ]
    }
   ],
   "source": [
    "\n",
    "training = Data(training_data, input_vocab, output_vocab)\n",
    "validation = Data(validation_data, input_vocab, output_vocab)\n",
    "training.load()\n",
    "validation.load()\n",
    "training.transform()\n",
    "validation.transform()\n",
    "print('Datasets Loaded.')\n",
    "print('Compiling Model.')"
   ]
  },
  {
   "cell_type": "code",
   "execution_count": 42,
   "metadata": {},
   "outputs": [
    {
     "name": "stdout",
     "output_type": "stream",
     "text": [
      "inputs shape: (?, ?, 512)\n",
      "_________________________________________________________________\n",
      "Layer (type)                 Output Shape              Param #   \n",
      "=================================================================\n",
      "input_46 (InputLayer)        (None, 50)                0         \n",
      "_________________________________________________________________\n",
      "OneHot (Embedding)           (None, 50, 1367)          1868689   \n",
      "_________________________________________________________________\n",
      "bidirectional_1 (Bidirection (None, 50, 512)           3325952   \n",
      "_________________________________________________________________\n",
      "attention_decoder_1 (Attenti (None, 50, 13)            938934    \n",
      "=================================================================\n",
      "Total params: 6,133,575\n",
      "Trainable params: 4,264,886\n",
      "Non-trainable params: 1,868,689\n",
      "_________________________________________________________________\n",
      "Model Compiled.\n",
      "Training. Ctrl+C to end early.\n"
     ]
    }
   ],
   "source": [
    "model = simpleNMT(pad_length=50,\n",
    "                  n_chars=input_vocab.size(),\n",
    "                  n_labels=output_vocab.size(),\n",
    "                  embedding_learnable=False,\n",
    "                  encoder_units=256,\n",
    "                  decoder_units=256,\n",
    "                  trainable=True,\n",
    "                  return_probabilities=False)\n",
    "\n",
    "model.summary()\n",
    "model.compile(optimizer='adam',loss='categorical_crossentropy',metrics=['accuracy', all_acc])\n",
    "print('Model Compiled.')\n",
    "print('Training. Ctrl+C to end early.')\n",
    "\n"
   ]
  },
  {
   "cell_type": "code",
   "execution_count": 43,
   "metadata": {},
   "outputs": [
    {
     "name": "stdout",
     "output_type": "stream",
     "text": [
      "Epoch 1/1\n",
      "100/100 [==============================] - 4164s 42s/step - loss: 0.5454 - acc: 0.8362 - all_acc: 0.0000e+00 - val_loss: 0.3394 - val_acc: 0.8771 - val_all_acc: 0.0000e+00\n"
     ]
    },
    {
     "data": {
      "text/plain": [
       "<keras.callbacks.History at 0xb5d44f400>"
      ]
     },
     "execution_count": 43,
     "metadata": {},
     "output_type": "execute_result"
    }
   ],
   "source": [
    "model.fit_generator(generator=training.generator(32),\n",
    "                    steps_per_epoch=100,\n",
    "                    validation_data=validation.generator(32),\n",
    "                    validation_steps=100,\n",
    "                    callbacks=[cp],\n",
    "                    workers=1,\n",
    "                    verbose=1,\n",
    "                    epochs=1)"
   ]
  },
  {
   "cell_type": "code",
   "execution_count": null,
   "metadata": {},
   "outputs": [],
   "source": [
    "#時間がかかるため、１epochで終了とした"
   ]
  }
 ],
 "metadata": {
  "kernelspec": {
   "display_name": "Python 3",
   "language": "python",
   "name": "python3"
  },
  "language_info": {
   "codemirror_mode": {
    "name": "ipython",
    "version": 3
   },
   "file_extension": ".py",
   "mimetype": "text/x-python",
   "name": "python",
   "nbconvert_exporter": "python",
   "pygments_lexer": "ipython3",
   "version": "3.6.6"
  },
  "latex_envs": {
   "LaTeX_envs_menu_present": true,
   "autoclose": false,
   "autocomplete": true,
   "bibliofile": "biblio.bib",
   "cite_by": "apalike",
   "current_citInitial": 1,
   "eqLabelWithNumbers": true,
   "eqNumInitial": 1,
   "hotkeys": {
    "equation": "Ctrl-E",
    "itemize": "Ctrl-I"
   },
   "labels_anchors": false,
   "latex_user_defs": false,
   "report_style_numbering": false,
   "user_envs_cfg": false
  },
  "toc": {
   "base_numbering": 1,
   "nav_menu": {},
   "number_sections": true,
   "sideBar": true,
   "skip_h1_title": false,
   "title_cell": "Table of Contents",
   "title_sidebar": "Contents",
   "toc_cell": false,
   "toc_position": {},
   "toc_section_display": true,
   "toc_window_display": true
  }
 },
 "nbformat": 4,
 "nbformat_minor": 2
}
