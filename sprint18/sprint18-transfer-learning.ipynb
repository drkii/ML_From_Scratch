{
 "cells": [
  {
   "cell_type": "markdown",
   "metadata": {},
   "source": [
    "# sprint15-Transfer-Learning"
   ]
  },
  {
   "cell_type": "code",
   "execution_count": 1,
   "metadata": {},
   "outputs": [
    {
     "data": {
      "text/plain": [
       "'/home/ubuntu/DIC/fruits'"
      ]
     },
     "execution_count": 1,
     "metadata": {},
     "output_type": "execute_result"
    }
   ],
   "source": [
    "import os\n",
    "#画像を読むためにパスを取得する\n",
    "path = \"/home/ubuntu/DIC/fruits/\"\n",
    "os.chdir(path)\n",
    "os.getcwd()"
   ]
  },
  {
   "cell_type": "markdown",
   "metadata": {},
   "source": [
    "# 1.1 Importする"
   ]
  },
  {
   "cell_type": "code",
   "execution_count": 2,
   "metadata": {},
   "outputs": [
    {
     "name": "stderr",
     "output_type": "stream",
     "text": [
      "Using TensorFlow backend.\n"
     ]
    }
   ],
   "source": [
    "import numpy as np\n",
    "import keras\n",
    "from keras.applications.vgg16 import VGG16\n",
    "from keras.preprocessing.image import ImageDataGenerator\n",
    "\n",
    "base_dir = '/home/ubuntu/DIC/out/'\n",
    "prefix = 'vgg16'\n",
    "n_train_samples = 2000\n",
    "train_file_name = 'bottleneck_features_train.npy'\n",
    "\n",
    "n_validation_samples = 800\n",
    "validation_file_name = 'bottleneck_features_validation.npy'"
   ]
  },
  {
   "cell_type": "code",
   "execution_count": 3,
   "metadata": {},
   "outputs": [],
   "source": [
    "import sys"
   ]
  },
  {
   "cell_type": "code",
   "execution_count": 4,
   "metadata": {},
   "outputs": [
    {
     "data": {
      "text/plain": [
       "'/home/ubuntu/anaconda3/envs/tensorflow_p36/bin/python'"
      ]
     },
     "execution_count": 4,
     "metadata": {},
     "output_type": "execute_result"
    }
   ],
   "source": [
    "sys.executable"
   ]
  },
  {
   "cell_type": "markdown",
   "metadata": {},
   "source": [
    "# 1-1. image dataからBottleneck Features data を作る "
   ]
  },
  {
   "cell_type": "code",
   "execution_count": 5,
   "metadata": {
    "scrolled": false
   },
   "outputs": [
    {
     "name": "stdout",
     "output_type": "stream",
     "text": [
      "_________________________________________________________________\n",
      "Layer (type)                 Output Shape              Param #   \n",
      "=================================================================\n",
      "input_1 (InputLayer)         (None, None, None, 3)     0         \n",
      "_________________________________________________________________\n",
      "block1_conv1 (Conv2D)        (None, None, None, 64)    1792      \n",
      "_________________________________________________________________\n",
      "block1_conv2 (Conv2D)        (None, None, None, 64)    36928     \n",
      "_________________________________________________________________\n",
      "block1_pool (MaxPooling2D)   (None, None, None, 64)    0         \n",
      "_________________________________________________________________\n",
      "block2_conv1 (Conv2D)        (None, None, None, 128)   73856     \n",
      "_________________________________________________________________\n",
      "block2_conv2 (Conv2D)        (None, None, None, 128)   147584    \n",
      "_________________________________________________________________\n",
      "block2_pool (MaxPooling2D)   (None, None, None, 128)   0         \n",
      "_________________________________________________________________\n",
      "block3_conv1 (Conv2D)        (None, None, None, 256)   295168    \n",
      "_________________________________________________________________\n",
      "block3_conv2 (Conv2D)        (None, None, None, 256)   590080    \n",
      "_________________________________________________________________\n",
      "block3_conv3 (Conv2D)        (None, None, None, 256)   590080    \n",
      "_________________________________________________________________\n",
      "block3_pool (MaxPooling2D)   (None, None, None, 256)   0         \n",
      "_________________________________________________________________\n",
      "block4_conv1 (Conv2D)        (None, None, None, 512)   1180160   \n",
      "_________________________________________________________________\n",
      "block4_conv2 (Conv2D)        (None, None, None, 512)   2359808   \n",
      "_________________________________________________________________\n",
      "block4_conv3 (Conv2D)        (None, None, None, 512)   2359808   \n",
      "_________________________________________________________________\n",
      "block4_pool (MaxPooling2D)   (None, None, None, 512)   0         \n",
      "_________________________________________________________________\n",
      "block5_conv1 (Conv2D)        (None, None, None, 512)   2359808   \n",
      "_________________________________________________________________\n",
      "block5_conv2 (Conv2D)        (None, None, None, 512)   2359808   \n",
      "_________________________________________________________________\n",
      "block5_conv3 (Conv2D)        (None, None, None, 512)   2359808   \n",
      "_________________________________________________________________\n",
      "block5_pool (MaxPooling2D)   (None, None, None, 512)   0         \n",
      "=================================================================\n",
      "Total params: 14,714,688\n",
      "Trainable params: 14,714,688\n",
      "Non-trainable params: 0\n",
      "_________________________________________________________________\n",
      "Found 41322 images belonging to 81 classes.\n",
      "Found 13877 images belonging to 81 classes.\n",
      "2000/2000 [==============================] - 388s 194ms/step\n",
      "800/800 [==============================] - 155s 194ms/step\n"
     ]
    }
   ],
   "source": [
    "# VGG16 model & weight\n",
    "model = VGG16(include_top=False, weights='imagenet')\n",
    "model.summary()\n",
    "\n",
    "#重みを学習させないようにする\n",
    "model.trainable = False\n",
    "\n",
    "# imageデータをNumpy配列に変換：imageDataGeneratorを使用して\n",
    "## flow_from_directoryは、ディレクトリごと指定できる\n",
    "image_data_generator = ImageDataGenerator(rescale=1.0/255)\n",
    "train_data = image_data_generator.flow_from_directory(\n",
    "    './Training',\n",
    "    target_size=(100, 100),\n",
    "    batch_size=32,\n",
    "    class_mode=None,\n",
    "    shuffle=False\n",
    ")\n",
    "\n",
    "## validation data \n",
    "image_data_generator = ImageDataGenerator(rescale=1.0/255)\n",
    "validation_data = image_data_generator.flow_from_directory(\n",
    "    './Test',\n",
    "    target_size=(100, 100),\n",
    "    batch_size=32,\n",
    "    class_mode=None,\n",
    "    shuffle=False\n",
    ")\n",
    "\n",
    "# Generate bottleneck featuresata using VGG16\n",
    "## training data\n",
    "bottleneck_feature_train = model.predict_generator(train_data, n_train_samples, verbose=1)\n",
    "\n",
    "## validation data \n",
    "bottleneck_feature_validation = model.predict_generator(validation_data, n_validation_samples, verbose=1)\n",
    "\n",
    "# Save bottleneck features training data\n",
    "## traning data\n",
    "np.save(base_dir + prefix + train_file_name, bottleneck_feature_train)\n",
    "\n",
    "## validation data\n",
    "np.save(base_dir + prefix + validation_file_name, bottleneck_feature_validation)"
   ]
  },
  {
   "cell_type": "markdown",
   "metadata": {},
   "source": [
    "# 1-2. ボトルネック層のデータをロードする"
   ]
  },
  {
   "cell_type": "code",
   "execution_count": null,
   "metadata": {},
   "outputs": [],
   "source": [
    "#Trainの方"
   ]
  },
  {
   "cell_type": "code",
   "execution_count": 45,
   "metadata": {},
   "outputs": [
    {
     "name": "stdout",
     "output_type": "stream",
     "text": [
      "['Peach', 'Cantaloupe 1', 'Grape White', 'Papaya', 'Tomato 1', 'Cherry 2', 'Pear Monster', 'Mulberry', 'Cantaloupe 2', 'Apple Golden 1', 'Cherry Rainier', 'Walnut', 'Apple Red Delicious', 'Guava', 'Kiwi', 'Cactus fruit', 'Salak', 'Avocado ripe', 'Apricot', 'Apple Red Yellow', 'Quince', 'Physalis', 'Tangelo', 'Cherry 1', 'Tomato Maroon', 'Passion Fruit', 'Cherry Wax Red', 'Maracuja', 'Kumquats', 'Grapefruit Pink', 'Apple Granny Smith', 'Huckleberry', 'Tomato 4', 'Apple Red 2', 'Pineapple', 'Apple Red 1', 'Grape White 2', 'Avocado', 'Pitahaya Red', 'Nectarine', 'Pomegranate', 'Carambula', 'Strawberry Wedge', 'Mango', 'Kaki', 'Rambutan', 'Tomato 2', 'Dates', 'Granadilla', 'Lemon Meyer', 'Lychee', 'Peach Flat', 'Limes', 'Banana', 'Clementine', 'Tomato 3', 'Melon Piel de Sapo', 'Orange', 'Apple Golden 3', 'Pepino', 'Banana Red', 'Physalis with Husk', 'Apple Golden 2', 'Apple Braeburn', 'Pear', 'Cherry Wax Yellow', 'Apple Red 3', 'Raspberry', 'Strawberry', 'Cherry Wax Black', 'Mandarine', 'Pear Abate', 'Pineapple Mini', 'Lemon', 'Tomato Cherry Red', 'Plum', 'Grapefruit White', 'Pear Williams', 'Tamarillo', 'Grape Pink', 'Cocos']\n"
     ]
    }
   ],
   "source": [
    "#画像の分類を作るために分類ごとのディレクトリ名をリストにする\n",
    "path = \"/home/ubuntu/DIC/fruits/Training\"\n",
    "os.chdir(path)\n",
    "cwd = os.getcwd()\n",
    "listdir =os.listdir('./')\n",
    "print(listdir)"
   ]
  },
  {
   "cell_type": "code",
   "execution_count": 46,
   "metadata": {},
   "outputs": [],
   "source": [
    "from PIL import Image\n",
    "import os, glob\n",
    "import numpy as np\n",
    "#from sklearn import cross_validation\n",
    "\n",
    "classes = listdir\n",
    "num_classes = len(classes)\n",
    "image_size = 100\n",
    "\n",
    "# 画像の読み込み\n",
    "\n",
    "train_data=[]\n",
    "train_labels=[]\n",
    "for index, classlabel in enumerate(classes):\n",
    "    photos_dir = \"/home/ubuntu/DIC/fruits/Training/\" + classlabel\n",
    "    files = glob.glob(photos_dir +\"/*.jpg\")\n",
    "    #files = glob.glob(photos_dir + \"/home/ubuntu/DIC/fruits/Training/*.jpg\")\n",
    "    for i, file in enumerate(files):\n",
    "        if i >= 10000: break\n",
    "        image = Image.open(file)\n",
    "        image = image.convert('RGB') #GrayScale を指定（注意としてはLをしているするともともと次元がなくなる）\n",
    "        image = image.resize((image_size, image_size))\n",
    "        data = np.asarray(image)\n",
    "        train_data.append(data)\n",
    "        train_labels.append(index)\n",
    "\n",
    "train_data = np.array(train_data)\n",
    "train_labels = np.array(train_labels)"
   ]
  },
  {
   "cell_type": "code",
   "execution_count": 56,
   "metadata": {},
   "outputs": [
    {
     "data": {
      "text/plain": [
       "(41322, 81)"
      ]
     },
     "execution_count": 56,
     "metadata": {},
     "output_type": "execute_result"
    }
   ],
   "source": [
    "#One-hot\n",
    "output_size=len(set(train_labels))\n",
    "output_size\n",
    "train_labels=np.identity(output_size)[train_labels]\n",
    "train_labels.shape"
   ]
  },
  {
   "cell_type": "code",
   "execution_count": 47,
   "metadata": {},
   "outputs": [],
   "source": [
    "#Test"
   ]
  },
  {
   "cell_type": "code",
   "execution_count": 48,
   "metadata": {},
   "outputs": [
    {
     "name": "stdout",
     "output_type": "stream",
     "text": [
      "['Peach', 'Cantaloupe 1', 'Grape White', 'Papaya', 'Tomato 1', 'Cherry 2', 'Pear Monster', 'Mulberry', 'Cantaloupe 2', 'Apple Golden 1', 'Cherry Rainier', 'Walnut', 'Apple Red Delicious', 'Guava', 'Kiwi', 'Cactus fruit', 'Salak', 'Avocado ripe', 'Apricot', 'Apple Red Yellow', 'Quince', 'Physalis', 'Tangelo', 'Cherry 1', 'Tomato Maroon', 'Passion Fruit', 'Cherry Wax Red', 'Maracuja', 'Kumquats', 'Grapefruit Pink', 'Apple Granny Smith', 'Huckleberry', 'Tomato 4', 'Apple Red 2', 'Pineapple', 'Apple Red 1', 'Grape White 2', 'Avocado', 'Pitahaya Red', 'Nectarine', 'Pomegranate', 'Carambula', 'Strawberry Wedge', 'Mango', 'Kaki', 'Rambutan', 'Tomato 2', 'Dates', 'Granadilla', 'Lemon Meyer', 'Lychee', 'Peach Flat', 'Limes', 'Banana', 'Clementine', 'Tomato 3', 'Melon Piel de Sapo', 'Orange', 'Apple Golden 3', 'Pepino', 'Banana Red', 'Physalis with Husk', 'Apple Golden 2', 'Apple Braeburn', 'Pear', 'Cherry Wax Yellow', 'Apple Red 3', 'Raspberry', 'Strawberry', 'Cherry Wax Black', 'Mandarine', 'Pear Abate', 'Pineapple Mini', 'Lemon', 'Tomato Cherry Red', 'Plum', 'Grapefruit White', 'Pear Williams', 'Tamarillo', 'Grape Pink', 'Cocos']\n"
     ]
    }
   ],
   "source": [
    "#画像の分類を作るために分類ごとのディレクトリ名をリストにする\n",
    "path = \"/home/ubuntu/DIC/fruits/Test\"\n",
    "os.chdir(path)\n",
    "cwd = os.getcwd()\n",
    "listdir_v =os.listdir('./')\n",
    "print(listdir_v)"
   ]
  },
  {
   "cell_type": "code",
   "execution_count": 49,
   "metadata": {},
   "outputs": [],
   "source": [
    "from PIL import Image\n",
    "import os, glob\n",
    "import numpy as np\n",
    "#from sklearn import cross_validation\n",
    "\n",
    "classes = listdir_v\n",
    "num_classes = len(classes)\n",
    "image_size = 100\n",
    "\n",
    "# 画像の読み込み\n",
    "\n",
    "validation_data=[]\n",
    "validation_labels=[]\n",
    "for index, classlabel in enumerate(classes):\n",
    "    photos_dir = \"/home/ubuntu/DIC/fruits/Test/\" + classlabel\n",
    "    files = glob.glob(photos_dir +\"/*.jpg\")\n",
    "    #files = glob.glob(photos_dir + \"/home/ubuntu/DIC/fruits/Training/*.jpg\")\n",
    "    for i, file in enumerate(files):\n",
    "        if i >= 10000: break\n",
    "        image = Image.open(file)\n",
    "        image = image.convert('RGB') #GrayScale を指定（注意としてはLをしているするともともと次元がなくなる）\n",
    "        image = image.resize((image_size, image_size))\n",
    "        data = np.asarray(image)\n",
    "        validation_data.append(data)\n",
    "        validation_labels.append(index)\n",
    "\n",
    "validation_data = np.array(validation_data)\n",
    "validation_labels = np.array(validation_labels)"
   ]
  },
  {
   "cell_type": "code",
   "execution_count": 57,
   "metadata": {},
   "outputs": [
    {
     "data": {
      "text/plain": [
       "(13877, 81)"
      ]
     },
     "execution_count": 57,
     "metadata": {},
     "output_type": "execute_result"
    }
   ],
   "source": [
    "#One-hot\n",
    "output_size=len(set(validation_labels))\n",
    "output_size\n",
    "validation_labels=np.identity(output_size)[validation_labels]\n",
    "validation_labels.shape"
   ]
  },
  {
   "cell_type": "code",
   "execution_count": 58,
   "metadata": {},
   "outputs": [
    {
     "data": {
      "text/plain": [
       "((41322, 100, 100, 3), (41322, 81), (13877, 100, 100, 3), (13877, 81))"
      ]
     },
     "execution_count": 58,
     "metadata": {},
     "output_type": "execute_result"
    }
   ],
   "source": [
    "train_data.shape, train_labels.shape, validation_data.shape, validation_labels.shape"
   ]
  },
  {
   "cell_type": "code",
   "execution_count": 51,
   "metadata": {},
   "outputs": [],
   "source": [
    "#train_data  = np.load(base_dir + prefix + train_file_name)\n",
    "#len_input_samples = len(train_data)\n",
    "#train_labels = np.array([0] * int(len_input_samples/2) + [1] * int(len_input_samples / 2))\n",
    "\n",
    "#validation_data = np.load(base_dir + prefix + validation_file_name)\n",
    "#len_output_samples = len(validation_data)\n",
    "#validation_labels_ = np.array([0] * int(len_output_samples / 2) + [1] * int(len_output_samples / 2))\n",
    "#validation_labels = np.array([0] * int(n_validation_samples / 2 *32) + [1] * int(n_validation_samples / 2 * 32))"
   ]
  },
  {
   "cell_type": "markdown",
   "metadata": {},
   "source": [
    "# 2. モデルを作成しておく"
   ]
  },
  {
   "cell_type": "code",
   "execution_count": 59,
   "metadata": {},
   "outputs": [],
   "source": [
    "from keras.models import Sequential\n",
    "from keras.layers import Dense, Dropout, Flatten\n",
    "from keras import optimizers\n",
    "\n",
    "input_shape = train_data.shape[1:]\n",
    "\n",
    "model = Sequential()\n",
    "model.add(Flatten(input_shape=input_shape))\n",
    "model.add(Dense(256, activation='relu'))\n",
    "model.add(Dropout(0.5))\n",
    "#model.add(Dense(1, activation='sigmoid'))\n",
    "model.add(Dense(81, activation='softmax'))\n",
    "\n",
    "model.compile(loss='binary_crossentropy', optimizer=optimizers.SGD(lr=1e-4, momentum=0.9), metrics=['accuracy'])"
   ]
  },
  {
   "cell_type": "markdown",
   "metadata": {},
   "source": [
    "# 3. Trainモデル（Tensorboard, 重みを保存して）"
   ]
  },
  {
   "cell_type": "code",
   "execution_count": 60,
   "metadata": {},
   "outputs": [
    {
     "name": "stdout",
     "output_type": "stream",
     "text": [
      "Train on 41322 samples, validate on 13877 samples\n",
      "Epoch 1/20\n",
      "41322/41322 [==============================] - 41s 1ms/step - loss: 0.3905 - acc: 0.9756 - val_loss: 0.3917 - val_acc: 0.9756\n",
      "Epoch 2/20\n",
      "41322/41322 [==============================] - 36s 861us/step - loss: 0.3916 - acc: 0.9756 - val_loss: 0.3917 - val_acc: 0.9756\n",
      "Epoch 3/20\n",
      "41322/41322 [==============================] - 36s 859us/step - loss: 0.3917 - acc: 0.9756 - val_loss: 0.3917 - val_acc: 0.9756\n",
      "Epoch 4/20\n",
      "41322/41322 [==============================] - 36s 862us/step - loss: 0.3917 - acc: 0.9756 - val_loss: 0.3917 - val_acc: 0.9756\n",
      "Epoch 5/20\n",
      "41322/41322 [==============================] - 36s 863us/step - loss: 0.3917 - acc: 0.9756 - val_loss: 0.3917 - val_acc: 0.9756\n",
      "Epoch 6/20\n",
      "41322/41322 [==============================] - 36s 866us/step - loss: 0.3917 - acc: 0.9756 - val_loss: 0.3917 - val_acc: 0.9756\n",
      "Epoch 7/20\n",
      "41322/41322 [==============================] - 36s 865us/step - loss: 0.3917 - acc: 0.9756 - val_loss: 0.3917 - val_acc: 0.9756\n",
      "Epoch 8/20\n",
      "41322/41322 [==============================] - 35s 854us/step - loss: 0.3917 - acc: 0.9756 - val_loss: 0.3917 - val_acc: 0.9756\n",
      "Epoch 9/20\n",
      "41322/41322 [==============================] - 36s 867us/step - loss: 0.3917 - acc: 0.9756 - val_loss: 0.3917 - val_acc: 0.9756\n",
      "Epoch 10/20\n",
      "41322/41322 [==============================] - 35s 856us/step - loss: 0.3917 - acc: 0.9756 - val_loss: 0.3917 - val_acc: 0.9756\n",
      "Epoch 11/20\n",
      "41322/41322 [==============================] - 36s 872us/step - loss: 0.3917 - acc: 0.9756 - val_loss: 0.3917 - val_acc: 0.9756\n",
      "Epoch 12/20\n",
      "41322/41322 [==============================] - 36s 861us/step - loss: 0.3917 - acc: 0.9756 - val_loss: 0.3917 - val_acc: 0.9756\n",
      "Epoch 13/20\n",
      "41322/41322 [==============================] - 35s 859us/step - loss: 0.3917 - acc: 0.9756 - val_loss: 0.3917 - val_acc: 0.9756\n",
      "Epoch 14/20\n",
      "41322/41322 [==============================] - 36s 863us/step - loss: 0.3917 - acc: 0.9756 - val_loss: 0.3917 - val_acc: 0.9756\n",
      "Epoch 15/20\n",
      "41322/41322 [==============================] - 35s 856us/step - loss: 0.3917 - acc: 0.9756 - val_loss: 0.3917 - val_acc: 0.9756\n",
      "Epoch 16/20\n",
      "41322/41322 [==============================] - 36s 869us/step - loss: 0.3916 - acc: 0.9756 - val_loss: 0.3917 - val_acc: 0.9756\n",
      "Epoch 17/20\n",
      "41322/41322 [==============================] - 36s 865us/step - loss: 0.3915 - acc: 0.9756 - val_loss: 0.3917 - val_acc: 0.9756\n",
      "Epoch 18/20\n",
      "41322/41322 [==============================] - 36s 859us/step - loss: 0.3914 - acc: 0.9756 - val_loss: 0.3917 - val_acc: 0.9756\n",
      "Epoch 19/20\n",
      "41322/41322 [==============================] - 36s 861us/step - loss: 0.3915 - acc: 0.9756 - val_loss: 0.3917 - val_acc: 0.9756\n",
      "Epoch 20/20\n",
      "41322/41322 [==============================] - 35s 856us/step - loss: 0.3916 - acc: 0.9756 - val_loss: 0.3917 - val_acc: 0.9756\n"
     ]
    }
   ],
   "source": [
    "result_dir =  '/home/ubuntu/DIC/out/history_vgg16_transfer_learning.txt'\n",
    "\n",
    "# Kerasでテンサーボードを呼び出す\n",
    "callbacks = keras.callbacks.TensorBoard(log_dir='/home/ubuntu/DIC/out/tensorBoard', histogram_freq=0)\n",
    "\n",
    "# train model\n",
    "history = model.fit(train_data, train_labels, epochs=20, batch_size=32, callbacks=[callbacks], validation_data=(validation_data, validation_labels))\n",
    "\n",
    "# Save weight\n",
    "model.save_weights('/home/ubuntu/DIC/out/vgg16_transferlearning_weights.h5')\n",
    "\n",
    "# Save history\n",
    "loss = history.history['loss']\n",
    "acc = history.history['acc']\n",
    "val_loss = history.history['val_loss']\n",
    "val_acc = history.history['val_acc']\n",
    "\n",
    "with open(result_dir, \"w\") as fp:\n",
    "    fp.write(\"epoch\\tloss\\tacc\\tval_loss\\tval_acc\\n\")\n",
    "    for i in range(len(acc)):\n",
    "        fp.write(\"%d\\t%f\\t%f\\t%f\\t%f\\n\" % (i, loss[i], acc[i], val_loss[i], val_acc[i]))"
   ]
  },
  {
   "cell_type": "markdown",
   "metadata": {},
   "source": [
    "# 4. Fine Tuning Model"
   ]
  },
  {
   "cell_type": "code",
   "execution_count": 5,
   "metadata": {},
   "outputs": [],
   "source": [
    "from keras.layers import Input\n",
    "import numpy as np\n",
    "import keras\n",
    "from keras.applications.vgg16 import VGG16\n",
    "from keras.preprocessing.image import ImageDataGenerator\n",
    "from keras.layers import Input\n",
    "import os\n",
    "from os import listdir, makedirs\n",
    "from os.path import join, exists, expanduser\n",
    "\n",
    "from keras import applications\n",
    "from keras.preprocessing.image import ImageDataGenerator\n",
    "from keras import optimizers\n",
    "from keras.models import Sequential, Model\n",
    "from keras.layers import Dense, GlobalAveragePooling2D, Convolution2D, MaxPooling2D\n",
    "from keras.layers import Activation, Dropout, Flatten, Dense\n",
    "from keras import backend as K\n",
    "import tensorflow as tf"
   ]
  },
  {
   "cell_type": "code",
   "execution_count": 6,
   "metadata": {},
   "outputs": [
    {
     "name": "stdout",
     "output_type": "stream",
     "text": [
      "Found 41322 images belonging to 81 classes.\n"
     ]
    }
   ],
   "source": [
    "image_data_generator = ImageDataGenerator(rescale=1.0/255)\n",
    "train_data = image_data_generator.flow_from_directory(\n",
    "    '/home/ubuntu/DIC/fruits/Training',\n",
    "    target_size=(100, 100),\n",
    "    batch_size=32,\n",
    "    shuffle=True\n",
    ")"
   ]
  },
  {
   "cell_type": "code",
   "execution_count": 7,
   "metadata": {},
   "outputs": [
    {
     "name": "stderr",
     "output_type": "stream",
     "text": [
      "/home/ubuntu/anaconda3/envs/tensorflow_p36/lib/python3.6/site-packages/ipykernel_launcher.py:12: UserWarning: Update your `Model` call to the Keras 2 API: `Model(inputs=Tensor(\"in..., outputs=Tensor(\"se...)`\n",
      "  if sys.path[0] == '':\n"
     ]
    }
   ],
   "source": [
    "input_tensor = Input(shape=(100, 100, 3))\n",
    "vgg16 = VGG16(include_top=False, weights='imagenet', input_tensor=input_tensor)\n",
    "\n",
    "# FC層を構築\n",
    "top_model = Sequential()\n",
    "top_model.add(Flatten(input_shape=vgg16.output_shape[1:]))\n",
    "top_model.add(Dense(256, activation='relu'))\n",
    "top_model.add(Dropout(0.5))\n",
    "top_model.add(Dense(81, activation='softmax'))\n",
    "\n",
    "# VGG16とFCを接続\n",
    "model = Model(input=vgg16.input, output=top_model(vgg16.output))\n",
    "\n",
    "# 最後のconv層の直前までの層をfreeze\n",
    "for layer in model.layers[:15]:\n",
    "    layer.trainable = False\n",
    "\n",
    "# Fine-tuningのときはSGDの方がよい\n",
    "model.compile(loss='categorical_crossentropy',\n",
    "              optimizer=optimizers.SGD(lr=1e-4, momentum=0.9),\n",
    "              metrics=['accuracy'])"
   ]
  },
  {
   "cell_type": "code",
   "execution_count": 8,
   "metadata": {},
   "outputs": [
    {
     "name": "stdout",
     "output_type": "stream",
     "text": [
      "Epoch 1/2\n",
      "1292/1292 [==============================] - 328s 254ms/step - loss: 2.6313 - acc: 0.3963\n",
      "Epoch 2/2\n",
      "1292/1292 [==============================] - 327s 253ms/step - loss: 0.5769 - acc: 0.8587\n"
     ]
    }
   ],
   "source": [
    "history = model.fit_generator(train_data, epochs=2, verbose=1)"
   ]
  },
  {
   "cell_type": "code",
   "execution_count": null,
   "metadata": {},
   "outputs": [],
   "source": []
  },
  {
   "cell_type": "code",
   "execution_count": null,
   "metadata": {},
   "outputs": [],
   "source": []
  },
  {
   "cell_type": "markdown",
   "metadata": {},
   "source": [
    "## 以下は自分用参考コード(TensorFlowでの転移学習：途中）"
   ]
  },
  {
   "cell_type": "markdown",
   "metadata": {},
   "source": [
    "# Import"
   ]
  },
  {
   "cell_type": "code",
   "execution_count": 1,
   "metadata": {},
   "outputs": [
    {
     "name": "stderr",
     "output_type": "stream",
     "text": [
      "Using TensorFlow backend.\n"
     ]
    }
   ],
   "source": [
    "import matplotlib.pyplot as plt\n",
    "import matplotlib.gridspec as gridspec\n",
    "import numpy as np\n",
    "import tensorflow as tf\n",
    "from tensorflow.examples.tutorials.mnist import input_data\n",
    "from tensorflow.python.framework import ops\n",
    "ops.reset_default_graph()\n",
    "\n",
    "from keras.preprocessing.image import load_img\n",
    "import os, stat\n",
    "import shutil\n",
    "\n",
    "from PIL import Image\n",
    "\n",
    "import pandas as pd\n",
    "import seaborn as sns \n",
    "sns.set()\n",
    "from scipy import misc\n",
    "import imageio as im\n",
    "import warnings\n",
    "from sklearn.metrics import confusion_matrix, classification_report, accuracy_score\n",
    "import itertools\n",
    "warnings.filterwarnings('ignore')\n",
    "%config InlineBackend.figure_format = 'retina'\n",
    "\n",
    "import os\n",
    "import time"
   ]
  },
  {
   "cell_type": "markdown",
   "metadata": {},
   "source": [
    "## 画像を読むためにパスを取得する"
   ]
  },
  {
   "cell_type": "code",
   "execution_count": 2,
   "metadata": {},
   "outputs": [],
   "source": [
    "#画像を読むためにパスを取得する\n",
    "path = \"/Users/szkhome/diveintocode-term0/sprint18/fruits-360/Training/\"\n",
    "os.chdir(path)\n",
    "#os.getcwd()"
   ]
  },
  {
   "cell_type": "markdown",
   "metadata": {},
   "source": [
    "## 中身をチェックする"
   ]
  },
  {
   "cell_type": "code",
   "execution_count": 3,
   "metadata": {
    "scrolled": true
   },
   "outputs": [
    {
     "data": {
      "text/plain": [
       "<matplotlib.image.AxesImage at 0x1a380ae828>"
      ]
     },
     "execution_count": 3,
     "metadata": {},
     "output_type": "execute_result"
    },
    {
     "data": {
      "image/png": "[encoded data removed]",
      "text/plain": [
       "<matplotlib.figure.Figure at 0x1a2c4d76d8>"
      ]
     },
     "metadata": {
      "image/png": {
       "height": 251,
       "width": 249
      }
     },
     "output_type": "display_data"
    }
   ],
   "source": [
    "#中身をチェックする\n",
    "img = im.imread('Apple Braeburn/0_100.jpg')\n",
    "plt.imshow(img)\n",
    "#plt.imshow(img, cmap='gray')"
   ]
  },
  {
   "cell_type": "code",
   "execution_count": 4,
   "metadata": {},
   "outputs": [
    {
     "name": "stdout",
     "output_type": "stream",
     "text": [
      "<class 'imageio.core.util.Image'>\n",
      "(100, 100, 3)\n",
      "<class 'tuple'>\n"
     ]
    }
   ],
   "source": [
    "##大きさを取得しておく\n",
    "print(type(img))\n",
    "print(img.shape)\n",
    "print(type(img.shape))"
   ]
  },
  {
   "cell_type": "code",
   "execution_count": 5,
   "metadata": {},
   "outputs": [],
   "source": [
    "img = Image.open('Apple Braeburn/0_100.jpg')\n",
    "#img = Image.open('data/src/lena_square.png')\n",
    "\n",
    "img = img.resize((224, 224))\n",
    "#img_resize.save('data/dst/lena_pillow_resize_nearest.jpg')"
   ]
  },
  {
   "cell_type": "code",
   "execution_count": 6,
   "metadata": {
    "scrolled": false
   },
   "outputs": [
    {
     "data": {
      "text/plain": [
       "<matplotlib.image.AxesImage at 0x1a389c26a0>"
      ]
     },
     "execution_count": 6,
     "metadata": {},
     "output_type": "execute_result"
    },
    {
     "data": {
      "image/png": "[encoded data removed]",
      "text/plain": [
       "<matplotlib.figure.Figure at 0x1a2c4d7630>"
      ]
     },
     "metadata": {
      "image/png": {
       "height": 251,
       "width": 255
      }
     },
     "output_type": "display_data"
    }
   ],
   "source": [
    "plt.imshow(img)"
   ]
  },
  {
   "cell_type": "code",
   "execution_count": 7,
   "metadata": {},
   "outputs": [],
   "source": [
    "# arrayに直しておく\n",
    "img = np.asarray(img)"
   ]
  },
  {
   "cell_type": "code",
   "execution_count": 8,
   "metadata": {},
   "outputs": [
    {
     "name": "stdout",
     "output_type": "stream",
     "text": [
      "<class 'numpy.ndarray'>\n",
      "(224, 224, 3)\n",
      "<class 'tuple'>\n"
     ]
    }
   ],
   "source": [
    "##大きさを取得しておく\n",
    "print(type(img))\n",
    "print(img.shape)\n",
    "print(type(img.shape))"
   ]
  },
  {
   "cell_type": "markdown",
   "metadata": {},
   "source": [
    "## 画像をNumpy 配列形式に変換"
   ]
  },
  {
   "cell_type": "code",
   "execution_count": 9,
   "metadata": {
    "scrolled": false
   },
   "outputs": [
    {
     "name": "stdout",
     "output_type": "stream",
     "text": [
      "['Apple Red Delicious', 'Huckleberry', 'Melon Piel de Sapo', 'Pear', 'Cherry 1', 'Strawberry', 'Avocado', 'Pomegranate', 'Dates', 'Carambula', '.DS_Store', 'Granadilla', 'Tamarillo', 'Kiwi', 'Cherry Wax Yellow', 'Lemon', 'Guava', 'Apple Golden 2', 'Apple Red 1', 'Mandarine', 'Quince', 'Strawberry Wedge', 'Pear Monster', 'Raspberry', 'Pitahaya Red', 'Apple Golden 3', 'Grape Pink', 'Banana Red', 'Physalis', 'Cherry Rainier', 'Maracuja', 'Plum', 'Nectarine', 'Cherry Wax Black', 'Cantaloupe 2', 'Lychee', 'Clementine', 'Cherry 2', 'Pineapple Mini', 'Rambutan', 'Grape White', 'Apple Braeburn', 'Tomato Maroon', 'Mango', 'Cocos', 'Mulberry', 'Avocado ripe', 'Passion Fruit', 'Apple Granny Smith', 'Kumquats', 'Grape White 2', 'Apricot', 'Limes', 'Apple Red Yellow', 'Pear Williams', 'Salak', 'Grapefruit Pink', 'Apple Golden 1', 'Banana', 'Apple Red 2', 'Physalis with Husk', 'Lemon Meyer', 'Pepino', 'Tangelo', 'Cactus fruit', 'Papaya', 'Apple Red 3', 'Walnut', 'Pear Abate', 'Pineapple', 'Tomato Cherry Red', 'Cherry Wax Red', 'Orange', 'Kaki', 'Grapefruit White', 'Peach', 'Cantaloupe 1', 'Peach Flat']\n"
     ]
    }
   ],
   "source": [
    "#画像の分類を作るために分類ごとのディレクトリ名をリストにする\n",
    "path = \"/Users/szkhome/diveintocode-term0/sprint18/fruits-360/Training/\"\n",
    "os.chdir(path)\n",
    "cwd = os.getcwd()\n",
    "listdir =os.listdir('./')\n",
    "print(listdir)"
   ]
  },
  {
   "cell_type": "code",
   "execution_count": 10,
   "metadata": {},
   "outputs": [
    {
     "data": {
      "text/plain": [
       "['Apple Red Delicious',\n",
       " 'Huckleberry',\n",
       " 'Melon Piel de Sapo',\n",
       " 'Pear',\n",
       " 'Cherry 1',\n",
       " 'Strawberry',\n",
       " 'Avocado',\n",
       " 'Pomegranate',\n",
       " 'Dates',\n",
       " 'Carambula',\n",
       " 'Granadilla',\n",
       " 'Tamarillo',\n",
       " 'Kiwi',\n",
       " 'Cherry Wax Yellow',\n",
       " 'Lemon',\n",
       " 'Guava',\n",
       " 'Apple Golden 2',\n",
       " 'Apple Red 1',\n",
       " 'Mandarine',\n",
       " 'Quince',\n",
       " 'Strawberry Wedge',\n",
       " 'Pear Monster',\n",
       " 'Raspberry',\n",
       " 'Pitahaya Red',\n",
       " 'Apple Golden 3',\n",
       " 'Grape Pink',\n",
       " 'Banana Red',\n",
       " 'Physalis',\n",
       " 'Cherry Rainier',\n",
       " 'Maracuja',\n",
       " 'Plum',\n",
       " 'Nectarine',\n",
       " 'Cherry Wax Black',\n",
       " 'Cantaloupe 2',\n",
       " 'Lychee',\n",
       " 'Clementine',\n",
       " 'Cherry 2',\n",
       " 'Pineapple Mini',\n",
       " 'Rambutan',\n",
       " 'Grape White',\n",
       " 'Apple Braeburn',\n",
       " 'Tomato Maroon',\n",
       " 'Mango',\n",
       " 'Cocos',\n",
       " 'Mulberry',\n",
       " 'Avocado ripe',\n",
       " 'Passion Fruit',\n",
       " 'Apple Granny Smith',\n",
       " 'Kumquats',\n",
       " 'Grape White 2',\n",
       " 'Apricot',\n",
       " 'Limes',\n",
       " 'Apple Red Yellow',\n",
       " 'Pear Williams',\n",
       " 'Salak',\n",
       " 'Grapefruit Pink',\n",
       " 'Apple Golden 1',\n",
       " 'Banana',\n",
       " 'Apple Red 2',\n",
       " 'Physalis with Husk',\n",
       " 'Lemon Meyer',\n",
       " 'Pepino',\n",
       " 'Tangelo',\n",
       " 'Cactus fruit',\n",
       " 'Papaya',\n",
       " 'Apple Red 3',\n",
       " 'Walnut',\n",
       " 'Pear Abate',\n",
       " 'Pineapple',\n",
       " 'Tomato Cherry Red',\n",
       " 'Cherry Wax Red',\n",
       " 'Orange',\n",
       " 'Kaki',\n",
       " 'Grapefruit White',\n",
       " 'Peach',\n",
       " 'Cantaloupe 1',\n",
       " 'Peach Flat']"
      ]
     },
     "execution_count": 10,
     "metadata": {},
     "output_type": "execute_result"
    }
   ],
   "source": [
    "listdir.pop(10)\n",
    "listdir"
   ]
  },
  {
   "cell_type": "code",
   "execution_count": 11,
   "metadata": {},
   "outputs": [],
   "source": [
    "from PIL import Image\n",
    "import os, glob\n",
    "import numpy as np\n",
    "from sklearn import cross_validation\n",
    "\n",
    "classes = listdir\n",
    "num_classes = len(classes)\n",
    "image_size = 224\n",
    "\n",
    "# 画像の読み込み\n",
    "\n",
    "X=[]\n",
    "y=[]\n",
    "for index, classlabel in enumerate(classes):\n",
    "    photos_dir = \"./\" + classlabel\n",
    "    files = glob.glob(photos_dir + \"/*.jpg\")\n",
    "    for i, file in enumerate(files):\n",
    "        if i >= 1000: break\n",
    "        image = Image.open(file)\n",
    "        image = image.convert('RGB') #GrayScale を指定（注意としてはLをしているするともともと次元がなくなる）\n",
    "        image = image.resize((image_size, image_size))\n",
    "        data = np.asarray(image)\n",
    "        X.append(data)\n",
    "        y.append(index)\n",
    "\n",
    "X = np.array(X)\n",
    "y = np.array(y)"
   ]
  },
  {
   "cell_type": "code",
   "execution_count": 12,
   "metadata": {},
   "outputs": [
    {
     "data": {
      "text/plain": [
       "((38695, 224, 224, 3), (38695,))"
      ]
     },
     "execution_count": 12,
     "metadata": {},
     "output_type": "execute_result"
    }
   ],
   "source": [
    "X.shape, y.shape"
   ]
  },
  {
   "cell_type": "markdown",
   "metadata": {},
   "source": [
    "## One Hot"
   ]
  },
  {
   "cell_type": "code",
   "execution_count": 13,
   "metadata": {},
   "outputs": [
    {
     "data": {
      "text/plain": [
       "77"
      ]
     },
     "execution_count": 13,
     "metadata": {},
     "output_type": "execute_result"
    }
   ],
   "source": [
    "output_size=len(set(y))\n",
    "output_size"
   ]
  },
  {
   "cell_type": "code",
   "execution_count": 14,
   "metadata": {},
   "outputs": [
    {
     "data": {
      "text/plain": [
       "(38695, 77)"
      ]
     },
     "execution_count": 14,
     "metadata": {},
     "output_type": "execute_result"
    }
   ],
   "source": [
    "y=np.identity(output_size)[y]\n",
    "y.shape"
   ]
  },
  {
   "cell_type": "code",
   "execution_count": 15,
   "metadata": {},
   "outputs": [],
   "source": [
    "# ## ワンホットエンコーディング\n",
    "# from sklearn.preprocessing import OneHotEncoder\n",
    "\n",
    "# oh = OneHotEncoder()\n",
    "# oh.fit(y)\n",
    "# y_hot = oh.transform(y)"
   ]
  },
  {
   "cell_type": "code",
   "execution_count": 16,
   "metadata": {},
   "outputs": [],
   "source": [
    "#カテゴリカルデータ\n",
    "#from keras.utils.np_utils import to_categorical\n",
    "#y_cat = to_categorical(y)"
   ]
  },
  {
   "cell_type": "markdown",
   "metadata": {},
   "source": [
    "## Train and Test Split"
   ]
  },
  {
   "cell_type": "code",
   "execution_count": 17,
   "metadata": {},
   "outputs": [],
   "source": [
    "from sklearn.model_selection import train_test_split\n",
    "\n",
    "X_train, X_test, y_train, y_test = train_test_split(X, y, test_size=0.2, random_state=42)\n",
    "#x_train, x_test, y_cat_train, y_cat_test = train_test_split(X, y_cat, test_size=.2, random_state=42)"
   ]
  },
  {
   "cell_type": "code",
   "execution_count": 18,
   "metadata": {
    "scrolled": true
   },
   "outputs": [
    {
     "data": {
      "text/plain": [
       "(30956, 224, 224, 3)"
      ]
     },
     "execution_count": 18,
     "metadata": {},
     "output_type": "execute_result"
    }
   ],
   "source": [
    "X_train.shape"
   ]
  },
  {
   "cell_type": "code",
   "execution_count": 19,
   "metadata": {},
   "outputs": [
    {
     "data": {
      "text/plain": [
       "(30956, 77)"
      ]
     },
     "execution_count": 19,
     "metadata": {},
     "output_type": "execute_result"
    }
   ],
   "source": [
    "y_train.shape"
   ]
  },
  {
   "cell_type": "code",
   "execution_count": 20,
   "metadata": {},
   "outputs": [
    {
     "data": {
      "text/plain": [
       "(77,)"
      ]
     },
     "execution_count": 20,
     "metadata": {},
     "output_type": "execute_result"
    }
   ],
   "source": [
    "y_train[0].shape"
   ]
  },
  {
   "cell_type": "code",
   "execution_count": 21,
   "metadata": {},
   "outputs": [],
   "source": [
    "batch_size = 2\n",
    "train_size = X_train.shape[0]\n",
    "batch_mask = np.random.choice(train_size, batch_size)\n",
    "x_batch = X_train[batch_mask]\n",
    "y_batch = y_train[batch_mask]"
   ]
  },
  {
   "cell_type": "code",
   "execution_count": 29,
   "metadata": {},
   "outputs": [],
   "source": [
    "import tensorflow as tf\n",
    "import tensornets as nets\n",
    "\n",
    "inputs = tf.placeholder(tf.float32, [None, 224, 224, 3])\n",
    "model = nets.VGG19(inputs)\n",
    "\n",
    "assert isinstance(model, tf.Tensor) #とあるシェイプでないと回せないようにする"
   ]
  },
  {
   "cell_type": "code",
   "execution_count": 30,
   "metadata": {},
   "outputs": [],
   "source": [
    "img = img[:,:,:,np.newaxis]"
   ]
  },
  {
   "cell_type": "code",
   "execution_count": 31,
   "metadata": {},
   "outputs": [],
   "source": [
    "img = img.transpose(3, 0, 1, 2)"
   ]
  },
  {
   "cell_type": "code",
   "execution_count": 32,
   "metadata": {},
   "outputs": [
    {
     "data": {
      "text/plain": [
       "(1, 224, 224, 3)"
      ]
     },
     "execution_count": 32,
     "metadata": {},
     "output_type": "execute_result"
    }
   ],
   "source": [
    "img.shape"
   ]
  },
  {
   "cell_type": "code",
   "execution_count": 33,
   "metadata": {},
   "outputs": [
    {
     "data": {
      "text/plain": [
       "dtype('uint8')"
      ]
     },
     "execution_count": 33,
     "metadata": {},
     "output_type": "execute_result"
    }
   ],
   "source": [
    "img.dtype"
   ]
  },
  {
   "cell_type": "code",
   "execution_count": 34,
   "metadata": {},
   "outputs": [],
   "source": [
    "img=img.astype(np.float64)"
   ]
  },
  {
   "cell_type": "code",
   "execution_count": 35,
   "metadata": {},
   "outputs": [
    {
     "data": {
      "text/plain": [
       "dtype('float64')"
      ]
     },
     "execution_count": 35,
     "metadata": {},
     "output_type": "execute_result"
    }
   ],
   "source": [
    "img.dtype"
   ]
  },
  {
   "cell_type": "code",
   "execution_count": 36,
   "metadata": {},
   "outputs": [],
   "source": [
    "assert img.shape == (1, 224, 224, 3)"
   ]
  },
  {
   "cell_type": "code",
   "execution_count": 37,
   "metadata": {},
   "outputs": [],
   "source": [
    "with tf.Session() as sess:\n",
    "    img = model.preprocess(img)  # equivalent to img = nets.preprocess(model, img)\n",
    "    sess.run(model.pretrained())  # equivalent to nets.pretrained(model)\n",
    "    preds = sess.run(model, {inputs: img})"
   ]
  },
  {
   "cell_type": "code",
   "execution_count": 38,
   "metadata": {},
   "outputs": [
    {
     "name": "stdout",
     "output_type": "stream",
     "text": [
      "[('n12768682', 'buckeye', 0.70595586), ('n03134739', 'croquet_ball', 0.08966316), ('n12267677', 'acorn', 0.08923323), ('n07742313', 'Granny_Smith', 0.018827554), ('n03720891', 'maraca', 0.014744103), ('n07768694', 'pomegranate', 0.0094263675), ('n04023962', 'punching_bag', 0.008687927), ('n07753113', 'fig', 0.008109794), ('n07747607', 'orange', 0.0054333294), ('n07753592', 'banana', 0.005092348), ('n12620546', 'hip', 0.0045989607), ('n02782093', 'balloon', 0.004221908), ('n03729826', 'matchstick', 0.003966594), ('n03970156', 'plunger', 0.0027768551), ('n01776313', 'tick', 0.0014765658), ('n02802426', 'basketball', 0.0014645507), ('n03676483', 'lipstick', 0.0014231734), ('n02799071', 'baseball', 0.0013756311), ('n04562935', 'water_tower', 0.0010662898), ('n03633091', 'ladle', 0.0010583582)]\n"
     ]
    }
   ],
   "source": [
    "print(nets.utils.decode_predictions(preds, top=20)[0])\n"
   ]
  },
  {
   "cell_type": "code",
   "execution_count": 39,
   "metadata": {
    "scrolled": true
   },
   "outputs": [
    {
     "name": "stdout",
     "output_type": "stream",
     "text": [
      "Scope: vgg19\n",
      "Total layers: 19\n",
      "Total weights: 38\n",
      "Total parameters: 143,667,240\n"
     ]
    }
   ],
   "source": [
    "model.print_summary()"
   ]
  },
  {
   "cell_type": "code",
   "execution_count": 40,
   "metadata": {},
   "outputs": [
    {
     "name": "stdout",
     "output_type": "stream",
     "text": [
      "Scope: vgg19\n",
      "conv1/1/conv/BiasAdd:0 (?, 224, 224, 64)\n",
      "conv1/1/Relu:0 (?, 224, 224, 64)\n",
      "conv1/2/conv/BiasAdd:0 (?, 224, 224, 64)\n",
      "conv1/2/Relu:0 (?, 224, 224, 64)\n",
      "conv1/pool/MaxPool:0 (?, 112, 112, 64)\n",
      "conv2/1/conv/BiasAdd:0 (?, 112, 112, 128)\n",
      "conv2/1/Relu:0 (?, 112, 112, 128)\n",
      "conv2/2/conv/BiasAdd:0 (?, 112, 112, 128)\n",
      "conv2/2/Relu:0 (?, 112, 112, 128)\n",
      "conv2/pool/MaxPool:0 (?, 56, 56, 128)\n",
      "conv3/1/conv/BiasAdd:0 (?, 56, 56, 256)\n",
      "conv3/1/Relu:0 (?, 56, 56, 256)\n",
      "conv3/2/conv/BiasAdd:0 (?, 56, 56, 256)\n",
      "conv3/2/Relu:0 (?, 56, 56, 256)\n",
      "conv3/3/conv/BiasAdd:0 (?, 56, 56, 256)\n",
      "conv3/3/Relu:0 (?, 56, 56, 256)\n",
      "conv3/4/conv/BiasAdd:0 (?, 56, 56, 256)\n",
      "conv3/4/Relu:0 (?, 56, 56, 256)\n",
      "conv3/pool/MaxPool:0 (?, 28, 28, 256)\n",
      "conv4/1/conv/BiasAdd:0 (?, 28, 28, 512)\n",
      "conv4/1/Relu:0 (?, 28, 28, 512)\n",
      "conv4/2/conv/BiasAdd:0 (?, 28, 28, 512)\n",
      "conv4/2/Relu:0 (?, 28, 28, 512)\n",
      "conv4/3/conv/BiasAdd:0 (?, 28, 28, 512)\n",
      "conv4/3/Relu:0 (?, 28, 28, 512)\n",
      "conv4/4/conv/BiasAdd:0 (?, 28, 28, 512)\n",
      "conv4/4/Relu:0 (?, 28, 28, 512)\n",
      "conv4/pool/MaxPool:0 (?, 14, 14, 512)\n",
      "conv5/1/conv/BiasAdd:0 (?, 14, 14, 512)\n",
      "conv5/1/Relu:0 (?, 14, 14, 512)\n",
      "conv5/2/conv/BiasAdd:0 (?, 14, 14, 512)\n",
      "conv5/2/Relu:0 (?, 14, 14, 512)\n",
      "conv5/3/conv/BiasAdd:0 (?, 14, 14, 512)\n",
      "conv5/3/Relu:0 (?, 14, 14, 512)\n",
      "conv5/4/conv/BiasAdd:0 (?, 14, 14, 512)\n",
      "conv5/4/Relu:0 (?, 14, 14, 512)\n",
      "conv5/pool/MaxPool:0 (?, 7, 7, 512)\n",
      "flatten/flatten/Reshape:0 (?, 25088)\n",
      "fc6/BiasAdd:0 (?, 4096)\n",
      "relu6:0 (?, 4096)\n",
      "drop6/Identity:0 (?, 4096)\n",
      "fc7/BiasAdd:0 (?, 4096)\n",
      "relu7:0 (?, 4096)\n",
      "drop7/Identity:0 (?, 4096)\n",
      "logits/BiasAdd:0 (?, 1000)\n",
      "probs:0 (?, 1000)\n"
     ]
    }
   ],
   "source": [
    "model.print_outputs()"
   ]
  },
  {
   "cell_type": "code",
   "execution_count": 41,
   "metadata": {},
   "outputs": [],
   "source": [
    "inputs = tf.placeholder(tf.float32, [None, 224, 224, 3])\n",
    "outputs = tf.placeholder(tf.int32, [None, 77])\n",
    "model = nets.VGG19(inputs, is_training=True, classes=77)"
   ]
  }
 ],
 "metadata": {
  "kernelspec": {
   "display_name": "Python 3",
   "language": "python",
   "name": "python3"
  },
  "language_info": {
   "codemirror_mode": {
    "name": "ipython",
    "version": 3
   },
   "file_extension": ".py",
   "mimetype": "text/x-python",
   "name": "python",
   "nbconvert_exporter": "python",
   "pygments_lexer": "ipython3",
   "version": "3.6.6"
  },
  "latex_envs": {
   "LaTeX_envs_menu_present": true,
   "autoclose": false,
   "autocomplete": true,
   "bibliofile": "biblio.bib",
   "cite_by": "apalike",
   "current_citInitial": 1,
   "eqLabelWithNumbers": true,
   "eqNumInitial": 1,
   "hotkeys": {
    "equation": "Ctrl-E",
    "itemize": "Ctrl-I"
   },
   "labels_anchors": false,
   "latex_user_defs": false,
   "report_style_numbering": false,
   "user_envs_cfg": false
  },
  "toc": {
   "base_numbering": 1,
   "nav_menu": {},
   "number_sections": true,
   "sideBar": true,
   "skip_h1_title": false,
   "title_cell": "Table of Contents",
   "title_sidebar": "Contents",
   "toc_cell": false,
   "toc_position": {},
   "toc_section_display": true,
   "toc_window_display": true
  }
 },
 "nbformat": 4,
 "nbformat_minor": 2
}
