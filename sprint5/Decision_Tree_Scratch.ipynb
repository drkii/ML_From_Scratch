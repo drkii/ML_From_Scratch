{
 "cells": [
  {
   "cell_type": "markdown",
   "metadata": {},
   "source": [
    "# Decision Tree from Scratch"
   ]
  },
  {
   "cell_type": "code",
   "execution_count": 352,
   "metadata": {},
   "outputs": [],
   "source": [
    "# 必要モジュールの用意\n",
    "import numpy as np\n",
    "import pandas as pd\n",
    "import matplotlib.pyplot as plt\n",
    "import seaborn as sns\n",
    "%matplotlib inline"
   ]
  },
  {
   "cell_type": "code",
   "execution_count": 353,
   "metadata": {},
   "outputs": [],
   "source": [
    "train = np.array([[2.771244718,1.784783929,0],\n",
    "    [1.728571309,1.169761413,0],\n",
    "    [3.678319846,2.81281357,0],\n",
    "    [3.961043357,2.61995032,0],\n",
    "    [2.999208922,2.209014212,0],\n",
    "    [7.497545867,3.162953546,1],\n",
    "    [9.00220326,3.339047188,1],\n",
    "    [7.444542326,0.476683375,1],\n",
    "    [10.12493903,3.234550982,1],\n",
    "    [6.642287351,3.319983761,1]])"
   ]
  },
  {
   "cell_type": "code",
   "execution_count": 354,
   "metadata": {
    "scrolled": true
   },
   "outputs": [
    {
     "data": {
      "text/html": [
       "<div>\n",
       "<table border=\"1\" class=\"dataframe\">\n",
       "  <thead>\n",
       "    <tr style=\"text-align: right;\">\n",
       "      <th></th>\n",
       "      <th>0</th>\n",
       "      <th>1</th>\n",
       "      <th>2</th>\n",
       "    </tr>\n",
       "  </thead>\n",
       "  <tbody>\n",
       "    <tr>\n",
       "      <th>0</th>\n",
       "      <td>2.771245</td>\n",
       "      <td>1.784784</td>\n",
       "      <td>0.0</td>\n",
       "    </tr>\n",
       "    <tr>\n",
       "      <th>1</th>\n",
       "      <td>1.728571</td>\n",
       "      <td>1.169761</td>\n",
       "      <td>0.0</td>\n",
       "    </tr>\n",
       "    <tr>\n",
       "      <th>2</th>\n",
       "      <td>3.678320</td>\n",
       "      <td>2.812814</td>\n",
       "      <td>0.0</td>\n",
       "    </tr>\n",
       "    <tr>\n",
       "      <th>3</th>\n",
       "      <td>3.961043</td>\n",
       "      <td>2.619950</td>\n",
       "      <td>0.0</td>\n",
       "    </tr>\n",
       "    <tr>\n",
       "      <th>4</th>\n",
       "      <td>2.999209</td>\n",
       "      <td>2.209014</td>\n",
       "      <td>0.0</td>\n",
       "    </tr>\n",
       "    <tr>\n",
       "      <th>5</th>\n",
       "      <td>7.497546</td>\n",
       "      <td>3.162954</td>\n",
       "      <td>1.0</td>\n",
       "    </tr>\n",
       "    <tr>\n",
       "      <th>6</th>\n",
       "      <td>9.002203</td>\n",
       "      <td>3.339047</td>\n",
       "      <td>1.0</td>\n",
       "    </tr>\n",
       "    <tr>\n",
       "      <th>7</th>\n",
       "      <td>7.444542</td>\n",
       "      <td>0.476683</td>\n",
       "      <td>1.0</td>\n",
       "    </tr>\n",
       "    <tr>\n",
       "      <th>8</th>\n",
       "      <td>10.124939</td>\n",
       "      <td>3.234551</td>\n",
       "      <td>1.0</td>\n",
       "    </tr>\n",
       "    <tr>\n",
       "      <th>9</th>\n",
       "      <td>6.642287</td>\n",
       "      <td>3.319984</td>\n",
       "      <td>1.0</td>\n",
       "    </tr>\n",
       "  </tbody>\n",
       "</table>\n",
       "</div>"
      ],
      "text/plain": [
       "           0         1    2\n",
       "0   2.771245  1.784784  0.0\n",
       "1   1.728571  1.169761  0.0\n",
       "2   3.678320  2.812814  0.0\n",
       "3   3.961043  2.619950  0.0\n",
       "4   2.999209  2.209014  0.0\n",
       "5   7.497546  3.162954  1.0\n",
       "6   9.002203  3.339047  1.0\n",
       "7   7.444542  0.476683  1.0\n",
       "8  10.124939  3.234551  1.0\n",
       "9   6.642287  3.319984  1.0"
      ]
     },
     "execution_count": 354,
     "metadata": {},
     "output_type": "execute_result"
    }
   ],
   "source": [
    "train_df = pd.DataFrame(train)\n",
    "train_df"
   ]
  },
  {
   "cell_type": "code",
   "execution_count": 355,
   "metadata": {
    "scrolled": false
   },
   "outputs": [
    {
     "data": {
      "text/html": [
       "<div>\n",
       "<table border=\"1\" class=\"dataframe\">\n",
       "  <thead>\n",
       "    <tr style=\"text-align: right;\">\n",
       "      <th></th>\n",
       "      <th>x0</th>\n",
       "      <th>x1</th>\n",
       "      <th>y</th>\n",
       "    </tr>\n",
       "  </thead>\n",
       "  <tbody>\n",
       "    <tr>\n",
       "      <th>0</th>\n",
       "      <td>2.771245</td>\n",
       "      <td>1.784784</td>\n",
       "      <td>0.0</td>\n",
       "    </tr>\n",
       "    <tr>\n",
       "      <th>1</th>\n",
       "      <td>1.728571</td>\n",
       "      <td>1.169761</td>\n",
       "      <td>0.0</td>\n",
       "    </tr>\n",
       "    <tr>\n",
       "      <th>2</th>\n",
       "      <td>3.678320</td>\n",
       "      <td>2.812814</td>\n",
       "      <td>0.0</td>\n",
       "    </tr>\n",
       "    <tr>\n",
       "      <th>3</th>\n",
       "      <td>3.961043</td>\n",
       "      <td>2.619950</td>\n",
       "      <td>0.0</td>\n",
       "    </tr>\n",
       "    <tr>\n",
       "      <th>4</th>\n",
       "      <td>2.999209</td>\n",
       "      <td>2.209014</td>\n",
       "      <td>0.0</td>\n",
       "    </tr>\n",
       "    <tr>\n",
       "      <th>5</th>\n",
       "      <td>7.497546</td>\n",
       "      <td>3.162954</td>\n",
       "      <td>1.0</td>\n",
       "    </tr>\n",
       "    <tr>\n",
       "      <th>6</th>\n",
       "      <td>9.002203</td>\n",
       "      <td>3.339047</td>\n",
       "      <td>1.0</td>\n",
       "    </tr>\n",
       "    <tr>\n",
       "      <th>7</th>\n",
       "      <td>7.444542</td>\n",
       "      <td>0.476683</td>\n",
       "      <td>1.0</td>\n",
       "    </tr>\n",
       "    <tr>\n",
       "      <th>8</th>\n",
       "      <td>10.124939</td>\n",
       "      <td>3.234551</td>\n",
       "      <td>1.0</td>\n",
       "    </tr>\n",
       "    <tr>\n",
       "      <th>9</th>\n",
       "      <td>6.642287</td>\n",
       "      <td>3.319984</td>\n",
       "      <td>1.0</td>\n",
       "    </tr>\n",
       "  </tbody>\n",
       "</table>\n",
       "</div>"
      ],
      "text/plain": [
       "          x0        x1    y\n",
       "0   2.771245  1.784784  0.0\n",
       "1   1.728571  1.169761  0.0\n",
       "2   3.678320  2.812814  0.0\n",
       "3   3.961043  2.619950  0.0\n",
       "4   2.999209  2.209014  0.0\n",
       "5   7.497546  3.162954  1.0\n",
       "6   9.002203  3.339047  1.0\n",
       "7   7.444542  0.476683  1.0\n",
       "8  10.124939  3.234551  1.0\n",
       "9   6.642287  3.319984  1.0"
      ]
     },
     "execution_count": 355,
     "metadata": {},
     "output_type": "execute_result"
    }
   ],
   "source": [
    "train_df = train_df.rename(columns={0: 'x0', 1: 'x1', 2: 'y'})\n",
    "train_df"
   ]
  },
  {
   "cell_type": "code",
   "execution_count": 356,
   "metadata": {},
   "outputs": [],
   "source": [
    "train_df.to_csv('./to_csv_out.csv')"
   ]
  },
  {
   "cell_type": "markdown",
   "metadata": {},
   "source": [
    "# 手で決定木をつくる"
   ]
  },
  {
   "cell_type": "code",
   "execution_count": 357,
   "metadata": {},
   "outputs": [],
   "source": [
    "train_df_0 = train_df[train_df['y']==0]\n",
    "train_df_1 = train_df[train_df['y']==1]"
   ]
  },
  {
   "cell_type": "code",
   "execution_count": 358,
   "metadata": {
    "scrolled": true
   },
   "outputs": [
    {
     "data": {
      "image/png": "[encoded data removed]",
      "text/plain": [
       "<matplotlib.figure.Figure at 0x1a1cbc1f28>"
      ]
     },
     "metadata": {},
     "output_type": "display_data"
    }
   ],
   "source": [
    "# 散布図\n",
    "import seaborn as sns; sns.set(color_codes=True)\n",
    "ax = sns.regplot(x=\"x0\", y=\"x1\", data=train_df_0, fit_reg=False, color=\"b\")\n",
    "ax = sns.regplot(x=\"x0\", y=\"x1\", data=train_df_1, fit_reg=False, color=\"r\")"
   ]
  },
  {
   "cell_type": "markdown",
   "metadata": {},
   "source": [
    "\n",
    "- グラフの点が、１つのデータに相当します。\n",
    "- グラフの領域が、決定木のノードに相当します。\n",
    "- グラフの中に引く太い仕切り線が、決定木の条件（x0<6など）に相当します。\n",
    "- ノード内に書かれる番号は、グラフの領域に含まれている点番号に相当します。"
   ]
  },
  {
   "cell_type": "markdown",
   "metadata": {},
   "source": [
    "## Root Nodesの作成"
   ]
  },
  {
   "cell_type": "markdown",
   "metadata": {},
   "source": [
    "- ルートノードを作ります。\n",
    "- 全領域に全点が含まれているので、0, 1, 2, 3, 4, 5, 6, 7, 8, 9となっています。\n",
    "- なお、ランダムフォレストでは、通常は重複を許しランダムに選ぶらしい（例：5,1,1,3,7,2,5,0）。全部の点を使わず2/3程度の点だけを使う場合も多いらしい。"
   ]
  },
  {
   "attachments": {},
   "cell_type": "markdown",
   "metadata": {},
   "source": [
    "## 子ノード：分割線を決めます。\n",
    "\n",
    "仮に、x1 > 2.209014で分けたとします。\n",
    "\n",
    "\n",
    "２つの領域に分かれるので、子ノードを２つ作ります。\n",
    "\n",
    "\n",
    "左の子ノードにx1 > 2.209014を満たす点を、右の子ノードにx1 > 2.209014を満たさない点を入れます。\n",
    "\n",
    "\n",
    "左には\n",
    "2,3,4,5,6,8,9\n",
    "\n",
    "\n",
    "右には\n",
    "0,1,7\n"
   ]
  },
  {
   "cell_type": "code",
   "execution_count": 359,
   "metadata": {},
   "outputs": [
    {
     "data": {
      "text/plain": [
       "<matplotlib.collections.LineCollection at 0x1a1b41e630>"
      ]
     },
     "execution_count": 359,
     "metadata": {},
     "output_type": "execute_result"
    },
    {
     "data": {
      "image/png": "[encoded data removed]",
      "text/plain": [
       "<matplotlib.figure.Figure at 0x1a1b41ef98>"
      ]
     },
     "metadata": {},
     "output_type": "display_data"
    }
   ],
   "source": [
    "# 散布図\n",
    "ax = sns.regplot(x=\"x0\", y=\"x1\", data=train_df_0, fit_reg=False, color=\"b\")\n",
    "ax = sns.regplot(x=\"x0\", y=\"x1\", data=train_df_1, fit_reg=False, color=\"r\")\n",
    "#plt.vlines(7.44454233, 0,2.20901421, \"m\", linestyle=\":\")\n",
    "plt.hlines(2.209014, 0,11, \"m\", linestyle=\":\")\n",
    "\n",
    "#plt.vlines(6.642287351, 0,4, \"r\", linestyle=\":\")\n",
    "#plt.hlines(2.20901421, 0,11, \"r\", linestyle=\":\")"
   ]
  },
  {
   "cell_type": "markdown",
   "metadata": {},
   "source": [
    "### 孫ノード"
   ]
  },
  {
   "cell_type": "markdown",
   "metadata": {},
   "source": [
    "次は子ノードを見ていきます。\n",
    "対象の領域はx1 > 2.209014を満たす、グラフの上の部分。\n",
    "今回は分割する場所の候補は(2, 3, 4, 5, 6, 8, 9)だけになります。\n",
    "\n"
   ]
  },
  {
   "cell_type": "markdown",
   "metadata": {},
   "source": [
    "X0>6.642287351というう対象領域を決めたとします。\n",
    "\n",
    "左孫ノード\n",
    "5,6,8,9\n",
    "\n",
    "\n",
    "\n",
    "右孫ノード\n",
    "2,3,4\n",
    "\n",
    "\n",
    "と分けられます"
   ]
  },
  {
   "cell_type": "code",
   "execution_count": 360,
   "metadata": {
    "scrolled": true
   },
   "outputs": [
    {
     "data": {
      "text/plain": [
       "<matplotlib.collections.LineCollection at 0x1a1e36b4e0>"
      ]
     },
     "execution_count": 360,
     "metadata": {},
     "output_type": "execute_result"
    },
    {
     "data": {
      "image/png": "[encoded data removed]",
      "text/plain": [
       "<matplotlib.figure.Figure at 0x1a1e361358>"
      ]
     },
     "metadata": {},
     "output_type": "display_data"
    }
   ],
   "source": [
    "# 散布図\n",
    "ax = sns.regplot(x=\"x0\", y=\"x1\", data=train_df_0, fit_reg=False, color=\"b\")\n",
    "ax = sns.regplot(x=\"x0\", y=\"x1\", data=train_df_1, fit_reg=False, color=\"r\")\n",
    "#plt.vlines(7.44454233, 0,2.20901421, \"m\", linestyle=\":\")\n",
    "plt.hlines(2.209014, 0,11, \"m\", linestyle=\":\")\n",
    "\n",
    "plt.vlines(6.642287351, 0,4, \"r\", linestyle=\":\")\n",
    "#plt.hlines(2.20901421, 0,11, \"r\", linestyle=\":\")"
   ]
  },
  {
   "cell_type": "markdown",
   "metadata": {},
   "source": [
    "後は繰り返しです。次のノードに行き、領域内の点が全て趣味（青）か全てプロ（赤）になったら、もう領域を分割しても無意味なので、終了です。このノードは葉となります。\n"
   ]
  },
  {
   "cell_type": "markdown",
   "metadata": {},
   "source": [
    "# ベストな分け方はどう決めるべきか"
   ]
  },
  {
   "cell_type": "markdown",
   "metadata": {},
   "source": [
    "上記の方法だと、全てマニュアルで適当に線を引いたにすぎません。"
   ]
  },
  {
   "cell_type": "markdown",
   "metadata": {},
   "source": [
    "分類の場合は、ジニ係数を使う方法とエントロピーを使う方法が知られています。\n",
    "\n",
    "ここではジニ係数を用いて、係数の値が最小となる閾値を求めるようにします。\n",
    "\n",
    "この章の最後には、閾値を表します。\n",
    "\n"
   ]
  },
  {
   "cell_type": "markdown",
   "metadata": {},
   "source": [
    "## 分類の割合計算の計算を行う"
   ]
  },
  {
   "cell_type": "code",
   "execution_count": 383,
   "metadata": {},
   "outputs": [],
   "source": [
    "#行のなかで該当分類がどれくらいあるか数を数える\n",
    "def uniquecounts(rows):\n",
    "   results={}\n",
    "   for row in rows:\n",
    "      # 結果を最後のカラム\n",
    "      rr=row[len(row)-1]\n",
    "      \n",
    "      if rr not in results: results[rr]=0\n",
    "      results[rr]+=1\n",
    "   return results"
   ]
  },
  {
   "cell_type": "code",
   "execution_count": 384,
   "metadata": {},
   "outputs": [
    {
     "data": {
      "text/plain": [
       "{0.0: 5, 1.0: 5}"
      ]
     },
     "execution_count": 384,
     "metadata": {},
     "output_type": "execute_result"
    }
   ],
   "source": [
    "uniquecounts(train)"
   ]
  },
  {
   "cell_type": "markdown",
   "metadata": {},
   "source": [
    "全体のデータから０と１と分類されているものが、５つずつあることが確認できました。"
   ]
  },
  {
   "cell_type": "markdown",
   "metadata": {},
   "source": [
    "## Giniを計算する"
   ]
  },
  {
   "cell_type": "code",
   "execution_count": 385,
   "metadata": {},
   "outputs": [],
   "source": [
    "#カウント数を使って、P1の割合を決めて、その二乗をP2として、その総和をimpurityとして、1から引くとGini\n",
    "\n",
    "def gini(rows):\n",
    "    total=len(rows)\n",
    "    #print(total)          \n",
    "    counts=uniquecounts(rows)\n",
    "    #print(counts)         \n",
    "    impurity =0\n",
    "    for i1 in counts:\n",
    "        p1=counts[i1]/total\n",
    "        #print (p1)   \n",
    "\n",
    "        for i2 in counts:\n",
    "          if i1==i2: continue\n",
    "          p2=p1*p1   \n",
    "          #print ((p2) \n",
    "          impurity += p2      \n",
    "        #print ((counts[i1]))              \n",
    "        #print ((counts[i2])) \n",
    "    gini = 1 - impurity\n",
    "    return gini"
   ]
  },
  {
   "cell_type": "code",
   "execution_count": 386,
   "metadata": {
    "scrolled": false
   },
   "outputs": [
    {
     "data": {
      "text/plain": [
       "0.5"
      ]
     },
     "execution_count": 386,
     "metadata": {},
     "output_type": "execute_result"
    }
   ],
   "source": [
    "gini(train)"
   ]
  },
  {
   "cell_type": "markdown",
   "metadata": {},
   "source": [
    "カウント数を使って、P1の割合を決めて、その二乗をP2として、その総和をimpurityとして、1から引くと0.5となったことがわかりました。\n",
    "もともと、分類ごとに、0.5ずつだったものを２乗して足している（0.25+0.25)ので、手計算とも合っています。"
   ]
  },
  {
   "cell_type": "markdown",
   "metadata": {},
   "source": [
    "ここからは、一般に、閾値に与えられたデータを用いる方法がありますが、\n",
    "\n",
    "下記においては、元のデータの行をi行(全部の行数まで)無くしたパターンを作成し、最後に全データが載っているものを加えた全パターンを作成し、そのどれがGini係数が低くなったかを確認する方法をとりたいと思います。"
   ]
  },
  {
   "cell_type": "code",
   "execution_count": 387,
   "metadata": {},
   "outputs": [],
   "source": [
    "#全パターンを作成します（事前に行数分の範囲を０から(0,1), (0,1,2)、、、と作成し、aとしてリストパターンを作呼んで\n",
    "#そのパターンを全てのデータで抜いていき、残ったデータをnew_trainと呼んで、全パターンと呼んでいます\n",
    "\n",
    "def pattern_making(rows):\n",
    "\n",
    "    new_trains = []\n",
    "    j = 0\n",
    "    for j in range(11):\n",
    "        a=list(range(0,j))\n",
    "        #print(a)\n",
    "\n",
    "        for i in range(len(rows)):\n",
    "            new_train = np.delete(rows, a, 0)\n",
    "            new_trains.append(new_train)\n",
    "        #print(new_trains)\n",
    "    return new_trains"
   ]
  },
  {
   "cell_type": "code",
   "execution_count": 388,
   "metadata": {
    "scrolled": true
   },
   "outputs": [
    {
     "data": {
      "text/plain": [
       "[array([[ 2.77124472,  1.78478393,  0.        ],\n",
       "        [ 1.72857131,  1.16976141,  0.        ],\n",
       "        [ 3.67831985,  2.81281357,  0.        ],\n",
       "        [ 3.96104336,  2.61995032,  0.        ],\n",
       "        [ 2.99920892,  2.20901421,  0.        ],\n",
       "        [ 7.49754587,  3.16295355,  1.        ],\n",
       "        [ 9.00220326,  3.33904719,  1.        ],\n",
       "        [ 7.44454233,  0.47668338,  1.        ],\n",
       "        [10.12493903,  3.23455098,  1.        ],\n",
       "        [ 6.64228735,  3.31998376,  1.        ]]),\n",
       " array([[ 2.77124472,  1.78478393,  0.        ],\n",
       "        [ 1.72857131,  1.16976141,  0.        ],\n",
       "        [ 3.67831985,  2.81281357,  0.        ],\n",
       "        [ 3.96104336,  2.61995032,  0.        ],\n",
       "        [ 2.99920892,  2.20901421,  0.        ],\n",
       "        [ 7.49754587,  3.16295355,  1.        ],\n",
       "        [ 9.00220326,  3.33904719,  1.        ],\n",
       "        [ 7.44454233,  0.47668338,  1.        ],\n",
       "        [10.12493903,  3.23455098,  1.        ],\n",
       "        [ 6.64228735,  3.31998376,  1.        ]]),\n",
       " array([[ 2.77124472,  1.78478393,  0.        ],\n",
       "        [ 1.72857131,  1.16976141,  0.        ],\n",
       "        [ 3.67831985,  2.81281357,  0.        ],\n",
       "        [ 3.96104336,  2.61995032,  0.        ],\n",
       "        [ 2.99920892,  2.20901421,  0.        ],\n",
       "        [ 7.49754587,  3.16295355,  1.        ],\n",
       "        [ 9.00220326,  3.33904719,  1.        ],\n",
       "        [ 7.44454233,  0.47668338,  1.        ],\n",
       "        [10.12493903,  3.23455098,  1.        ],\n",
       "        [ 6.64228735,  3.31998376,  1.        ]]),\n",
       " array([[ 2.77124472,  1.78478393,  0.        ],\n",
       "        [ 1.72857131,  1.16976141,  0.        ],\n",
       "        [ 3.67831985,  2.81281357,  0.        ],\n",
       "        [ 3.96104336,  2.61995032,  0.        ],\n",
       "        [ 2.99920892,  2.20901421,  0.        ],\n",
       "        [ 7.49754587,  3.16295355,  1.        ],\n",
       "        [ 9.00220326,  3.33904719,  1.        ],\n",
       "        [ 7.44454233,  0.47668338,  1.        ],\n",
       "        [10.12493903,  3.23455098,  1.        ],\n",
       "        [ 6.64228735,  3.31998376,  1.        ]]),\n",
       " array([[ 2.77124472,  1.78478393,  0.        ],\n",
       "        [ 1.72857131,  1.16976141,  0.        ],\n",
       "        [ 3.67831985,  2.81281357,  0.        ],\n",
       "        [ 3.96104336,  2.61995032,  0.        ],\n",
       "        [ 2.99920892,  2.20901421,  0.        ],\n",
       "        [ 7.49754587,  3.16295355,  1.        ],\n",
       "        [ 9.00220326,  3.33904719,  1.        ],\n",
       "        [ 7.44454233,  0.47668338,  1.        ],\n",
       "        [10.12493903,  3.23455098,  1.        ],\n",
       "        [ 6.64228735,  3.31998376,  1.        ]]),\n",
       " array([[ 2.77124472,  1.78478393,  0.        ],\n",
       "        [ 1.72857131,  1.16976141,  0.        ],\n",
       "        [ 3.67831985,  2.81281357,  0.        ],\n",
       "        [ 3.96104336,  2.61995032,  0.        ],\n",
       "        [ 2.99920892,  2.20901421,  0.        ],\n",
       "        [ 7.49754587,  3.16295355,  1.        ],\n",
       "        [ 9.00220326,  3.33904719,  1.        ],\n",
       "        [ 7.44454233,  0.47668338,  1.        ],\n",
       "        [10.12493903,  3.23455098,  1.        ],\n",
       "        [ 6.64228735,  3.31998376,  1.        ]]),\n",
       " array([[ 2.77124472,  1.78478393,  0.        ],\n",
       "        [ 1.72857131,  1.16976141,  0.        ],\n",
       "        [ 3.67831985,  2.81281357,  0.        ],\n",
       "        [ 3.96104336,  2.61995032,  0.        ],\n",
       "        [ 2.99920892,  2.20901421,  0.        ],\n",
       "        [ 7.49754587,  3.16295355,  1.        ],\n",
       "        [ 9.00220326,  3.33904719,  1.        ],\n",
       "        [ 7.44454233,  0.47668338,  1.        ],\n",
       "        [10.12493903,  3.23455098,  1.        ],\n",
       "        [ 6.64228735,  3.31998376,  1.        ]]),\n",
       " array([[ 2.77124472,  1.78478393,  0.        ],\n",
       "        [ 1.72857131,  1.16976141,  0.        ],\n",
       "        [ 3.67831985,  2.81281357,  0.        ],\n",
       "        [ 3.96104336,  2.61995032,  0.        ],\n",
       "        [ 2.99920892,  2.20901421,  0.        ],\n",
       "        [ 7.49754587,  3.16295355,  1.        ],\n",
       "        [ 9.00220326,  3.33904719,  1.        ],\n",
       "        [ 7.44454233,  0.47668338,  1.        ],\n",
       "        [10.12493903,  3.23455098,  1.        ],\n",
       "        [ 6.64228735,  3.31998376,  1.        ]]),\n",
       " array([[ 2.77124472,  1.78478393,  0.        ],\n",
       "        [ 1.72857131,  1.16976141,  0.        ],\n",
       "        [ 3.67831985,  2.81281357,  0.        ],\n",
       "        [ 3.96104336,  2.61995032,  0.        ],\n",
       "        [ 2.99920892,  2.20901421,  0.        ],\n",
       "        [ 7.49754587,  3.16295355,  1.        ],\n",
       "        [ 9.00220326,  3.33904719,  1.        ],\n",
       "        [ 7.44454233,  0.47668338,  1.        ],\n",
       "        [10.12493903,  3.23455098,  1.        ],\n",
       "        [ 6.64228735,  3.31998376,  1.        ]]),\n",
       " array([[ 2.77124472,  1.78478393,  0.        ],\n",
       "        [ 1.72857131,  1.16976141,  0.        ],\n",
       "        [ 3.67831985,  2.81281357,  0.        ],\n",
       "        [ 3.96104336,  2.61995032,  0.        ],\n",
       "        [ 2.99920892,  2.20901421,  0.        ],\n",
       "        [ 7.49754587,  3.16295355,  1.        ],\n",
       "        [ 9.00220326,  3.33904719,  1.        ],\n",
       "        [ 7.44454233,  0.47668338,  1.        ],\n",
       "        [10.12493903,  3.23455098,  1.        ],\n",
       "        [ 6.64228735,  3.31998376,  1.        ]]),\n",
       " array([[ 1.72857131,  1.16976141,  0.        ],\n",
       "        [ 3.67831985,  2.81281357,  0.        ],\n",
       "        [ 3.96104336,  2.61995032,  0.        ],\n",
       "        [ 2.99920892,  2.20901421,  0.        ],\n",
       "        [ 7.49754587,  3.16295355,  1.        ],\n",
       "        [ 9.00220326,  3.33904719,  1.        ],\n",
       "        [ 7.44454233,  0.47668338,  1.        ],\n",
       "        [10.12493903,  3.23455098,  1.        ],\n",
       "        [ 6.64228735,  3.31998376,  1.        ]]),\n",
       " array([[ 1.72857131,  1.16976141,  0.        ],\n",
       "        [ 3.67831985,  2.81281357,  0.        ],\n",
       "        [ 3.96104336,  2.61995032,  0.        ],\n",
       "        [ 2.99920892,  2.20901421,  0.        ],\n",
       "        [ 7.49754587,  3.16295355,  1.        ],\n",
       "        [ 9.00220326,  3.33904719,  1.        ],\n",
       "        [ 7.44454233,  0.47668338,  1.        ],\n",
       "        [10.12493903,  3.23455098,  1.        ],\n",
       "        [ 6.64228735,  3.31998376,  1.        ]]),\n",
       " array([[ 1.72857131,  1.16976141,  0.        ],\n",
       "        [ 3.67831985,  2.81281357,  0.        ],\n",
       "        [ 3.96104336,  2.61995032,  0.        ],\n",
       "        [ 2.99920892,  2.20901421,  0.        ],\n",
       "        [ 7.49754587,  3.16295355,  1.        ],\n",
       "        [ 9.00220326,  3.33904719,  1.        ],\n",
       "        [ 7.44454233,  0.47668338,  1.        ],\n",
       "        [10.12493903,  3.23455098,  1.        ],\n",
       "        [ 6.64228735,  3.31998376,  1.        ]]),\n",
       " array([[ 1.72857131,  1.16976141,  0.        ],\n",
       "        [ 3.67831985,  2.81281357,  0.        ],\n",
       "        [ 3.96104336,  2.61995032,  0.        ],\n",
       "        [ 2.99920892,  2.20901421,  0.        ],\n",
       "        [ 7.49754587,  3.16295355,  1.        ],\n",
       "        [ 9.00220326,  3.33904719,  1.        ],\n",
       "        [ 7.44454233,  0.47668338,  1.        ],\n",
       "        [10.12493903,  3.23455098,  1.        ],\n",
       "        [ 6.64228735,  3.31998376,  1.        ]]),\n",
       " array([[ 1.72857131,  1.16976141,  0.        ],\n",
       "        [ 3.67831985,  2.81281357,  0.        ],\n",
       "        [ 3.96104336,  2.61995032,  0.        ],\n",
       "        [ 2.99920892,  2.20901421,  0.        ],\n",
       "        [ 7.49754587,  3.16295355,  1.        ],\n",
       "        [ 9.00220326,  3.33904719,  1.        ],\n",
       "        [ 7.44454233,  0.47668338,  1.        ],\n",
       "        [10.12493903,  3.23455098,  1.        ],\n",
       "        [ 6.64228735,  3.31998376,  1.        ]]),\n",
       " array([[ 1.72857131,  1.16976141,  0.        ],\n",
       "        [ 3.67831985,  2.81281357,  0.        ],\n",
       "        [ 3.96104336,  2.61995032,  0.        ],\n",
       "        [ 2.99920892,  2.20901421,  0.        ],\n",
       "        [ 7.49754587,  3.16295355,  1.        ],\n",
       "        [ 9.00220326,  3.33904719,  1.        ],\n",
       "        [ 7.44454233,  0.47668338,  1.        ],\n",
       "        [10.12493903,  3.23455098,  1.        ],\n",
       "        [ 6.64228735,  3.31998376,  1.        ]]),\n",
       " array([[ 1.72857131,  1.16976141,  0.        ],\n",
       "        [ 3.67831985,  2.81281357,  0.        ],\n",
       "        [ 3.96104336,  2.61995032,  0.        ],\n",
       "        [ 2.99920892,  2.20901421,  0.        ],\n",
       "        [ 7.49754587,  3.16295355,  1.        ],\n",
       "        [ 9.00220326,  3.33904719,  1.        ],\n",
       "        [ 7.44454233,  0.47668338,  1.        ],\n",
       "        [10.12493903,  3.23455098,  1.        ],\n",
       "        [ 6.64228735,  3.31998376,  1.        ]]),\n",
       " array([[ 1.72857131,  1.16976141,  0.        ],\n",
       "        [ 3.67831985,  2.81281357,  0.        ],\n",
       "        [ 3.96104336,  2.61995032,  0.        ],\n",
       "        [ 2.99920892,  2.20901421,  0.        ],\n",
       "        [ 7.49754587,  3.16295355,  1.        ],\n",
       "        [ 9.00220326,  3.33904719,  1.        ],\n",
       "        [ 7.44454233,  0.47668338,  1.        ],\n",
       "        [10.12493903,  3.23455098,  1.        ],\n",
       "        [ 6.64228735,  3.31998376,  1.        ]]),\n",
       " array([[ 1.72857131,  1.16976141,  0.        ],\n",
       "        [ 3.67831985,  2.81281357,  0.        ],\n",
       "        [ 3.96104336,  2.61995032,  0.        ],\n",
       "        [ 2.99920892,  2.20901421,  0.        ],\n",
       "        [ 7.49754587,  3.16295355,  1.        ],\n",
       "        [ 9.00220326,  3.33904719,  1.        ],\n",
       "        [ 7.44454233,  0.47668338,  1.        ],\n",
       "        [10.12493903,  3.23455098,  1.        ],\n",
       "        [ 6.64228735,  3.31998376,  1.        ]]),\n",
       " array([[ 1.72857131,  1.16976141,  0.        ],\n",
       "        [ 3.67831985,  2.81281357,  0.        ],\n",
       "        [ 3.96104336,  2.61995032,  0.        ],\n",
       "        [ 2.99920892,  2.20901421,  0.        ],\n",
       "        [ 7.49754587,  3.16295355,  1.        ],\n",
       "        [ 9.00220326,  3.33904719,  1.        ],\n",
       "        [ 7.44454233,  0.47668338,  1.        ],\n",
       "        [10.12493903,  3.23455098,  1.        ],\n",
       "        [ 6.64228735,  3.31998376,  1.        ]]),\n",
       " array([[ 3.67831985,  2.81281357,  0.        ],\n",
       "        [ 3.96104336,  2.61995032,  0.        ],\n",
       "        [ 2.99920892,  2.20901421,  0.        ],\n",
       "        [ 7.49754587,  3.16295355,  1.        ],\n",
       "        [ 9.00220326,  3.33904719,  1.        ],\n",
       "        [ 7.44454233,  0.47668338,  1.        ],\n",
       "        [10.12493903,  3.23455098,  1.        ],\n",
       "        [ 6.64228735,  3.31998376,  1.        ]]),\n",
       " array([[ 3.67831985,  2.81281357,  0.        ],\n",
       "        [ 3.96104336,  2.61995032,  0.        ],\n",
       "        [ 2.99920892,  2.20901421,  0.        ],\n",
       "        [ 7.49754587,  3.16295355,  1.        ],\n",
       "        [ 9.00220326,  3.33904719,  1.        ],\n",
       "        [ 7.44454233,  0.47668338,  1.        ],\n",
       "        [10.12493903,  3.23455098,  1.        ],\n",
       "        [ 6.64228735,  3.31998376,  1.        ]]),\n",
       " array([[ 3.67831985,  2.81281357,  0.        ],\n",
       "        [ 3.96104336,  2.61995032,  0.        ],\n",
       "        [ 2.99920892,  2.20901421,  0.        ],\n",
       "        [ 7.49754587,  3.16295355,  1.        ],\n",
       "        [ 9.00220326,  3.33904719,  1.        ],\n",
       "        [ 7.44454233,  0.47668338,  1.        ],\n",
       "        [10.12493903,  3.23455098,  1.        ],\n",
       "        [ 6.64228735,  3.31998376,  1.        ]]),\n",
       " array([[ 3.67831985,  2.81281357,  0.        ],\n",
       "        [ 3.96104336,  2.61995032,  0.        ],\n",
       "        [ 2.99920892,  2.20901421,  0.        ],\n",
       "        [ 7.49754587,  3.16295355,  1.        ],\n",
       "        [ 9.00220326,  3.33904719,  1.        ],\n",
       "        [ 7.44454233,  0.47668338,  1.        ],\n",
       "        [10.12493903,  3.23455098,  1.        ],\n",
       "        [ 6.64228735,  3.31998376,  1.        ]]),\n",
       " array([[ 3.67831985,  2.81281357,  0.        ],\n",
       "        [ 3.96104336,  2.61995032,  0.        ],\n",
       "        [ 2.99920892,  2.20901421,  0.        ],\n",
       "        [ 7.49754587,  3.16295355,  1.        ],\n",
       "        [ 9.00220326,  3.33904719,  1.        ],\n",
       "        [ 7.44454233,  0.47668338,  1.        ],\n",
       "        [10.12493903,  3.23455098,  1.        ],\n",
       "        [ 6.64228735,  3.31998376,  1.        ]]),\n",
       " array([[ 3.67831985,  2.81281357,  0.        ],\n",
       "        [ 3.96104336,  2.61995032,  0.        ],\n",
       "        [ 2.99920892,  2.20901421,  0.        ],\n",
       "        [ 7.49754587,  3.16295355,  1.        ],\n",
       "        [ 9.00220326,  3.33904719,  1.        ],\n",
       "        [ 7.44454233,  0.47668338,  1.        ],\n",
       "        [10.12493903,  3.23455098,  1.        ],\n",
       "        [ 6.64228735,  3.31998376,  1.        ]]),\n",
       " array([[ 3.67831985,  2.81281357,  0.        ],\n",
       "        [ 3.96104336,  2.61995032,  0.        ],\n",
       "        [ 2.99920892,  2.20901421,  0.        ],\n",
       "        [ 7.49754587,  3.16295355,  1.        ],\n",
       "        [ 9.00220326,  3.33904719,  1.        ],\n",
       "        [ 7.44454233,  0.47668338,  1.        ],\n",
       "        [10.12493903,  3.23455098,  1.        ],\n",
       "        [ 6.64228735,  3.31998376,  1.        ]]),\n",
       " array([[ 3.67831985,  2.81281357,  0.        ],\n",
       "        [ 3.96104336,  2.61995032,  0.        ],\n",
       "        [ 2.99920892,  2.20901421,  0.        ],\n",
       "        [ 7.49754587,  3.16295355,  1.        ],\n",
       "        [ 9.00220326,  3.33904719,  1.        ],\n",
       "        [ 7.44454233,  0.47668338,  1.        ],\n",
       "        [10.12493903,  3.23455098,  1.        ],\n",
       "        [ 6.64228735,  3.31998376,  1.        ]]),\n",
       " array([[ 3.67831985,  2.81281357,  0.        ],\n",
       "        [ 3.96104336,  2.61995032,  0.        ],\n",
       "        [ 2.99920892,  2.20901421,  0.        ],\n",
       "        [ 7.49754587,  3.16295355,  1.        ],\n",
       "        [ 9.00220326,  3.33904719,  1.        ],\n",
       "        [ 7.44454233,  0.47668338,  1.        ],\n",
       "        [10.12493903,  3.23455098,  1.        ],\n",
       "        [ 6.64228735,  3.31998376,  1.        ]]),\n",
       " array([[ 3.67831985,  2.81281357,  0.        ],\n",
       "        [ 3.96104336,  2.61995032,  0.        ],\n",
       "        [ 2.99920892,  2.20901421,  0.        ],\n",
       "        [ 7.49754587,  3.16295355,  1.        ],\n",
       "        [ 9.00220326,  3.33904719,  1.        ],\n",
       "        [ 7.44454233,  0.47668338,  1.        ],\n",
       "        [10.12493903,  3.23455098,  1.        ],\n",
       "        [ 6.64228735,  3.31998376,  1.        ]]),\n",
       " array([[ 3.96104336,  2.61995032,  0.        ],\n",
       "        [ 2.99920892,  2.20901421,  0.        ],\n",
       "        [ 7.49754587,  3.16295355,  1.        ],\n",
       "        [ 9.00220326,  3.33904719,  1.        ],\n",
       "        [ 7.44454233,  0.47668338,  1.        ],\n",
       "        [10.12493903,  3.23455098,  1.        ],\n",
       "        [ 6.64228735,  3.31998376,  1.        ]]),\n",
       " array([[ 3.96104336,  2.61995032,  0.        ],\n",
       "        [ 2.99920892,  2.20901421,  0.        ],\n",
       "        [ 7.49754587,  3.16295355,  1.        ],\n",
       "        [ 9.00220326,  3.33904719,  1.        ],\n",
       "        [ 7.44454233,  0.47668338,  1.        ],\n",
       "        [10.12493903,  3.23455098,  1.        ],\n",
       "        [ 6.64228735,  3.31998376,  1.        ]]),\n",
       " array([[ 3.96104336,  2.61995032,  0.        ],\n",
       "        [ 2.99920892,  2.20901421,  0.        ],\n",
       "        [ 7.49754587,  3.16295355,  1.        ],\n",
       "        [ 9.00220326,  3.33904719,  1.        ],\n",
       "        [ 7.44454233,  0.47668338,  1.        ],\n",
       "        [10.12493903,  3.23455098,  1.        ],\n",
       "        [ 6.64228735,  3.31998376,  1.        ]]),\n",
       " array([[ 3.96104336,  2.61995032,  0.        ],\n",
       "        [ 2.99920892,  2.20901421,  0.        ],\n",
       "        [ 7.49754587,  3.16295355,  1.        ],\n",
       "        [ 9.00220326,  3.33904719,  1.        ],\n",
       "        [ 7.44454233,  0.47668338,  1.        ],\n",
       "        [10.12493903,  3.23455098,  1.        ],\n",
       "        [ 6.64228735,  3.31998376,  1.        ]]),\n",
       " array([[ 3.96104336,  2.61995032,  0.        ],\n",
       "        [ 2.99920892,  2.20901421,  0.        ],\n",
       "        [ 7.49754587,  3.16295355,  1.        ],\n",
       "        [ 9.00220326,  3.33904719,  1.        ],\n",
       "        [ 7.44454233,  0.47668338,  1.        ],\n",
       "        [10.12493903,  3.23455098,  1.        ],\n",
       "        [ 6.64228735,  3.31998376,  1.        ]]),\n",
       " array([[ 3.96104336,  2.61995032,  0.        ],\n",
       "        [ 2.99920892,  2.20901421,  0.        ],\n",
       "        [ 7.49754587,  3.16295355,  1.        ],\n",
       "        [ 9.00220326,  3.33904719,  1.        ],\n",
       "        [ 7.44454233,  0.47668338,  1.        ],\n",
       "        [10.12493903,  3.23455098,  1.        ],\n",
       "        [ 6.64228735,  3.31998376,  1.        ]]),\n",
       " array([[ 3.96104336,  2.61995032,  0.        ],\n",
       "        [ 2.99920892,  2.20901421,  0.        ],\n",
       "        [ 7.49754587,  3.16295355,  1.        ],\n",
       "        [ 9.00220326,  3.33904719,  1.        ],\n",
       "        [ 7.44454233,  0.47668338,  1.        ],\n",
       "        [10.12493903,  3.23455098,  1.        ],\n",
       "        [ 6.64228735,  3.31998376,  1.        ]]),\n",
       " array([[ 3.96104336,  2.61995032,  0.        ],\n",
       "        [ 2.99920892,  2.20901421,  0.        ],\n",
       "        [ 7.49754587,  3.16295355,  1.        ],\n",
       "        [ 9.00220326,  3.33904719,  1.        ],\n",
       "        [ 7.44454233,  0.47668338,  1.        ],\n",
       "        [10.12493903,  3.23455098,  1.        ],\n",
       "        [ 6.64228735,  3.31998376,  1.        ]]),\n",
       " array([[ 3.96104336,  2.61995032,  0.        ],\n",
       "        [ 2.99920892,  2.20901421,  0.        ],\n",
       "        [ 7.49754587,  3.16295355,  1.        ],\n",
       "        [ 9.00220326,  3.33904719,  1.        ],\n",
       "        [ 7.44454233,  0.47668338,  1.        ],\n",
       "        [10.12493903,  3.23455098,  1.        ],\n",
       "        [ 6.64228735,  3.31998376,  1.        ]]),\n",
       " array([[ 3.96104336,  2.61995032,  0.        ],\n",
       "        [ 2.99920892,  2.20901421,  0.        ],\n",
       "        [ 7.49754587,  3.16295355,  1.        ],\n",
       "        [ 9.00220326,  3.33904719,  1.        ],\n",
       "        [ 7.44454233,  0.47668338,  1.        ],\n",
       "        [10.12493903,  3.23455098,  1.        ],\n",
       "        [ 6.64228735,  3.31998376,  1.        ]]),\n",
       " array([[ 2.99920892,  2.20901421,  0.        ],\n",
       "        [ 7.49754587,  3.16295355,  1.        ],\n",
       "        [ 9.00220326,  3.33904719,  1.        ],\n",
       "        [ 7.44454233,  0.47668338,  1.        ],\n",
       "        [10.12493903,  3.23455098,  1.        ],\n",
       "        [ 6.64228735,  3.31998376,  1.        ]]),\n",
       " array([[ 2.99920892,  2.20901421,  0.        ],\n",
       "        [ 7.49754587,  3.16295355,  1.        ],\n",
       "        [ 9.00220326,  3.33904719,  1.        ],\n",
       "        [ 7.44454233,  0.47668338,  1.        ],\n",
       "        [10.12493903,  3.23455098,  1.        ],\n",
       "        [ 6.64228735,  3.31998376,  1.        ]]),\n",
       " array([[ 2.99920892,  2.20901421,  0.        ],\n",
       "        [ 7.49754587,  3.16295355,  1.        ],\n",
       "        [ 9.00220326,  3.33904719,  1.        ],\n",
       "        [ 7.44454233,  0.47668338,  1.        ],\n",
       "        [10.12493903,  3.23455098,  1.        ],\n",
       "        [ 6.64228735,  3.31998376,  1.        ]]),\n",
       " array([[ 2.99920892,  2.20901421,  0.        ],\n",
       "        [ 7.49754587,  3.16295355,  1.        ],\n",
       "        [ 9.00220326,  3.33904719,  1.        ],\n",
       "        [ 7.44454233,  0.47668338,  1.        ],\n",
       "        [10.12493903,  3.23455098,  1.        ],\n",
       "        [ 6.64228735,  3.31998376,  1.        ]]),\n",
       " array([[ 2.99920892,  2.20901421,  0.        ],\n",
       "        [ 7.49754587,  3.16295355,  1.        ],\n",
       "        [ 9.00220326,  3.33904719,  1.        ],\n",
       "        [ 7.44454233,  0.47668338,  1.        ],\n",
       "        [10.12493903,  3.23455098,  1.        ],\n",
       "        [ 6.64228735,  3.31998376,  1.        ]]),\n",
       " array([[ 2.99920892,  2.20901421,  0.        ],\n",
       "        [ 7.49754587,  3.16295355,  1.        ],\n",
       "        [ 9.00220326,  3.33904719,  1.        ],\n",
       "        [ 7.44454233,  0.47668338,  1.        ],\n",
       "        [10.12493903,  3.23455098,  1.        ],\n",
       "        [ 6.64228735,  3.31998376,  1.        ]]),\n",
       " array([[ 2.99920892,  2.20901421,  0.        ],\n",
       "        [ 7.49754587,  3.16295355,  1.        ],\n",
       "        [ 9.00220326,  3.33904719,  1.        ],\n",
       "        [ 7.44454233,  0.47668338,  1.        ],\n",
       "        [10.12493903,  3.23455098,  1.        ],\n",
       "        [ 6.64228735,  3.31998376,  1.        ]]),\n",
       " array([[ 2.99920892,  2.20901421,  0.        ],\n",
       "        [ 7.49754587,  3.16295355,  1.        ],\n",
       "        [ 9.00220326,  3.33904719,  1.        ],\n",
       "        [ 7.44454233,  0.47668338,  1.        ],\n",
       "        [10.12493903,  3.23455098,  1.        ],\n",
       "        [ 6.64228735,  3.31998376,  1.        ]]),\n",
       " array([[ 2.99920892,  2.20901421,  0.        ],\n",
       "        [ 7.49754587,  3.16295355,  1.        ],\n",
       "        [ 9.00220326,  3.33904719,  1.        ],\n",
       "        [ 7.44454233,  0.47668338,  1.        ],\n",
       "        [10.12493903,  3.23455098,  1.        ],\n",
       "        [ 6.64228735,  3.31998376,  1.        ]]),\n",
       " array([[ 2.99920892,  2.20901421,  0.        ],\n",
       "        [ 7.49754587,  3.16295355,  1.        ],\n",
       "        [ 9.00220326,  3.33904719,  1.        ],\n",
       "        [ 7.44454233,  0.47668338,  1.        ],\n",
       "        [10.12493903,  3.23455098,  1.        ],\n",
       "        [ 6.64228735,  3.31998376,  1.        ]]),\n",
       " array([[ 7.49754587,  3.16295355,  1.        ],\n",
       "        [ 9.00220326,  3.33904719,  1.        ],\n",
       "        [ 7.44454233,  0.47668338,  1.        ],\n",
       "        [10.12493903,  3.23455098,  1.        ],\n",
       "        [ 6.64228735,  3.31998376,  1.        ]]),\n",
       " array([[ 7.49754587,  3.16295355,  1.        ],\n",
       "        [ 9.00220326,  3.33904719,  1.        ],\n",
       "        [ 7.44454233,  0.47668338,  1.        ],\n",
       "        [10.12493903,  3.23455098,  1.        ],\n",
       "        [ 6.64228735,  3.31998376,  1.        ]]),\n",
       " array([[ 7.49754587,  3.16295355,  1.        ],\n",
       "        [ 9.00220326,  3.33904719,  1.        ],\n",
       "        [ 7.44454233,  0.47668338,  1.        ],\n",
       "        [10.12493903,  3.23455098,  1.        ],\n",
       "        [ 6.64228735,  3.31998376,  1.        ]]),\n",
       " array([[ 7.49754587,  3.16295355,  1.        ],\n",
       "        [ 9.00220326,  3.33904719,  1.        ],\n",
       "        [ 7.44454233,  0.47668338,  1.        ],\n",
       "        [10.12493903,  3.23455098,  1.        ],\n",
       "        [ 6.64228735,  3.31998376,  1.        ]]),\n",
       " array([[ 7.49754587,  3.16295355,  1.        ],\n",
       "        [ 9.00220326,  3.33904719,  1.        ],\n",
       "        [ 7.44454233,  0.47668338,  1.        ],\n",
       "        [10.12493903,  3.23455098,  1.        ],\n",
       "        [ 6.64228735,  3.31998376,  1.        ]]),\n",
       " array([[ 7.49754587,  3.16295355,  1.        ],\n",
       "        [ 9.00220326,  3.33904719,  1.        ],\n",
       "        [ 7.44454233,  0.47668338,  1.        ],\n",
       "        [10.12493903,  3.23455098,  1.        ],\n",
       "        [ 6.64228735,  3.31998376,  1.        ]]),\n",
       " array([[ 7.49754587,  3.16295355,  1.        ],\n",
       "        [ 9.00220326,  3.33904719,  1.        ],\n",
       "        [ 7.44454233,  0.47668338,  1.        ],\n",
       "        [10.12493903,  3.23455098,  1.        ],\n",
       "        [ 6.64228735,  3.31998376,  1.        ]]),\n",
       " array([[ 7.49754587,  3.16295355,  1.        ],\n",
       "        [ 9.00220326,  3.33904719,  1.        ],\n",
       "        [ 7.44454233,  0.47668338,  1.        ],\n",
       "        [10.12493903,  3.23455098,  1.        ],\n",
       "        [ 6.64228735,  3.31998376,  1.        ]]),\n",
       " array([[ 7.49754587,  3.16295355,  1.        ],\n",
       "        [ 9.00220326,  3.33904719,  1.        ],\n",
       "        [ 7.44454233,  0.47668338,  1.        ],\n",
       "        [10.12493903,  3.23455098,  1.        ],\n",
       "        [ 6.64228735,  3.31998376,  1.        ]]),\n",
       " array([[ 7.49754587,  3.16295355,  1.        ],\n",
       "        [ 9.00220326,  3.33904719,  1.        ],\n",
       "        [ 7.44454233,  0.47668338,  1.        ],\n",
       "        [10.12493903,  3.23455098,  1.        ],\n",
       "        [ 6.64228735,  3.31998376,  1.        ]]),\n",
       " array([[ 9.00220326,  3.33904719,  1.        ],\n",
       "        [ 7.44454233,  0.47668338,  1.        ],\n",
       "        [10.12493903,  3.23455098,  1.        ],\n",
       "        [ 6.64228735,  3.31998376,  1.        ]]),\n",
       " array([[ 9.00220326,  3.33904719,  1.        ],\n",
       "        [ 7.44454233,  0.47668338,  1.        ],\n",
       "        [10.12493903,  3.23455098,  1.        ],\n",
       "        [ 6.64228735,  3.31998376,  1.        ]]),\n",
       " array([[ 9.00220326,  3.33904719,  1.        ],\n",
       "        [ 7.44454233,  0.47668338,  1.        ],\n",
       "        [10.12493903,  3.23455098,  1.        ],\n",
       "        [ 6.64228735,  3.31998376,  1.        ]]),\n",
       " array([[ 9.00220326,  3.33904719,  1.        ],\n",
       "        [ 7.44454233,  0.47668338,  1.        ],\n",
       "        [10.12493903,  3.23455098,  1.        ],\n",
       "        [ 6.64228735,  3.31998376,  1.        ]]),\n",
       " array([[ 9.00220326,  3.33904719,  1.        ],\n",
       "        [ 7.44454233,  0.47668338,  1.        ],\n",
       "        [10.12493903,  3.23455098,  1.        ],\n",
       "        [ 6.64228735,  3.31998376,  1.        ]]),\n",
       " array([[ 9.00220326,  3.33904719,  1.        ],\n",
       "        [ 7.44454233,  0.47668338,  1.        ],\n",
       "        [10.12493903,  3.23455098,  1.        ],\n",
       "        [ 6.64228735,  3.31998376,  1.        ]]),\n",
       " array([[ 9.00220326,  3.33904719,  1.        ],\n",
       "        [ 7.44454233,  0.47668338,  1.        ],\n",
       "        [10.12493903,  3.23455098,  1.        ],\n",
       "        [ 6.64228735,  3.31998376,  1.        ]]),\n",
       " array([[ 9.00220326,  3.33904719,  1.        ],\n",
       "        [ 7.44454233,  0.47668338,  1.        ],\n",
       "        [10.12493903,  3.23455098,  1.        ],\n",
       "        [ 6.64228735,  3.31998376,  1.        ]]),\n",
       " array([[ 9.00220326,  3.33904719,  1.        ],\n",
       "        [ 7.44454233,  0.47668338,  1.        ],\n",
       "        [10.12493903,  3.23455098,  1.        ],\n",
       "        [ 6.64228735,  3.31998376,  1.        ]]),\n",
       " array([[ 9.00220326,  3.33904719,  1.        ],\n",
       "        [ 7.44454233,  0.47668338,  1.        ],\n",
       "        [10.12493903,  3.23455098,  1.        ],\n",
       "        [ 6.64228735,  3.31998376,  1.        ]]),\n",
       " array([[ 7.44454233,  0.47668338,  1.        ],\n",
       "        [10.12493903,  3.23455098,  1.        ],\n",
       "        [ 6.64228735,  3.31998376,  1.        ]]),\n",
       " array([[ 7.44454233,  0.47668338,  1.        ],\n",
       "        [10.12493903,  3.23455098,  1.        ],\n",
       "        [ 6.64228735,  3.31998376,  1.        ]]),\n",
       " array([[ 7.44454233,  0.47668338,  1.        ],\n",
       "        [10.12493903,  3.23455098,  1.        ],\n",
       "        [ 6.64228735,  3.31998376,  1.        ]]),\n",
       " array([[ 7.44454233,  0.47668338,  1.        ],\n",
       "        [10.12493903,  3.23455098,  1.        ],\n",
       "        [ 6.64228735,  3.31998376,  1.        ]]),\n",
       " array([[ 7.44454233,  0.47668338,  1.        ],\n",
       "        [10.12493903,  3.23455098,  1.        ],\n",
       "        [ 6.64228735,  3.31998376,  1.        ]]),\n",
       " array([[ 7.44454233,  0.47668338,  1.        ],\n",
       "        [10.12493903,  3.23455098,  1.        ],\n",
       "        [ 6.64228735,  3.31998376,  1.        ]]),\n",
       " array([[ 7.44454233,  0.47668338,  1.        ],\n",
       "        [10.12493903,  3.23455098,  1.        ],\n",
       "        [ 6.64228735,  3.31998376,  1.        ]]),\n",
       " array([[ 7.44454233,  0.47668338,  1.        ],\n",
       "        [10.12493903,  3.23455098,  1.        ],\n",
       "        [ 6.64228735,  3.31998376,  1.        ]]),\n",
       " array([[ 7.44454233,  0.47668338,  1.        ],\n",
       "        [10.12493903,  3.23455098,  1.        ],\n",
       "        [ 6.64228735,  3.31998376,  1.        ]]),\n",
       " array([[ 7.44454233,  0.47668338,  1.        ],\n",
       "        [10.12493903,  3.23455098,  1.        ],\n",
       "        [ 6.64228735,  3.31998376,  1.        ]]),\n",
       " array([[10.12493903,  3.23455098,  1.        ],\n",
       "        [ 6.64228735,  3.31998376,  1.        ]]),\n",
       " array([[10.12493903,  3.23455098,  1.        ],\n",
       "        [ 6.64228735,  3.31998376,  1.        ]]),\n",
       " array([[10.12493903,  3.23455098,  1.        ],\n",
       "        [ 6.64228735,  3.31998376,  1.        ]]),\n",
       " array([[10.12493903,  3.23455098,  1.        ],\n",
       "        [ 6.64228735,  3.31998376,  1.        ]]),\n",
       " array([[10.12493903,  3.23455098,  1.        ],\n",
       "        [ 6.64228735,  3.31998376,  1.        ]]),\n",
       " array([[10.12493903,  3.23455098,  1.        ],\n",
       "        [ 6.64228735,  3.31998376,  1.        ]]),\n",
       " array([[10.12493903,  3.23455098,  1.        ],\n",
       "        [ 6.64228735,  3.31998376,  1.        ]]),\n",
       " array([[10.12493903,  3.23455098,  1.        ],\n",
       "        [ 6.64228735,  3.31998376,  1.        ]]),\n",
       " array([[10.12493903,  3.23455098,  1.        ],\n",
       "        [ 6.64228735,  3.31998376,  1.        ]]),\n",
       " array([[10.12493903,  3.23455098,  1.        ],\n",
       "        [ 6.64228735,  3.31998376,  1.        ]]),\n",
       " array([[6.64228735, 3.31998376, 1.        ]]),\n",
       " array([[6.64228735, 3.31998376, 1.        ]]),\n",
       " array([[6.64228735, 3.31998376, 1.        ]]),\n",
       " array([[6.64228735, 3.31998376, 1.        ]]),\n",
       " array([[6.64228735, 3.31998376, 1.        ]]),\n",
       " array([[6.64228735, 3.31998376, 1.        ]]),\n",
       " array([[6.64228735, 3.31998376, 1.        ]]),\n",
       " array([[6.64228735, 3.31998376, 1.        ]]),\n",
       " array([[6.64228735, 3.31998376, 1.        ]]),\n",
       " array([[6.64228735, 3.31998376, 1.        ]]),\n",
       " array([], shape=(0, 3), dtype=float64),\n",
       " array([], shape=(0, 3), dtype=float64),\n",
       " array([], shape=(0, 3), dtype=float64),\n",
       " array([], shape=(0, 3), dtype=float64),\n",
       " array([], shape=(0, 3), dtype=float64),\n",
       " array([], shape=(0, 3), dtype=float64),\n",
       " array([], shape=(0, 3), dtype=float64),\n",
       " array([], shape=(0, 3), dtype=float64),\n",
       " array([], shape=(0, 3), dtype=float64),\n",
       " array([], shape=(0, 3), dtype=float64)]"
      ]
     },
     "execution_count": 388,
     "metadata": {},
     "output_type": "execute_result"
    }
   ],
   "source": [
    "pattern_making(train)"
   ]
  },
  {
   "cell_type": "code",
   "execution_count": 395,
   "metadata": {},
   "outputs": [],
   "source": [
    "#パターンごとに、gini係数を計算してリストに吐き出す\n",
    "def jimmy(new_trains):\n",
    "    jimmy = []\n",
    "    for k in range(0, 100):\n",
    "        calc_gini = gini(new_trains[k])\n",
    "        jimmy.append(calc_gini)\n",
    "    return jimmy"
   ]
  },
  {
   "cell_type": "code",
   "execution_count": 396,
   "metadata": {
    "scrolled": true
   },
   "outputs": [
    {
     "data": {
      "text/plain": [
       "[0.5,\n",
       " 0.5,\n",
       " 0.5,\n",
       " 0.5,\n",
       " 0.5,\n",
       " 0.5,\n",
       " 0.5,\n",
       " 0.5,\n",
       " 0.5,\n",
       " 0.5,\n",
       " 0.49382716049382713,\n",
       " 0.49382716049382713,\n",
       " 0.49382716049382713,\n",
       " 0.49382716049382713,\n",
       " 0.49382716049382713,\n",
       " 0.49382716049382713,\n",
       " 0.49382716049382713,\n",
       " 0.49382716049382713,\n",
       " 0.49382716049382713,\n",
       " 0.49382716049382713,\n",
       " 0.46875,\n",
       " 0.46875,\n",
       " 0.46875,\n",
       " 0.46875,\n",
       " 0.46875,\n",
       " 0.46875,\n",
       " 0.46875,\n",
       " 0.46875,\n",
       " 0.46875,\n",
       " 0.46875,\n",
       " 0.40816326530612246,\n",
       " 0.40816326530612246,\n",
       " 0.40816326530612246,\n",
       " 0.40816326530612246,\n",
       " 0.40816326530612246,\n",
       " 0.40816326530612246,\n",
       " 0.40816326530612246,\n",
       " 0.40816326530612246,\n",
       " 0.40816326530612246,\n",
       " 0.40816326530612246,\n",
       " 0.2777777777777777,\n",
       " 0.2777777777777777,\n",
       " 0.2777777777777777,\n",
       " 0.2777777777777777,\n",
       " 0.2777777777777777,\n",
       " 0.2777777777777777,\n",
       " 0.2777777777777777,\n",
       " 0.2777777777777777,\n",
       " 0.2777777777777777,\n",
       " 0.2777777777777777,\n",
       " 1,\n",
       " 1,\n",
       " 1,\n",
       " 1,\n",
       " 1,\n",
       " 1,\n",
       " 1,\n",
       " 1,\n",
       " 1,\n",
       " 1,\n",
       " 1,\n",
       " 1,\n",
       " 1,\n",
       " 1,\n",
       " 1,\n",
       " 1,\n",
       " 1,\n",
       " 1,\n",
       " 1,\n",
       " 1,\n",
       " 1,\n",
       " 1,\n",
       " 1,\n",
       " 1,\n",
       " 1,\n",
       " 1,\n",
       " 1,\n",
       " 1,\n",
       " 1,\n",
       " 1,\n",
       " 1,\n",
       " 1,\n",
       " 1,\n",
       " 1,\n",
       " 1,\n",
       " 1,\n",
       " 1,\n",
       " 1,\n",
       " 1,\n",
       " 1,\n",
       " 1,\n",
       " 1,\n",
       " 1,\n",
       " 1,\n",
       " 1,\n",
       " 1,\n",
       " 1,\n",
       " 1,\n",
       " 1,\n",
       " 1]"
      ]
     },
     "execution_count": 396,
     "metadata": {},
     "output_type": "execute_result"
    }
   ],
   "source": [
    "jimmy(new_trains)"
   ]
  },
  {
   "cell_type": "markdown",
   "metadata": {},
   "source": [
    "## 最低のGiniの値から、閾値を求める"
   ]
  },
  {
   "cell_type": "code",
   "execution_count": 401,
   "metadata": {},
   "outputs": [],
   "source": [
    "find_min = np.array(jimmy(new_trains))"
   ]
  },
  {
   "cell_type": "code",
   "execution_count": 402,
   "metadata": {},
   "outputs": [
    {
     "data": {
      "text/plain": [
       "0.2777777777777777"
      ]
     },
     "execution_count": 402,
     "metadata": {},
     "output_type": "execute_result"
    }
   ],
   "source": [
    "np.min(find_min)"
   ]
  },
  {
   "cell_type": "code",
   "execution_count": 323,
   "metadata": {},
   "outputs": [
    {
     "data": {
      "text/plain": [
       "array([[ 2.99920892,  2.20901421,  0.        ],\n",
       "       [ 7.49754587,  3.16295355,  1.        ],\n",
       "       [ 9.00220326,  3.33904719,  1.        ],\n",
       "       [ 7.44454233,  0.47668338,  1.        ],\n",
       "       [10.12493903,  3.23455098,  1.        ],\n",
       "       [ 6.64228735,  3.31998376,  1.        ]])"
      ]
     },
     "execution_count": 323,
     "metadata": {},
     "output_type": "execute_result"
    }
   ],
   "source": [
    "threshold = new_trains[40]\n",
    "threshold"
   ]
  },
  {
   "cell_type": "code",
   "execution_count": 196,
   "metadata": {},
   "outputs": [
    {
     "name": "stdout",
     "output_type": "stream",
     "text": [
      "[2.99920892 0.47668338 0.        ]\n"
     ]
    }
   ],
   "source": [
    "#選ばれた要素の中のminを閾値と呼ぶ\n",
    "print(np.min(threshold, axis=0))"
   ]
  },
  {
   "cell_type": "markdown",
   "metadata": {},
   "source": [
    "## 得られた閾値をプロットします"
   ]
  },
  {
   "cell_type": "code",
   "execution_count": 266,
   "metadata": {},
   "outputs": [
    {
     "data": {
      "text/plain": [
       "<matplotlib.collections.LineCollection at 0x1a1c53db70>"
      ]
     },
     "execution_count": 266,
     "metadata": {},
     "output_type": "execute_result"
    },
    {
     "data": {
      "image/png": "[encoded data removed]",
      "text/plain": [
       "<matplotlib.figure.Figure at 0x1a1c53d908>"
      ]
     },
     "metadata": {},
     "output_type": "display_data"
    }
   ],
   "source": [
    "# 散布図\n",
    "ax = sns.regplot(x=\"x0\", y=\"x1\", data=train_df_0, fit_reg=False, color=\"b\")\n",
    "ax = sns.regplot(x=\"x0\", y=\"x1\", data=train_df_1, fit_reg=False, color=\"r\")\n",
    "#plt.vlines(7.44454233, 0,2.20901421, \"m\", linestyle=\":\")\n",
    "plt.hlines(0.47668338, 0,11, \"m\", linestyle=\":\")\n",
    "\n",
    "plt.vlines(2.99920892, 0,4, \"r\", linestyle=\":\")\n",
    "#plt.hlines(2.20901421, 0,11, \"r\", linestyle=\":\")"
   ]
  },
  {
   "cell_type": "markdown",
   "metadata": {},
   "source": [
    "#  自学自習用"
   ]
  },
  {
   "cell_type": "code",
   "execution_count": 313,
   "metadata": {},
   "outputs": [],
   "source": [
    "new_trains = []\n",
    "j = 0\n",
    "for j in range(11):\n",
    "    a=list(range(0,j))\n",
    "    #print(a)\n",
    "\n",
    "    for i in range(len(train)):\n",
    "        new_train = np.delete(train, a, 0)\n",
    "        new_trains.append(new_train)\n",
    "    #print(new_trains)\n",
    "print(new_trains)"
   ]
  },
  {
   "cell_type": "code",
   "execution_count": 403,
   "metadata": {},
   "outputs": [
    {
     "name": "stdout",
     "output_type": "stream",
     "text": [
      "[]\n",
      "[0]\n",
      "[0, 1]\n",
      "[0, 1, 2]\n",
      "[0, 1, 2, 3]\n",
      "[0, 1, 2, 3, 4]\n",
      "[0, 1, 2, 3, 4, 5]\n",
      "[0, 1, 2, 3, 4, 5, 6]\n",
      "[0, 1, 2, 3, 4, 5, 6, 7]\n",
      "[0, 1, 2, 3, 4, 5, 6, 7, 8]\n",
      "[0, 1, 2, 3, 4, 5, 6, 7, 8, 9]\n"
     ]
    }
   ],
   "source": [
    "j = 0\n",
    "for j in range(11):\n",
    "    a=list(range(0,j))\n",
    "    print(a)"
   ]
  },
  {
   "cell_type": "code",
   "execution_count": 406,
   "metadata": {},
   "outputs": [
    {
     "name": "stdout",
     "output_type": "stream",
     "text": [
      "[0]\n",
      "[0, 1]\n",
      "[0, 1, 2]\n",
      "[0, 1, 2, 3]\n",
      "[0, 1, 2, 3, 4]\n",
      "[0, 1, 2, 3, 4, 5]\n",
      "[0, 1, 2, 3, 4, 5, 6]\n",
      "[0, 1, 2, 3, 4, 5, 6, 7]\n",
      "[0, 1, 2, 3, 4, 5, 6, 7, 8]\n",
      "[0, 1, 2, 3, 4, 5, 6, 7, 8, 9]\n",
      "[0, 1, 2, 3, 4, 5, 6, 7, 8, 9, 10]\n"
     ]
    }
   ],
   "source": [
    "l = 0\n",
    "for l in range(11):\n",
    "    b=list(range(0,l+1))\n",
    "    print(b)"
   ]
  },
  {
   "cell_type": "code",
   "execution_count": 115,
   "metadata": {},
   "outputs": [
    {
     "data": {
      "text/plain": [
       "array([[ 2.77124472,  1.78478393,  0.        ],\n",
       "       [ 1.72857131,  1.16976141,  0.        ],\n",
       "       [ 3.67831985,  2.81281357,  0.        ],\n",
       "       [ 3.96104336,  2.61995032,  0.        ],\n",
       "       [ 2.99920892,  2.20901421,  0.        ],\n",
       "       [ 7.49754587,  3.16295355,  1.        ],\n",
       "       [ 9.00220326,  3.33904719,  1.        ],\n",
       "       [ 7.44454233,  0.47668338,  1.        ],\n",
       "       [10.12493903,  3.23455098,  1.        ],\n",
       "       [ 6.64228735,  3.31998376,  1.        ]])"
      ]
     },
     "execution_count": 115,
     "metadata": {},
     "output_type": "execute_result"
    }
   ],
   "source": [
    "train"
   ]
  },
  {
   "cell_type": "code",
   "execution_count": 114,
   "metadata": {},
   "outputs": [
    {
     "data": {
      "text/plain": [
       "array([[ 1.72857131,  1.16976141,  0.        ],\n",
       "       [ 3.67831985,  2.81281357,  0.        ],\n",
       "       [ 3.96104336,  2.61995032,  0.        ],\n",
       "       [ 2.99920892,  2.20901421,  0.        ],\n",
       "       [ 7.49754587,  3.16295355,  1.        ],\n",
       "       [ 9.00220326,  3.33904719,  1.        ],\n",
       "       [ 7.44454233,  0.47668338,  1.        ],\n",
       "       [10.12493903,  3.23455098,  1.        ],\n",
       "       [ 6.64228735,  3.31998376,  1.        ]])"
      ]
     },
     "execution_count": 114,
     "metadata": {},
     "output_type": "execute_result"
    }
   ],
   "source": [
    "new_train = np.delete(train, [0], 0)\n",
    "new_train"
   ]
  },
  {
   "cell_type": "code",
   "execution_count": 117,
   "metadata": {},
   "outputs": [
    {
     "data": {
      "text/plain": [
       "array([[ 3.67831985,  2.81281357,  0.        ],\n",
       "       [ 3.96104336,  2.61995032,  0.        ],\n",
       "       [ 2.99920892,  2.20901421,  0.        ],\n",
       "       [ 7.49754587,  3.16295355,  1.        ],\n",
       "       [ 9.00220326,  3.33904719,  1.        ],\n",
       "       [ 7.44454233,  0.47668338,  1.        ],\n",
       "       [10.12493903,  3.23455098,  1.        ],\n",
       "       [ 6.64228735,  3.31998376,  1.        ]])"
      ]
     },
     "execution_count": 117,
     "metadata": {},
     "output_type": "execute_result"
    }
   ],
   "source": [
    "new_train = np.delete(train, [0, 1], 0)\n",
    "new_train"
   ]
  },
  {
   "cell_type": "code",
   "execution_count": 152,
   "metadata": {},
   "outputs": [
    {
     "name": "stdout",
     "output_type": "stream",
     "text": [
      "[array([[ 1.72857131,  1.16976141,  0.        ],\n",
      "       [ 3.67831985,  2.81281357,  0.        ],\n",
      "       [ 3.96104336,  2.61995032,  0.        ],\n",
      "       [ 2.99920892,  2.20901421,  0.        ],\n",
      "       [ 7.49754587,  3.16295355,  1.        ],\n",
      "       [ 9.00220326,  3.33904719,  1.        ],\n",
      "       [ 7.44454233,  0.47668338,  1.        ],\n",
      "       [10.12493903,  3.23455098,  1.        ],\n",
      "       [ 6.64228735,  3.31998376,  1.        ]]), array([[ 2.77124472,  1.78478393,  0.        ],\n",
      "       [ 3.67831985,  2.81281357,  0.        ],\n",
      "       [ 3.96104336,  2.61995032,  0.        ],\n",
      "       [ 2.99920892,  2.20901421,  0.        ],\n",
      "       [ 7.49754587,  3.16295355,  1.        ],\n",
      "       [ 9.00220326,  3.33904719,  1.        ],\n",
      "       [ 7.44454233,  0.47668338,  1.        ],\n",
      "       [10.12493903,  3.23455098,  1.        ],\n",
      "       [ 6.64228735,  3.31998376,  1.        ]]), array([[ 2.77124472,  1.78478393,  0.        ],\n",
      "       [ 1.72857131,  1.16976141,  0.        ],\n",
      "       [ 3.96104336,  2.61995032,  0.        ],\n",
      "       [ 2.99920892,  2.20901421,  0.        ],\n",
      "       [ 7.49754587,  3.16295355,  1.        ],\n",
      "       [ 9.00220326,  3.33904719,  1.        ],\n",
      "       [ 7.44454233,  0.47668338,  1.        ],\n",
      "       [10.12493903,  3.23455098,  1.        ],\n",
      "       [ 6.64228735,  3.31998376,  1.        ]]), array([[ 2.77124472,  1.78478393,  0.        ],\n",
      "       [ 1.72857131,  1.16976141,  0.        ],\n",
      "       [ 3.67831985,  2.81281357,  0.        ],\n",
      "       [ 2.99920892,  2.20901421,  0.        ],\n",
      "       [ 7.49754587,  3.16295355,  1.        ],\n",
      "       [ 9.00220326,  3.33904719,  1.        ],\n",
      "       [ 7.44454233,  0.47668338,  1.        ],\n",
      "       [10.12493903,  3.23455098,  1.        ],\n",
      "       [ 6.64228735,  3.31998376,  1.        ]]), array([[ 2.77124472,  1.78478393,  0.        ],\n",
      "       [ 1.72857131,  1.16976141,  0.        ],\n",
      "       [ 3.67831985,  2.81281357,  0.        ],\n",
      "       [ 3.96104336,  2.61995032,  0.        ],\n",
      "       [ 7.49754587,  3.16295355,  1.        ],\n",
      "       [ 9.00220326,  3.33904719,  1.        ],\n",
      "       [ 7.44454233,  0.47668338,  1.        ],\n",
      "       [10.12493903,  3.23455098,  1.        ],\n",
      "       [ 6.64228735,  3.31998376,  1.        ]]), array([[ 2.77124472,  1.78478393,  0.        ],\n",
      "       [ 1.72857131,  1.16976141,  0.        ],\n",
      "       [ 3.67831985,  2.81281357,  0.        ],\n",
      "       [ 3.96104336,  2.61995032,  0.        ],\n",
      "       [ 2.99920892,  2.20901421,  0.        ],\n",
      "       [ 9.00220326,  3.33904719,  1.        ],\n",
      "       [ 7.44454233,  0.47668338,  1.        ],\n",
      "       [10.12493903,  3.23455098,  1.        ],\n",
      "       [ 6.64228735,  3.31998376,  1.        ]]), array([[ 2.77124472,  1.78478393,  0.        ],\n",
      "       [ 1.72857131,  1.16976141,  0.        ],\n",
      "       [ 3.67831985,  2.81281357,  0.        ],\n",
      "       [ 3.96104336,  2.61995032,  0.        ],\n",
      "       [ 2.99920892,  2.20901421,  0.        ],\n",
      "       [ 7.49754587,  3.16295355,  1.        ],\n",
      "       [ 7.44454233,  0.47668338,  1.        ],\n",
      "       [10.12493903,  3.23455098,  1.        ],\n",
      "       [ 6.64228735,  3.31998376,  1.        ]]), array([[ 2.77124472,  1.78478393,  0.        ],\n",
      "       [ 1.72857131,  1.16976141,  0.        ],\n",
      "       [ 3.67831985,  2.81281357,  0.        ],\n",
      "       [ 3.96104336,  2.61995032,  0.        ],\n",
      "       [ 2.99920892,  2.20901421,  0.        ],\n",
      "       [ 7.49754587,  3.16295355,  1.        ],\n",
      "       [ 9.00220326,  3.33904719,  1.        ],\n",
      "       [10.12493903,  3.23455098,  1.        ],\n",
      "       [ 6.64228735,  3.31998376,  1.        ]]), array([[2.77124472, 1.78478393, 0.        ],\n",
      "       [1.72857131, 1.16976141, 0.        ],\n",
      "       [3.67831985, 2.81281357, 0.        ],\n",
      "       [3.96104336, 2.61995032, 0.        ],\n",
      "       [2.99920892, 2.20901421, 0.        ],\n",
      "       [7.49754587, 3.16295355, 1.        ],\n",
      "       [9.00220326, 3.33904719, 1.        ],\n",
      "       [7.44454233, 0.47668338, 1.        ],\n",
      "       [6.64228735, 3.31998376, 1.        ]]), array([[ 2.77124472,  1.78478393,  0.        ],\n",
      "       [ 1.72857131,  1.16976141,  0.        ],\n",
      "       [ 3.67831985,  2.81281357,  0.        ],\n",
      "       [ 3.96104336,  2.61995032,  0.        ],\n",
      "       [ 2.99920892,  2.20901421,  0.        ],\n",
      "       [ 7.49754587,  3.16295355,  1.        ],\n",
      "       [ 9.00220326,  3.33904719,  1.        ],\n",
      "       [ 7.44454233,  0.47668338,  1.        ],\n",
      "       [10.12493903,  3.23455098,  1.        ]])]\n"
     ]
    }
   ],
   "source": [
    "new_trains = []\n",
    "for i in range(len(train)):\n",
    "    new_train = np.delete(train, [i], 0)\n",
    "    new_trains.append(new_train)\n",
    "print(new_trains)\n"
   ]
  },
  {
   "cell_type": "code",
   "execution_count": 130,
   "metadata": {
    "scrolled": true
   },
   "outputs": [
    {
     "name": "stderr",
     "output_type": "stream",
     "text": [
      "/Users/szkhome/.pyenv/versions/anaconda3-4.3.0/lib/python3.6/site-packages/ipykernel_launcher.py:3: DeprecationWarning: in the future out of bounds indices will raise an error instead of being ignored by `numpy.delete`.\n",
      "  This is separate from the ipykernel package so we can avoid doing imports until\n"
     ]
    },
    {
     "data": {
      "text/plain": [
       "array([[ 2.77124472,  1.78478393,  0.        ],\n",
       "       [ 1.72857131,  1.16976141,  0.        ],\n",
       "       [ 3.67831985,  2.81281357,  0.        ],\n",
       "       [ 3.96104336,  2.61995032,  0.        ],\n",
       "       [ 2.99920892,  2.20901421,  0.        ],\n",
       "       [ 7.49754587,  3.16295355,  1.        ],\n",
       "       [ 9.00220326,  3.33904719,  1.        ],\n",
       "       [ 7.44454233,  0.47668338,  1.        ],\n",
       "       [10.12493903,  3.23455098,  1.        ]])"
      ]
     },
     "execution_count": 130,
     "metadata": {},
     "output_type": "execute_result"
    }
   ],
   "source": [
    "new_trains = []\n",
    "for i in range(len(train)):\n",
    "    new_train = np.delete(train, [i,i+1], 0)\n",
    "    new_trains.append(new_train)\n",
    "#print(new_trains)\n",
    "new_trains[9]"
   ]
  },
  {
   "cell_type": "code",
   "execution_count": null,
   "metadata": {},
   "outputs": [],
   "source": [
    "new_trains = []\n",
    "j = 0\n",
    "for j in range(11):\n",
    "    a=list(range(0,j))\n",
    "    #print(a)\n",
    "\n",
    "    for i in range(len(train)):\n",
    "        new_train = np.delete(train, a, 0)\n",
    "        new_trains.append(new_train)\n",
    "    #print(new_trains)"
   ]
  }
 ],
 "metadata": {
  "kernelspec": {
   "display_name": "Python 3",
   "language": "python",
   "name": "python3"
  },
  "language_info": {
   "codemirror_mode": {
    "name": "ipython",
    "version": 3
   },
   "file_extension": ".py",
   "mimetype": "text/x-python",
   "name": "python",
   "nbconvert_exporter": "python",
   "pygments_lexer": "ipython3",
   "version": "3.6.0"
  },
  "latex_envs": {
   "LaTeX_envs_menu_present": true,
   "autoclose": false,
   "autocomplete": true,
   "bibliofile": "biblio.bib",
   "cite_by": "apalike",
   "current_citInitial": 1,
   "eqLabelWithNumbers": true,
   "eqNumInitial": 1,
   "hotkeys": {
    "equation": "Ctrl-E",
    "itemize": "Ctrl-I"
   },
   "labels_anchors": false,
   "latex_user_defs": false,
   "report_style_numbering": false,
   "user_envs_cfg": false
  },
  "toc": {
   "base_numbering": 1,
   "nav_menu": {},
   "number_sections": true,
   "sideBar": true,
   "skip_h1_title": false,
   "title_cell": "Table of Contents",
   "title_sidebar": "Contents",
   "toc_cell": false,
   "toc_position": {
    "height": "calc(100% - 180px)",
    "left": "10px",
    "top": "150px",
    "width": "270.390625px"
   },
   "toc_section_display": true,
   "toc_window_display": true
  }
 },
 "nbformat": 4,
 "nbformat_minor": 2
}
